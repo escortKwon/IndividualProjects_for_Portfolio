{
 "cells": [
  {
   "cell_type": "markdown",
   "source": [
    "# Outline\n",
    "Goal: Predict 'Adj Close' as target with features as follows: 'Open', 'High', 'Low', 'Close'"
   ],
   "metadata": {}
  },
  {
   "cell_type": "markdown",
   "source": [
    "# Import libraries and data"
   ],
   "metadata": {}
  },
  {
   "cell_type": "code",
   "execution_count": 1,
   "source": [
    "# Import basic libraries\n",
    "import numpy as np\n",
    "import pandas as pd\n",
    "import matplotlib.pyplot as plt\n",
    "import seaborn as sns\n",
    "import plotly\n",
    "import plotly.express as px\n",
    "from plotly.offline import plot\n",
    "\n",
    "from sklearn.model_selection import train_test_split\n",
    "from sklearn.preprocessing import MinMaxScaler\n",
    "\n",
    "import tensorflow as tf\n",
    "from tensorflow import keras\n",
    "from tensorflow.keras.models import Sequential\n",
    "from tensorflow.keras.layers import Dense, SimpleRNN, LSTM, GRU"
   ],
   "outputs": [
    {
     "output_type": "stream",
     "name": "stdout",
     "text": [
      "Init Plugin\n",
      "Init Graph Optimizer\n",
      "Init Kernel\n"
     ]
    }
   ],
   "metadata": {}
  },
  {
   "cell_type": "code",
   "execution_count": 2,
   "source": [
    "# Unzip archive\n",
    "!unzip -o archive.zip"
   ],
   "outputs": [
    {
     "output_type": "stream",
     "name": "stdout",
     "text": [
      "Archive:  archive.zip\n",
      "  inflating: Top EV Company/Audi/audi.csv  \n",
      "  inflating: Top EV Company/BMW/bmw.csv  \n",
      "  inflating: Top EV Company/Honda/honda.csv  \n",
      "  inflating: Top EV Company/Lucid Motors/lucid motors.csv  \n",
      "  inflating: Top EV Company/NIO/NIO.csv  \n",
      "  inflating: Top EV Company/Nissan/nissian.csv  \n",
      "  inflating: Top EV Company/Rolls Royces/rolls royces.csv  \n",
      "  inflating: Top EV Company/Tata/tata.csv  \n",
      "  inflating: Top EV Company/Tesla/tesla.csv  \n",
      "  inflating: Top EV Company/Volkswagen/Volkswagen.csv  \n"
     ]
    }
   ],
   "metadata": {}
  },
  {
   "cell_type": "code",
   "execution_count": 3,
   "source": [
    "# Fetch data\n",
    "audi = pd.read_csv('./Top EV Company/Audi/audi.csv')\n",
    "bmw = pd.read_csv('./Top EV Company/BMW/bmw.csv')"
   ],
   "outputs": [],
   "metadata": {}
  },
  {
   "cell_type": "markdown",
   "source": [
    "## Warning!\n",
    "- There're lots of manufacturers of electric cars but I'm gonna test for 'audi'\n",
    "- Change the name of manufacutres would be okay!"
   ],
   "metadata": {}
  },
  {
   "cell_type": "code",
   "execution_count": 4,
   "source": [
    "# Sorting DataFrame\n",
    "audi.sort_values(by='Date', ascending=False, inplace=True)\n",
    "audi.reset_index(drop=True, inplace=True)\n",
    "audi.drop('Volume', axis=1, inplace=True)\n",
    "audi"
   ],
   "outputs": [
    {
     "output_type": "execute_result",
     "data": {
      "text/plain": [
       "            Date         Open         High          Low        Close  \\\n",
       "0     2021-08-20  1940.000000  1940.000000  1940.000000  1940.000000   \n",
       "1     2021-08-19  1940.000000  1940.000000  1940.000000  1940.000000   \n",
       "2     2021-08-18  1940.000000  1940.000000  1940.000000  1940.000000   \n",
       "3     2021-08-17  1940.000000  1940.000000  1940.000000  1940.000000   \n",
       "4     2021-08-16  1940.000000  1940.000000  1940.000000  1940.000000   \n",
       "...          ...          ...          ...          ...          ...   \n",
       "1252  2016-08-30   698.049988   710.000000   695.700012   695.700012   \n",
       "1253  2016-08-29   701.549988   701.549988   701.549988   701.549988   \n",
       "1254  2016-08-26   701.549988   701.549988   701.549988   701.549988   \n",
       "1255  2016-08-25   701.549988   701.549988   701.549988   701.549988   \n",
       "1256  2016-08-24   701.549988   701.549988   701.549988   701.549988   \n",
       "\n",
       "        Adj Close  \n",
       "0     1940.000000  \n",
       "1     1940.000000  \n",
       "2     1940.000000  \n",
       "3     1940.000000  \n",
       "4     1940.000000  \n",
       "...           ...  \n",
       "1252   693.551025  \n",
       "1253   699.382935  \n",
       "1254   699.382935  \n",
       "1255   699.382935  \n",
       "1256   699.382935  \n",
       "\n",
       "[1257 rows x 6 columns]"
      ],
      "text/html": [
       "<div>\n",
       "<style scoped>\n",
       "    .dataframe tbody tr th:only-of-type {\n",
       "        vertical-align: middle;\n",
       "    }\n",
       "\n",
       "    .dataframe tbody tr th {\n",
       "        vertical-align: top;\n",
       "    }\n",
       "\n",
       "    .dataframe thead th {\n",
       "        text-align: right;\n",
       "    }\n",
       "</style>\n",
       "<table border=\"1\" class=\"dataframe\">\n",
       "  <thead>\n",
       "    <tr style=\"text-align: right;\">\n",
       "      <th></th>\n",
       "      <th>Date</th>\n",
       "      <th>Open</th>\n",
       "      <th>High</th>\n",
       "      <th>Low</th>\n",
       "      <th>Close</th>\n",
       "      <th>Adj Close</th>\n",
       "    </tr>\n",
       "  </thead>\n",
       "  <tbody>\n",
       "    <tr>\n",
       "      <th>0</th>\n",
       "      <td>2021-08-20</td>\n",
       "      <td>1940.000000</td>\n",
       "      <td>1940.000000</td>\n",
       "      <td>1940.000000</td>\n",
       "      <td>1940.000000</td>\n",
       "      <td>1940.000000</td>\n",
       "    </tr>\n",
       "    <tr>\n",
       "      <th>1</th>\n",
       "      <td>2021-08-19</td>\n",
       "      <td>1940.000000</td>\n",
       "      <td>1940.000000</td>\n",
       "      <td>1940.000000</td>\n",
       "      <td>1940.000000</td>\n",
       "      <td>1940.000000</td>\n",
       "    </tr>\n",
       "    <tr>\n",
       "      <th>2</th>\n",
       "      <td>2021-08-18</td>\n",
       "      <td>1940.000000</td>\n",
       "      <td>1940.000000</td>\n",
       "      <td>1940.000000</td>\n",
       "      <td>1940.000000</td>\n",
       "      <td>1940.000000</td>\n",
       "    </tr>\n",
       "    <tr>\n",
       "      <th>3</th>\n",
       "      <td>2021-08-17</td>\n",
       "      <td>1940.000000</td>\n",
       "      <td>1940.000000</td>\n",
       "      <td>1940.000000</td>\n",
       "      <td>1940.000000</td>\n",
       "      <td>1940.000000</td>\n",
       "    </tr>\n",
       "    <tr>\n",
       "      <th>4</th>\n",
       "      <td>2021-08-16</td>\n",
       "      <td>1940.000000</td>\n",
       "      <td>1940.000000</td>\n",
       "      <td>1940.000000</td>\n",
       "      <td>1940.000000</td>\n",
       "      <td>1940.000000</td>\n",
       "    </tr>\n",
       "    <tr>\n",
       "      <th>...</th>\n",
       "      <td>...</td>\n",
       "      <td>...</td>\n",
       "      <td>...</td>\n",
       "      <td>...</td>\n",
       "      <td>...</td>\n",
       "      <td>...</td>\n",
       "    </tr>\n",
       "    <tr>\n",
       "      <th>1252</th>\n",
       "      <td>2016-08-30</td>\n",
       "      <td>698.049988</td>\n",
       "      <td>710.000000</td>\n",
       "      <td>695.700012</td>\n",
       "      <td>695.700012</td>\n",
       "      <td>693.551025</td>\n",
       "    </tr>\n",
       "    <tr>\n",
       "      <th>1253</th>\n",
       "      <td>2016-08-29</td>\n",
       "      <td>701.549988</td>\n",
       "      <td>701.549988</td>\n",
       "      <td>701.549988</td>\n",
       "      <td>701.549988</td>\n",
       "      <td>699.382935</td>\n",
       "    </tr>\n",
       "    <tr>\n",
       "      <th>1254</th>\n",
       "      <td>2016-08-26</td>\n",
       "      <td>701.549988</td>\n",
       "      <td>701.549988</td>\n",
       "      <td>701.549988</td>\n",
       "      <td>701.549988</td>\n",
       "      <td>699.382935</td>\n",
       "    </tr>\n",
       "    <tr>\n",
       "      <th>1255</th>\n",
       "      <td>2016-08-25</td>\n",
       "      <td>701.549988</td>\n",
       "      <td>701.549988</td>\n",
       "      <td>701.549988</td>\n",
       "      <td>701.549988</td>\n",
       "      <td>699.382935</td>\n",
       "    </tr>\n",
       "    <tr>\n",
       "      <th>1256</th>\n",
       "      <td>2016-08-24</td>\n",
       "      <td>701.549988</td>\n",
       "      <td>701.549988</td>\n",
       "      <td>701.549988</td>\n",
       "      <td>701.549988</td>\n",
       "      <td>699.382935</td>\n",
       "    </tr>\n",
       "  </tbody>\n",
       "</table>\n",
       "<p>1257 rows × 6 columns</p>\n",
       "</div>"
      ]
     },
     "metadata": {},
     "execution_count": 4
    }
   ],
   "metadata": {}
  },
  {
   "cell_type": "markdown",
   "source": [
    "# Create Datasets"
   ],
   "metadata": {}
  },
  {
   "cell_type": "code",
   "execution_count": 5,
   "source": [
    "def make_dataset(data, label, window_size=20):\n",
    "    feature_list = []\n",
    "    label_list = []\n",
    "    for i in range(len(data) - window_size):\n",
    "        feature_list.append(np.array(data.iloc[i:i+window_size]))\n",
    "        label_list.append(np.array(label.iloc[i+window_size]))\n",
    "    return np.array(feature_list), np.array(label_list)"
   ],
   "outputs": [],
   "metadata": {}
  },
  {
   "cell_type": "code",
   "execution_count": 8,
   "source": [
    "train_feature = audi[['Open', 'High', 'Low', 'Close']]\n",
    "train_label = audi['Adj Close']"
   ],
   "outputs": [],
   "metadata": {}
  },
  {
   "cell_type": "code",
   "execution_count": 9,
   "source": [
    "# train dataset\n",
    "train_feature, train_label = make_dataset(train_feature, train_label, 10)"
   ],
   "outputs": [],
   "metadata": {}
  },
  {
   "cell_type": "code",
   "execution_count": 12,
   "source": [
    "X = train_feature\n",
    "y = train_label"
   ],
   "outputs": [],
   "metadata": {}
  },
  {
   "cell_type": "code",
   "execution_count": 13,
   "source": [
    "X_train, X_test, y_train, y_test = train_test_split(X, y, test_size=0.2, shuffle=False)\n",
    "X_train, X_val, y_train, y_val = train_test_split(X_train, y_train, test_size=0.2, random_state=11)"
   ],
   "outputs": [],
   "metadata": {}
  },
  {
   "cell_type": "markdown",
   "source": [
    "# Modeling"
   ],
   "metadata": {}
  },
  {
   "cell_type": "code",
   "execution_count": 14,
   "source": [
    "model = Sequential()\n",
    "model.add(SimpleRNN(16, activation='relu', input_shape=X_train.shape[1:]))\n",
    "model.add(Dense(1))"
   ],
   "outputs": [
    {
     "output_type": "stream",
     "name": "stdout",
     "text": [
      "Metal device set to: Apple M1\n",
      "\n",
      "systemMemory: 8.00 GB\n",
      "maxCacheSize: 2.67 GB\n",
      "\n"
     ]
    },
    {
     "output_type": "stream",
     "name": "stderr",
     "text": [
      "2021-08-24 23:25:32.660872: I tensorflow/core/common_runtime/pluggable_device/pluggable_device_factory.cc:305] Could not identify NUMA node of platform GPU ID 0, defaulting to 0. Your kernel may not have been built with NUMA support.\n",
      "2021-08-24 23:25:32.661503: I tensorflow/core/common_runtime/pluggable_device/pluggable_device_factory.cc:271] Created TensorFlow device (/job:localhost/replica:0/task:0/device:GPU:0 with 0 MB memory) -> physical PluggableDevice (device: 0, name: METAL, pci bus id: <undefined>)\n"
     ]
    }
   ],
   "metadata": {}
  },
  {
   "cell_type": "code",
   "execution_count": 15,
   "source": [
    "model.summary()"
   ],
   "outputs": [
    {
     "output_type": "stream",
     "name": "stdout",
     "text": [
      "Model: \"sequential\"\n",
      "_________________________________________________________________\n",
      "Layer (type)                 Output Shape              Param #   \n",
      "=================================================================\n",
      "simple_rnn (SimpleRNN)       (None, 16)                336       \n",
      "_________________________________________________________________\n",
      "dense (Dense)                (None, 1)                 17        \n",
      "=================================================================\n",
      "Total params: 353\n",
      "Trainable params: 353\n",
      "Non-trainable params: 0\n",
      "_________________________________________________________________\n"
     ]
    }
   ],
   "metadata": {}
  },
  {
   "cell_type": "code",
   "execution_count": 16,
   "source": [
    "model.compile(loss='mse', optimizer='adam', metrics=['mse'])"
   ],
   "outputs": [],
   "metadata": {}
  },
  {
   "cell_type": "code",
   "execution_count": 17,
   "source": [
    "history = model.fit(X_train, y_train, batch_size=64, epochs=100, validation_data=(X_val, y_val))"
   ],
   "outputs": [
    {
     "output_type": "stream",
     "name": "stderr",
     "text": [
      "2021-08-24 23:25:39.480005: I tensorflow/compiler/mlir/mlir_graph_optimization_pass.cc:176] None of the MLIR Optimization Passes are enabled (registered 2)\n",
      "2021-08-24 23:25:39.480688: W tensorflow/core/platform/profile_utils/cpu_utils.cc:128] Failed to get CPU frequency: 0 Hz\n"
     ]
    },
    {
     "output_type": "stream",
     "name": "stdout",
     "text": [
      "Epoch 1/100\n",
      " 1/13 [=>............................] - ETA: 5s - loss: 751806.1875 - mse: 751806.1875"
     ]
    },
    {
     "output_type": "stream",
     "name": "stderr",
     "text": [
      "2021-08-24 23:25:39.783092: I tensorflow/core/grappler/optimizers/custom_graph_optimizer_registry.cc:112] Plugin optimizer for device_type GPU is enabled.\n"
     ]
    },
    {
     "output_type": "stream",
     "name": "stdout",
     "text": [
      "13/13 [==============================] - 1s 63ms/step - loss: 672556.9375 - mse: 672556.9375 - val_loss: 438745.6250 - val_mse: 438745.6250\n",
      "Epoch 2/100\n",
      " 1/13 [=>............................] - ETA: 0s - loss: 467165.0000 - mse: 467165.0000"
     ]
    },
    {
     "output_type": "stream",
     "name": "stderr",
     "text": [
      "2021-08-24 23:25:40.622629: I tensorflow/core/grappler/optimizers/custom_graph_optimizer_registry.cc:112] Plugin optimizer for device_type GPU is enabled.\n"
     ]
    },
    {
     "output_type": "stream",
     "name": "stdout",
     "text": [
      "13/13 [==============================] - 1s 47ms/step - loss: 310254.3438 - mse: 310254.3438 - val_loss: 132968.7031 - val_mse: 132968.7031\n",
      "Epoch 3/100\n",
      "13/13 [==============================] - 1s 45ms/step - loss: 65195.7617 - mse: 65195.7617 - val_loss: 2506.1763 - val_mse: 2506.1763\n",
      "Epoch 4/100\n",
      "13/13 [==============================] - 1s 45ms/step - loss: 6752.3149 - mse: 6752.3149 - val_loss: 7758.6128 - val_mse: 7758.6128\n",
      "Epoch 5/100\n",
      "13/13 [==============================] - 1s 45ms/step - loss: 4048.1265 - mse: 4048.1265 - val_loss: 788.4576 - val_mse: 788.4576\n",
      "Epoch 6/100\n",
      "13/13 [==============================] - 1s 45ms/step - loss: 1841.6766 - mse: 1841.6766 - val_loss: 1049.5487 - val_mse: 1049.5487\n",
      "Epoch 7/100\n",
      "13/13 [==============================] - 1s 45ms/step - loss: 1610.1322 - mse: 1610.1322 - val_loss: 648.5653 - val_mse: 648.5653\n",
      "Epoch 8/100\n",
      "13/13 [==============================] - 1s 44ms/step - loss: 1386.1912 - mse: 1386.1912 - val_loss: 568.9499 - val_mse: 568.9499\n",
      "Epoch 9/100\n",
      "13/13 [==============================] - 1s 44ms/step - loss: 1387.5461 - mse: 1387.5461 - val_loss: 561.2834 - val_mse: 561.2834\n",
      "Epoch 10/100\n",
      "13/13 [==============================] - 1s 44ms/step - loss: 1382.0297 - mse: 1382.0297 - val_loss: 623.1982 - val_mse: 623.1982\n",
      "Epoch 11/100\n",
      "13/13 [==============================] - 1s 45ms/step - loss: 1370.4979 - mse: 1370.4979 - val_loss: 583.1747 - val_mse: 583.1747\n",
      "Epoch 12/100\n",
      "13/13 [==============================] - 1s 44ms/step - loss: 1329.3138 - mse: 1329.3138 - val_loss: 546.8467 - val_mse: 546.8467\n",
      "Epoch 13/100\n",
      "13/13 [==============================] - 1s 45ms/step - loss: 1341.4325 - mse: 1341.4325 - val_loss: 553.6990 - val_mse: 553.6990\n",
      "Epoch 14/100\n",
      "13/13 [==============================] - 1s 45ms/step - loss: 1330.4720 - mse: 1330.4720 - val_loss: 565.9711 - val_mse: 565.9711\n",
      "Epoch 15/100\n",
      "13/13 [==============================] - 1s 45ms/step - loss: 1328.1912 - mse: 1328.1912 - val_loss: 561.3998 - val_mse: 561.3998\n",
      "Epoch 16/100\n",
      "13/13 [==============================] - 1s 44ms/step - loss: 1338.4613 - mse: 1338.4613 - val_loss: 547.6140 - val_mse: 547.6140\n",
      "Epoch 17/100\n",
      "13/13 [==============================] - 1s 45ms/step - loss: 1336.7141 - mse: 1336.7141 - val_loss: 580.2768 - val_mse: 580.2768\n",
      "Epoch 18/100\n",
      "13/13 [==============================] - 1s 44ms/step - loss: 1320.2786 - mse: 1320.2786 - val_loss: 553.3901 - val_mse: 553.3901\n",
      "Epoch 19/100\n",
      "13/13 [==============================] - 1s 45ms/step - loss: 1324.8894 - mse: 1324.8894 - val_loss: 546.2739 - val_mse: 546.2739\n",
      "Epoch 20/100\n",
      "13/13 [==============================] - 1s 45ms/step - loss: 1325.1604 - mse: 1325.1604 - val_loss: 568.4961 - val_mse: 568.4961\n",
      "Epoch 21/100\n",
      "13/13 [==============================] - 1s 45ms/step - loss: 1311.2350 - mse: 1311.2350 - val_loss: 544.5648 - val_mse: 544.5648\n",
      "Epoch 22/100\n",
      "13/13 [==============================] - 1s 45ms/step - loss: 1330.2368 - mse: 1330.2368 - val_loss: 559.0698 - val_mse: 559.0698\n",
      "Epoch 23/100\n",
      "13/13 [==============================] - 1s 45ms/step - loss: 1320.0062 - mse: 1320.0062 - val_loss: 551.9115 - val_mse: 551.9115\n",
      "Epoch 24/100\n",
      "13/13 [==============================] - 1s 44ms/step - loss: 1312.4132 - mse: 1312.4132 - val_loss: 561.3182 - val_mse: 561.3182\n",
      "Epoch 25/100\n",
      "13/13 [==============================] - 1s 45ms/step - loss: 1314.6742 - mse: 1314.6742 - val_loss: 565.2242 - val_mse: 565.2242\n",
      "Epoch 26/100\n",
      "13/13 [==============================] - 1s 45ms/step - loss: 1313.3336 - mse: 1313.3336 - val_loss: 549.5932 - val_mse: 549.5932\n",
      "Epoch 27/100\n",
      "13/13 [==============================] - 1s 45ms/step - loss: 1312.5170 - mse: 1312.5170 - val_loss: 560.2763 - val_mse: 560.2763\n",
      "Epoch 28/100\n",
      "13/13 [==============================] - 1s 45ms/step - loss: 1322.5294 - mse: 1322.5294 - val_loss: 551.7419 - val_mse: 551.7419\n",
      "Epoch 29/100\n",
      "13/13 [==============================] - 1s 45ms/step - loss: 1314.7489 - mse: 1314.7489 - val_loss: 564.9703 - val_mse: 564.9703\n",
      "Epoch 30/100\n",
      "13/13 [==============================] - 1s 45ms/step - loss: 1300.2189 - mse: 1300.2189 - val_loss: 538.9880 - val_mse: 538.9880\n",
      "Epoch 31/100\n",
      "13/13 [==============================] - 1s 45ms/step - loss: 1308.6277 - mse: 1308.6277 - val_loss: 548.7883 - val_mse: 548.7883\n",
      "Epoch 32/100\n",
      "13/13 [==============================] - 1s 44ms/step - loss: 1301.5035 - mse: 1301.5035 - val_loss: 557.8405 - val_mse: 557.8405\n",
      "Epoch 33/100\n",
      "13/13 [==============================] - 1s 45ms/step - loss: 1305.5878 - mse: 1305.5878 - val_loss: 562.8500 - val_mse: 562.8500\n",
      "Epoch 34/100\n",
      "13/13 [==============================] - 1s 45ms/step - loss: 1307.5211 - mse: 1307.5211 - val_loss: 554.2855 - val_mse: 554.2855\n",
      "Epoch 35/100\n",
      "13/13 [==============================] - 1s 52ms/step - loss: 1315.5121 - mse: 1315.5121 - val_loss: 541.9070 - val_mse: 541.9070\n",
      "Epoch 36/100\n",
      "13/13 [==============================] - 1s 46ms/step - loss: 1320.0352 - mse: 1320.0352 - val_loss: 588.4757 - val_mse: 588.4757\n",
      "Epoch 37/100\n",
      "13/13 [==============================] - 1s 45ms/step - loss: 1321.2299 - mse: 1321.2299 - val_loss: 547.0698 - val_mse: 547.0698\n",
      "Epoch 38/100\n",
      "13/13 [==============================] - 1s 45ms/step - loss: 1301.0909 - mse: 1301.0909 - val_loss: 549.8441 - val_mse: 549.8441\n",
      "Epoch 39/100\n",
      "13/13 [==============================] - 1s 45ms/step - loss: 1308.7290 - mse: 1308.7290 - val_loss: 543.0870 - val_mse: 543.0870\n",
      "Epoch 40/100\n",
      "13/13 [==============================] - 1s 46ms/step - loss: 1312.3921 - mse: 1312.3921 - val_loss: 560.3322 - val_mse: 560.3322\n",
      "Epoch 41/100\n",
      "13/13 [==============================] - 1s 46ms/step - loss: 1315.9980 - mse: 1315.9980 - val_loss: 566.6273 - val_mse: 566.6273\n",
      "Epoch 42/100\n",
      "13/13 [==============================] - 1s 45ms/step - loss: 1297.3076 - mse: 1297.3076 - val_loss: 538.2681 - val_mse: 538.2681\n",
      "Epoch 43/100\n",
      "13/13 [==============================] - 1s 45ms/step - loss: 1304.4292 - mse: 1304.4292 - val_loss: 561.3593 - val_mse: 561.3593\n",
      "Epoch 44/100\n",
      "13/13 [==============================] - 1s 45ms/step - loss: 1297.6582 - mse: 1297.6582 - val_loss: 551.4822 - val_mse: 551.4822\n",
      "Epoch 45/100\n",
      "13/13 [==============================] - 1s 49ms/step - loss: 1292.3171 - mse: 1292.3171 - val_loss: 539.3377 - val_mse: 539.3377\n",
      "Epoch 46/100\n",
      "13/13 [==============================] - 1s 46ms/step - loss: 1289.5599 - mse: 1289.5599 - val_loss: 549.9574 - val_mse: 549.9574\n",
      "Epoch 47/100\n",
      "13/13 [==============================] - 1s 46ms/step - loss: 1288.8667 - mse: 1288.8667 - val_loss: 553.3644 - val_mse: 553.3644\n",
      "Epoch 48/100\n",
      "13/13 [==============================] - 1s 45ms/step - loss: 1296.3411 - mse: 1296.3411 - val_loss: 552.2411 - val_mse: 552.2411\n",
      "Epoch 49/100\n",
      "13/13 [==============================] - 1s 45ms/step - loss: 1284.9858 - mse: 1284.9858 - val_loss: 549.4799 - val_mse: 549.4799\n",
      "Epoch 50/100\n",
      "13/13 [==============================] - 1s 45ms/step - loss: 1308.9850 - mse: 1308.9850 - val_loss: 553.0001 - val_mse: 553.0001\n",
      "Epoch 51/100\n",
      "13/13 [==============================] - 1s 45ms/step - loss: 1308.0409 - mse: 1308.0409 - val_loss: 551.7621 - val_mse: 551.7621\n",
      "Epoch 52/100\n",
      "13/13 [==============================] - 1s 45ms/step - loss: 1318.5023 - mse: 1318.5023 - val_loss: 555.6630 - val_mse: 555.6630\n",
      "Epoch 53/100\n",
      "13/13 [==============================] - 1s 46ms/step - loss: 1338.1277 - mse: 1338.1277 - val_loss: 543.7161 - val_mse: 543.7161\n",
      "Epoch 54/100\n",
      "13/13 [==============================] - 1s 45ms/step - loss: 1293.1155 - mse: 1293.1155 - val_loss: 563.9471 - val_mse: 563.9471\n",
      "Epoch 55/100\n",
      "13/13 [==============================] - 1s 45ms/step - loss: 1291.5905 - mse: 1291.5905 - val_loss: 544.9988 - val_mse: 544.9988\n",
      "Epoch 56/100\n",
      "13/13 [==============================] - 1s 45ms/step - loss: 1275.4241 - mse: 1275.4241 - val_loss: 572.7243 - val_mse: 572.7243\n",
      "Epoch 57/100\n",
      "13/13 [==============================] - 1s 46ms/step - loss: 1303.1899 - mse: 1303.1899 - val_loss: 558.1899 - val_mse: 558.1899\n",
      "Epoch 58/100\n",
      "13/13 [==============================] - 1s 46ms/step - loss: 1281.6449 - mse: 1281.6449 - val_loss: 552.6155 - val_mse: 552.6155\n",
      "Epoch 59/100\n",
      "13/13 [==============================] - 1s 45ms/step - loss: 1298.9312 - mse: 1298.9312 - val_loss: 555.1922 - val_mse: 555.1922\n",
      "Epoch 60/100\n",
      "13/13 [==============================] - 1s 45ms/step - loss: 1313.5764 - mse: 1313.5764 - val_loss: 546.1815 - val_mse: 546.1815\n",
      "Epoch 61/100\n",
      "13/13 [==============================] - 1s 45ms/step - loss: 1282.1339 - mse: 1282.1339 - val_loss: 554.3876 - val_mse: 554.3876\n",
      "Epoch 62/100\n",
      "13/13 [==============================] - 1s 46ms/step - loss: 1284.2123 - mse: 1284.2123 - val_loss: 542.1021 - val_mse: 542.1021\n",
      "Epoch 63/100\n",
      "13/13 [==============================] - 1s 45ms/step - loss: 1314.8867 - mse: 1314.8867 - val_loss: 585.4872 - val_mse: 585.4872\n",
      "Epoch 64/100\n",
      "13/13 [==============================] - 1s 46ms/step - loss: 1294.4241 - mse: 1294.4241 - val_loss: 592.8857 - val_mse: 592.8857\n",
      "Epoch 65/100\n",
      "13/13 [==============================] - 1s 45ms/step - loss: 1332.6599 - mse: 1332.6599 - val_loss: 528.9512 - val_mse: 528.9512\n",
      "Epoch 66/100\n",
      "13/13 [==============================] - 1s 46ms/step - loss: 1279.5282 - mse: 1279.5282 - val_loss: 591.6023 - val_mse: 591.6023\n",
      "Epoch 67/100\n",
      "13/13 [==============================] - 1s 46ms/step - loss: 1314.4613 - mse: 1314.4613 - val_loss: 526.9448 - val_mse: 526.9448\n",
      "Epoch 68/100\n",
      "13/13 [==============================] - 1s 45ms/step - loss: 1280.3827 - mse: 1280.3827 - val_loss: 570.1309 - val_mse: 570.1309\n",
      "Epoch 69/100\n",
      "13/13 [==============================] - 1s 45ms/step - loss: 1284.0358 - mse: 1284.0358 - val_loss: 566.0505 - val_mse: 566.0505\n",
      "Epoch 70/100\n",
      "13/13 [==============================] - 1s 46ms/step - loss: 1296.1915 - mse: 1296.1915 - val_loss: 572.6700 - val_mse: 572.6700\n",
      "Epoch 71/100\n",
      "13/13 [==============================] - 1s 45ms/step - loss: 1273.6549 - mse: 1273.6549 - val_loss: 557.3207 - val_mse: 557.3207\n",
      "Epoch 72/100\n",
      "13/13 [==============================] - 1s 45ms/step - loss: 1274.4365 - mse: 1274.4365 - val_loss: 564.1063 - val_mse: 564.1063\n",
      "Epoch 73/100\n",
      "13/13 [==============================] - 1s 45ms/step - loss: 1284.2653 - mse: 1284.2653 - val_loss: 542.3074 - val_mse: 542.3074\n",
      "Epoch 74/100\n",
      "13/13 [==============================] - 1s 46ms/step - loss: 1274.6030 - mse: 1274.6030 - val_loss: 558.7190 - val_mse: 558.7190\n",
      "Epoch 75/100\n",
      "13/13 [==============================] - 1s 45ms/step - loss: 1279.8508 - mse: 1279.8508 - val_loss: 580.3470 - val_mse: 580.3470\n",
      "Epoch 76/100\n",
      "13/13 [==============================] - 1s 45ms/step - loss: 1278.5435 - mse: 1278.5435 - val_loss: 563.9188 - val_mse: 563.9188\n",
      "Epoch 77/100\n",
      "13/13 [==============================] - 1s 45ms/step - loss: 1274.4152 - mse: 1274.4152 - val_loss: 539.1396 - val_mse: 539.1396\n",
      "Epoch 78/100\n",
      "13/13 [==============================] - 1s 46ms/step - loss: 1279.9733 - mse: 1279.9733 - val_loss: 549.8437 - val_mse: 549.8437\n",
      "Epoch 79/100\n",
      "13/13 [==============================] - 1s 45ms/step - loss: 1271.7231 - mse: 1271.7231 - val_loss: 595.6061 - val_mse: 595.6061\n",
      "Epoch 80/100\n",
      "13/13 [==============================] - 1s 46ms/step - loss: 1325.5326 - mse: 1325.5326 - val_loss: 546.8499 - val_mse: 546.8499\n",
      "Epoch 81/100\n",
      "13/13 [==============================] - 1s 46ms/step - loss: 1276.5743 - mse: 1276.5743 - val_loss: 562.3436 - val_mse: 562.3436\n",
      "Epoch 82/100\n",
      "13/13 [==============================] - 1s 45ms/step - loss: 1312.1392 - mse: 1312.1392 - val_loss: 644.7582 - val_mse: 644.7582\n",
      "Epoch 83/100\n",
      "13/13 [==============================] - 1s 45ms/step - loss: 1293.1954 - mse: 1293.1954 - val_loss: 563.2590 - val_mse: 563.2590\n",
      "Epoch 84/100\n",
      "13/13 [==============================] - 1s 48ms/step - loss: 1266.4756 - mse: 1266.4756 - val_loss: 647.4095 - val_mse: 647.4095\n",
      "Epoch 85/100\n",
      "13/13 [==============================] - 1s 46ms/step - loss: 1299.2935 - mse: 1299.2935 - val_loss: 612.7227 - val_mse: 612.7227\n",
      "Epoch 86/100\n",
      "13/13 [==============================] - 1s 46ms/step - loss: 1280.4666 - mse: 1280.4666 - val_loss: 587.5371 - val_mse: 587.5371\n",
      "Epoch 87/100\n",
      "13/13 [==============================] - 1s 45ms/step - loss: 1288.8042 - mse: 1288.8042 - val_loss: 546.8938 - val_mse: 546.8938\n",
      "Epoch 88/100\n",
      "13/13 [==============================] - 1s 46ms/step - loss: 1263.6620 - mse: 1263.6620 - val_loss: 570.9175 - val_mse: 570.9175\n",
      "Epoch 89/100\n",
      "13/13 [==============================] - 1s 47ms/step - loss: 1260.6575 - mse: 1260.6575 - val_loss: 549.6296 - val_mse: 549.6296\n",
      "Epoch 90/100\n",
      "13/13 [==============================] - 1s 45ms/step - loss: 1284.6820 - mse: 1284.6820 - val_loss: 544.1897 - val_mse: 544.1897\n",
      "Epoch 91/100\n",
      "13/13 [==============================] - 1s 46ms/step - loss: 1278.1902 - mse: 1278.1902 - val_loss: 600.9476 - val_mse: 600.9476\n",
      "Epoch 92/100\n",
      "13/13 [==============================] - 1s 46ms/step - loss: 1270.4033 - mse: 1270.4033 - val_loss: 538.8606 - val_mse: 538.8606\n",
      "Epoch 93/100\n",
      "13/13 [==============================] - 1s 46ms/step - loss: 1278.5439 - mse: 1278.5439 - val_loss: 545.8873 - val_mse: 545.8873\n",
      "Epoch 94/100\n",
      "13/13 [==============================] - 1s 46ms/step - loss: 1283.4427 - mse: 1283.4427 - val_loss: 553.4072 - val_mse: 553.4072\n",
      "Epoch 95/100\n",
      "13/13 [==============================] - 1s 46ms/step - loss: 1273.0540 - mse: 1273.0540 - val_loss: 576.9886 - val_mse: 576.9886\n",
      "Epoch 96/100\n",
      "13/13 [==============================] - 1s 45ms/step - loss: 1261.7539 - mse: 1261.7539 - val_loss: 556.7673 - val_mse: 556.7673\n",
      "Epoch 97/100\n",
      "13/13 [==============================] - 1s 46ms/step - loss: 1264.5350 - mse: 1264.5350 - val_loss: 579.8310 - val_mse: 579.8310\n",
      "Epoch 98/100\n",
      "13/13 [==============================] - 1s 45ms/step - loss: 1298.2938 - mse: 1298.2938 - val_loss: 580.0563 - val_mse: 580.0563\n",
      "Epoch 99/100\n",
      "13/13 [==============================] - 1s 46ms/step - loss: 1323.7058 - mse: 1323.7058 - val_loss: 557.9658 - val_mse: 557.9658\n",
      "Epoch 100/100\n",
      "13/13 [==============================] - 1s 45ms/step - loss: 1271.5173 - mse: 1271.5173 - val_loss: 603.2195 - val_mse: 603.2195\n"
     ]
    }
   ],
   "metadata": {}
  },
  {
   "cell_type": "code",
   "execution_count": 18,
   "source": [
    "# Plot epochs - loss\n",
    "plt.plot(history.history['loss'])\n",
    "plt.plot(history.history['val_loss'])\n",
    "plt.xlabel('epochs')\n",
    "plt.ylabel('loss')\n",
    "plt.legend(['train', 'val'])\n",
    "plt.show()"
   ],
   "outputs": [
    {
     "output_type": "display_data",
     "data": {
      "text/plain": [
       "<Figure size 432x288 with 1 Axes>"
      ],
      "image/svg+xml": "<?xml version=\"1.0\" encoding=\"utf-8\" standalone=\"no\"?>\n<!DOCTYPE svg PUBLIC \"-//W3C//DTD SVG 1.1//EN\"\n  \"http://www.w3.org/Graphics/SVG/1.1/DTD/svg11.dtd\">\n<svg height=\"264.184009pt\" version=\"1.1\" viewBox=\"0 0 408.053125 264.184009\" width=\"408.053125pt\" xmlns=\"http://www.w3.org/2000/svg\" xmlns:xlink=\"http://www.w3.org/1999/xlink\">\n <metadata>\n  <rdf:RDF xmlns:cc=\"http://creativecommons.org/ns#\" xmlns:dc=\"http://purl.org/dc/elements/1.1/\" xmlns:rdf=\"http://www.w3.org/1999/02/22-rdf-syntax-ns#\">\n   <cc:Work>\n    <dc:type rdf:resource=\"http://purl.org/dc/dcmitype/StillImage\"/>\n    <dc:date>2021-08-24T23:26:57.983667</dc:date>\n    <dc:format>image/svg+xml</dc:format>\n    <dc:creator>\n     <cc:Agent>\n      <dc:title>Matplotlib v3.4.2, https://matplotlib.org/</dc:title>\n     </cc:Agent>\n    </dc:creator>\n   </cc:Work>\n  </rdf:RDF>\n </metadata>\n <defs>\n  <style type=\"text/css\">*{stroke-linecap:butt;stroke-linejoin:round;}</style>\n </defs>\n <g id=\"figure_1\">\n  <g id=\"patch_1\">\n   <path d=\"M 0 264.184009 \nL 408.053125 264.184009 \nL 408.053125 0 \nL 0 0 \nz\n\" style=\"fill:none;\"/>\n  </g>\n  <g id=\"axes_1\">\n   <g id=\"patch_2\">\n    <path d=\"M 66.053125 226.627759 \nL 400.853125 226.627759 \nL 400.853125 9.187759 \nL 66.053125 9.187759 \nz\n\" style=\"fill:#ffffff;\"/>\n   </g>\n   <g id=\"matplotlib.axis_1\">\n    <g id=\"xtick_1\">\n     <g id=\"line2d_1\">\n      <defs>\n       <path d=\"M 0 0 \nL 0 3.5 \n\" id=\"m2d1612f277\" style=\"stroke:#000000;stroke-width:0.8;\"/>\n      </defs>\n      <g>\n       <use style=\"stroke:#000000;stroke-width:0.8;\" x=\"81.271307\" xlink:href=\"#m2d1612f277\" y=\"226.627759\"/>\n      </g>\n     </g>\n     <g id=\"text_1\">\n      <!-- 0 -->\n      <g transform=\"translate(78.090057 241.226197)scale(0.1 -0.1)\">\n       <defs>\n        <path d=\"M 2034 4250 \nQ 1547 4250 1301 3770 \nQ 1056 3291 1056 2328 \nQ 1056 1369 1301 889 \nQ 1547 409 2034 409 \nQ 2525 409 2770 889 \nQ 3016 1369 3016 2328 \nQ 3016 3291 2770 3770 \nQ 2525 4250 2034 4250 \nz\nM 2034 4750 \nQ 2819 4750 3233 4129 \nQ 3647 3509 3647 2328 \nQ 3647 1150 3233 529 \nQ 2819 -91 2034 -91 \nQ 1250 -91 836 529 \nQ 422 1150 422 2328 \nQ 422 3509 836 4129 \nQ 1250 4750 2034 4750 \nz\n\" id=\"DejaVuSans-30\" transform=\"scale(0.015625)\"/>\n       </defs>\n       <use xlink:href=\"#DejaVuSans-30\"/>\n      </g>\n     </g>\n    </g>\n    <g id=\"xtick_2\">\n     <g id=\"line2d_2\">\n      <g>\n       <use style=\"stroke:#000000;stroke-width:0.8;\" x=\"142.75891\" xlink:href=\"#m2d1612f277\" y=\"226.627759\"/>\n      </g>\n     </g>\n     <g id=\"text_2\">\n      <!-- 20 -->\n      <g transform=\"translate(136.39641 241.226197)scale(0.1 -0.1)\">\n       <defs>\n        <path d=\"M 1228 531 \nL 3431 531 \nL 3431 0 \nL 469 0 \nL 469 531 \nQ 828 903 1448 1529 \nQ 2069 2156 2228 2338 \nQ 2531 2678 2651 2914 \nQ 2772 3150 2772 3378 \nQ 2772 3750 2511 3984 \nQ 2250 4219 1831 4219 \nQ 1534 4219 1204 4116 \nQ 875 4013 500 3803 \nL 500 4441 \nQ 881 4594 1212 4672 \nQ 1544 4750 1819 4750 \nQ 2544 4750 2975 4387 \nQ 3406 4025 3406 3419 \nQ 3406 3131 3298 2873 \nQ 3191 2616 2906 2266 \nQ 2828 2175 2409 1742 \nQ 1991 1309 1228 531 \nz\n\" id=\"DejaVuSans-32\" transform=\"scale(0.015625)\"/>\n       </defs>\n       <use xlink:href=\"#DejaVuSans-32\"/>\n       <use x=\"63.623047\" xlink:href=\"#DejaVuSans-30\"/>\n      </g>\n     </g>\n    </g>\n    <g id=\"xtick_3\">\n     <g id=\"line2d_3\">\n      <g>\n       <use style=\"stroke:#000000;stroke-width:0.8;\" x=\"204.246513\" xlink:href=\"#m2d1612f277\" y=\"226.627759\"/>\n      </g>\n     </g>\n     <g id=\"text_3\">\n      <!-- 40 -->\n      <g transform=\"translate(197.884013 241.226197)scale(0.1 -0.1)\">\n       <defs>\n        <path d=\"M 2419 4116 \nL 825 1625 \nL 2419 1625 \nL 2419 4116 \nz\nM 2253 4666 \nL 3047 4666 \nL 3047 1625 \nL 3713 1625 \nL 3713 1100 \nL 3047 1100 \nL 3047 0 \nL 2419 0 \nL 2419 1100 \nL 313 1100 \nL 313 1709 \nL 2253 4666 \nz\n\" id=\"DejaVuSans-34\" transform=\"scale(0.015625)\"/>\n       </defs>\n       <use xlink:href=\"#DejaVuSans-34\"/>\n       <use x=\"63.623047\" xlink:href=\"#DejaVuSans-30\"/>\n      </g>\n     </g>\n    </g>\n    <g id=\"xtick_4\">\n     <g id=\"line2d_4\">\n      <g>\n       <use style=\"stroke:#000000;stroke-width:0.8;\" x=\"265.734117\" xlink:href=\"#m2d1612f277\" y=\"226.627759\"/>\n      </g>\n     </g>\n     <g id=\"text_4\">\n      <!-- 60 -->\n      <g transform=\"translate(259.371617 241.226197)scale(0.1 -0.1)\">\n       <defs>\n        <path d=\"M 2113 2584 \nQ 1688 2584 1439 2293 \nQ 1191 2003 1191 1497 \nQ 1191 994 1439 701 \nQ 1688 409 2113 409 \nQ 2538 409 2786 701 \nQ 3034 994 3034 1497 \nQ 3034 2003 2786 2293 \nQ 2538 2584 2113 2584 \nz\nM 3366 4563 \nL 3366 3988 \nQ 3128 4100 2886 4159 \nQ 2644 4219 2406 4219 \nQ 1781 4219 1451 3797 \nQ 1122 3375 1075 2522 \nQ 1259 2794 1537 2939 \nQ 1816 3084 2150 3084 \nQ 2853 3084 3261 2657 \nQ 3669 2231 3669 1497 \nQ 3669 778 3244 343 \nQ 2819 -91 2113 -91 \nQ 1303 -91 875 529 \nQ 447 1150 447 2328 \nQ 447 3434 972 4092 \nQ 1497 4750 2381 4750 \nQ 2619 4750 2861 4703 \nQ 3103 4656 3366 4563 \nz\n\" id=\"DejaVuSans-36\" transform=\"scale(0.015625)\"/>\n       </defs>\n       <use xlink:href=\"#DejaVuSans-36\"/>\n       <use x=\"63.623047\" xlink:href=\"#DejaVuSans-30\"/>\n      </g>\n     </g>\n    </g>\n    <g id=\"xtick_5\">\n     <g id=\"line2d_5\">\n      <g>\n       <use style=\"stroke:#000000;stroke-width:0.8;\" x=\"327.22172\" xlink:href=\"#m2d1612f277\" y=\"226.627759\"/>\n      </g>\n     </g>\n     <g id=\"text_5\">\n      <!-- 80 -->\n      <g transform=\"translate(320.85922 241.226197)scale(0.1 -0.1)\">\n       <defs>\n        <path d=\"M 2034 2216 \nQ 1584 2216 1326 1975 \nQ 1069 1734 1069 1313 \nQ 1069 891 1326 650 \nQ 1584 409 2034 409 \nQ 2484 409 2743 651 \nQ 3003 894 3003 1313 \nQ 3003 1734 2745 1975 \nQ 2488 2216 2034 2216 \nz\nM 1403 2484 \nQ 997 2584 770 2862 \nQ 544 3141 544 3541 \nQ 544 4100 942 4425 \nQ 1341 4750 2034 4750 \nQ 2731 4750 3128 4425 \nQ 3525 4100 3525 3541 \nQ 3525 3141 3298 2862 \nQ 3072 2584 2669 2484 \nQ 3125 2378 3379 2068 \nQ 3634 1759 3634 1313 \nQ 3634 634 3220 271 \nQ 2806 -91 2034 -91 \nQ 1263 -91 848 271 \nQ 434 634 434 1313 \nQ 434 1759 690 2068 \nQ 947 2378 1403 2484 \nz\nM 1172 3481 \nQ 1172 3119 1398 2916 \nQ 1625 2713 2034 2713 \nQ 2441 2713 2670 2916 \nQ 2900 3119 2900 3481 \nQ 2900 3844 2670 4047 \nQ 2441 4250 2034 4250 \nQ 1625 4250 1398 4047 \nQ 1172 3844 1172 3481 \nz\n\" id=\"DejaVuSans-38\" transform=\"scale(0.015625)\"/>\n       </defs>\n       <use xlink:href=\"#DejaVuSans-38\"/>\n       <use x=\"63.623047\" xlink:href=\"#DejaVuSans-30\"/>\n      </g>\n     </g>\n    </g>\n    <g id=\"xtick_6\">\n     <g id=\"line2d_6\">\n      <g>\n       <use style=\"stroke:#000000;stroke-width:0.8;\" x=\"388.709323\" xlink:href=\"#m2d1612f277\" y=\"226.627759\"/>\n      </g>\n     </g>\n     <g id=\"text_6\">\n      <!-- 100 -->\n      <g transform=\"translate(379.165573 241.226197)scale(0.1 -0.1)\">\n       <defs>\n        <path d=\"M 794 531 \nL 1825 531 \nL 1825 4091 \nL 703 3866 \nL 703 4441 \nL 1819 4666 \nL 2450 4666 \nL 2450 531 \nL 3481 531 \nL 3481 0 \nL 794 0 \nL 794 531 \nz\n\" id=\"DejaVuSans-31\" transform=\"scale(0.015625)\"/>\n       </defs>\n       <use xlink:href=\"#DejaVuSans-31\"/>\n       <use x=\"63.623047\" xlink:href=\"#DejaVuSans-30\"/>\n       <use x=\"127.246094\" xlink:href=\"#DejaVuSans-30\"/>\n      </g>\n     </g>\n    </g>\n    <g id=\"text_7\">\n     <!-- epochs -->\n     <g transform=\"translate(215.620313 254.904322)scale(0.1 -0.1)\">\n      <defs>\n       <path d=\"M 3597 1894 \nL 3597 1613 \nL 953 1613 \nQ 991 1019 1311 708 \nQ 1631 397 2203 397 \nQ 2534 397 2845 478 \nQ 3156 559 3463 722 \nL 3463 178 \nQ 3153 47 2828 -22 \nQ 2503 -91 2169 -91 \nQ 1331 -91 842 396 \nQ 353 884 353 1716 \nQ 353 2575 817 3079 \nQ 1281 3584 2069 3584 \nQ 2775 3584 3186 3129 \nQ 3597 2675 3597 1894 \nz\nM 3022 2063 \nQ 3016 2534 2758 2815 \nQ 2500 3097 2075 3097 \nQ 1594 3097 1305 2825 \nQ 1016 2553 972 2059 \nL 3022 2063 \nz\n\" id=\"DejaVuSans-65\" transform=\"scale(0.015625)\"/>\n       <path d=\"M 1159 525 \nL 1159 -1331 \nL 581 -1331 \nL 581 3500 \nL 1159 3500 \nL 1159 2969 \nQ 1341 3281 1617 3432 \nQ 1894 3584 2278 3584 \nQ 2916 3584 3314 3078 \nQ 3713 2572 3713 1747 \nQ 3713 922 3314 415 \nQ 2916 -91 2278 -91 \nQ 1894 -91 1617 61 \nQ 1341 213 1159 525 \nz\nM 3116 1747 \nQ 3116 2381 2855 2742 \nQ 2594 3103 2138 3103 \nQ 1681 3103 1420 2742 \nQ 1159 2381 1159 1747 \nQ 1159 1113 1420 752 \nQ 1681 391 2138 391 \nQ 2594 391 2855 752 \nQ 3116 1113 3116 1747 \nz\n\" id=\"DejaVuSans-70\" transform=\"scale(0.015625)\"/>\n       <path d=\"M 1959 3097 \nQ 1497 3097 1228 2736 \nQ 959 2375 959 1747 \nQ 959 1119 1226 758 \nQ 1494 397 1959 397 \nQ 2419 397 2687 759 \nQ 2956 1122 2956 1747 \nQ 2956 2369 2687 2733 \nQ 2419 3097 1959 3097 \nz\nM 1959 3584 \nQ 2709 3584 3137 3096 \nQ 3566 2609 3566 1747 \nQ 3566 888 3137 398 \nQ 2709 -91 1959 -91 \nQ 1206 -91 779 398 \nQ 353 888 353 1747 \nQ 353 2609 779 3096 \nQ 1206 3584 1959 3584 \nz\n\" id=\"DejaVuSans-6f\" transform=\"scale(0.015625)\"/>\n       <path d=\"M 3122 3366 \nL 3122 2828 \nQ 2878 2963 2633 3030 \nQ 2388 3097 2138 3097 \nQ 1578 3097 1268 2742 \nQ 959 2388 959 1747 \nQ 959 1106 1268 751 \nQ 1578 397 2138 397 \nQ 2388 397 2633 464 \nQ 2878 531 3122 666 \nL 3122 134 \nQ 2881 22 2623 -34 \nQ 2366 -91 2075 -91 \nQ 1284 -91 818 406 \nQ 353 903 353 1747 \nQ 353 2603 823 3093 \nQ 1294 3584 2113 3584 \nQ 2378 3584 2631 3529 \nQ 2884 3475 3122 3366 \nz\n\" id=\"DejaVuSans-63\" transform=\"scale(0.015625)\"/>\n       <path d=\"M 3513 2113 \nL 3513 0 \nL 2938 0 \nL 2938 2094 \nQ 2938 2591 2744 2837 \nQ 2550 3084 2163 3084 \nQ 1697 3084 1428 2787 \nQ 1159 2491 1159 1978 \nL 1159 0 \nL 581 0 \nL 581 4863 \nL 1159 4863 \nL 1159 2956 \nQ 1366 3272 1645 3428 \nQ 1925 3584 2291 3584 \nQ 2894 3584 3203 3211 \nQ 3513 2838 3513 2113 \nz\n\" id=\"DejaVuSans-68\" transform=\"scale(0.015625)\"/>\n       <path d=\"M 2834 3397 \nL 2834 2853 \nQ 2591 2978 2328 3040 \nQ 2066 3103 1784 3103 \nQ 1356 3103 1142 2972 \nQ 928 2841 928 2578 \nQ 928 2378 1081 2264 \nQ 1234 2150 1697 2047 \nL 1894 2003 \nQ 2506 1872 2764 1633 \nQ 3022 1394 3022 966 \nQ 3022 478 2636 193 \nQ 2250 -91 1575 -91 \nQ 1294 -91 989 -36 \nQ 684 19 347 128 \nL 347 722 \nQ 666 556 975 473 \nQ 1284 391 1588 391 \nQ 1994 391 2212 530 \nQ 2431 669 2431 922 \nQ 2431 1156 2273 1281 \nQ 2116 1406 1581 1522 \nL 1381 1569 \nQ 847 1681 609 1914 \nQ 372 2147 372 2553 \nQ 372 3047 722 3315 \nQ 1072 3584 1716 3584 \nQ 2034 3584 2315 3537 \nQ 2597 3491 2834 3397 \nz\n\" id=\"DejaVuSans-73\" transform=\"scale(0.015625)\"/>\n      </defs>\n      <use xlink:href=\"#DejaVuSans-65\"/>\n      <use x=\"61.523438\" xlink:href=\"#DejaVuSans-70\"/>\n      <use x=\"125\" xlink:href=\"#DejaVuSans-6f\"/>\n      <use x=\"186.181641\" xlink:href=\"#DejaVuSans-63\"/>\n      <use x=\"241.162109\" xlink:href=\"#DejaVuSans-68\"/>\n      <use x=\"304.541016\" xlink:href=\"#DejaVuSans-73\"/>\n     </g>\n    </g>\n   </g>\n   <g id=\"matplotlib.axis_2\">\n    <g id=\"ytick_1\">\n     <g id=\"line2d_7\">\n      <defs>\n       <path d=\"M 0 0 \nL -3.5 0 \n\" id=\"m483440d9e0\" style=\"stroke:#000000;stroke-width:0.8;\"/>\n      </defs>\n      <g>\n       <use style=\"stroke:#000000;stroke-width:0.8;\" x=\"66.053125\" xlink:href=\"#m483440d9e0\" y=\"216.89912\"/>\n      </g>\n     </g>\n     <g id=\"text_8\">\n      <!-- 0 -->\n      <g transform=\"translate(52.690625 220.698339)scale(0.1 -0.1)\">\n       <use xlink:href=\"#DejaVuSans-30\"/>\n      </g>\n     </g>\n    </g>\n    <g id=\"ytick_2\">\n     <g id=\"line2d_8\">\n      <g>\n       <use style=\"stroke:#000000;stroke-width:0.8;\" x=\"66.053125\" xlink:href=\"#m483440d9e0\" y=\"187.484848\"/>\n      </g>\n     </g>\n     <g id=\"text_9\">\n      <!-- 100000 -->\n      <g transform=\"translate(20.878125 191.284067)scale(0.1 -0.1)\">\n       <use xlink:href=\"#DejaVuSans-31\"/>\n       <use x=\"63.623047\" xlink:href=\"#DejaVuSans-30\"/>\n       <use x=\"127.246094\" xlink:href=\"#DejaVuSans-30\"/>\n       <use x=\"190.869141\" xlink:href=\"#DejaVuSans-30\"/>\n       <use x=\"254.492188\" xlink:href=\"#DejaVuSans-30\"/>\n       <use x=\"318.115234\" xlink:href=\"#DejaVuSans-30\"/>\n      </g>\n     </g>\n    </g>\n    <g id=\"ytick_3\">\n     <g id=\"line2d_9\">\n      <g>\n       <use style=\"stroke:#000000;stroke-width:0.8;\" x=\"66.053125\" xlink:href=\"#m483440d9e0\" y=\"158.070577\"/>\n      </g>\n     </g>\n     <g id=\"text_10\">\n      <!-- 200000 -->\n      <g transform=\"translate(20.878125 161.869795)scale(0.1 -0.1)\">\n       <use xlink:href=\"#DejaVuSans-32\"/>\n       <use x=\"63.623047\" xlink:href=\"#DejaVuSans-30\"/>\n       <use x=\"127.246094\" xlink:href=\"#DejaVuSans-30\"/>\n       <use x=\"190.869141\" xlink:href=\"#DejaVuSans-30\"/>\n       <use x=\"254.492188\" xlink:href=\"#DejaVuSans-30\"/>\n       <use x=\"318.115234\" xlink:href=\"#DejaVuSans-30\"/>\n      </g>\n     </g>\n    </g>\n    <g id=\"ytick_4\">\n     <g id=\"line2d_10\">\n      <g>\n       <use style=\"stroke:#000000;stroke-width:0.8;\" x=\"66.053125\" xlink:href=\"#m483440d9e0\" y=\"128.656305\"/>\n      </g>\n     </g>\n     <g id=\"text_11\">\n      <!-- 300000 -->\n      <g transform=\"translate(20.878125 132.455524)scale(0.1 -0.1)\">\n       <defs>\n        <path d=\"M 2597 2516 \nQ 3050 2419 3304 2112 \nQ 3559 1806 3559 1356 \nQ 3559 666 3084 287 \nQ 2609 -91 1734 -91 \nQ 1441 -91 1130 -33 \nQ 819 25 488 141 \nL 488 750 \nQ 750 597 1062 519 \nQ 1375 441 1716 441 \nQ 2309 441 2620 675 \nQ 2931 909 2931 1356 \nQ 2931 1769 2642 2001 \nQ 2353 2234 1838 2234 \nL 1294 2234 \nL 1294 2753 \nL 1863 2753 \nQ 2328 2753 2575 2939 \nQ 2822 3125 2822 3475 \nQ 2822 3834 2567 4026 \nQ 2313 4219 1838 4219 \nQ 1578 4219 1281 4162 \nQ 984 4106 628 3988 \nL 628 4550 \nQ 988 4650 1302 4700 \nQ 1616 4750 1894 4750 \nQ 2613 4750 3031 4423 \nQ 3450 4097 3450 3541 \nQ 3450 3153 3228 2886 \nQ 3006 2619 2597 2516 \nz\n\" id=\"DejaVuSans-33\" transform=\"scale(0.015625)\"/>\n       </defs>\n       <use xlink:href=\"#DejaVuSans-33\"/>\n       <use x=\"63.623047\" xlink:href=\"#DejaVuSans-30\"/>\n       <use x=\"127.246094\" xlink:href=\"#DejaVuSans-30\"/>\n       <use x=\"190.869141\" xlink:href=\"#DejaVuSans-30\"/>\n       <use x=\"254.492188\" xlink:href=\"#DejaVuSans-30\"/>\n       <use x=\"318.115234\" xlink:href=\"#DejaVuSans-30\"/>\n      </g>\n     </g>\n    </g>\n    <g id=\"ytick_5\">\n     <g id=\"line2d_11\">\n      <g>\n       <use style=\"stroke:#000000;stroke-width:0.8;\" x=\"66.053125\" xlink:href=\"#m483440d9e0\" y=\"99.242034\"/>\n      </g>\n     </g>\n     <g id=\"text_12\">\n      <!-- 400000 -->\n      <g transform=\"translate(20.878125 103.041252)scale(0.1 -0.1)\">\n       <use xlink:href=\"#DejaVuSans-34\"/>\n       <use x=\"63.623047\" xlink:href=\"#DejaVuSans-30\"/>\n       <use x=\"127.246094\" xlink:href=\"#DejaVuSans-30\"/>\n       <use x=\"190.869141\" xlink:href=\"#DejaVuSans-30\"/>\n       <use x=\"254.492188\" xlink:href=\"#DejaVuSans-30\"/>\n       <use x=\"318.115234\" xlink:href=\"#DejaVuSans-30\"/>\n      </g>\n     </g>\n    </g>\n    <g id=\"ytick_6\">\n     <g id=\"line2d_12\">\n      <g>\n       <use style=\"stroke:#000000;stroke-width:0.8;\" x=\"66.053125\" xlink:href=\"#m483440d9e0\" y=\"69.827762\"/>\n      </g>\n     </g>\n     <g id=\"text_13\">\n      <!-- 500000 -->\n      <g transform=\"translate(20.878125 73.626981)scale(0.1 -0.1)\">\n       <defs>\n        <path d=\"M 691 4666 \nL 3169 4666 \nL 3169 4134 \nL 1269 4134 \nL 1269 2991 \nQ 1406 3038 1543 3061 \nQ 1681 3084 1819 3084 \nQ 2600 3084 3056 2656 \nQ 3513 2228 3513 1497 \nQ 3513 744 3044 326 \nQ 2575 -91 1722 -91 \nQ 1428 -91 1123 -41 \nQ 819 9 494 109 \nL 494 744 \nQ 775 591 1075 516 \nQ 1375 441 1709 441 \nQ 2250 441 2565 725 \nQ 2881 1009 2881 1497 \nQ 2881 1984 2565 2268 \nQ 2250 2553 1709 2553 \nQ 1456 2553 1204 2497 \nQ 953 2441 691 2322 \nL 691 4666 \nz\n\" id=\"DejaVuSans-35\" transform=\"scale(0.015625)\"/>\n       </defs>\n       <use xlink:href=\"#DejaVuSans-35\"/>\n       <use x=\"63.623047\" xlink:href=\"#DejaVuSans-30\"/>\n       <use x=\"127.246094\" xlink:href=\"#DejaVuSans-30\"/>\n       <use x=\"190.869141\" xlink:href=\"#DejaVuSans-30\"/>\n       <use x=\"254.492188\" xlink:href=\"#DejaVuSans-30\"/>\n       <use x=\"318.115234\" xlink:href=\"#DejaVuSans-30\"/>\n      </g>\n     </g>\n    </g>\n    <g id=\"ytick_7\">\n     <g id=\"line2d_13\">\n      <g>\n       <use style=\"stroke:#000000;stroke-width:0.8;\" x=\"66.053125\" xlink:href=\"#m483440d9e0\" y=\"40.41349\"/>\n      </g>\n     </g>\n     <g id=\"text_14\">\n      <!-- 600000 -->\n      <g transform=\"translate(20.878125 44.212709)scale(0.1 -0.1)\">\n       <use xlink:href=\"#DejaVuSans-36\"/>\n       <use x=\"63.623047\" xlink:href=\"#DejaVuSans-30\"/>\n       <use x=\"127.246094\" xlink:href=\"#DejaVuSans-30\"/>\n       <use x=\"190.869141\" xlink:href=\"#DejaVuSans-30\"/>\n       <use x=\"254.492188\" xlink:href=\"#DejaVuSans-30\"/>\n       <use x=\"318.115234\" xlink:href=\"#DejaVuSans-30\"/>\n      </g>\n     </g>\n    </g>\n    <g id=\"ytick_8\">\n     <g id=\"line2d_14\">\n      <g>\n       <use style=\"stroke:#000000;stroke-width:0.8;\" x=\"66.053125\" xlink:href=\"#m483440d9e0\" y=\"10.999219\"/>\n      </g>\n     </g>\n     <g id=\"text_15\">\n      <!-- 700000 -->\n      <g transform=\"translate(20.878125 14.798437)scale(0.1 -0.1)\">\n       <defs>\n        <path d=\"M 525 4666 \nL 3525 4666 \nL 3525 4397 \nL 1831 0 \nL 1172 0 \nL 2766 4134 \nL 525 4134 \nL 525 4666 \nz\n\" id=\"DejaVuSans-37\" transform=\"scale(0.015625)\"/>\n       </defs>\n       <use xlink:href=\"#DejaVuSans-37\"/>\n       <use x=\"63.623047\" xlink:href=\"#DejaVuSans-30\"/>\n       <use x=\"127.246094\" xlink:href=\"#DejaVuSans-30\"/>\n       <use x=\"190.869141\" xlink:href=\"#DejaVuSans-30\"/>\n       <use x=\"254.492188\" xlink:href=\"#DejaVuSans-30\"/>\n       <use x=\"318.115234\" xlink:href=\"#DejaVuSans-30\"/>\n      </g>\n     </g>\n    </g>\n    <g id=\"text_16\">\n     <!-- loss -->\n     <g transform=\"translate(14.798438 127.565572)rotate(-90)scale(0.1 -0.1)\">\n      <defs>\n       <path d=\"M 603 4863 \nL 1178 4863 \nL 1178 0 \nL 603 0 \nL 603 4863 \nz\n\" id=\"DejaVuSans-6c\" transform=\"scale(0.015625)\"/>\n      </defs>\n      <use xlink:href=\"#DejaVuSans-6c\"/>\n      <use x=\"27.783203\" xlink:href=\"#DejaVuSans-6f\"/>\n      <use x=\"88.964844\" xlink:href=\"#DejaVuSans-73\"/>\n      <use x=\"141.064453\" xlink:href=\"#DejaVuSans-73\"/>\n     </g>\n    </g>\n   </g>\n   <g id=\"line2d_15\">\n    <path clip-path=\"url(#p2e8b74336e)\" d=\"M 81.271307 19.071396 \nL 84.345687 125.640065 \nL 87.420067 197.722262 \nL 90.494447 214.912976 \nL 93.568827 215.708393 \nL 96.643208 216.357404 \nL 99.717588 216.425511 \nL 102.791968 216.491382 \nL 105.866348 216.490983 \nL 108.940728 216.492606 \nL 112.015108 216.495998 \nL 115.089489 216.508112 \nL 118.163869 216.504547 \nL 121.238249 216.507771 \nL 124.312629 216.508442 \nL 127.387009 216.505421 \nL 130.461389 216.505935 \nL 133.53577 216.51077 \nL 136.61015 216.509413 \nL 139.68453 216.509334 \nL 142.75891 216.51343 \nL 145.83329 216.50784 \nL 148.90767 216.51085 \nL 151.982051 216.513083 \nL 155.056431 216.512418 \nL 158.130811 216.512812 \nL 161.205191 216.513053 \nL 164.279571 216.510108 \nL 167.353951 216.512396 \nL 170.428332 216.51667 \nL 173.502712 216.514197 \nL 176.577092 216.516292 \nL 179.651472 216.515091 \nL 182.725852 216.514522 \nL 185.800232 216.512172 \nL 188.874613 216.510841 \nL 191.948993 216.51049 \nL 195.023373 216.516414 \nL 198.097753 216.514167 \nL 201.172133 216.513089 \nL 204.246513 216.512029 \nL 207.320894 216.517526 \nL 210.395274 216.515432 \nL 213.469654 216.517423 \nL 216.544034 216.518994 \nL 219.618414 216.519805 \nL 222.692794 216.520009 \nL 225.767175 216.517811 \nL 228.841555 216.521151 \nL 231.915935 216.514092 \nL 234.990315 216.514369 \nL 238.064695 216.511292 \nL 241.139075 216.505519 \nL 244.213456 216.518759 \nL 247.287836 216.519208 \nL 250.362216 216.523963 \nL 253.436596 216.515796 \nL 256.510976 216.522133 \nL 259.585356 216.517049 \nL 262.659737 216.512741 \nL 265.734117 216.52199 \nL 268.808497 216.521378 \nL 271.882877 216.512356 \nL 274.957257 216.518375 \nL 278.031637 216.507128 \nL 281.106018 216.522756 \nL 284.180398 216.512481 \nL 287.254778 216.522505 \nL 290.329158 216.52143 \nL 293.403538 216.517855 \nL 296.477918 216.524484 \nL 299.552299 216.524254 \nL 302.626679 216.521363 \nL 305.701059 216.524205 \nL 308.775439 216.522661 \nL 311.849819 216.523046 \nL 314.924199 216.52426 \nL 317.99858 216.522625 \nL 321.07296 216.525052 \nL 324.14734 216.509224 \nL 327.22172 216.523625 \nL 330.2961 216.513164 \nL 333.37048 216.518736 \nL 336.444861 216.526595 \nL 339.519241 216.516942 \nL 342.593621 216.52248 \nL 345.668001 216.520028 \nL 348.742381 216.527423 \nL 351.816761 216.528307 \nL 354.891142 216.52124 \nL 357.965522 216.52315 \nL 361.039902 216.52544 \nL 364.114282 216.523046 \nL 367.188662 216.521605 \nL 370.263042 216.52466 \nL 373.337423 216.527984 \nL 376.411803 216.527166 \nL 379.486183 216.517236 \nL 382.560563 216.509762 \nL 385.634943 216.525112 \n\" style=\"fill:none;stroke:#1f77b4;stroke-linecap:square;stroke-width:1.5;\"/>\n   </g>\n   <g id=\"line2d_16\">\n    <path clip-path=\"url(#p2e8b74336e)\" d=\"M 81.271307 87.84529 \nL 84.345687 177.787344 \nL 87.420067 216.161946 \nL 90.494447 214.61698 \nL 93.568827 216.667201 \nL 96.643208 216.590403 \nL 99.717588 216.708349 \nL 102.791968 216.731767 \nL 105.866348 216.734022 \nL 108.940728 216.715811 \nL 112.015108 216.727583 \nL 115.089489 216.738269 \nL 118.163869 216.736253 \nL 121.238249 216.732644 \nL 124.312629 216.733988 \nL 127.387009 216.738043 \nL 130.461389 216.728436 \nL 133.53577 216.736344 \nL 136.61015 216.738437 \nL 139.68453 216.731901 \nL 142.75891 216.73894 \nL 145.83329 216.734674 \nL 148.90767 216.736779 \nL 151.982051 216.734012 \nL 155.056431 216.732863 \nL 158.130811 216.737461 \nL 161.205191 216.734319 \nL 164.279571 216.736829 \nL 167.353951 216.732938 \nL 170.428332 216.740581 \nL 173.502712 216.737698 \nL 176.577092 216.735035 \nL 179.651472 216.733562 \nL 182.725852 216.736081 \nL 185.800232 216.739722 \nL 188.874613 216.726024 \nL 191.948993 216.738203 \nL 195.023373 216.737387 \nL 198.097753 216.739375 \nL 201.172133 216.734302 \nL 204.246513 216.732451 \nL 207.320894 216.740792 \nL 210.395274 216.734 \nL 213.469654 216.736905 \nL 216.544034 216.740478 \nL 219.618414 216.737354 \nL 222.692794 216.736352 \nL 225.767175 216.736682 \nL 228.841555 216.737494 \nL 231.915935 216.736459 \nL 234.990315 216.736823 \nL 238.064695 216.735676 \nL 241.139075 216.73919 \nL 244.213456 216.733239 \nL 247.287836 216.738812 \nL 250.362216 216.730657 \nL 253.436596 216.734932 \nL 256.510976 216.736572 \nL 259.585356 216.735814 \nL 262.659737 216.738465 \nL 265.734117 216.736051 \nL 268.808497 216.739665 \nL 271.882877 216.726903 \nL 274.957257 216.724727 \nL 278.031637 216.743533 \nL 281.106018 216.725104 \nL 284.180398 216.744123 \nL 287.254778 216.73142 \nL 290.329158 216.73262 \nL 293.403538 216.730673 \nL 296.477918 216.735188 \nL 299.552299 216.733192 \nL 302.626679 216.739604 \nL 305.701059 216.734777 \nL 308.775439 216.728415 \nL 311.849819 216.733247 \nL 314.924199 216.740536 \nL 317.99858 216.737387 \nL 321.07296 216.723927 \nL 324.14734 216.738268 \nL 327.22172 216.733711 \nL 330.2961 216.709469 \nL 333.37048 216.733441 \nL 336.444861 216.708689 \nL 339.519241 216.718892 \nL 342.593621 216.7263 \nL 345.668001 216.738255 \nL 348.742381 216.731189 \nL 351.816761 216.73745 \nL 354.891142 216.73905 \nL 357.965522 216.722356 \nL 361.039902 216.740618 \nL 364.114282 216.738551 \nL 367.188662 216.736339 \nL 370.263042 216.729403 \nL 373.337423 216.735351 \nL 376.411803 216.728567 \nL 379.486183 216.728501 \nL 382.560563 216.734998 \nL 385.634943 216.721687 \n\" style=\"fill:none;stroke:#ff7f0e;stroke-linecap:square;stroke-width:1.5;\"/>\n   </g>\n   <g id=\"patch_3\">\n    <path d=\"M 66.053125 226.627759 \nL 66.053125 9.187759 \n\" style=\"fill:none;stroke:#000000;stroke-linecap:square;stroke-linejoin:miter;stroke-width:0.8;\"/>\n   </g>\n   <g id=\"patch_4\">\n    <path d=\"M 400.853125 226.627759 \nL 400.853125 9.187759 \n\" style=\"fill:none;stroke:#000000;stroke-linecap:square;stroke-linejoin:miter;stroke-width:0.8;\"/>\n   </g>\n   <g id=\"patch_5\">\n    <path d=\"M 66.053125 226.627759 \nL 400.853125 226.627759 \n\" style=\"fill:none;stroke:#000000;stroke-linecap:square;stroke-linejoin:miter;stroke-width:0.8;\"/>\n   </g>\n   <g id=\"patch_6\">\n    <path d=\"M 66.053125 9.187759 \nL 400.853125 9.187759 \n\" style=\"fill:none;stroke:#000000;stroke-linecap:square;stroke-linejoin:miter;stroke-width:0.8;\"/>\n   </g>\n   <g id=\"legend_1\">\n    <g id=\"patch_7\">\n     <path d=\"M 338.578125 46.544009 \nL 393.853125 46.544009 \nQ 395.853125 46.544009 395.853125 44.544009 \nL 395.853125 16.187759 \nQ 395.853125 14.187759 393.853125 14.187759 \nL 338.578125 14.187759 \nQ 336.578125 14.187759 336.578125 16.187759 \nL 336.578125 44.544009 \nQ 336.578125 46.544009 338.578125 46.544009 \nz\n\" style=\"fill:#ffffff;opacity:0.8;stroke:#cccccc;stroke-linejoin:miter;\"/>\n    </g>\n    <g id=\"line2d_17\">\n     <path d=\"M 340.578125 22.286197 \nL 360.578125 22.286197 \n\" style=\"fill:none;stroke:#1f77b4;stroke-linecap:square;stroke-width:1.5;\"/>\n    </g>\n    <g id=\"line2d_18\"/>\n    <g id=\"text_17\">\n     <!-- train -->\n     <g transform=\"translate(368.578125 25.786197)scale(0.1 -0.1)\">\n      <defs>\n       <path d=\"M 1172 4494 \nL 1172 3500 \nL 2356 3500 \nL 2356 3053 \nL 1172 3053 \nL 1172 1153 \nQ 1172 725 1289 603 \nQ 1406 481 1766 481 \nL 2356 481 \nL 2356 0 \nL 1766 0 \nQ 1100 0 847 248 \nQ 594 497 594 1153 \nL 594 3053 \nL 172 3053 \nL 172 3500 \nL 594 3500 \nL 594 4494 \nL 1172 4494 \nz\n\" id=\"DejaVuSans-74\" transform=\"scale(0.015625)\"/>\n       <path d=\"M 2631 2963 \nQ 2534 3019 2420 3045 \nQ 2306 3072 2169 3072 \nQ 1681 3072 1420 2755 \nQ 1159 2438 1159 1844 \nL 1159 0 \nL 581 0 \nL 581 3500 \nL 1159 3500 \nL 1159 2956 \nQ 1341 3275 1631 3429 \nQ 1922 3584 2338 3584 \nQ 2397 3584 2469 3576 \nQ 2541 3569 2628 3553 \nL 2631 2963 \nz\n\" id=\"DejaVuSans-72\" transform=\"scale(0.015625)\"/>\n       <path d=\"M 2194 1759 \nQ 1497 1759 1228 1600 \nQ 959 1441 959 1056 \nQ 959 750 1161 570 \nQ 1363 391 1709 391 \nQ 2188 391 2477 730 \nQ 2766 1069 2766 1631 \nL 2766 1759 \nL 2194 1759 \nz\nM 3341 1997 \nL 3341 0 \nL 2766 0 \nL 2766 531 \nQ 2569 213 2275 61 \nQ 1981 -91 1556 -91 \nQ 1019 -91 701 211 \nQ 384 513 384 1019 \nQ 384 1609 779 1909 \nQ 1175 2209 1959 2209 \nL 2766 2209 \nL 2766 2266 \nQ 2766 2663 2505 2880 \nQ 2244 3097 1772 3097 \nQ 1472 3097 1187 3025 \nQ 903 2953 641 2809 \nL 641 3341 \nQ 956 3463 1253 3523 \nQ 1550 3584 1831 3584 \nQ 2591 3584 2966 3190 \nQ 3341 2797 3341 1997 \nz\n\" id=\"DejaVuSans-61\" transform=\"scale(0.015625)\"/>\n       <path d=\"M 603 3500 \nL 1178 3500 \nL 1178 0 \nL 603 0 \nL 603 3500 \nz\nM 603 4863 \nL 1178 4863 \nL 1178 4134 \nL 603 4134 \nL 603 4863 \nz\n\" id=\"DejaVuSans-69\" transform=\"scale(0.015625)\"/>\n       <path d=\"M 3513 2113 \nL 3513 0 \nL 2938 0 \nL 2938 2094 \nQ 2938 2591 2744 2837 \nQ 2550 3084 2163 3084 \nQ 1697 3084 1428 2787 \nQ 1159 2491 1159 1978 \nL 1159 0 \nL 581 0 \nL 581 3500 \nL 1159 3500 \nL 1159 2956 \nQ 1366 3272 1645 3428 \nQ 1925 3584 2291 3584 \nQ 2894 3584 3203 3211 \nQ 3513 2838 3513 2113 \nz\n\" id=\"DejaVuSans-6e\" transform=\"scale(0.015625)\"/>\n      </defs>\n      <use xlink:href=\"#DejaVuSans-74\"/>\n      <use x=\"39.208984\" xlink:href=\"#DejaVuSans-72\"/>\n      <use x=\"80.322266\" xlink:href=\"#DejaVuSans-61\"/>\n      <use x=\"141.601562\" xlink:href=\"#DejaVuSans-69\"/>\n      <use x=\"169.384766\" xlink:href=\"#DejaVuSans-6e\"/>\n     </g>\n    </g>\n    <g id=\"line2d_19\">\n     <path d=\"M 340.578125 36.964322 \nL 360.578125 36.964322 \n\" style=\"fill:none;stroke:#ff7f0e;stroke-linecap:square;stroke-width:1.5;\"/>\n    </g>\n    <g id=\"line2d_20\"/>\n    <g id=\"text_18\">\n     <!-- val -->\n     <g transform=\"translate(368.578125 40.464322)scale(0.1 -0.1)\">\n      <defs>\n       <path d=\"M 191 3500 \nL 800 3500 \nL 1894 563 \nL 2988 3500 \nL 3597 3500 \nL 2284 0 \nL 1503 0 \nL 191 3500 \nz\n\" id=\"DejaVuSans-76\" transform=\"scale(0.015625)\"/>\n      </defs>\n      <use xlink:href=\"#DejaVuSans-76\"/>\n      <use x=\"59.179688\" xlink:href=\"#DejaVuSans-61\"/>\n      <use x=\"120.458984\" xlink:href=\"#DejaVuSans-6c\"/>\n     </g>\n    </g>\n   </g>\n  </g>\n </g>\n <defs>\n  <clipPath id=\"p2e8b74336e\">\n   <rect height=\"217.44\" width=\"334.8\" x=\"66.053125\" y=\"9.187759\"/>\n  </clipPath>\n </defs>\n</svg>\n",
      "image/png": "[encoded data removed]"
     },
     "metadata": {
      "needs_background": "light"
     }
    }
   ],
   "metadata": {}
  },
  {
   "cell_type": "code",
   "execution_count": 19,
   "source": [
    "# Evaluate model\n",
    "from sklearn.metrics import mean_squared_error\n",
    "\n",
    "train_pred = model.predict(X_train)\n",
    "train_rmse = np.sqrt(mean_squared_error(y_train, train_pred))\n",
    "\n",
    "test_pred = model.predict(X_test)\n",
    "test_rmse = np.sqrt(mean_squared_error(y_test, test_pred))\n",
    "\n",
    "print(f\"Train RMSE: {train_rmse.round(2)}\")\n",
    "print(f\"Test RMSE: {test_rmse.round(2)}\")"
   ],
   "outputs": [
    {
     "output_type": "stream",
     "name": "stderr",
     "text": [
      "2021-08-24 23:27:01.643819: I tensorflow/core/grappler/optimizers/custom_graph_optimizer_registry.cc:112] Plugin optimizer for device_type GPU is enabled.\n"
     ]
    },
    {
     "output_type": "stream",
     "name": "stdout",
     "text": [
      "Train RMSE: 35.7\n",
      "Test RMSE: 9.78\n"
     ]
    }
   ],
   "metadata": {}
  },
  {
   "cell_type": "code",
   "execution_count": 22,
   "source": [
    "# Prediction Plot\n",
    "import plotly.graph_objects as go\n",
    "\n",
    "fig = go.Figure()\n",
    "fig.add_trace(go.Scatter(x=np.arange(len(y_test)), y=y_test.ravel(),\n",
    "                    mode='lines',\n",
    "                    name='test'))\n",
    "fig.add_trace(go.Scatter(x=np.arange(len(y_test)), y=test_pred.ravel(),\n",
    "                    line=dict(dash='dash', width=3),\n",
    "                    name='pred'))\n",
    "\n",
    "fig.update_layout(\n",
    "    title=\"Adj Close Prediction of Audi\",\n",
    "    height=500)\n",
    "fig.show()"
   ],
   "outputs": [
    {
     "output_type": "display_data",
     "data": {
      "application/vnd.plotly.v1+json": {
       "config": {
        "plotlyServerURL": "https://plot.ly"
       },
       "data": [
        {
         "mode": "lines",
         "name": "test",
         "type": "scatter",
         "x": [
          0,
          1,
          2,
          3,
          4,
          5,
          6,
          7,
          8,
          9,
          10,
          11,
          12,
          13,
          14,
          15,
          16,
          17,
          18,
          19,
          20,
          21,
          22,
          23,
          24,
          25,
          26,
          27,
          28,
          29,
          30,
          31,
          32,
          33,
          34,
          35,
          36,
          37,
          38,
          39,
          40,
          41,
          42,
          43,
          44,
          45,
          46,
          47,
          48,
          49,
          50,
          51,
          52,
          53,
          54,
          55,
          56,
          57,
          58,
          59,
          60,
          61,
          62,
          63,
          64,
          65,
          66,
          67,
          68,
          69,
          70,
          71,
          72,
          73,
          74,
          75,
          76,
          77,
          78,
          79,
          80,
          81,
          82,
          83,
          84,
          85,
          86,
          87,
          88,
          89,
          90,
          91,
          92,
          93,
          94,
          95,
          96,
          97,
          98,
          99,
          100,
          101,
          102,
          103,
          104,
          105,
          106,
          107,
          108,
          109,
          110,
          111,
          112,
          113,
          114,
          115,
          116,
          117,
          118,
          119,
          120,
          121,
          122,
          123,
          124,
          125,
          126,
          127,
          128,
          129,
          130,
          131,
          132,
          133,
          134,
          135,
          136,
          137,
          138,
          139,
          140,
          141,
          142,
          143,
          144,
          145,
          146,
          147,
          148,
          149,
          150,
          151,
          152,
          153,
          154,
          155,
          156,
          157,
          158,
          159,
          160,
          161,
          162,
          163,
          164,
          165,
          166,
          167,
          168,
          169,
          170,
          171,
          172,
          173,
          174,
          175,
          176,
          177,
          178,
          179,
          180,
          181,
          182,
          183,
          184,
          185,
          186,
          187,
          188,
          189,
          190,
          191,
          192,
          193,
          194,
          195,
          196,
          197,
          198,
          199,
          200,
          201,
          202,
          203,
          204,
          205,
          206,
          207,
          208,
          209,
          210,
          211,
          212,
          213,
          214,
          215,
          216,
          217,
          218,
          219,
          220,
          221,
          222,
          223,
          224,
          225,
          226,
          227,
          228,
          229,
          230,
          231,
          232,
          233,
          234,
          235,
          236,
          237,
          238,
          239,
          240,
          241,
          242,
          243,
          244,
          245,
          246,
          247,
          248,
          249
         ],
         "y": [
          806.950012,
          806.950012,
          806.950012,
          806.950012,
          806.950012,
          806.950012,
          806.950012,
          806.950012,
          806.950012,
          806.950012,
          806.950012,
          805,
          840.400024,
          840.400024,
          840.400024,
          840.400024,
          840.400024,
          840.400024,
          840.400024,
          840.400024,
          840.400024,
          840.400024,
          840.400024,
          840.400024,
          840.400024,
          809.549988,
          805,
          805,
          804,
          804,
          804,
          804,
          797.549988,
          797.549988,
          797.549988,
          797.549988,
          797.549988,
          797.549988,
          797.549988,
          797.549988,
          797.549988,
          797.549988,
          797.549988,
          797.549988,
          797.549988,
          797.549988,
          797.549988,
          797.549988,
          756.849976,
          756.849976,
          756.849976,
          756.849976,
          756.849976,
          756.849976,
          727,
          715.900024,
          715.900024,
          715.900024,
          715.900024,
          715.900024,
          715.900024,
          715.900024,
          715.900024,
          715.900024,
          703.799988,
          703.799988,
          703.799988,
          703.799988,
          703.799988,
          703.799988,
          703.799988,
          701.625977,
          701.625977,
          701.625977,
          701.625977,
          701.625977,
          692.304871,
          692.304871,
          692.304871,
          692.304871,
          692.853149,
          692.853149,
          692.853149,
          692.853149,
          692.853149,
          692.853149,
          692.853149,
          669.076904,
          669.076904,
          669.076904,
          695.594666,
          695.594666,
          695.594666,
          695.594666,
          695.594666,
          695.594666,
          689.862427,
          689.862427,
          689.364014,
          684.877869,
          682.704651,
          687.868652,
          687.868652,
          687.868652,
          687.868652,
          674.908752,
          674.908752,
          674.908752,
          674.908752,
          675.108154,
          675.108154,
          679.394897,
          679.394897,
          679.394897,
          681.887146,
          681.887146,
          677.700134,
          677.700134,
          677.700134,
          677.700134,
          694.298706,
          694.298706,
          694.298706,
          694.298706,
          694.298706,
          710.64801,
          710.64801,
          710.64801,
          710.64801,
          710.64801,
          710.64801,
          710.64801,
          722.212219,
          722.212219,
          722.212219,
          722.212219,
          722.212219,
          722.212219,
          722.212219,
          722.212219,
          722.212219,
          726.249695,
          726.249695,
          729.738892,
          729.738892,
          692.205139,
          684.229858,
          694.747314,
          680.690857,
          680.690857,
          680.690857,
          680.690857,
          680.690857,
          680.690857,
          694.896851,
          668.478699,
          668.478699,
          643.007629,
          643.007629,
          643.007629,
          643.007629,
          643.007629,
          643.007629,
          656.715149,
          651.979797,
          651.979797,
          651.979797,
          641.06366,
          642.459351,
          642.459351,
          652.029663,
          652.029663,
          640.914124,
          640.914124,
          640.914124,
          640.914124,
          640.914124,
          640.914124,
          645.400208,
          654.870911,
          654.870911,
          654.870911,
          654.870911,
          654.870911,
          650.384766,
          650.384766,
          654.173035,
          654.173035,
          654.173035,
          654.173035,
          654.173035,
          654.173035,
          665.43811,
          684.180054,
          684.180054,
          684.180054,
          684.180054,
          684.180054,
          684.180054,
          684.180054,
          684.180054,
          684.180054,
          684.180054,
          669.674988,
          680.890259,
          679.893311,
          677.899536,
          677.899536,
          677.899536,
          678.896423,
          678.896423,
          691.856262,
          691.856262,
          691.856262,
          691.856262,
          691.856262,
          691.856262,
          691.856262,
          689.364014,
          689.364014,
          689.364014,
          689.364014,
          689.364014,
          693.850098,
          693.850098,
          693.850098,
          693.850098,
          693.850098,
          693.850098,
          693.850098,
          693.850098,
          693.850098,
          693.850098,
          693.850098,
          696.84082,
          692.803345,
          692.803345,
          692.803345,
          692.803345,
          693.850098,
          693.850098,
          693.850098,
          693.850098,
          693.850098,
          693.850098,
          693.551025,
          699.382935,
          699.382935,
          699.382935,
          699.382935
         ]
        },
        {
         "line": {
          "dash": "dash",
          "width": 3
         },
         "name": "pred",
         "type": "scatter",
         "x": [
          0,
          1,
          2,
          3,
          4,
          5,
          6,
          7,
          8,
          9,
          10,
          11,
          12,
          13,
          14,
          15,
          16,
          17,
          18,
          19,
          20,
          21,
          22,
          23,
          24,
          25,
          26,
          27,
          28,
          29,
          30,
          31,
          32,
          33,
          34,
          35,
          36,
          37,
          38,
          39,
          40,
          41,
          42,
          43,
          44,
          45,
          46,
          47,
          48,
          49,
          50,
          51,
          52,
          53,
          54,
          55,
          56,
          57,
          58,
          59,
          60,
          61,
          62,
          63,
          64,
          65,
          66,
          67,
          68,
          69,
          70,
          71,
          72,
          73,
          74,
          75,
          76,
          77,
          78,
          79,
          80,
          81,
          82,
          83,
          84,
          85,
          86,
          87,
          88,
          89,
          90,
          91,
          92,
          93,
          94,
          95,
          96,
          97,
          98,
          99,
          100,
          101,
          102,
          103,
          104,
          105,
          106,
          107,
          108,
          109,
          110,
          111,
          112,
          113,
          114,
          115,
          116,
          117,
          118,
          119,
          120,
          121,
          122,
          123,
          124,
          125,
          126,
          127,
          128,
          129,
          130,
          131,
          132,
          133,
          134,
          135,
          136,
          137,
          138,
          139,
          140,
          141,
          142,
          143,
          144,
          145,
          146,
          147,
          148,
          149,
          150,
          151,
          152,
          153,
          154,
          155,
          156,
          157,
          158,
          159,
          160,
          161,
          162,
          163,
          164,
          165,
          166,
          167,
          168,
          169,
          170,
          171,
          172,
          173,
          174,
          175,
          176,
          177,
          178,
          179,
          180,
          181,
          182,
          183,
          184,
          185,
          186,
          187,
          188,
          189,
          190,
          191,
          192,
          193,
          194,
          195,
          196,
          197,
          198,
          199,
          200,
          201,
          202,
          203,
          204,
          205,
          206,
          207,
          208,
          209,
          210,
          211,
          212,
          213,
          214,
          215,
          216,
          217,
          218,
          219,
          220,
          221,
          222,
          223,
          224,
          225,
          226,
          227,
          228,
          229,
          230,
          231,
          232,
          233,
          234,
          235,
          236,
          237,
          238,
          239,
          240,
          241,
          242,
          243,
          244,
          245,
          246,
          247,
          248,
          249
         ],
         "y": [
          804.2492065429688,
          808.5234375,
          807.0546264648438,
          809.2145385742188,
          808.563720703125,
          809.235595703125,
          809.3142700195312,
          809.2669067382812,
          809.3758544921875,
          809.30859375,
          809.515869140625,
          809.515869140625,
          809.7352905273438,
          828.3256225585938,
          827.7201538085938,
          837.616455078125,
          836.7952270507812,
          840.6677856445312,
          840.6614379882812,
          841.850830078125,
          842.3436889648438,
          842.0733032226562,
          843.0665893554688,
          843.0665893554688,
          843.0665893554688,
          843.0665893554688,
          825.2252197265625,
          824.0007934570312,
          814.498046875,
          813.5072021484375,
          810.0135498046875,
          809.2473754882812,
          808.1783447265625,
          803.6807861328125,
          804.1373901367188,
          801.26318359375,
          801.3238525390625,
          800.5645141601562,
          800.5515747070312,
          800.3186645507812,
          800.2175903320312,
          800.2799682617188,
          800.087646484375,
          800.087646484375,
          800.087646484375,
          800.087646484375,
          800.087646484375,
          800.087646484375,
          800.087646484375,
          776.5498657226562,
          778.8869018554688,
          765.9815673828125,
          766.9396362304688,
          762.0866088867188,
          765.1341552734375,
          752.9989624023438,
          736.2159423828125,
          734.3395385742188,
          724.1752319335938,
          724.079345703125,
          720.63720703125,
          720.602783203125,
          719.0951538085938,
          718.9486083984375,
          718.993408203125,
          711.1941528320312,
          711.6195678710938,
          707.9390258789062,
          708.3370971679688,
          706.8942260742188,
          706.9259033203125,
          706.489013671875,
          706.2991333007812,
          706.416259765625,
          706.055419921875,
          706.055419921875,
          706.055419921875,
          700.6480712890625,
          700.976806640625,
          698.1328125,
          698.4403686523438,
          697.6435546875,
          697.6486206054688,
          697.4783935546875,
          697.3136596679688,
          697.4696044921875,
          697.1893310546875,
          697.209228515625,
          683.4248657226562,
          684.2579956054688,
          677.0198974609375,
          693.1878662109375,
          689.4088745117188,
          697.5621337890625,
          695.8261108398438,
          698.6236572265625,
          694.3056030273438,
          695.3623046875,
          688.6817016601562,
          693.0679931640625,
          690.3145751953125,
          689.099853515625,
          692.2027587890625,
          689.9564208984375,
          692.7570190429688,
          691.405029296875,
          684.77001953125,
          684.8372192382812,
          681.0995483398438,
          683.4723510742188,
          679.20654296875,
          680.5136108398438,
          681.8460083007812,
          682.0720825195312,
          683.233154296875,
          684.3737182617188,
          684.6919555664062,
          682.9929809570312,
          683.311767578125,
          682.3969116210938,
          682.4424438476562,
          691.8139038085938,
          691.2786865234375,
          696.1673583984375,
          695.62841796875,
          697.1804809570312,
          706.9739990234375,
          706.8147583007812,
          712.1637573242188,
          711.5438232421875,
          713.9085693359375,
          713.9973754882812,
          714.4749145507812,
          721.5377197265625,
          720.9191284179688,
          724.9617919921875,
          724.5802001953125,
          725.96337890625,
          725.9331665039062,
          726.3519287109375,
          726.533935546875,
          728.2420654296875,
          728.2939453125,
          730.1808471679688,
          731.6453247070312,
          728.1043090820312,
          711.2029418945312,
          709.3539428710938,
          703.0256958007812,
          694.4894409179688,
          692.9735717773438,
          688.7852172851562,
          688.2462768554688,
          686.4796142578125,
          687.24755859375,
          693.4141235351562,
          677.67236328125,
          682.956787109375,
          659.833251953125,
          663.6402587890625,
          652.16357421875,
          653.2990112304688,
          649.4810791015625,
          649.051025390625,
          656.7340698242188,
          652.3146362304688,
          656.9114990234375,
          651.1123657226562,
          649.1795043945312,
          649.1509399414062,
          643.9882202148438,
          653.38330078125,
          647.1848754882812,
          648.88623046875,
          646.8657836914062,
          645.3341064453125,
          646.7078857421875,
          644.3984985351562,
          646.08056640625,
          647.0151977539062,
          653.3561401367188,
          654.0887451171875,
          656.694091796875,
          656.90869140625,
          656.4011840820312,
          655.4413452148438,
          655.54736328125,
          656.8933715820312,
          657.040771484375,
          657.8386840820312,
          657.9756469726562,
          658.051025390625,
          658.1867065429688,
          664.7113037109375,
          675.2410278320312,
          677.9625854492188,
          683.4383544921875,
          684.1710205078125,
          686.3790893554688,
          686.74755859375,
          687.5953369140625,
          687.7891845703125,
          687.9392700195312,
          688.5465087890625,
          680.0685424804688,
          687.126220703125,
          681.6963500976562,
          684.4940795898438,
          682.143798828125,
          682.940185546875,
          682.920166015625,
          682.4021606445312,
          690.9048461914062,
          689.6637573242188,
          694.1549682617188,
          693.7399291992188,
          695.2378540039062,
          695.2855224609375,
          695.6890258789062,
          694.5330200195312,
          694.4619750976562,
          694.1076049804688,
          694.1898193359375,
          699.8990478515625,
          693.8084106445312,
          699.0550537109375,
          696.2123413085938,
          698.65625,
          697.5409545898438,
          698.2272338867188,
          698.1309814453125,
          697.8382568359375,
          698.376953125,
          698.2319946289062,
          698.2319946289062,
          699.967041015625,
          697.5193481445312,
          698.57421875,
          697.2435913085938,
          697.6534423828125,
          697.638427734375,
          697.9423828125,
          697.763916015625,
          698.2493896484375,
          697.9931640625,
          700.17431640625,
          698.8878784179688,
          699.3538818359375,
          701.9901123046875,
          702.0044555664062
         ]
        }
       ],
       "layout": {
        "height": 500,
        "template": {
         "data": {
          "bar": [
           {
            "error_x": {
             "color": "#2a3f5f"
            },
            "error_y": {
             "color": "#2a3f5f"
            },
            "marker": {
             "line": {
              "color": "#E5ECF6",
              "width": 0.5
             },
             "pattern": {
              "fillmode": "overlay",
              "size": 10,
              "solidity": 0.2
             }
            },
            "type": "bar"
           }
          ],
          "barpolar": [
           {
            "marker": {
             "line": {
              "color": "#E5ECF6",
              "width": 0.5
             },
             "pattern": {
              "fillmode": "overlay",
              "size": 10,
              "solidity": 0.2
             }
            },
            "type": "barpolar"
           }
          ],
          "carpet": [
           {
            "aaxis": {
             "endlinecolor": "#2a3f5f",
             "gridcolor": "white",
             "linecolor": "white",
             "minorgridcolor": "white",
             "startlinecolor": "#2a3f5f"
            },
            "baxis": {
             "endlinecolor": "#2a3f5f",
             "gridcolor": "white",
             "linecolor": "white",
             "minorgridcolor": "white",
             "startlinecolor": "#2a3f5f"
            },
            "type": "carpet"
           }
          ],
          "choropleth": [
           {
            "colorbar": {
             "outlinewidth": 0,
             "ticks": ""
            },
            "type": "choropleth"
           }
          ],
          "contour": [
           {
            "colorbar": {
             "outlinewidth": 0,
             "ticks": ""
            },
            "colorscale": [
             [
              0,
              "#0d0887"
             ],
             [
              0.1111111111111111,
              "#46039f"
             ],
             [
              0.2222222222222222,
              "#7201a8"
             ],
             [
              0.3333333333333333,
              "#9c179e"
             ],
             [
              0.4444444444444444,
              "#bd3786"
             ],
             [
              0.5555555555555556,
              "#d8576b"
             ],
             [
              0.6666666666666666,
              "#ed7953"
             ],
             [
              0.7777777777777778,
              "#fb9f3a"
             ],
             [
              0.8888888888888888,
              "#fdca26"
             ],
             [
              1,
              "#f0f921"
             ]
            ],
            "type": "contour"
           }
          ],
          "contourcarpet": [
           {
            "colorbar": {
             "outlinewidth": 0,
             "ticks": ""
            },
            "type": "contourcarpet"
           }
          ],
          "heatmap": [
           {
            "colorbar": {
             "outlinewidth": 0,
             "ticks": ""
            },
            "colorscale": [
             [
              0,
              "#0d0887"
             ],
             [
              0.1111111111111111,
              "#46039f"
             ],
             [
              0.2222222222222222,
              "#7201a8"
             ],
             [
              0.3333333333333333,
              "#9c179e"
             ],
             [
              0.4444444444444444,
              "#bd3786"
             ],
             [
              0.5555555555555556,
              "#d8576b"
             ],
             [
              0.6666666666666666,
              "#ed7953"
             ],
             [
              0.7777777777777778,
              "#fb9f3a"
             ],
             [
              0.8888888888888888,
              "#fdca26"
             ],
             [
              1,
              "#f0f921"
             ]
            ],
            "type": "heatmap"
           }
          ],
          "heatmapgl": [
           {
            "colorbar": {
             "outlinewidth": 0,
             "ticks": ""
            },
            "colorscale": [
             [
              0,
              "#0d0887"
             ],
             [
              0.1111111111111111,
              "#46039f"
             ],
             [
              0.2222222222222222,
              "#7201a8"
             ],
             [
              0.3333333333333333,
              "#9c179e"
             ],
             [
              0.4444444444444444,
              "#bd3786"
             ],
             [
              0.5555555555555556,
              "#d8576b"
             ],
             [
              0.6666666666666666,
              "#ed7953"
             ],
             [
              0.7777777777777778,
              "#fb9f3a"
             ],
             [
              0.8888888888888888,
              "#fdca26"
             ],
             [
              1,
              "#f0f921"
             ]
            ],
            "type": "heatmapgl"
           }
          ],
          "histogram": [
           {
            "marker": {
             "pattern": {
              "fillmode": "overlay",
              "size": 10,
              "solidity": 0.2
             }
            },
            "type": "histogram"
           }
          ],
          "histogram2d": [
           {
            "colorbar": {
             "outlinewidth": 0,
             "ticks": ""
            },
            "colorscale": [
             [
              0,
              "#0d0887"
             ],
             [
              0.1111111111111111,
              "#46039f"
             ],
             [
              0.2222222222222222,
              "#7201a8"
             ],
             [
              0.3333333333333333,
              "#9c179e"
             ],
             [
              0.4444444444444444,
              "#bd3786"
             ],
             [
              0.5555555555555556,
              "#d8576b"
             ],
             [
              0.6666666666666666,
              "#ed7953"
             ],
             [
              0.7777777777777778,
              "#fb9f3a"
             ],
             [
              0.8888888888888888,
              "#fdca26"
             ],
             [
              1,
              "#f0f921"
             ]
            ],
            "type": "histogram2d"
           }
          ],
          "histogram2dcontour": [
           {
            "colorbar": {
             "outlinewidth": 0,
             "ticks": ""
            },
            "colorscale": [
             [
              0,
              "#0d0887"
             ],
             [
              0.1111111111111111,
              "#46039f"
             ],
             [
              0.2222222222222222,
              "#7201a8"
             ],
             [
              0.3333333333333333,
              "#9c179e"
             ],
             [
              0.4444444444444444,
              "#bd3786"
             ],
             [
              0.5555555555555556,
              "#d8576b"
             ],
             [
              0.6666666666666666,
              "#ed7953"
             ],
             [
              0.7777777777777778,
              "#fb9f3a"
             ],
             [
              0.8888888888888888,
              "#fdca26"
             ],
             [
              1,
              "#f0f921"
             ]
            ],
            "type": "histogram2dcontour"
           }
          ],
          "mesh3d": [
           {
            "colorbar": {
             "outlinewidth": 0,
             "ticks": ""
            },
            "type": "mesh3d"
           }
          ],
          "parcoords": [
           {
            "line": {
             "colorbar": {
              "outlinewidth": 0,
              "ticks": ""
             }
            },
            "type": "parcoords"
           }
          ],
          "pie": [
           {
            "automargin": true,
            "type": "pie"
           }
          ],
          "scatter": [
           {
            "marker": {
             "colorbar": {
              "outlinewidth": 0,
              "ticks": ""
             }
            },
            "type": "scatter"
           }
          ],
          "scatter3d": [
           {
            "line": {
             "colorbar": {
              "outlinewidth": 0,
              "ticks": ""
             }
            },
            "marker": {
             "colorbar": {
              "outlinewidth": 0,
              "ticks": ""
             }
            },
            "type": "scatter3d"
           }
          ],
          "scattercarpet": [
           {
            "marker": {
             "colorbar": {
              "outlinewidth": 0,
              "ticks": ""
             }
            },
            "type": "scattercarpet"
           }
          ],
          "scattergeo": [
           {
            "marker": {
             "colorbar": {
              "outlinewidth": 0,
              "ticks": ""
             }
            },
            "type": "scattergeo"
           }
          ],
          "scattergl": [
           {
            "marker": {
             "colorbar": {
              "outlinewidth": 0,
              "ticks": ""
             }
            },
            "type": "scattergl"
           }
          ],
          "scattermapbox": [
           {
            "marker": {
             "colorbar": {
              "outlinewidth": 0,
              "ticks": ""
             }
            },
            "type": "scattermapbox"
           }
          ],
          "scatterpolar": [
           {
            "marker": {
             "colorbar": {
              "outlinewidth": 0,
              "ticks": ""
             }
            },
            "type": "scatterpolar"
           }
          ],
          "scatterpolargl": [
           {
            "marker": {
             "colorbar": {
              "outlinewidth": 0,
              "ticks": ""
             }
            },
            "type": "scatterpolargl"
           }
          ],
          "scatterternary": [
           {
            "marker": {
             "colorbar": {
              "outlinewidth": 0,
              "ticks": ""
             }
            },
            "type": "scatterternary"
           }
          ],
          "surface": [
           {
            "colorbar": {
             "outlinewidth": 0,
             "ticks": ""
            },
            "colorscale": [
             [
              0,
              "#0d0887"
             ],
             [
              0.1111111111111111,
              "#46039f"
             ],
             [
              0.2222222222222222,
              "#7201a8"
             ],
             [
              0.3333333333333333,
              "#9c179e"
             ],
             [
              0.4444444444444444,
              "#bd3786"
             ],
             [
              0.5555555555555556,
              "#d8576b"
             ],
             [
              0.6666666666666666,
              "#ed7953"
             ],
             [
              0.7777777777777778,
              "#fb9f3a"
             ],
             [
              0.8888888888888888,
              "#fdca26"
             ],
             [
              1,
              "#f0f921"
             ]
            ],
            "type": "surface"
           }
          ],
          "table": [
           {
            "cells": {
             "fill": {
              "color": "#EBF0F8"
             },
             "line": {
              "color": "white"
             }
            },
            "header": {
             "fill": {
              "color": "#C8D4E3"
             },
             "line": {
              "color": "white"
             }
            },
            "type": "table"
           }
          ]
         },
         "layout": {
          "annotationdefaults": {
           "arrowcolor": "#2a3f5f",
           "arrowhead": 0,
           "arrowwidth": 1
          },
          "autotypenumbers": "strict",
          "coloraxis": {
           "colorbar": {
            "outlinewidth": 0,
            "ticks": ""
           }
          },
          "colorscale": {
           "diverging": [
            [
             0,
             "#8e0152"
            ],
            [
             0.1,
             "#c51b7d"
            ],
            [
             0.2,
             "#de77ae"
            ],
            [
             0.3,
             "#f1b6da"
            ],
            [
             0.4,
             "#fde0ef"
            ],
            [
             0.5,
             "#f7f7f7"
            ],
            [
             0.6,
             "#e6f5d0"
            ],
            [
             0.7,
             "#b8e186"
            ],
            [
             0.8,
             "#7fbc41"
            ],
            [
             0.9,
             "#4d9221"
            ],
            [
             1,
             "#276419"
            ]
           ],
           "sequential": [
            [
             0,
             "#0d0887"
            ],
            [
             0.1111111111111111,
             "#46039f"
            ],
            [
             0.2222222222222222,
             "#7201a8"
            ],
            [
             0.3333333333333333,
             "#9c179e"
            ],
            [
             0.4444444444444444,
             "#bd3786"
            ],
            [
             0.5555555555555556,
             "#d8576b"
            ],
            [
             0.6666666666666666,
             "#ed7953"
            ],
            [
             0.7777777777777778,
             "#fb9f3a"
            ],
            [
             0.8888888888888888,
             "#fdca26"
            ],
            [
             1,
             "#f0f921"
            ]
           ],
           "sequentialminus": [
            [
             0,
             "#0d0887"
            ],
            [
             0.1111111111111111,
             "#46039f"
            ],
            [
             0.2222222222222222,
             "#7201a8"
            ],
            [
             0.3333333333333333,
             "#9c179e"
            ],
            [
             0.4444444444444444,
             "#bd3786"
            ],
            [
             0.5555555555555556,
             "#d8576b"
            ],
            [
             0.6666666666666666,
             "#ed7953"
            ],
            [
             0.7777777777777778,
             "#fb9f3a"
            ],
            [
             0.8888888888888888,
             "#fdca26"
            ],
            [
             1,
             "#f0f921"
            ]
           ]
          },
          "colorway": [
           "#636efa",
           "#EF553B",
           "#00cc96",
           "#ab63fa",
           "#FFA15A",
           "#19d3f3",
           "#FF6692",
           "#B6E880",
           "#FF97FF",
           "#FECB52"
          ],
          "font": {
           "color": "#2a3f5f"
          },
          "geo": {
           "bgcolor": "white",
           "lakecolor": "white",
           "landcolor": "#E5ECF6",
           "showlakes": true,
           "showland": true,
           "subunitcolor": "white"
          },
          "hoverlabel": {
           "align": "left"
          },
          "hovermode": "closest",
          "mapbox": {
           "style": "light"
          },
          "paper_bgcolor": "white",
          "plot_bgcolor": "#E5ECF6",
          "polar": {
           "angularaxis": {
            "gridcolor": "white",
            "linecolor": "white",
            "ticks": ""
           },
           "bgcolor": "#E5ECF6",
           "radialaxis": {
            "gridcolor": "white",
            "linecolor": "white",
            "ticks": ""
           }
          },
          "scene": {
           "xaxis": {
            "backgroundcolor": "#E5ECF6",
            "gridcolor": "white",
            "gridwidth": 2,
            "linecolor": "white",
            "showbackground": true,
            "ticks": "",
            "zerolinecolor": "white"
           },
           "yaxis": {
            "backgroundcolor": "#E5ECF6",
            "gridcolor": "white",
            "gridwidth": 2,
            "linecolor": "white",
            "showbackground": true,
            "ticks": "",
            "zerolinecolor": "white"
           },
           "zaxis": {
            "backgroundcolor": "#E5ECF6",
            "gridcolor": "white",
            "gridwidth": 2,
            "linecolor": "white",
            "showbackground": true,
            "ticks": "",
            "zerolinecolor": "white"
           }
          },
          "shapedefaults": {
           "line": {
            "color": "#2a3f5f"
           }
          },
          "ternary": {
           "aaxis": {
            "gridcolor": "white",
            "linecolor": "white",
            "ticks": ""
           },
           "baxis": {
            "gridcolor": "white",
            "linecolor": "white",
            "ticks": ""
           },
           "bgcolor": "#E5ECF6",
           "caxis": {
            "gridcolor": "white",
            "linecolor": "white",
            "ticks": ""
           }
          },
          "title": {
           "x": 0.05
          },
          "xaxis": {
           "automargin": true,
           "gridcolor": "white",
           "linecolor": "white",
           "ticks": "",
           "title": {
            "standoff": 15
           },
           "zerolinecolor": "white",
           "zerolinewidth": 2
          },
          "yaxis": {
           "automargin": true,
           "gridcolor": "white",
           "linecolor": "white",
           "ticks": "",
           "title": {
            "standoff": 15
           },
           "zerolinecolor": "white",
           "zerolinewidth": 2
          }
         }
        },
        "title": {
         "text": "Adj Close Prediction of Audi"
        }
       }
      }
     },
     "metadata": {}
    }
   ],
   "metadata": {}
  }
 ],
 "metadata": {
  "orig_nbformat": 4,
  "language_info": {
   "name": "python",
   "version": "3.9.6",
   "mimetype": "text/x-python",
   "codemirror_mode": {
    "name": "ipython",
    "version": 3
   },
   "pygments_lexer": "ipython3",
   "nbconvert_exporter": "python",
   "file_extension": ".py"
  },
  "kernelspec": {
   "name": "python3",
   "display_name": "Python 3.9.6 64-bit ('Drill_DL_TF': conda)"
  },
  "interpreter": {
   "hash": "919cf3ae0e9712d87b63b1e10ff40154688c8cbaba6389820679510ec494ce74"
  }
 },
 "nbformat": 4,
 "nbformat_minor": 2
}