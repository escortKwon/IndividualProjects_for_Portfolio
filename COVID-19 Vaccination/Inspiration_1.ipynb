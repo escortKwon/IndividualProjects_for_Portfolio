{
 "cells": [
  {
   "cell_type": "code",
   "execution_count": 1,
   "metadata": {
    "collapsed": true
   },
   "outputs": [],
   "source": [
    "# COVID-19 Vaccination\n",
    "# Inspiration 1\n",
    "# Which country is using what vaccine?"
   ]
  },
  {
   "cell_type": "code",
   "execution_count": 2,
   "outputs": [],
   "source": [
    "import numpy as np\n",
    "import pandas as pd\n",
    "import matplotlib.pyplot as plt\n",
    "import plotly.express as px\n",
    "import plotly.graph_objects as go\n",
    "import seaborn as sns"
   ],
   "metadata": {
    "collapsed": false,
    "pycharm": {
     "name": "#%%\n"
    }
   }
  },
  {
   "cell_type": "code",
   "execution_count": 3,
   "outputs": [
    {
     "data": {
      "text/plain": "   country iso_code        date  total_vaccinations  people_vaccinated  \\\n0  Algeria      DZA  2021-01-29                 0.0                NaN   \n1  Algeria      DZA  2021-01-30                30.0                NaN   \n2  Andorra      AND  2021-01-25               576.0              576.0   \n3  Andorra      AND  2021-01-26                 NaN                NaN   \n4  Andorra      AND  2021-01-27                 NaN                NaN   \n\n   people_fully_vaccinated  daily_vaccinations_raw  daily_vaccinations  \\\n0                      NaN                     NaN                 NaN   \n1                      NaN                    30.0                30.0   \n2                      NaN                     NaN                 NaN   \n3                      NaN                     NaN                66.0   \n4                      NaN                     NaN                66.0   \n\n   total_vaccinations_per_hundred  people_vaccinated_per_hundred  \\\n0                            0.00                            NaN   \n1                            0.00                            NaN   \n2                            0.75                           0.75   \n3                             NaN                            NaN   \n4                             NaN                            NaN   \n\n   people_fully_vaccinated_per_hundred  daily_vaccinations_per_million  \\\n0                                  NaN                             NaN   \n1                                  NaN                             1.0   \n2                                  NaN                             NaN   \n3                                  NaN                           854.0   \n4                                  NaN                           854.0   \n\n          vaccines            source_name  \\\n0        Sputnik V     Ministry of Health   \n1        Sputnik V     Ministry of Health   \n2  Pfizer/BioNTech  Government of Andorra   \n3  Pfizer/BioNTech  Government of Andorra   \n4  Pfizer/BioNTech  Government of Andorra   \n\n                                      source_website  \n0  https://www.aps.dz/regions/116777-blida-covid-...  \n1  https://www.aps.dz/regions/116777-blida-covid-...  \n2  https://www.govern.ad/comunicats/item/12379-se...  \n3  https://www.govern.ad/comunicats/item/12379-se...  \n4  https://www.govern.ad/comunicats/item/12379-se...  ",
      "text/html": "<div>\n<style scoped>\n    .dataframe tbody tr th:only-of-type {\n        vertical-align: middle;\n    }\n\n    .dataframe tbody tr th {\n        vertical-align: top;\n    }\n\n    .dataframe thead th {\n        text-align: right;\n    }\n</style>\n<table border=\"1\" class=\"dataframe\">\n  <thead>\n    <tr style=\"text-align: right;\">\n      <th></th>\n      <th>country</th>\n      <th>iso_code</th>\n      <th>date</th>\n      <th>total_vaccinations</th>\n      <th>people_vaccinated</th>\n      <th>people_fully_vaccinated</th>\n      <th>daily_vaccinations_raw</th>\n      <th>daily_vaccinations</th>\n      <th>total_vaccinations_per_hundred</th>\n      <th>people_vaccinated_per_hundred</th>\n      <th>people_fully_vaccinated_per_hundred</th>\n      <th>daily_vaccinations_per_million</th>\n      <th>vaccines</th>\n      <th>source_name</th>\n      <th>source_website</th>\n    </tr>\n  </thead>\n  <tbody>\n    <tr>\n      <th>0</th>\n      <td>Algeria</td>\n      <td>DZA</td>\n      <td>2021-01-29</td>\n      <td>0.0</td>\n      <td>NaN</td>\n      <td>NaN</td>\n      <td>NaN</td>\n      <td>NaN</td>\n      <td>0.00</td>\n      <td>NaN</td>\n      <td>NaN</td>\n      <td>NaN</td>\n      <td>Sputnik V</td>\n      <td>Ministry of Health</td>\n      <td>https://www.aps.dz/regions/116777-blida-covid-...</td>\n    </tr>\n    <tr>\n      <th>1</th>\n      <td>Algeria</td>\n      <td>DZA</td>\n      <td>2021-01-30</td>\n      <td>30.0</td>\n      <td>NaN</td>\n      <td>NaN</td>\n      <td>30.0</td>\n      <td>30.0</td>\n      <td>0.00</td>\n      <td>NaN</td>\n      <td>NaN</td>\n      <td>1.0</td>\n      <td>Sputnik V</td>\n      <td>Ministry of Health</td>\n      <td>https://www.aps.dz/regions/116777-blida-covid-...</td>\n    </tr>\n    <tr>\n      <th>2</th>\n      <td>Andorra</td>\n      <td>AND</td>\n      <td>2021-01-25</td>\n      <td>576.0</td>\n      <td>576.0</td>\n      <td>NaN</td>\n      <td>NaN</td>\n      <td>NaN</td>\n      <td>0.75</td>\n      <td>0.75</td>\n      <td>NaN</td>\n      <td>NaN</td>\n      <td>Pfizer/BioNTech</td>\n      <td>Government of Andorra</td>\n      <td>https://www.govern.ad/comunicats/item/12379-se...</td>\n    </tr>\n    <tr>\n      <th>3</th>\n      <td>Andorra</td>\n      <td>AND</td>\n      <td>2021-01-26</td>\n      <td>NaN</td>\n      <td>NaN</td>\n      <td>NaN</td>\n      <td>NaN</td>\n      <td>66.0</td>\n      <td>NaN</td>\n      <td>NaN</td>\n      <td>NaN</td>\n      <td>854.0</td>\n      <td>Pfizer/BioNTech</td>\n      <td>Government of Andorra</td>\n      <td>https://www.govern.ad/comunicats/item/12379-se...</td>\n    </tr>\n    <tr>\n      <th>4</th>\n      <td>Andorra</td>\n      <td>AND</td>\n      <td>2021-01-27</td>\n      <td>NaN</td>\n      <td>NaN</td>\n      <td>NaN</td>\n      <td>NaN</td>\n      <td>66.0</td>\n      <td>NaN</td>\n      <td>NaN</td>\n      <td>NaN</td>\n      <td>854.0</td>\n      <td>Pfizer/BioNTech</td>\n      <td>Government of Andorra</td>\n      <td>https://www.govern.ad/comunicats/item/12379-se...</td>\n    </tr>\n  </tbody>\n</table>\n</div>"
     },
     "execution_count": 3,
     "metadata": {},
     "output_type": "execute_result"
    }
   ],
   "source": [
    "# Open and read data source\n",
    "vaccine_df = pd.read_csv('country_vaccinations.csv')\n",
    "vaccine_df.head()"
   ],
   "metadata": {
    "collapsed": false,
    "pycharm": {
     "name": "#%%\n"
    }
   }
  },
  {
   "cell_type": "code",
   "execution_count": 4,
   "outputs": [
    {
     "data": {
      "text/plain": "   country iso_code        date  total_vaccinations  people_vaccinated  \\\n0  Algeria      DZA  2021-01-29                 0.0                NaN   \n1  Algeria      DZA  2021-01-30                30.0                NaN   \n2  Andorra      AND  2021-01-25               576.0              576.0   \n\n   people_fully_vaccinated  daily_vaccinations_raw  daily_vaccinations  \\\n0                      NaN                     NaN                 NaN   \n1                      NaN                    30.0                30.0   \n2                      NaN                     NaN                 NaN   \n\n   total_vaccinations_per_hundred  people_vaccinated_per_hundred  \\\n0                            0.00                            NaN   \n1                            0.00                            NaN   \n2                            0.75                           0.75   \n\n   people_fully_vaccinated_per_hundred  daily_vaccinations_per_million  \\\n0                                  NaN                             NaN   \n1                                  NaN                             1.0   \n2                                  NaN                             NaN   \n\n          vaccines  \n0        Sputnik V  \n1        Sputnik V  \n2  Pfizer/BioNTech  ",
      "text/html": "<div>\n<style scoped>\n    .dataframe tbody tr th:only-of-type {\n        vertical-align: middle;\n    }\n\n    .dataframe tbody tr th {\n        vertical-align: top;\n    }\n\n    .dataframe thead th {\n        text-align: right;\n    }\n</style>\n<table border=\"1\" class=\"dataframe\">\n  <thead>\n    <tr style=\"text-align: right;\">\n      <th></th>\n      <th>country</th>\n      <th>iso_code</th>\n      <th>date</th>\n      <th>total_vaccinations</th>\n      <th>people_vaccinated</th>\n      <th>people_fully_vaccinated</th>\n      <th>daily_vaccinations_raw</th>\n      <th>daily_vaccinations</th>\n      <th>total_vaccinations_per_hundred</th>\n      <th>people_vaccinated_per_hundred</th>\n      <th>people_fully_vaccinated_per_hundred</th>\n      <th>daily_vaccinations_per_million</th>\n      <th>vaccines</th>\n    </tr>\n  </thead>\n  <tbody>\n    <tr>\n      <th>0</th>\n      <td>Algeria</td>\n      <td>DZA</td>\n      <td>2021-01-29</td>\n      <td>0.0</td>\n      <td>NaN</td>\n      <td>NaN</td>\n      <td>NaN</td>\n      <td>NaN</td>\n      <td>0.00</td>\n      <td>NaN</td>\n      <td>NaN</td>\n      <td>NaN</td>\n      <td>Sputnik V</td>\n    </tr>\n    <tr>\n      <th>1</th>\n      <td>Algeria</td>\n      <td>DZA</td>\n      <td>2021-01-30</td>\n      <td>30.0</td>\n      <td>NaN</td>\n      <td>NaN</td>\n      <td>30.0</td>\n      <td>30.0</td>\n      <td>0.00</td>\n      <td>NaN</td>\n      <td>NaN</td>\n      <td>1.0</td>\n      <td>Sputnik V</td>\n    </tr>\n    <tr>\n      <th>2</th>\n      <td>Andorra</td>\n      <td>AND</td>\n      <td>2021-01-25</td>\n      <td>576.0</td>\n      <td>576.0</td>\n      <td>NaN</td>\n      <td>NaN</td>\n      <td>NaN</td>\n      <td>0.75</td>\n      <td>0.75</td>\n      <td>NaN</td>\n      <td>NaN</td>\n      <td>Pfizer/BioNTech</td>\n    </tr>\n  </tbody>\n</table>\n</div>"
     },
     "execution_count": 4,
     "metadata": {},
     "output_type": "execute_result"
    }
   ],
   "source": [
    "# Delete 'source_name', 'source_website' column because we don't need it\n",
    "vaccine_df.drop(['source_name', 'source_website'], axis=1, inplace=True)\n",
    "vaccine_df.head(3)"
   ],
   "metadata": {
    "collapsed": false,
    "pycharm": {
     "name": "#%%\n"
    }
   }
  },
  {
   "cell_type": "code",
   "execution_count": 5,
   "outputs": [
    {
     "data": {
      "text/plain": "country                                   0\niso_code                                236\ndate                                      0\ntotal_vaccinations                      916\npeople_vaccinated                      1226\npeople_fully_vaccinated                1795\ndaily_vaccinations_raw                 1226\ndaily_vaccinations                      104\ntotal_vaccinations_per_hundred          916\npeople_vaccinated_per_hundred          1226\npeople_fully_vaccinated_per_hundred    1795\ndaily_vaccinations_per_million          104\nvaccines                                  0\ndtype: int64"
     },
     "execution_count": 5,
     "metadata": {},
     "output_type": "execute_result"
    }
   ],
   "source": [
    "vaccine_df.isnull().sum(axis=0)"
   ],
   "metadata": {
    "collapsed": false,
    "pycharm": {
     "name": "#%%\n"
    }
   }
  },
  {
   "cell_type": "code",
   "execution_count": 10,
   "outputs": [],
   "source": [],
   "metadata": {
    "collapsed": false,
    "pycharm": {
     "name": "#%%\n"
    }
   }
  }
 ],
 "metadata": {
  "kernelspec": {
   "display_name": "Python 3",
   "language": "python",
   "name": "python3"
  },
  "language_info": {
   "codemirror_mode": {
    "name": "ipython",
    "version": 2
   },
   "file_extension": ".py",
   "mimetype": "text/x-python",
   "name": "python",
   "nbconvert_exporter": "python",
   "pygments_lexer": "ipython2",
   "version": "2.7.6"
  }
 },
 "nbformat": 4,
 "nbformat_minor": 0
}