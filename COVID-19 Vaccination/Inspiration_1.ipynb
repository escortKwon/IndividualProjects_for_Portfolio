{
 "cells": [
  {
   "cell_type": "code",
   "execution_count": 8,
   "metadata": {
    "collapsed": true
   },
   "outputs": [],
   "source": [
    "# COVID-19 Vaccination\n",
    "# Inspiration 1\n",
    "# Which country is using what vaccine?"
   ]
  },
  {
   "cell_type": "code",
   "execution_count": 9,
   "outputs": [],
   "source": [
    "import numpy as np\n",
    "import pandas as pd\n",
    "import matplotlib.pyplot as plt"
   ],
   "metadata": {
    "collapsed": false,
    "pycharm": {
     "name": "#%%\n"
    }
   }
  },
  {
   "cell_type": "code",
   "execution_count": 10,
   "outputs": [],
   "source": [
    "# Open and read data source\n",
    "vaccine_df = pd.read_csv('country_vaccinations.csv')"
   ],
   "metadata": {
    "collapsed": false,
    "pycharm": {
     "name": "#%%\n"
    }
   }
  },
  {
   "cell_type": "code",
   "execution_count": 11,
   "outputs": [
    {
     "name": "stdout",
     "output_type": "stream",
     "text": [
      "country                                   0\n",
      "iso_code                                229\n",
      "date                                      0\n",
      "total_vaccinations                      843\n",
      "people_vaccinated                      1115\n",
      "people_fully_vaccinated                1662\n",
      "daily_vaccinations_raw                 1130\n",
      "daily_vaccinations                       97\n",
      "total_vaccinations_per_hundred          843\n",
      "people_vaccinated_per_hundred          1115\n",
      "people_fully_vaccinated_per_hundred    1662\n",
      "daily_vaccinations_per_million           97\n",
      "vaccines                                  0\n",
      "source_name                               0\n",
      "source_website                            0\n",
      "dtype: int64\n"
     ]
    }
   ],
   "source": [
    "# Analyze\n",
    "print(vaccine_df.isna().sum())\n",
    "array_country_na = vaccine_df[vaccine_df['iso_code'].isna()].country.unique()\n",
    "array_iso_code_na = ['GB-ENG', 'NC', 'GB-NIR', 'GB-SCT', 'GB-WLS']"
   ],
   "metadata": {
    "collapsed": false,
    "pycharm": {
     "name": "#%%\n"
    }
   }
  },
  {
   "cell_type": "code",
   "execution_count": 12,
   "outputs": [
    {
     "ename": "TypeError",
     "evalue": "\"value\" parameter must be a scalar or dict, but you passed a \"list\"",
     "output_type": "error",
     "traceback": [
      "\u001B[0;31m---------------------------------------------------------------------------\u001B[0m",
      "\u001B[0;31mTypeError\u001B[0m                                 Traceback (most recent call last)",
      "\u001B[0;32m<ipython-input-12-a15074e32972>\u001B[0m in \u001B[0;36m<module>\u001B[0;34m\u001B[0m\n\u001B[1;32m      1\u001B[0m \u001B[0;32mfor\u001B[0m \u001B[0mcountry_na\u001B[0m \u001B[0;32min\u001B[0m \u001B[0marray_country_na\u001B[0m\u001B[0;34m:\u001B[0m\u001B[0;34m\u001B[0m\u001B[0;34m\u001B[0m\u001B[0m\n\u001B[1;32m      2\u001B[0m     \u001B[0;32mfor\u001B[0m \u001B[0miso_code_na\u001B[0m \u001B[0;32min\u001B[0m \u001B[0marray_iso_code_na\u001B[0m\u001B[0;34m:\u001B[0m\u001B[0;34m\u001B[0m\u001B[0;34m\u001B[0m\u001B[0m\n\u001B[0;32m----> 3\u001B[0;31m         \u001B[0mvaccine_df\u001B[0m\u001B[0;34m.\u001B[0m\u001B[0mloc\u001B[0m\u001B[0;34m[\u001B[0m\u001B[0mvaccine_df\u001B[0m\u001B[0;34m.\u001B[0m\u001B[0mcountry\u001B[0m \u001B[0;34m==\u001B[0m \u001B[0mcountry_na\u001B[0m\u001B[0;34m]\u001B[0m \u001B[0;34m=\u001B[0m \u001B[0mvaccine_df\u001B[0m\u001B[0;34m.\u001B[0m\u001B[0mloc\u001B[0m\u001B[0;34m[\u001B[0m\u001B[0mvaccine_df\u001B[0m\u001B[0;34m.\u001B[0m\u001B[0mcountry\u001B[0m \u001B[0;34m==\u001B[0m \u001B[0mcountry_na\u001B[0m\u001B[0;34m]\u001B[0m\u001B[0;34m.\u001B[0m\u001B[0mfillna\u001B[0m\u001B[0;34m(\u001B[0m\u001B[0;34m{\u001B[0m\u001B[0;34m'iso_code'\u001B[0m \u001B[0;34m:\u001B[0m \u001B[0marray_iso_code_na\u001B[0m\u001B[0;34m}\u001B[0m\u001B[0;34m)\u001B[0m\u001B[0;34m\u001B[0m\u001B[0;34m\u001B[0m\u001B[0m\n\u001B[0m",
      "\u001B[0;32m~/opt/anaconda3/envs/Portfolio_Project_2021/lib/python3.8/site-packages/pandas/core/frame.py\u001B[0m in \u001B[0;36mfillna\u001B[0;34m(self, value, method, axis, inplace, limit, downcast)\u001B[0m\n\u001B[1;32m   4457\u001B[0m         \u001B[0mdowncast\u001B[0m\u001B[0;34m=\u001B[0m\u001B[0;32mNone\u001B[0m\u001B[0;34m,\u001B[0m\u001B[0;34m\u001B[0m\u001B[0;34m\u001B[0m\u001B[0m\n\u001B[1;32m   4458\u001B[0m     ) -> Optional[DataFrame]:\n\u001B[0;32m-> 4459\u001B[0;31m         return super().fillna(\n\u001B[0m\u001B[1;32m   4460\u001B[0m             \u001B[0mvalue\u001B[0m\u001B[0;34m=\u001B[0m\u001B[0mvalue\u001B[0m\u001B[0;34m,\u001B[0m\u001B[0;34m\u001B[0m\u001B[0;34m\u001B[0m\u001B[0m\n\u001B[1;32m   4461\u001B[0m             \u001B[0mmethod\u001B[0m\u001B[0;34m=\u001B[0m\u001B[0mmethod\u001B[0m\u001B[0;34m,\u001B[0m\u001B[0;34m\u001B[0m\u001B[0;34m\u001B[0m\u001B[0m\n",
      "\u001B[0;32m~/opt/anaconda3/envs/Portfolio_Project_2021/lib/python3.8/site-packages/pandas/core/generic.py\u001B[0m in \u001B[0;36mfillna\u001B[0;34m(self, value, method, axis, inplace, limit, downcast)\u001B[0m\n\u001B[1;32m   6420\u001B[0m                         \u001B[0;32mcontinue\u001B[0m\u001B[0;34m\u001B[0m\u001B[0;34m\u001B[0m\u001B[0m\n\u001B[1;32m   6421\u001B[0m                     \u001B[0mobj\u001B[0m \u001B[0;34m=\u001B[0m \u001B[0mresult\u001B[0m\u001B[0;34m[\u001B[0m\u001B[0mk\u001B[0m\u001B[0;34m]\u001B[0m\u001B[0;34m\u001B[0m\u001B[0;34m\u001B[0m\u001B[0m\n\u001B[0;32m-> 6422\u001B[0;31m                     \u001B[0mobj\u001B[0m\u001B[0;34m.\u001B[0m\u001B[0mfillna\u001B[0m\u001B[0;34m(\u001B[0m\u001B[0mv\u001B[0m\u001B[0;34m,\u001B[0m \u001B[0mlimit\u001B[0m\u001B[0;34m=\u001B[0m\u001B[0mlimit\u001B[0m\u001B[0;34m,\u001B[0m \u001B[0minplace\u001B[0m\u001B[0;34m=\u001B[0m\u001B[0;32mTrue\u001B[0m\u001B[0;34m,\u001B[0m \u001B[0mdowncast\u001B[0m\u001B[0;34m=\u001B[0m\u001B[0mdowncast\u001B[0m\u001B[0;34m)\u001B[0m\u001B[0;34m\u001B[0m\u001B[0;34m\u001B[0m\u001B[0m\n\u001B[0m\u001B[1;32m   6423\u001B[0m                 \u001B[0;32mreturn\u001B[0m \u001B[0mresult\u001B[0m \u001B[0;32mif\u001B[0m \u001B[0;32mnot\u001B[0m \u001B[0minplace\u001B[0m \u001B[0;32melse\u001B[0m \u001B[0;32mNone\u001B[0m\u001B[0;34m\u001B[0m\u001B[0;34m\u001B[0m\u001B[0m\n\u001B[1;32m   6424\u001B[0m \u001B[0;34m\u001B[0m\u001B[0m\n",
      "\u001B[0;32m~/opt/anaconda3/envs/Portfolio_Project_2021/lib/python3.8/site-packages/pandas/core/series.py\u001B[0m in \u001B[0;36mfillna\u001B[0;34m(self, value, method, axis, inplace, limit, downcast)\u001B[0m\n\u001B[1;32m   4431\u001B[0m         \u001B[0mdowncast\u001B[0m\u001B[0;34m=\u001B[0m\u001B[0;32mNone\u001B[0m\u001B[0;34m,\u001B[0m\u001B[0;34m\u001B[0m\u001B[0;34m\u001B[0m\u001B[0m\n\u001B[1;32m   4432\u001B[0m     ) -> Optional[\"Series\"]:\n\u001B[0;32m-> 4433\u001B[0;31m         return super().fillna(\n\u001B[0m\u001B[1;32m   4434\u001B[0m             \u001B[0mvalue\u001B[0m\u001B[0;34m=\u001B[0m\u001B[0mvalue\u001B[0m\u001B[0;34m,\u001B[0m\u001B[0;34m\u001B[0m\u001B[0;34m\u001B[0m\u001B[0m\n\u001B[1;32m   4435\u001B[0m             \u001B[0mmethod\u001B[0m\u001B[0;34m=\u001B[0m\u001B[0mmethod\u001B[0m\u001B[0;34m,\u001B[0m\u001B[0;34m\u001B[0m\u001B[0;34m\u001B[0m\u001B[0m\n",
      "\u001B[0;32m~/opt/anaconda3/envs/Portfolio_Project_2021/lib/python3.8/site-packages/pandas/core/generic.py\u001B[0m in \u001B[0;36mfillna\u001B[0;34m(self, value, method, axis, inplace, limit, downcast)\u001B[0m\n\u001B[1;32m   6357\u001B[0m         \"\"\"\n\u001B[1;32m   6358\u001B[0m         \u001B[0minplace\u001B[0m \u001B[0;34m=\u001B[0m \u001B[0mvalidate_bool_kwarg\u001B[0m\u001B[0;34m(\u001B[0m\u001B[0minplace\u001B[0m\u001B[0;34m,\u001B[0m \u001B[0;34m\"inplace\"\u001B[0m\u001B[0;34m)\u001B[0m\u001B[0;34m\u001B[0m\u001B[0;34m\u001B[0m\u001B[0m\n\u001B[0;32m-> 6359\u001B[0;31m         \u001B[0mvalue\u001B[0m\u001B[0;34m,\u001B[0m \u001B[0mmethod\u001B[0m \u001B[0;34m=\u001B[0m \u001B[0mvalidate_fillna_kwargs\u001B[0m\u001B[0;34m(\u001B[0m\u001B[0mvalue\u001B[0m\u001B[0;34m,\u001B[0m \u001B[0mmethod\u001B[0m\u001B[0;34m)\u001B[0m\u001B[0;34m\u001B[0m\u001B[0;34m\u001B[0m\u001B[0m\n\u001B[0m\u001B[1;32m   6360\u001B[0m \u001B[0;34m\u001B[0m\u001B[0m\n\u001B[1;32m   6361\u001B[0m         \u001B[0mself\u001B[0m\u001B[0;34m.\u001B[0m\u001B[0m_consolidate_inplace\u001B[0m\u001B[0;34m(\u001B[0m\u001B[0;34m)\u001B[0m\u001B[0;34m\u001B[0m\u001B[0;34m\u001B[0m\u001B[0m\n",
      "\u001B[0;32m~/opt/anaconda3/envs/Portfolio_Project_2021/lib/python3.8/site-packages/pandas/util/_validators.py\u001B[0m in \u001B[0;36mvalidate_fillna_kwargs\u001B[0;34m(value, method, validate_scalar_dict_value)\u001B[0m\n\u001B[1;32m    339\u001B[0m     \u001B[0;32melif\u001B[0m \u001B[0mvalue\u001B[0m \u001B[0;32mis\u001B[0m \u001B[0;32mnot\u001B[0m \u001B[0;32mNone\u001B[0m \u001B[0;32mand\u001B[0m \u001B[0mmethod\u001B[0m \u001B[0;32mis\u001B[0m \u001B[0;32mNone\u001B[0m\u001B[0;34m:\u001B[0m\u001B[0;34m\u001B[0m\u001B[0;34m\u001B[0m\u001B[0m\n\u001B[1;32m    340\u001B[0m         \u001B[0;32mif\u001B[0m \u001B[0mvalidate_scalar_dict_value\u001B[0m \u001B[0;32mand\u001B[0m \u001B[0misinstance\u001B[0m\u001B[0;34m(\u001B[0m\u001B[0mvalue\u001B[0m\u001B[0;34m,\u001B[0m \u001B[0;34m(\u001B[0m\u001B[0mlist\u001B[0m\u001B[0;34m,\u001B[0m \u001B[0mtuple\u001B[0m\u001B[0;34m)\u001B[0m\u001B[0;34m)\u001B[0m\u001B[0;34m:\u001B[0m\u001B[0;34m\u001B[0m\u001B[0;34m\u001B[0m\u001B[0m\n\u001B[0;32m--> 341\u001B[0;31m             raise TypeError(\n\u001B[0m\u001B[1;32m    342\u001B[0m                 \u001B[0;34m'\"value\" parameter must be a scalar or dict, but '\u001B[0m\u001B[0;34m\u001B[0m\u001B[0;34m\u001B[0m\u001B[0m\n\u001B[1;32m    343\u001B[0m                 \u001B[0;34mf'you passed a \"{type(value).__name__}\"'\u001B[0m\u001B[0;34m\u001B[0m\u001B[0;34m\u001B[0m\u001B[0m\n",
      "\u001B[0;31mTypeError\u001B[0m: \"value\" parameter must be a scalar or dict, but you passed a \"list\""
     ]
    }
   ],
   "source": [
    "for country_na in array_country_na:\n",
    "    for iso_code_na in array_iso_code_na:\n",
    "        vaccine_df.loc[vaccine_df.country == country_na] = vaccine_df.loc[vaccine_df.country == country_na].fillna({'iso_code' : array_iso_code_na})"
   ],
   "metadata": {
    "collapsed": false,
    "pycharm": {
     "name": "#%%\n"
    }
   }
  }
 ],
 "metadata": {
  "kernelspec": {
   "display_name": "Python 3",
   "language": "python",
   "name": "python3"
  },
  "language_info": {
   "codemirror_mode": {
    "name": "ipython",
    "version": 2
   },
   "file_extension": ".py",
   "mimetype": "text/x-python",
   "name": "python",
   "nbconvert_exporter": "python",
   "pygments_lexer": "ipython2",
   "version": "2.7.6"
  }
 },
 "nbformat": 4,
 "nbformat_minor": 0
}