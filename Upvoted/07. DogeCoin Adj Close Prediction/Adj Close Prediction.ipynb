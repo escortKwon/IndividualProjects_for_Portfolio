{
 "cells": [
  {
   "cell_type": "markdown",
   "source": [
    "# Outline\n",
    "Goal: Predict 'Adj Close' as target with features as follows: 'Open', 'High', 'Low', 'Close' and 'Volume'"
   ],
   "metadata": {
    "papermill": {
     "duration": 0.018979,
     "end_time": "2021-08-24T15:46:56.622498",
     "exception": false,
     "start_time": "2021-08-24T15:46:56.603519",
     "status": "completed"
    },
    "tags": []
   }
  },
  {
   "cell_type": "markdown",
   "source": [
    "# Import libraries and data"
   ],
   "metadata": {
    "papermill": {
     "duration": 0.022087,
     "end_time": "2021-08-24T15:46:56.664094",
     "exception": false,
     "start_time": "2021-08-24T15:46:56.642007",
     "status": "completed"
    },
    "tags": []
   }
  },
  {
   "cell_type": "code",
   "execution_count": 1,
   "source": [
    "# Import basic libraries\n",
    "import numpy as np\n",
    "import pandas as pd\n",
    "import matplotlib.pyplot as plt\n",
    "import seaborn as sns\n",
    "import plotly\n",
    "import plotly.express as px\n",
    "from plotly.offline import plot\n",
    "\n",
    "from sklearn.model_selection import train_test_split\n",
    "from sklearn.preprocessing import MinMaxScaler\n",
    "\n",
    "import tensorflow as tf\n",
    "from tensorflow import keras\n",
    "from tensorflow.keras.models import Sequential\n",
    "from tensorflow.keras.layers import Dense, SimpleRNN, LSTM, GRU"
   ],
   "outputs": [
    {
     "output_type": "stream",
     "name": "stdout",
     "text": [
      "Init Plugin\n",
      "Init Graph Optimizer\n",
      "Init Kernel\n"
     ]
    }
   ],
   "metadata": {
    "execution": {
     "iopub.execute_input": "2021-08-24T15:46:56.715626Z",
     "iopub.status.busy": "2021-08-24T15:46:56.714798Z",
     "iopub.status.idle": "2021-08-24T15:47:04.296114Z",
     "shell.execute_reply": "2021-08-24T15:47:04.295501Z",
     "shell.execute_reply.started": "2021-08-24T15:45:16.141656Z"
    },
    "papermill": {
     "duration": 7.609539,
     "end_time": "2021-08-24T15:47:04.296269",
     "exception": false,
     "start_time": "2021-08-24T15:46:56.686730",
     "status": "completed"
    },
    "tags": []
   }
  },
  {
   "cell_type": "code",
   "execution_count": 2,
   "source": [
    "# Unzip archive\n",
    "!unzip -o archive.zip"
   ],
   "outputs": [
    {
     "output_type": "stream",
     "name": "stdout",
     "text": [
      "Archive:  archive.zip\n",
      "  inflating: Daily-DOGE-USD.csv      \n",
      "  inflating: Weekly-DOGE-USD.csv     \n"
     ]
    }
   ],
   "metadata": {}
  },
  {
   "cell_type": "code",
   "execution_count": 3,
   "source": [
    "# Load data\n",
    "doge = pd.read_csv('Daily-DOGE-USD.csv')\n",
    "doge"
   ],
   "outputs": [
    {
     "output_type": "execute_result",
     "data": {
      "text/plain": [
       "            Date      Open      High       Low     Close  Adj Close  \\\n",
       "0     2017-08-24  0.001731  0.001845  0.001722  0.001816   0.001816   \n",
       "1     2017-08-25  0.001808  0.001830  0.001762  0.001790   0.001790   \n",
       "2     2017-08-26  0.001787  0.001797  0.001735  0.001778   0.001778   \n",
       "3     2017-08-27  0.001779  0.001784  0.001745  0.001760   0.001760   \n",
       "4     2017-08-28  0.001764  0.001825  0.001751  0.001825   0.001825   \n",
       "...          ...       ...       ...       ...       ...        ...   \n",
       "1457  2021-08-20  0.317571  0.333223  0.314142  0.327491   0.327491   \n",
       "1458  2021-08-21  0.327395  0.329356  0.315433  0.316797   0.316797   \n",
       "1459  2021-08-22  0.317085  0.321541  0.306546  0.314963   0.314963   \n",
       "1460  2021-08-23  0.314926  0.328094  0.313368  0.317914   0.317914   \n",
       "1461  2021-08-24  0.317984  0.319460  0.311619  0.312391   0.312391   \n",
       "\n",
       "            Volume  \n",
       "0     4.796720e+06  \n",
       "1     2.654040e+06  \n",
       "2     1.935350e+06  \n",
       "3     2.241620e+06  \n",
       "4     3.210440e+06  \n",
       "...            ...  \n",
       "1457  3.512291e+09  \n",
       "1458  2.600397e+09  \n",
       "1459  2.237836e+09  \n",
       "1460  2.836629e+09  \n",
       "1461  2.088121e+09  \n",
       "\n",
       "[1462 rows x 7 columns]"
      ],
      "text/html": [
       "<div>\n",
       "<style scoped>\n",
       "    .dataframe tbody tr th:only-of-type {\n",
       "        vertical-align: middle;\n",
       "    }\n",
       "\n",
       "    .dataframe tbody tr th {\n",
       "        vertical-align: top;\n",
       "    }\n",
       "\n",
       "    .dataframe thead th {\n",
       "        text-align: right;\n",
       "    }\n",
       "</style>\n",
       "<table border=\"1\" class=\"dataframe\">\n",
       "  <thead>\n",
       "    <tr style=\"text-align: right;\">\n",
       "      <th></th>\n",
       "      <th>Date</th>\n",
       "      <th>Open</th>\n",
       "      <th>High</th>\n",
       "      <th>Low</th>\n",
       "      <th>Close</th>\n",
       "      <th>Adj Close</th>\n",
       "      <th>Volume</th>\n",
       "    </tr>\n",
       "  </thead>\n",
       "  <tbody>\n",
       "    <tr>\n",
       "      <th>0</th>\n",
       "      <td>2017-08-24</td>\n",
       "      <td>0.001731</td>\n",
       "      <td>0.001845</td>\n",
       "      <td>0.001722</td>\n",
       "      <td>0.001816</td>\n",
       "      <td>0.001816</td>\n",
       "      <td>4.796720e+06</td>\n",
       "    </tr>\n",
       "    <tr>\n",
       "      <th>1</th>\n",
       "      <td>2017-08-25</td>\n",
       "      <td>0.001808</td>\n",
       "      <td>0.001830</td>\n",
       "      <td>0.001762</td>\n",
       "      <td>0.001790</td>\n",
       "      <td>0.001790</td>\n",
       "      <td>2.654040e+06</td>\n",
       "    </tr>\n",
       "    <tr>\n",
       "      <th>2</th>\n",
       "      <td>2017-08-26</td>\n",
       "      <td>0.001787</td>\n",
       "      <td>0.001797</td>\n",
       "      <td>0.001735</td>\n",
       "      <td>0.001778</td>\n",
       "      <td>0.001778</td>\n",
       "      <td>1.935350e+06</td>\n",
       "    </tr>\n",
       "    <tr>\n",
       "      <th>3</th>\n",
       "      <td>2017-08-27</td>\n",
       "      <td>0.001779</td>\n",
       "      <td>0.001784</td>\n",
       "      <td>0.001745</td>\n",
       "      <td>0.001760</td>\n",
       "      <td>0.001760</td>\n",
       "      <td>2.241620e+06</td>\n",
       "    </tr>\n",
       "    <tr>\n",
       "      <th>4</th>\n",
       "      <td>2017-08-28</td>\n",
       "      <td>0.001764</td>\n",
       "      <td>0.001825</td>\n",
       "      <td>0.001751</td>\n",
       "      <td>0.001825</td>\n",
       "      <td>0.001825</td>\n",
       "      <td>3.210440e+06</td>\n",
       "    </tr>\n",
       "    <tr>\n",
       "      <th>...</th>\n",
       "      <td>...</td>\n",
       "      <td>...</td>\n",
       "      <td>...</td>\n",
       "      <td>...</td>\n",
       "      <td>...</td>\n",
       "      <td>...</td>\n",
       "      <td>...</td>\n",
       "    </tr>\n",
       "    <tr>\n",
       "      <th>1457</th>\n",
       "      <td>2021-08-20</td>\n",
       "      <td>0.317571</td>\n",
       "      <td>0.333223</td>\n",
       "      <td>0.314142</td>\n",
       "      <td>0.327491</td>\n",
       "      <td>0.327491</td>\n",
       "      <td>3.512291e+09</td>\n",
       "    </tr>\n",
       "    <tr>\n",
       "      <th>1458</th>\n",
       "      <td>2021-08-21</td>\n",
       "      <td>0.327395</td>\n",
       "      <td>0.329356</td>\n",
       "      <td>0.315433</td>\n",
       "      <td>0.316797</td>\n",
       "      <td>0.316797</td>\n",
       "      <td>2.600397e+09</td>\n",
       "    </tr>\n",
       "    <tr>\n",
       "      <th>1459</th>\n",
       "      <td>2021-08-22</td>\n",
       "      <td>0.317085</td>\n",
       "      <td>0.321541</td>\n",
       "      <td>0.306546</td>\n",
       "      <td>0.314963</td>\n",
       "      <td>0.314963</td>\n",
       "      <td>2.237836e+09</td>\n",
       "    </tr>\n",
       "    <tr>\n",
       "      <th>1460</th>\n",
       "      <td>2021-08-23</td>\n",
       "      <td>0.314926</td>\n",
       "      <td>0.328094</td>\n",
       "      <td>0.313368</td>\n",
       "      <td>0.317914</td>\n",
       "      <td>0.317914</td>\n",
       "      <td>2.836629e+09</td>\n",
       "    </tr>\n",
       "    <tr>\n",
       "      <th>1461</th>\n",
       "      <td>2021-08-24</td>\n",
       "      <td>0.317984</td>\n",
       "      <td>0.319460</td>\n",
       "      <td>0.311619</td>\n",
       "      <td>0.312391</td>\n",
       "      <td>0.312391</td>\n",
       "      <td>2.088121e+09</td>\n",
       "    </tr>\n",
       "  </tbody>\n",
       "</table>\n",
       "<p>1462 rows × 7 columns</p>\n",
       "</div>"
      ]
     },
     "metadata": {},
     "execution_count": 3
    }
   ],
   "metadata": {
    "execution": {
     "iopub.execute_input": "2021-08-24T15:47:04.335582Z",
     "iopub.status.busy": "2021-08-24T15:47:04.334872Z",
     "iopub.status.idle": "2021-08-24T15:47:04.386761Z",
     "shell.execute_reply": "2021-08-24T15:47:04.386313Z",
     "shell.execute_reply.started": "2021-08-24T15:45:25.388638Z"
    },
    "papermill": {
     "duration": 0.073186,
     "end_time": "2021-08-24T15:47:04.386884",
     "exception": false,
     "start_time": "2021-08-24T15:47:04.313698",
     "status": "completed"
    },
    "tags": []
   }
  },
  {
   "cell_type": "code",
   "execution_count": 4,
   "source": [
    "# Sorting DataFrame\n",
    "doge.sort_values(by='Date', ascending=False, inplace=True)\n",
    "doge.reset_index(drop=True, inplace=True)\n",
    "doge"
   ],
   "outputs": [
    {
     "output_type": "execute_result",
     "data": {
      "text/plain": [
       "            Date      Open      High       Low     Close  Adj Close  \\\n",
       "0     2021-08-24  0.317984  0.319460  0.311619  0.312391   0.312391   \n",
       "1     2021-08-23  0.314926  0.328094  0.313368  0.317914   0.317914   \n",
       "2     2021-08-22  0.317085  0.321541  0.306546  0.314963   0.314963   \n",
       "3     2021-08-21  0.327395  0.329356  0.315433  0.316797   0.316797   \n",
       "4     2021-08-20  0.317571  0.333223  0.314142  0.327491   0.327491   \n",
       "...          ...       ...       ...       ...       ...        ...   \n",
       "1457  2017-08-28  0.001764  0.001825  0.001751  0.001825   0.001825   \n",
       "1458  2017-08-27  0.001779  0.001784  0.001745  0.001760   0.001760   \n",
       "1459  2017-08-26  0.001787  0.001797  0.001735  0.001778   0.001778   \n",
       "1460  2017-08-25  0.001808  0.001830  0.001762  0.001790   0.001790   \n",
       "1461  2017-08-24  0.001731  0.001845  0.001722  0.001816   0.001816   \n",
       "\n",
       "            Volume  \n",
       "0     2.088121e+09  \n",
       "1     2.836629e+09  \n",
       "2     2.237836e+09  \n",
       "3     2.600397e+09  \n",
       "4     3.512291e+09  \n",
       "...            ...  \n",
       "1457  3.210440e+06  \n",
       "1458  2.241620e+06  \n",
       "1459  1.935350e+06  \n",
       "1460  2.654040e+06  \n",
       "1461  4.796720e+06  \n",
       "\n",
       "[1462 rows x 7 columns]"
      ],
      "text/html": [
       "<div>\n",
       "<style scoped>\n",
       "    .dataframe tbody tr th:only-of-type {\n",
       "        vertical-align: middle;\n",
       "    }\n",
       "\n",
       "    .dataframe tbody tr th {\n",
       "        vertical-align: top;\n",
       "    }\n",
       "\n",
       "    .dataframe thead th {\n",
       "        text-align: right;\n",
       "    }\n",
       "</style>\n",
       "<table border=\"1\" class=\"dataframe\">\n",
       "  <thead>\n",
       "    <tr style=\"text-align: right;\">\n",
       "      <th></th>\n",
       "      <th>Date</th>\n",
       "      <th>Open</th>\n",
       "      <th>High</th>\n",
       "      <th>Low</th>\n",
       "      <th>Close</th>\n",
       "      <th>Adj Close</th>\n",
       "      <th>Volume</th>\n",
       "    </tr>\n",
       "  </thead>\n",
       "  <tbody>\n",
       "    <tr>\n",
       "      <th>0</th>\n",
       "      <td>2021-08-24</td>\n",
       "      <td>0.317984</td>\n",
       "      <td>0.319460</td>\n",
       "      <td>0.311619</td>\n",
       "      <td>0.312391</td>\n",
       "      <td>0.312391</td>\n",
       "      <td>2.088121e+09</td>\n",
       "    </tr>\n",
       "    <tr>\n",
       "      <th>1</th>\n",
       "      <td>2021-08-23</td>\n",
       "      <td>0.314926</td>\n",
       "      <td>0.328094</td>\n",
       "      <td>0.313368</td>\n",
       "      <td>0.317914</td>\n",
       "      <td>0.317914</td>\n",
       "      <td>2.836629e+09</td>\n",
       "    </tr>\n",
       "    <tr>\n",
       "      <th>2</th>\n",
       "      <td>2021-08-22</td>\n",
       "      <td>0.317085</td>\n",
       "      <td>0.321541</td>\n",
       "      <td>0.306546</td>\n",
       "      <td>0.314963</td>\n",
       "      <td>0.314963</td>\n",
       "      <td>2.237836e+09</td>\n",
       "    </tr>\n",
       "    <tr>\n",
       "      <th>3</th>\n",
       "      <td>2021-08-21</td>\n",
       "      <td>0.327395</td>\n",
       "      <td>0.329356</td>\n",
       "      <td>0.315433</td>\n",
       "      <td>0.316797</td>\n",
       "      <td>0.316797</td>\n",
       "      <td>2.600397e+09</td>\n",
       "    </tr>\n",
       "    <tr>\n",
       "      <th>4</th>\n",
       "      <td>2021-08-20</td>\n",
       "      <td>0.317571</td>\n",
       "      <td>0.333223</td>\n",
       "      <td>0.314142</td>\n",
       "      <td>0.327491</td>\n",
       "      <td>0.327491</td>\n",
       "      <td>3.512291e+09</td>\n",
       "    </tr>\n",
       "    <tr>\n",
       "      <th>...</th>\n",
       "      <td>...</td>\n",
       "      <td>...</td>\n",
       "      <td>...</td>\n",
       "      <td>...</td>\n",
       "      <td>...</td>\n",
       "      <td>...</td>\n",
       "      <td>...</td>\n",
       "    </tr>\n",
       "    <tr>\n",
       "      <th>1457</th>\n",
       "      <td>2017-08-28</td>\n",
       "      <td>0.001764</td>\n",
       "      <td>0.001825</td>\n",
       "      <td>0.001751</td>\n",
       "      <td>0.001825</td>\n",
       "      <td>0.001825</td>\n",
       "      <td>3.210440e+06</td>\n",
       "    </tr>\n",
       "    <tr>\n",
       "      <th>1458</th>\n",
       "      <td>2017-08-27</td>\n",
       "      <td>0.001779</td>\n",
       "      <td>0.001784</td>\n",
       "      <td>0.001745</td>\n",
       "      <td>0.001760</td>\n",
       "      <td>0.001760</td>\n",
       "      <td>2.241620e+06</td>\n",
       "    </tr>\n",
       "    <tr>\n",
       "      <th>1459</th>\n",
       "      <td>2017-08-26</td>\n",
       "      <td>0.001787</td>\n",
       "      <td>0.001797</td>\n",
       "      <td>0.001735</td>\n",
       "      <td>0.001778</td>\n",
       "      <td>0.001778</td>\n",
       "      <td>1.935350e+06</td>\n",
       "    </tr>\n",
       "    <tr>\n",
       "      <th>1460</th>\n",
       "      <td>2017-08-25</td>\n",
       "      <td>0.001808</td>\n",
       "      <td>0.001830</td>\n",
       "      <td>0.001762</td>\n",
       "      <td>0.001790</td>\n",
       "      <td>0.001790</td>\n",
       "      <td>2.654040e+06</td>\n",
       "    </tr>\n",
       "    <tr>\n",
       "      <th>1461</th>\n",
       "      <td>2017-08-24</td>\n",
       "      <td>0.001731</td>\n",
       "      <td>0.001845</td>\n",
       "      <td>0.001722</td>\n",
       "      <td>0.001816</td>\n",
       "      <td>0.001816</td>\n",
       "      <td>4.796720e+06</td>\n",
       "    </tr>\n",
       "  </tbody>\n",
       "</table>\n",
       "<p>1462 rows × 7 columns</p>\n",
       "</div>"
      ]
     },
     "metadata": {},
     "execution_count": 4
    }
   ],
   "metadata": {
    "execution": {
     "iopub.execute_input": "2021-08-24T15:47:04.432115Z",
     "iopub.status.busy": "2021-08-24T15:47:04.431517Z",
     "iopub.status.idle": "2021-08-24T15:47:04.448866Z",
     "shell.execute_reply": "2021-08-24T15:47:04.449304Z",
     "shell.execute_reply.started": "2021-08-24T15:45:25.451131Z"
    },
    "papermill": {
     "duration": 0.0441,
     "end_time": "2021-08-24T15:47:04.449480",
     "exception": false,
     "start_time": "2021-08-24T15:47:04.405380",
     "status": "completed"
    },
    "tags": []
   }
  },
  {
   "cell_type": "markdown",
   "source": [
    "# Data Preprocessing"
   ],
   "metadata": {
    "papermill": {
     "duration": 0.01826,
     "end_time": "2021-08-24T15:47:04.486716",
     "exception": false,
     "start_time": "2021-08-24T15:47:04.468456",
     "status": "completed"
    },
    "tags": []
   }
  },
  {
   "cell_type": "code",
   "execution_count": 5,
   "source": [
    "# Check whether 'doge' contains NaN.\n",
    "doge.isnull().sum()"
   ],
   "outputs": [
    {
     "output_type": "execute_result",
     "data": {
      "text/plain": [
       "Date         0\n",
       "Open         4\n",
       "High         4\n",
       "Low          4\n",
       "Close        4\n",
       "Adj Close    4\n",
       "Volume       4\n",
       "dtype: int64"
      ]
     },
     "metadata": {},
     "execution_count": 5
    }
   ],
   "metadata": {
    "execution": {
     "iopub.execute_input": "2021-08-24T15:47:04.526772Z",
     "iopub.status.busy": "2021-08-24T15:47:04.526204Z",
     "iopub.status.idle": "2021-08-24T15:47:04.533055Z",
     "shell.execute_reply": "2021-08-24T15:47:04.533595Z",
     "shell.execute_reply.started": "2021-08-24T15:45:25.485102Z"
    },
    "papermill": {
     "duration": 0.028659,
     "end_time": "2021-08-24T15:47:04.533739",
     "exception": false,
     "start_time": "2021-08-24T15:47:04.505080",
     "status": "completed"
    },
    "tags": []
   }
  },
  {
   "cell_type": "code",
   "execution_count": 6,
   "source": [
    "# Fill NaN with median values\n",
    "doge.fillna(doge.median(), inplace=True)\n",
    "doge.head()"
   ],
   "outputs": [
    {
     "output_type": "stream",
     "name": "stderr",
     "text": [
      "/var/folders/rl/qrb5zxv57qg8121z8dhpdklh0000gn/T/ipykernel_3142/743861542.py:2: FutureWarning:\n",
      "\n",
      "Dropping of nuisance columns in DataFrame reductions (with 'numeric_only=None') is deprecated; in a future version this will raise TypeError.  Select only valid columns before calling the reduction.\n",
      "\n"
     ]
    },
    {
     "output_type": "execute_result",
     "data": {
      "text/plain": [
       "         Date      Open      High       Low     Close  Adj Close        Volume\n",
       "0  2021-08-24  0.317984  0.319460  0.311619  0.312391   0.312391  2.088121e+09\n",
       "1  2021-08-23  0.314926  0.328094  0.313368  0.317914   0.317914  2.836629e+09\n",
       "2  2021-08-22  0.317085  0.321541  0.306546  0.314963   0.314963  2.237836e+09\n",
       "3  2021-08-21  0.327395  0.329356  0.315433  0.316797   0.316797  2.600397e+09\n",
       "4  2021-08-20  0.317571  0.333223  0.314142  0.327491   0.327491  3.512291e+09"
      ],
      "text/html": [
       "<div>\n",
       "<style scoped>\n",
       "    .dataframe tbody tr th:only-of-type {\n",
       "        vertical-align: middle;\n",
       "    }\n",
       "\n",
       "    .dataframe tbody tr th {\n",
       "        vertical-align: top;\n",
       "    }\n",
       "\n",
       "    .dataframe thead th {\n",
       "        text-align: right;\n",
       "    }\n",
       "</style>\n",
       "<table border=\"1\" class=\"dataframe\">\n",
       "  <thead>\n",
       "    <tr style=\"text-align: right;\">\n",
       "      <th></th>\n",
       "      <th>Date</th>\n",
       "      <th>Open</th>\n",
       "      <th>High</th>\n",
       "      <th>Low</th>\n",
       "      <th>Close</th>\n",
       "      <th>Adj Close</th>\n",
       "      <th>Volume</th>\n",
       "    </tr>\n",
       "  </thead>\n",
       "  <tbody>\n",
       "    <tr>\n",
       "      <th>0</th>\n",
       "      <td>2021-08-24</td>\n",
       "      <td>0.317984</td>\n",
       "      <td>0.319460</td>\n",
       "      <td>0.311619</td>\n",
       "      <td>0.312391</td>\n",
       "      <td>0.312391</td>\n",
       "      <td>2.088121e+09</td>\n",
       "    </tr>\n",
       "    <tr>\n",
       "      <th>1</th>\n",
       "      <td>2021-08-23</td>\n",
       "      <td>0.314926</td>\n",
       "      <td>0.328094</td>\n",
       "      <td>0.313368</td>\n",
       "      <td>0.317914</td>\n",
       "      <td>0.317914</td>\n",
       "      <td>2.836629e+09</td>\n",
       "    </tr>\n",
       "    <tr>\n",
       "      <th>2</th>\n",
       "      <td>2021-08-22</td>\n",
       "      <td>0.317085</td>\n",
       "      <td>0.321541</td>\n",
       "      <td>0.306546</td>\n",
       "      <td>0.314963</td>\n",
       "      <td>0.314963</td>\n",
       "      <td>2.237836e+09</td>\n",
       "    </tr>\n",
       "    <tr>\n",
       "      <th>3</th>\n",
       "      <td>2021-08-21</td>\n",
       "      <td>0.327395</td>\n",
       "      <td>0.329356</td>\n",
       "      <td>0.315433</td>\n",
       "      <td>0.316797</td>\n",
       "      <td>0.316797</td>\n",
       "      <td>2.600397e+09</td>\n",
       "    </tr>\n",
       "    <tr>\n",
       "      <th>4</th>\n",
       "      <td>2021-08-20</td>\n",
       "      <td>0.317571</td>\n",
       "      <td>0.333223</td>\n",
       "      <td>0.314142</td>\n",
       "      <td>0.327491</td>\n",
       "      <td>0.327491</td>\n",
       "      <td>3.512291e+09</td>\n",
       "    </tr>\n",
       "  </tbody>\n",
       "</table>\n",
       "</div>"
      ]
     },
     "metadata": {},
     "execution_count": 6
    }
   ],
   "metadata": {
    "execution": {
     "iopub.execute_input": "2021-08-24T15:47:04.574418Z",
     "iopub.status.busy": "2021-08-24T15:47:04.573835Z",
     "iopub.status.idle": "2021-08-24T15:47:04.580638Z",
     "shell.execute_reply": "2021-08-24T15:47:04.581165Z",
     "shell.execute_reply.started": "2021-08-24T15:45:25.496233Z"
    },
    "papermill": {
     "duration": 0.028421,
     "end_time": "2021-08-24T15:47:04.581339",
     "exception": false,
     "start_time": "2021-08-24T15:47:04.552918",
     "status": "completed"
    },
    "tags": []
   }
  },
  {
   "cell_type": "code",
   "execution_count": 7,
   "source": [
    "# Normalization - MinMaxScaler\n",
    "columns = ['Open', 'High', 'Low', 'Close', 'Volume']\n",
    "for column in columns:\n",
    "    scaler = MinMaxScaler()\n",
    "    scaler = scaler.fit(doge[columns])\n",
    "    doge[columns] = scaler.transform(doge[columns])"
   ],
   "outputs": [],
   "metadata": {
    "execution": {
     "iopub.execute_input": "2021-08-24T15:47:04.622683Z",
     "iopub.status.busy": "2021-08-24T15:47:04.621978Z",
     "iopub.status.idle": "2021-08-24T15:47:04.664448Z",
     "shell.execute_reply": "2021-08-24T15:47:04.663869Z",
     "shell.execute_reply.started": "2021-08-24T15:45:25.510167Z"
    },
    "papermill": {
     "duration": 0.063858,
     "end_time": "2021-08-24T15:47:04.664601",
     "exception": false,
     "start_time": "2021-08-24T15:47:04.600743",
     "status": "completed"
    },
    "tags": []
   }
  },
  {
   "cell_type": "code",
   "execution_count": 8,
   "source": [
    "# Preprocessed DataFrame\n",
    "doge"
   ],
   "outputs": [
    {
     "output_type": "execute_result",
     "data": {
      "text/plain": [
       "            Date      Open      High       Low     Close  Adj Close    Volume\n",
       "0     2021-08-24  0.461723  0.432524  0.511887  0.455594   0.312391  0.030069\n",
       "1     2021-08-23  0.457272  0.444243  0.514766  0.463668   0.317914  0.040853\n",
       "2     2021-08-22  0.460415  0.435349  0.503537  0.459354   0.314963  0.032226\n",
       "3     2021-08-21  0.475421  0.445956  0.518165  0.462035   0.316797  0.037449\n",
       "4     2021-08-20  0.461122  0.451204  0.516040  0.477669   0.327491  0.050587\n",
       "...          ...       ...       ...       ...       ...        ...       ...\n",
       "1457  2017-08-28  0.001458  0.001414  0.001852  0.001564   0.001825  0.000031\n",
       "1458  2017-08-27  0.001480  0.001359  0.001842  0.001469   0.001760  0.000017\n",
       "1459  2017-08-26  0.001492  0.001376  0.001825  0.001496   0.001778  0.000012\n",
       "1460  2017-08-25  0.001522  0.001421  0.001870  0.001513   0.001790  0.000023\n",
       "1461  2017-08-24  0.001410  0.001441  0.001804  0.001551   0.001816  0.000054\n",
       "\n",
       "[1462 rows x 7 columns]"
      ],
      "text/html": [
       "<div>\n",
       "<style scoped>\n",
       "    .dataframe tbody tr th:only-of-type {\n",
       "        vertical-align: middle;\n",
       "    }\n",
       "\n",
       "    .dataframe tbody tr th {\n",
       "        vertical-align: top;\n",
       "    }\n",
       "\n",
       "    .dataframe thead th {\n",
       "        text-align: right;\n",
       "    }\n",
       "</style>\n",
       "<table border=\"1\" class=\"dataframe\">\n",
       "  <thead>\n",
       "    <tr style=\"text-align: right;\">\n",
       "      <th></th>\n",
       "      <th>Date</th>\n",
       "      <th>Open</th>\n",
       "      <th>High</th>\n",
       "      <th>Low</th>\n",
       "      <th>Close</th>\n",
       "      <th>Adj Close</th>\n",
       "      <th>Volume</th>\n",
       "    </tr>\n",
       "  </thead>\n",
       "  <tbody>\n",
       "    <tr>\n",
       "      <th>0</th>\n",
       "      <td>2021-08-24</td>\n",
       "      <td>0.461723</td>\n",
       "      <td>0.432524</td>\n",
       "      <td>0.511887</td>\n",
       "      <td>0.455594</td>\n",
       "      <td>0.312391</td>\n",
       "      <td>0.030069</td>\n",
       "    </tr>\n",
       "    <tr>\n",
       "      <th>1</th>\n",
       "      <td>2021-08-23</td>\n",
       "      <td>0.457272</td>\n",
       "      <td>0.444243</td>\n",
       "      <td>0.514766</td>\n",
       "      <td>0.463668</td>\n",
       "      <td>0.317914</td>\n",
       "      <td>0.040853</td>\n",
       "    </tr>\n",
       "    <tr>\n",
       "      <th>2</th>\n",
       "      <td>2021-08-22</td>\n",
       "      <td>0.460415</td>\n",
       "      <td>0.435349</td>\n",
       "      <td>0.503537</td>\n",
       "      <td>0.459354</td>\n",
       "      <td>0.314963</td>\n",
       "      <td>0.032226</td>\n",
       "    </tr>\n",
       "    <tr>\n",
       "      <th>3</th>\n",
       "      <td>2021-08-21</td>\n",
       "      <td>0.475421</td>\n",
       "      <td>0.445956</td>\n",
       "      <td>0.518165</td>\n",
       "      <td>0.462035</td>\n",
       "      <td>0.316797</td>\n",
       "      <td>0.037449</td>\n",
       "    </tr>\n",
       "    <tr>\n",
       "      <th>4</th>\n",
       "      <td>2021-08-20</td>\n",
       "      <td>0.461122</td>\n",
       "      <td>0.451204</td>\n",
       "      <td>0.516040</td>\n",
       "      <td>0.477669</td>\n",
       "      <td>0.327491</td>\n",
       "      <td>0.050587</td>\n",
       "    </tr>\n",
       "    <tr>\n",
       "      <th>...</th>\n",
       "      <td>...</td>\n",
       "      <td>...</td>\n",
       "      <td>...</td>\n",
       "      <td>...</td>\n",
       "      <td>...</td>\n",
       "      <td>...</td>\n",
       "      <td>...</td>\n",
       "    </tr>\n",
       "    <tr>\n",
       "      <th>1457</th>\n",
       "      <td>2017-08-28</td>\n",
       "      <td>0.001458</td>\n",
       "      <td>0.001414</td>\n",
       "      <td>0.001852</td>\n",
       "      <td>0.001564</td>\n",
       "      <td>0.001825</td>\n",
       "      <td>0.000031</td>\n",
       "    </tr>\n",
       "    <tr>\n",
       "      <th>1458</th>\n",
       "      <td>2017-08-27</td>\n",
       "      <td>0.001480</td>\n",
       "      <td>0.001359</td>\n",
       "      <td>0.001842</td>\n",
       "      <td>0.001469</td>\n",
       "      <td>0.001760</td>\n",
       "      <td>0.000017</td>\n",
       "    </tr>\n",
       "    <tr>\n",
       "      <th>1459</th>\n",
       "      <td>2017-08-26</td>\n",
       "      <td>0.001492</td>\n",
       "      <td>0.001376</td>\n",
       "      <td>0.001825</td>\n",
       "      <td>0.001496</td>\n",
       "      <td>0.001778</td>\n",
       "      <td>0.000012</td>\n",
       "    </tr>\n",
       "    <tr>\n",
       "      <th>1460</th>\n",
       "      <td>2017-08-25</td>\n",
       "      <td>0.001522</td>\n",
       "      <td>0.001421</td>\n",
       "      <td>0.001870</td>\n",
       "      <td>0.001513</td>\n",
       "      <td>0.001790</td>\n",
       "      <td>0.000023</td>\n",
       "    </tr>\n",
       "    <tr>\n",
       "      <th>1461</th>\n",
       "      <td>2017-08-24</td>\n",
       "      <td>0.001410</td>\n",
       "      <td>0.001441</td>\n",
       "      <td>0.001804</td>\n",
       "      <td>0.001551</td>\n",
       "      <td>0.001816</td>\n",
       "      <td>0.000054</td>\n",
       "    </tr>\n",
       "  </tbody>\n",
       "</table>\n",
       "<p>1462 rows × 7 columns</p>\n",
       "</div>"
      ]
     },
     "metadata": {},
     "execution_count": 8
    }
   ],
   "metadata": {
    "execution": {
     "iopub.execute_input": "2021-08-24T15:47:04.719115Z",
     "iopub.status.busy": "2021-08-24T15:47:04.712356Z",
     "iopub.status.idle": "2021-08-24T15:47:04.721901Z",
     "shell.execute_reply": "2021-08-24T15:47:04.722394Z",
     "shell.execute_reply.started": "2021-08-24T15:45:25.566787Z"
    },
    "papermill": {
     "duration": 0.038192,
     "end_time": "2021-08-24T15:47:04.722543",
     "exception": false,
     "start_time": "2021-08-24T15:47:04.684351",
     "status": "completed"
    },
    "tags": []
   }
  },
  {
   "cell_type": "markdown",
   "source": [
    "# Create Datasets"
   ],
   "metadata": {
    "papermill": {
     "duration": 0.019868,
     "end_time": "2021-08-24T15:47:04.762430",
     "exception": false,
     "start_time": "2021-08-24T15:47:04.742562",
     "status": "completed"
    },
    "tags": []
   }
  },
  {
   "cell_type": "code",
   "execution_count": 9,
   "source": [
    "# Utility Function\n",
    "def make_dataset(data, label, window_size=20):\n",
    "    feature_list = []\n",
    "    label_list = []\n",
    "    for i in range(len(data) - window_size):\n",
    "        feature_list.append(np.array(data.iloc[i:i+window_size]))\n",
    "        label_list.append(np.array(label.iloc[i+window_size]))\n",
    "    return np.array(feature_list), np.array(label_list)"
   ],
   "outputs": [],
   "metadata": {
    "execution": {
     "iopub.execute_input": "2021-08-24T15:47:04.804023Z",
     "iopub.status.busy": "2021-08-24T15:47:04.803492Z",
     "iopub.status.idle": "2021-08-24T15:47:04.808537Z",
     "shell.execute_reply": "2021-08-24T15:47:04.808982Z",
     "shell.execute_reply.started": "2021-08-24T15:45:25.591626Z"
    },
    "papermill": {
     "duration": 0.02707,
     "end_time": "2021-08-24T15:47:04.809131",
     "exception": false,
     "start_time": "2021-08-24T15:47:04.782061",
     "status": "completed"
    },
    "tags": []
   }
  },
  {
   "cell_type": "code",
   "execution_count": 10,
   "source": [
    "# Set feature, label dataset\n",
    "train_feature = doge[['Open', 'High', 'Low', 'Close', 'Volume']]\n",
    "train_label = doge['Adj Close']"
   ],
   "outputs": [],
   "metadata": {
    "execution": {
     "iopub.execute_input": "2021-08-24T15:47:04.849901Z",
     "iopub.status.busy": "2021-08-24T15:47:04.849289Z",
     "iopub.status.idle": "2021-08-24T15:47:04.853837Z",
     "shell.execute_reply": "2021-08-24T15:47:04.854295Z",
     "shell.execute_reply.started": "2021-08-24T15:45:25.601881Z"
    },
    "papermill": {
     "duration": 0.026678,
     "end_time": "2021-08-24T15:47:04.854482",
     "exception": false,
     "start_time": "2021-08-24T15:47:04.827804",
     "status": "completed"
    },
    "tags": []
   }
  },
  {
   "cell_type": "code",
   "execution_count": 11,
   "source": [
    "# train dataset\n",
    "train_feature, train_label = make_dataset(train_feature, train_label, 10)"
   ],
   "outputs": [],
   "metadata": {
    "execution": {
     "iopub.execute_input": "2021-08-24T15:47:04.897117Z",
     "iopub.status.busy": "2021-08-24T15:47:04.896530Z",
     "iopub.status.idle": "2021-08-24T15:47:04.983560Z",
     "shell.execute_reply": "2021-08-24T15:47:04.982959Z",
     "shell.execute_reply.started": "2021-08-24T15:45:25.616429Z"
    },
    "papermill": {
     "duration": 0.109349,
     "end_time": "2021-08-24T15:47:04.983694",
     "exception": false,
     "start_time": "2021-08-24T15:47:04.874345",
     "status": "completed"
    },
    "tags": []
   }
  },
  {
   "cell_type": "code",
   "execution_count": 12,
   "source": [
    "# Set X, y\n",
    "X = train_feature\n",
    "y = train_label"
   ],
   "outputs": [],
   "metadata": {
    "execution": {
     "iopub.execute_input": "2021-08-24T15:47:05.029534Z",
     "iopub.status.busy": "2021-08-24T15:47:05.028860Z",
     "iopub.status.idle": "2021-08-24T15:47:05.031975Z",
     "shell.execute_reply": "2021-08-24T15:47:05.031381Z",
     "shell.execute_reply.started": "2021-08-24T15:45:25.716525Z"
    },
    "papermill": {
     "duration": 0.027648,
     "end_time": "2021-08-24T15:47:05.032119",
     "exception": false,
     "start_time": "2021-08-24T15:47:05.004471",
     "status": "completed"
    },
    "tags": []
   }
  },
  {
   "cell_type": "code",
   "execution_count": 13,
   "source": [
    "# Split datasets\n",
    "X_train, X_test, y_train, y_test = train_test_split(X, y, test_size=0.2, shuffle=False)\n",
    "X_train, X_val, y_train, y_val = train_test_split(X_train, y_train, test_size=0.2, random_state=11)"
   ],
   "outputs": [],
   "metadata": {
    "execution": {
     "iopub.execute_input": "2021-08-24T15:47:05.078212Z",
     "iopub.status.busy": "2021-08-24T15:47:05.077537Z",
     "iopub.status.idle": "2021-08-24T15:47:05.081910Z",
     "shell.execute_reply": "2021-08-24T15:47:05.081426Z",
     "shell.execute_reply.started": "2021-08-24T15:45:25.721653Z"
    },
    "papermill": {
     "duration": 0.029525,
     "end_time": "2021-08-24T15:47:05.082046",
     "exception": false,
     "start_time": "2021-08-24T15:47:05.052521",
     "status": "completed"
    },
    "tags": []
   }
  },
  {
   "cell_type": "markdown",
   "source": [
    "# Modeling"
   ],
   "metadata": {
    "papermill": {
     "duration": 0.019477,
     "end_time": "2021-08-24T15:47:05.121603",
     "exception": false,
     "start_time": "2021-08-24T15:47:05.102126",
     "status": "completed"
    },
    "tags": []
   }
  },
  {
   "cell_type": "code",
   "execution_count": 14,
   "source": [
    "model = Sequential()\n",
    "model.add(SimpleRNN(20, activation='relu', input_shape=X_train.shape[1:]))\n",
    "model.add(Dense(1))"
   ],
   "outputs": [
    {
     "output_type": "stream",
     "name": "stdout",
     "text": [
      "Metal device set to: Apple M1\n",
      "\n",
      "systemMemory: 8.00 GB\n",
      "maxCacheSize: 2.67 GB\n",
      "\n"
     ]
    },
    {
     "output_type": "stream",
     "name": "stderr",
     "text": [
      "2021-08-25 09:11:21.781901: I tensorflow/core/common_runtime/pluggable_device/pluggable_device_factory.cc:305] Could not identify NUMA node of platform GPU ID 0, defaulting to 0. Your kernel may not have been built with NUMA support.\n",
      "2021-08-25 09:11:21.782111: I tensorflow/core/common_runtime/pluggable_device/pluggable_device_factory.cc:271] Created TensorFlow device (/job:localhost/replica:0/task:0/device:GPU:0 with 0 MB memory) -> physical PluggableDevice (device: 0, name: METAL, pci bus id: <undefined>)\n"
     ]
    }
   ],
   "metadata": {
    "execution": {
     "iopub.execute_input": "2021-08-24T15:47:05.165868Z",
     "iopub.status.busy": "2021-08-24T15:47:05.165275Z",
     "iopub.status.idle": "2021-08-24T15:47:05.336857Z",
     "shell.execute_reply": "2021-08-24T15:47:05.336283Z",
     "shell.execute_reply.started": "2021-08-24T15:45:25.738103Z"
    },
    "papermill": {
     "duration": 0.195617,
     "end_time": "2021-08-24T15:47:05.336997",
     "exception": false,
     "start_time": "2021-08-24T15:47:05.141380",
     "status": "completed"
    },
    "tags": []
   }
  },
  {
   "cell_type": "code",
   "execution_count": 15,
   "source": [
    "model.summary()"
   ],
   "outputs": [
    {
     "output_type": "stream",
     "name": "stdout",
     "text": [
      "Model: \"sequential\"\n",
      "_________________________________________________________________\n",
      "Layer (type)                 Output Shape              Param #   \n",
      "=================================================================\n",
      "simple_rnn (SimpleRNN)       (None, 20)                520       \n",
      "_________________________________________________________________\n",
      "dense (Dense)                (None, 1)                 21        \n",
      "=================================================================\n",
      "Total params: 541\n",
      "Trainable params: 541\n",
      "Non-trainable params: 0\n",
      "_________________________________________________________________\n"
     ]
    }
   ],
   "metadata": {
    "execution": {
     "iopub.execute_input": "2021-08-24T15:47:05.381843Z",
     "iopub.status.busy": "2021-08-24T15:47:05.381253Z",
     "iopub.status.idle": "2021-08-24T15:47:05.384656Z",
     "shell.execute_reply": "2021-08-24T15:47:05.385382Z",
     "shell.execute_reply.started": "2021-08-24T15:45:25.935870Z"
    },
    "papermill": {
     "duration": 0.029036,
     "end_time": "2021-08-24T15:47:05.385586",
     "exception": false,
     "start_time": "2021-08-24T15:47:05.356550",
     "status": "completed"
    },
    "tags": []
   }
  },
  {
   "cell_type": "code",
   "execution_count": 16,
   "source": [
    "model.compile(loss='mse', optimizer='adam', metrics=['mse'])"
   ],
   "outputs": [],
   "metadata": {
    "execution": {
     "iopub.execute_input": "2021-08-24T15:47:05.429163Z",
     "iopub.status.busy": "2021-08-24T15:47:05.428560Z",
     "iopub.status.idle": "2021-08-24T15:47:05.447643Z",
     "shell.execute_reply": "2021-08-24T15:47:05.446932Z",
     "shell.execute_reply.started": "2021-08-24T15:45:25.946866Z"
    },
    "papermill": {
     "duration": 0.041116,
     "end_time": "2021-08-24T15:47:05.447788",
     "exception": false,
     "start_time": "2021-08-24T15:47:05.406672",
     "status": "completed"
    },
    "tags": []
   }
  },
  {
   "cell_type": "code",
   "execution_count": 17,
   "source": [
    "history = model.fit(X_train, y_train, batch_size=80, epochs=100, validation_data=(X_val, y_val))"
   ],
   "outputs": [
    {
     "output_type": "stream",
     "name": "stderr",
     "text": [
      "2021-08-25 09:11:29.417965: I tensorflow/compiler/mlir/mlir_graph_optimization_pass.cc:176] None of the MLIR Optimization Passes are enabled (registered 2)\n",
      "2021-08-25 09:11:29.418485: W tensorflow/core/platform/profile_utils/cpu_utils.cc:128] Failed to get CPU frequency: 0 Hz\n"
     ]
    },
    {
     "output_type": "stream",
     "name": "stdout",
     "text": [
      "Epoch 1/100\n",
      " 1/12 [=>............................] - ETA: 5s - loss: 0.0051 - mse: 0.0051"
     ]
    },
    {
     "output_type": "stream",
     "name": "stderr",
     "text": [
      "2021-08-25 09:11:29.725692: I tensorflow/core/grappler/optimizers/custom_graph_optimizer_registry.cc:112] Plugin optimizer for device_type GPU is enabled.\n"
     ]
    },
    {
     "output_type": "stream",
     "name": "stdout",
     "text": [
      "12/12 [==============================] - 1s 57ms/step - loss: 0.0021 - mse: 0.0021 - val_loss: 6.1093e-04 - val_mse: 6.1093e-04\n",
      "Epoch 2/100\n",
      " 3/12 [======>.......................] - ETA: 0s - loss: 3.8659e-04 - mse: 3.8659e-04"
     ]
    },
    {
     "output_type": "stream",
     "name": "stderr",
     "text": [
      "2021-08-25 09:11:30.461682: I tensorflow/core/grappler/optimizers/custom_graph_optimizer_registry.cc:112] Plugin optimizer for device_type GPU is enabled.\n"
     ]
    },
    {
     "output_type": "stream",
     "name": "stdout",
     "text": [
      "12/12 [==============================] - 1s 47ms/step - loss: 3.1033e-04 - mse: 3.1033e-04 - val_loss: 2.7316e-04 - val_mse: 2.7316e-04\n",
      "Epoch 3/100\n",
      "12/12 [==============================] - 1s 45ms/step - loss: 2.2712e-04 - mse: 2.2712e-04 - val_loss: 1.8232e-04 - val_mse: 1.8232e-04\n",
      "Epoch 4/100\n",
      "12/12 [==============================] - 1s 45ms/step - loss: 1.4223e-04 - mse: 1.4223e-04 - val_loss: 1.3288e-04 - val_mse: 1.3288e-04\n",
      "Epoch 5/100\n",
      "12/12 [==============================] - 1s 46ms/step - loss: 1.2124e-04 - mse: 1.2124e-04 - val_loss: 1.0989e-04 - val_mse: 1.0989e-04\n",
      "Epoch 6/100\n",
      "12/12 [==============================] - 1s 45ms/step - loss: 1.0114e-04 - mse: 1.0114e-04 - val_loss: 9.5713e-05 - val_mse: 9.5713e-05\n",
      "Epoch 7/100\n",
      "12/12 [==============================] - 1s 45ms/step - loss: 9.1407e-05 - mse: 9.1407e-05 - val_loss: 8.2909e-05 - val_mse: 8.2909e-05\n",
      "Epoch 8/100\n",
      "12/12 [==============================] - 1s 46ms/step - loss: 8.1293e-05 - mse: 8.1293e-05 - val_loss: 7.5956e-05 - val_mse: 7.5956e-05\n",
      "Epoch 9/100\n",
      "12/12 [==============================] - 1s 46ms/step - loss: 7.0543e-05 - mse: 7.0543e-05 - val_loss: 6.9251e-05 - val_mse: 6.9251e-05\n",
      "Epoch 10/100\n",
      "12/12 [==============================] - 1s 46ms/step - loss: 6.1560e-05 - mse: 6.1560e-05 - val_loss: 6.3748e-05 - val_mse: 6.3748e-05\n",
      "Epoch 11/100\n",
      "12/12 [==============================] - 1s 49ms/step - loss: 5.5495e-05 - mse: 5.5495e-05 - val_loss: 6.0399e-05 - val_mse: 6.0399e-05\n",
      "Epoch 12/100\n",
      "12/12 [==============================] - 1s 46ms/step - loss: 5.1347e-05 - mse: 5.1347e-05 - val_loss: 5.6432e-05 - val_mse: 5.6432e-05\n",
      "Epoch 13/100\n",
      "12/12 [==============================] - 1s 46ms/step - loss: 4.5249e-05 - mse: 4.5249e-05 - val_loss: 5.3222e-05 - val_mse: 5.3222e-05\n",
      "Epoch 14/100\n",
      "12/12 [==============================] - 1s 49ms/step - loss: 4.0389e-05 - mse: 4.0389e-05 - val_loss: 5.0546e-05 - val_mse: 5.0546e-05\n",
      "Epoch 15/100\n",
      "12/12 [==============================] - 1s 51ms/step - loss: 4.0561e-05 - mse: 4.0561e-05 - val_loss: 4.7901e-05 - val_mse: 4.7901e-05\n",
      "Epoch 16/100\n",
      "12/12 [==============================] - 1s 62ms/step - loss: 3.4776e-05 - mse: 3.4776e-05 - val_loss: 4.5163e-05 - val_mse: 4.5163e-05\n",
      "Epoch 17/100\n",
      "12/12 [==============================] - 1s 51ms/step - loss: 3.2422e-05 - mse: 3.2422e-05 - val_loss: 4.2970e-05 - val_mse: 4.2970e-05\n",
      "Epoch 18/100\n",
      "12/12 [==============================] - 1s 55ms/step - loss: 2.9814e-05 - mse: 2.9814e-05 - val_loss: 4.2370e-05 - val_mse: 4.2370e-05\n",
      "Epoch 19/100\n",
      "12/12 [==============================] - 1s 47ms/step - loss: 2.7210e-05 - mse: 2.7210e-05 - val_loss: 4.0355e-05 - val_mse: 4.0355e-05\n",
      "Epoch 20/100\n",
      "12/12 [==============================] - 1s 47ms/step - loss: 2.5570e-05 - mse: 2.5570e-05 - val_loss: 4.1531e-05 - val_mse: 4.1531e-05\n",
      "Epoch 21/100\n",
      "12/12 [==============================] - 1s 46ms/step - loss: 2.4212e-05 - mse: 2.4212e-05 - val_loss: 3.9353e-05 - val_mse: 3.9353e-05\n",
      "Epoch 22/100\n",
      "12/12 [==============================] - 1s 46ms/step - loss: 2.2635e-05 - mse: 2.2635e-05 - val_loss: 3.7131e-05 - val_mse: 3.7131e-05\n",
      "Epoch 23/100\n",
      "12/12 [==============================] - 1s 48ms/step - loss: 2.0784e-05 - mse: 2.0784e-05 - val_loss: 3.6523e-05 - val_mse: 3.6523e-05\n",
      "Epoch 24/100\n",
      "12/12 [==============================] - 1s 47ms/step - loss: 2.0603e-05 - mse: 2.0603e-05 - val_loss: 3.5432e-05 - val_mse: 3.5432e-05\n",
      "Epoch 25/100\n",
      "12/12 [==============================] - 1s 46ms/step - loss: 2.1764e-05 - mse: 2.1764e-05 - val_loss: 3.4548e-05 - val_mse: 3.4548e-05\n",
      "Epoch 26/100\n",
      "12/12 [==============================] - 1s 51ms/step - loss: 1.8421e-05 - mse: 1.8421e-05 - val_loss: 3.1877e-05 - val_mse: 3.1877e-05\n",
      "Epoch 27/100\n",
      "12/12 [==============================] - 1s 47ms/step - loss: 1.6530e-05 - mse: 1.6530e-05 - val_loss: 3.1089e-05 - val_mse: 3.1089e-05\n",
      "Epoch 28/100\n",
      "12/12 [==============================] - 1s 48ms/step - loss: 1.5544e-05 - mse: 1.5544e-05 - val_loss: 3.0231e-05 - val_mse: 3.0231e-05\n",
      "Epoch 29/100\n",
      "12/12 [==============================] - 1s 45ms/step - loss: 1.5407e-05 - mse: 1.5407e-05 - val_loss: 3.0179e-05 - val_mse: 3.0179e-05\n",
      "Epoch 30/100\n",
      "12/12 [==============================] - 1s 46ms/step - loss: 1.4814e-05 - mse: 1.4814e-05 - val_loss: 2.9616e-05 - val_mse: 2.9616e-05\n",
      "Epoch 31/100\n",
      "12/12 [==============================] - 1s 47ms/step - loss: 1.4038e-05 - mse: 1.4038e-05 - val_loss: 2.9825e-05 - val_mse: 2.9825e-05\n",
      "Epoch 32/100\n",
      "12/12 [==============================] - 1s 46ms/step - loss: 1.3344e-05 - mse: 1.3344e-05 - val_loss: 2.8553e-05 - val_mse: 2.8553e-05\n",
      "Epoch 33/100\n",
      "12/12 [==============================] - 1s 46ms/step - loss: 1.2534e-05 - mse: 1.2534e-05 - val_loss: 2.7589e-05 - val_mse: 2.7589e-05\n",
      "Epoch 34/100\n",
      "12/12 [==============================] - 1s 46ms/step - loss: 1.2025e-05 - mse: 1.2025e-05 - val_loss: 2.8594e-05 - val_mse: 2.8594e-05\n",
      "Epoch 35/100\n",
      "12/12 [==============================] - 1s 49ms/step - loss: 1.2036e-05 - mse: 1.2036e-05 - val_loss: 2.7729e-05 - val_mse: 2.7729e-05\n",
      "Epoch 36/100\n",
      "12/12 [==============================] - 1s 46ms/step - loss: 1.1475e-05 - mse: 1.1475e-05 - val_loss: 2.6909e-05 - val_mse: 2.6909e-05\n",
      "Epoch 37/100\n",
      "12/12 [==============================] - 1s 45ms/step - loss: 1.1473e-05 - mse: 1.1473e-05 - val_loss: 2.9296e-05 - val_mse: 2.9296e-05\n",
      "Epoch 38/100\n",
      "12/12 [==============================] - 1s 46ms/step - loss: 1.1040e-05 - mse: 1.1040e-05 - val_loss: 2.7072e-05 - val_mse: 2.7072e-05\n",
      "Epoch 39/100\n",
      "12/12 [==============================] - 1s 46ms/step - loss: 1.0702e-05 - mse: 1.0702e-05 - val_loss: 2.7009e-05 - val_mse: 2.7009e-05\n",
      "Epoch 40/100\n",
      "12/12 [==============================] - 1s 46ms/step - loss: 9.8039e-06 - mse: 9.8039e-06 - val_loss: 2.6373e-05 - val_mse: 2.6373e-05\n",
      "Epoch 41/100\n",
      "12/12 [==============================] - 1s 46ms/step - loss: 1.0020e-05 - mse: 1.0020e-05 - val_loss: 2.6728e-05 - val_mse: 2.6728e-05\n",
      "Epoch 42/100\n",
      "12/12 [==============================] - 1s 45ms/step - loss: 9.8534e-06 - mse: 9.8534e-06 - val_loss: 2.6562e-05 - val_mse: 2.6562e-05\n",
      "Epoch 43/100\n",
      "12/12 [==============================] - 1s 48ms/step - loss: 9.1420e-06 - mse: 9.1420e-06 - val_loss: 2.5506e-05 - val_mse: 2.5506e-05\n",
      "Epoch 44/100\n",
      "12/12 [==============================] - 1s 46ms/step - loss: 8.7562e-06 - mse: 8.7562e-06 - val_loss: 2.5881e-05 - val_mse: 2.5881e-05\n",
      "Epoch 45/100\n",
      "12/12 [==============================] - 1s 46ms/step - loss: 8.5890e-06 - mse: 8.5890e-06 - val_loss: 2.4955e-05 - val_mse: 2.4955e-05\n",
      "Epoch 46/100\n",
      "12/12 [==============================] - 1s 45ms/step - loss: 8.6187e-06 - mse: 8.6187e-06 - val_loss: 2.4914e-05 - val_mse: 2.4914e-05\n",
      "Epoch 47/100\n",
      "12/12 [==============================] - 1s 45ms/step - loss: 8.1856e-06 - mse: 8.1856e-06 - val_loss: 2.5252e-05 - val_mse: 2.5252e-05\n",
      "Epoch 48/100\n",
      "12/12 [==============================] - 1s 45ms/step - loss: 7.9604e-06 - mse: 7.9604e-06 - val_loss: 2.5050e-05 - val_mse: 2.5050e-05\n",
      "Epoch 49/100\n",
      "12/12 [==============================] - 1s 45ms/step - loss: 8.3632e-06 - mse: 8.3632e-06 - val_loss: 2.4966e-05 - val_mse: 2.4966e-05\n",
      "Epoch 50/100\n",
      "12/12 [==============================] - 1s 45ms/step - loss: 7.6919e-06 - mse: 7.6919e-06 - val_loss: 2.4989e-05 - val_mse: 2.4989e-05\n",
      "Epoch 51/100\n",
      "12/12 [==============================] - 1s 45ms/step - loss: 7.6625e-06 - mse: 7.6625e-06 - val_loss: 2.4804e-05 - val_mse: 2.4804e-05\n",
      "Epoch 52/100\n",
      "12/12 [==============================] - 1s 46ms/step - loss: 7.4460e-06 - mse: 7.4460e-06 - val_loss: 2.4568e-05 - val_mse: 2.4568e-05\n",
      "Epoch 53/100\n",
      "12/12 [==============================] - 1s 46ms/step - loss: 7.6763e-06 - mse: 7.6763e-06 - val_loss: 2.5157e-05 - val_mse: 2.5157e-05\n",
      "Epoch 54/100\n",
      "12/12 [==============================] - 1s 61ms/step - loss: 7.4405e-06 - mse: 7.4405e-06 - val_loss: 2.4785e-05 - val_mse: 2.4785e-05\n",
      "Epoch 55/100\n",
      "12/12 [==============================] - 1s 55ms/step - loss: 7.3674e-06 - mse: 7.3674e-06 - val_loss: 2.4297e-05 - val_mse: 2.4297e-05\n",
      "Epoch 56/100\n",
      "12/12 [==============================] - 1s 55ms/step - loss: 7.2650e-06 - mse: 7.2650e-06 - val_loss: 2.4923e-05 - val_mse: 2.4923e-05\n",
      "Epoch 57/100\n",
      "12/12 [==============================] - 1s 49ms/step - loss: 7.2566e-06 - mse: 7.2566e-06 - val_loss: 2.5185e-05 - val_mse: 2.5185e-05\n",
      "Epoch 58/100\n",
      "12/12 [==============================] - 1s 46ms/step - loss: 7.0122e-06 - mse: 7.0122e-06 - val_loss: 2.3574e-05 - val_mse: 2.3574e-05\n",
      "Epoch 59/100\n",
      "12/12 [==============================] - 1s 58ms/step - loss: 6.9664e-06 - mse: 6.9664e-06 - val_loss: 2.4128e-05 - val_mse: 2.4128e-05\n",
      "Epoch 60/100\n",
      "12/12 [==============================] - 1s 58ms/step - loss: 6.5661e-06 - mse: 6.5661e-06 - val_loss: 2.4713e-05 - val_mse: 2.4713e-05\n",
      "Epoch 61/100\n",
      "12/12 [==============================] - 1s 63ms/step - loss: 6.6261e-06 - mse: 6.6261e-06 - val_loss: 2.4022e-05 - val_mse: 2.4022e-05\n",
      "Epoch 62/100\n",
      "12/12 [==============================] - 1s 47ms/step - loss: 6.7232e-06 - mse: 6.7232e-06 - val_loss: 2.5599e-05 - val_mse: 2.5599e-05\n",
      "Epoch 63/100\n",
      "12/12 [==============================] - 1s 47ms/step - loss: 6.3188e-06 - mse: 6.3188e-06 - val_loss: 2.3398e-05 - val_mse: 2.3398e-05\n",
      "Epoch 64/100\n",
      "12/12 [==============================] - 1s 46ms/step - loss: 6.3217e-06 - mse: 6.3217e-06 - val_loss: 2.4064e-05 - val_mse: 2.4064e-05\n",
      "Epoch 65/100\n",
      "12/12 [==============================] - 1s 46ms/step - loss: 6.1974e-06 - mse: 6.1974e-06 - val_loss: 2.4094e-05 - val_mse: 2.4094e-05\n",
      "Epoch 66/100\n",
      "12/12 [==============================] - 1s 48ms/step - loss: 6.4967e-06 - mse: 6.4967e-06 - val_loss: 2.3313e-05 - val_mse: 2.3313e-05\n",
      "Epoch 67/100\n",
      "12/12 [==============================] - 1s 48ms/step - loss: 6.9411e-06 - mse: 6.9411e-06 - val_loss: 2.5949e-05 - val_mse: 2.5949e-05\n",
      "Epoch 68/100\n",
      "12/12 [==============================] - 1s 64ms/step - loss: 6.2942e-06 - mse: 6.2942e-06 - val_loss: 2.3333e-05 - val_mse: 2.3333e-05\n",
      "Epoch 69/100\n",
      "12/12 [==============================] - 1s 48ms/step - loss: 6.2011e-06 - mse: 6.2011e-06 - val_loss: 2.2774e-05 - val_mse: 2.2774e-05\n",
      "Epoch 70/100\n",
      "12/12 [==============================] - 1s 51ms/step - loss: 6.2341e-06 - mse: 6.2341e-06 - val_loss: 2.7047e-05 - val_mse: 2.7047e-05\n",
      "Epoch 71/100\n",
      "12/12 [==============================] - 1s 50ms/step - loss: 6.4979e-06 - mse: 6.4979e-06 - val_loss: 2.3015e-05 - val_mse: 2.3015e-05\n",
      "Epoch 72/100\n",
      "12/12 [==============================] - 1s 46ms/step - loss: 5.8009e-06 - mse: 5.8009e-06 - val_loss: 2.3634e-05 - val_mse: 2.3634e-05\n",
      "Epoch 73/100\n",
      "12/12 [==============================] - 1s 46ms/step - loss: 5.7700e-06 - mse: 5.7700e-06 - val_loss: 2.3537e-05 - val_mse: 2.3537e-05\n",
      "Epoch 74/100\n",
      "12/12 [==============================] - 1s 46ms/step - loss: 5.5726e-06 - mse: 5.5726e-06 - val_loss: 2.2176e-05 - val_mse: 2.2176e-05\n",
      "Epoch 75/100\n",
      "12/12 [==============================] - 1s 45ms/step - loss: 5.7181e-06 - mse: 5.7181e-06 - val_loss: 2.2641e-05 - val_mse: 2.2641e-05\n",
      "Epoch 76/100\n",
      "12/12 [==============================] - 1s 46ms/step - loss: 6.8334e-06 - mse: 6.8334e-06 - val_loss: 2.2145e-05 - val_mse: 2.2145e-05\n",
      "Epoch 77/100\n",
      "12/12 [==============================] - 1s 47ms/step - loss: 5.7886e-06 - mse: 5.7886e-06 - val_loss: 2.4690e-05 - val_mse: 2.4690e-05\n",
      "Epoch 78/100\n",
      "12/12 [==============================] - 1s 46ms/step - loss: 5.9461e-06 - mse: 5.9461e-06 - val_loss: 2.2390e-05 - val_mse: 2.2390e-05\n",
      "Epoch 79/100\n",
      "12/12 [==============================] - 1s 46ms/step - loss: 5.4884e-06 - mse: 5.4884e-06 - val_loss: 2.2244e-05 - val_mse: 2.2244e-05\n",
      "Epoch 80/100\n",
      "12/12 [==============================] - 1s 46ms/step - loss: 5.4514e-06 - mse: 5.4514e-06 - val_loss: 2.2471e-05 - val_mse: 2.2471e-05\n",
      "Epoch 81/100\n",
      "12/12 [==============================] - 1s 46ms/step - loss: 5.2183e-06 - mse: 5.2183e-06 - val_loss: 2.2605e-05 - val_mse: 2.2605e-05\n",
      "Epoch 82/100\n",
      "12/12 [==============================] - 1s 46ms/step - loss: 5.8227e-06 - mse: 5.8227e-06 - val_loss: 2.1310e-05 - val_mse: 2.1310e-05\n",
      "Epoch 83/100\n",
      "12/12 [==============================] - 1s 49ms/step - loss: 4.9746e-06 - mse: 4.9746e-06 - val_loss: 2.1871e-05 - val_mse: 2.1871e-05\n",
      "Epoch 84/100\n",
      "12/12 [==============================] - 1s 46ms/step - loss: 5.3437e-06 - mse: 5.3437e-06 - val_loss: 2.1865e-05 - val_mse: 2.1865e-05\n",
      "Epoch 85/100\n",
      "12/12 [==============================] - 1s 45ms/step - loss: 4.8030e-06 - mse: 4.8030e-06 - val_loss: 2.1829e-05 - val_mse: 2.1829e-05\n",
      "Epoch 86/100\n",
      "12/12 [==============================] - 1s 45ms/step - loss: 5.0548e-06 - mse: 5.0548e-06 - val_loss: 2.1997e-05 - val_mse: 2.1997e-05\n",
      "Epoch 87/100\n",
      "12/12 [==============================] - 1s 45ms/step - loss: 5.0400e-06 - mse: 5.0400e-06 - val_loss: 2.0898e-05 - val_mse: 2.0898e-05\n",
      "Epoch 88/100\n",
      "12/12 [==============================] - 1s 46ms/step - loss: 4.8371e-06 - mse: 4.8371e-06 - val_loss: 2.0620e-05 - val_mse: 2.0620e-05\n",
      "Epoch 89/100\n",
      "12/12 [==============================] - 1s 49ms/step - loss: 4.8121e-06 - mse: 4.8121e-06 - val_loss: 2.1284e-05 - val_mse: 2.1284e-05\n",
      "Epoch 90/100\n",
      "12/12 [==============================] - 1s 46ms/step - loss: 5.0323e-06 - mse: 5.0323e-06 - val_loss: 2.4731e-05 - val_mse: 2.4731e-05\n",
      "Epoch 91/100\n",
      "12/12 [==============================] - 1s 46ms/step - loss: 7.1455e-06 - mse: 7.1455e-06 - val_loss: 2.0461e-05 - val_mse: 2.0461e-05\n",
      "Epoch 92/100\n",
      "12/12 [==============================] - 1s 45ms/step - loss: 4.7033e-06 - mse: 4.7033e-06 - val_loss: 2.1736e-05 - val_mse: 2.1736e-05\n",
      "Epoch 93/100\n",
      "12/12 [==============================] - 1s 47ms/step - loss: 5.0074e-06 - mse: 5.0074e-06 - val_loss: 2.1318e-05 - val_mse: 2.1318e-05\n",
      "Epoch 94/100\n",
      "12/12 [==============================] - 1s 45ms/step - loss: 4.5952e-06 - mse: 4.5952e-06 - val_loss: 2.0533e-05 - val_mse: 2.0533e-05\n",
      "Epoch 95/100\n",
      "12/12 [==============================] - 1s 46ms/step - loss: 4.4582e-06 - mse: 4.4582e-06 - val_loss: 1.9167e-05 - val_mse: 1.9167e-05\n",
      "Epoch 96/100\n",
      "12/12 [==============================] - 1s 46ms/step - loss: 4.1616e-06 - mse: 4.1616e-06 - val_loss: 2.2258e-05 - val_mse: 2.2258e-05\n",
      "Epoch 97/100\n",
      "12/12 [==============================] - 1s 48ms/step - loss: 5.5627e-06 - mse: 5.5627e-06 - val_loss: 2.0560e-05 - val_mse: 2.0560e-05\n",
      "Epoch 98/100\n",
      "12/12 [==============================] - 1s 46ms/step - loss: 6.8791e-06 - mse: 6.8791e-06 - val_loss: 1.9800e-05 - val_mse: 1.9800e-05\n",
      "Epoch 99/100\n",
      "12/12 [==============================] - 1s 45ms/step - loss: 5.3911e-06 - mse: 5.3911e-06 - val_loss: 2.3871e-05 - val_mse: 2.3871e-05\n",
      "Epoch 100/100\n",
      "12/12 [==============================] - 1s 46ms/step - loss: 5.4205e-06 - mse: 5.4205e-06 - val_loss: 2.0273e-05 - val_mse: 2.0273e-05\n"
     ]
    }
   ],
   "metadata": {
    "execution": {
     "iopub.execute_input": "2021-08-24T15:47:05.493393Z",
     "iopub.status.busy": "2021-08-24T15:47:05.492668Z",
     "iopub.status.idle": "2021-08-24T15:47:16.052428Z",
     "shell.execute_reply": "2021-08-24T15:47:16.052973Z",
     "shell.execute_reply.started": "2021-08-24T15:45:25.972905Z"
    },
    "papermill": {
     "duration": 10.584989,
     "end_time": "2021-08-24T15:47:16.053172",
     "exception": false,
     "start_time": "2021-08-24T15:47:05.468183",
     "status": "completed"
    },
    "tags": []
   }
  },
  {
   "cell_type": "code",
   "execution_count": 18,
   "source": [
    "# Plot epochs - loss\n",
    "plt.plot(history.history['loss'])\n",
    "plt.plot(history.history['val_loss'])\n",
    "plt.xlabel('epochs')\n",
    "plt.ylabel('loss')\n",
    "plt.legend(['train', 'val'])\n",
    "plt.show()"
   ],
   "outputs": [
    {
     "output_type": "display_data",
     "data": {
      "text/plain": [
       "<Figure size 432x288 with 1 Axes>"
      ],
      "image/svg+xml": "<?xml version=\"1.0\" encoding=\"utf-8\" standalone=\"no\"?>\n<!DOCTYPE svg PUBLIC \"-//W3C//DTD SVG 1.1//EN\"\n  \"http://www.w3.org/Graphics/SVG/1.1/DTD/svg11.dtd\">\n<svg height=\"262.19625pt\" version=\"1.1\" viewBox=\"0 0 404.86875 262.19625\" width=\"404.86875pt\" xmlns=\"http://www.w3.org/2000/svg\" xmlns:xlink=\"http://www.w3.org/1999/xlink\">\n <metadata>\n  <rdf:RDF xmlns:cc=\"http://creativecommons.org/ns#\" xmlns:dc=\"http://purl.org/dc/elements/1.1/\" xmlns:rdf=\"http://www.w3.org/1999/02/22-rdf-syntax-ns#\">\n   <cc:Work>\n    <dc:type rdf:resource=\"http://purl.org/dc/dcmitype/StillImage\"/>\n    <dc:date>2021-08-25T09:12:28.806554</dc:date>\n    <dc:format>image/svg+xml</dc:format>\n    <dc:creator>\n     <cc:Agent>\n      <dc:title>Matplotlib v3.4.2, https://matplotlib.org/</dc:title>\n     </cc:Agent>\n    </dc:creator>\n   </cc:Work>\n  </rdf:RDF>\n </metadata>\n <defs>\n  <style type=\"text/css\">*{stroke-linecap:butt;stroke-linejoin:round;}</style>\n </defs>\n <g id=\"figure_1\">\n  <g id=\"patch_1\">\n   <path d=\"M 0 262.19625 \nL 404.86875 262.19625 \nL 404.86875 0 \nL 0 0 \nz\n\" style=\"fill:none;\"/>\n  </g>\n  <g id=\"axes_1\">\n   <g id=\"patch_2\">\n    <path d=\"M 62.86875 224.64 \nL 397.66875 224.64 \nL 397.66875 7.2 \nL 62.86875 7.2 \nz\n\" style=\"fill:#ffffff;\"/>\n   </g>\n   <g id=\"matplotlib.axis_1\">\n    <g id=\"xtick_1\">\n     <g id=\"line2d_1\">\n      <defs>\n       <path d=\"M 0 0 \nL 0 3.5 \n\" id=\"m03338ce75c\" style=\"stroke:#000000;stroke-width:0.8;\"/>\n      </defs>\n      <g>\n       <use style=\"stroke:#000000;stroke-width:0.8;\" x=\"78.086932\" xlink:href=\"#m03338ce75c\" y=\"224.64\"/>\n      </g>\n     </g>\n     <g id=\"text_1\">\n      <!-- 0 -->\n      <g transform=\"translate(74.905682 239.238437)scale(0.1 -0.1)\">\n       <defs>\n        <path d=\"M 2034 4250 \nQ 1547 4250 1301 3770 \nQ 1056 3291 1056 2328 \nQ 1056 1369 1301 889 \nQ 1547 409 2034 409 \nQ 2525 409 2770 889 \nQ 3016 1369 3016 2328 \nQ 3016 3291 2770 3770 \nQ 2525 4250 2034 4250 \nz\nM 2034 4750 \nQ 2819 4750 3233 4129 \nQ 3647 3509 3647 2328 \nQ 3647 1150 3233 529 \nQ 2819 -91 2034 -91 \nQ 1250 -91 836 529 \nQ 422 1150 422 2328 \nQ 422 3509 836 4129 \nQ 1250 4750 2034 4750 \nz\n\" id=\"DejaVuSans-30\" transform=\"scale(0.015625)\"/>\n       </defs>\n       <use xlink:href=\"#DejaVuSans-30\"/>\n      </g>\n     </g>\n    </g>\n    <g id=\"xtick_2\">\n     <g id=\"line2d_2\">\n      <g>\n       <use style=\"stroke:#000000;stroke-width:0.8;\" x=\"139.574535\" xlink:href=\"#m03338ce75c\" y=\"224.64\"/>\n      </g>\n     </g>\n     <g id=\"text_2\">\n      <!-- 20 -->\n      <g transform=\"translate(133.212035 239.238437)scale(0.1 -0.1)\">\n       <defs>\n        <path d=\"M 1228 531 \nL 3431 531 \nL 3431 0 \nL 469 0 \nL 469 531 \nQ 828 903 1448 1529 \nQ 2069 2156 2228 2338 \nQ 2531 2678 2651 2914 \nQ 2772 3150 2772 3378 \nQ 2772 3750 2511 3984 \nQ 2250 4219 1831 4219 \nQ 1534 4219 1204 4116 \nQ 875 4013 500 3803 \nL 500 4441 \nQ 881 4594 1212 4672 \nQ 1544 4750 1819 4750 \nQ 2544 4750 2975 4387 \nQ 3406 4025 3406 3419 \nQ 3406 3131 3298 2873 \nQ 3191 2616 2906 2266 \nQ 2828 2175 2409 1742 \nQ 1991 1309 1228 531 \nz\n\" id=\"DejaVuSans-32\" transform=\"scale(0.015625)\"/>\n       </defs>\n       <use xlink:href=\"#DejaVuSans-32\"/>\n       <use x=\"63.623047\" xlink:href=\"#DejaVuSans-30\"/>\n      </g>\n     </g>\n    </g>\n    <g id=\"xtick_3\">\n     <g id=\"line2d_3\">\n      <g>\n       <use style=\"stroke:#000000;stroke-width:0.8;\" x=\"201.062138\" xlink:href=\"#m03338ce75c\" y=\"224.64\"/>\n      </g>\n     </g>\n     <g id=\"text_3\">\n      <!-- 40 -->\n      <g transform=\"translate(194.699638 239.238437)scale(0.1 -0.1)\">\n       <defs>\n        <path d=\"M 2419 4116 \nL 825 1625 \nL 2419 1625 \nL 2419 4116 \nz\nM 2253 4666 \nL 3047 4666 \nL 3047 1625 \nL 3713 1625 \nL 3713 1100 \nL 3047 1100 \nL 3047 0 \nL 2419 0 \nL 2419 1100 \nL 313 1100 \nL 313 1709 \nL 2253 4666 \nz\n\" id=\"DejaVuSans-34\" transform=\"scale(0.015625)\"/>\n       </defs>\n       <use xlink:href=\"#DejaVuSans-34\"/>\n       <use x=\"63.623047\" xlink:href=\"#DejaVuSans-30\"/>\n      </g>\n     </g>\n    </g>\n    <g id=\"xtick_4\">\n     <g id=\"line2d_4\">\n      <g>\n       <use style=\"stroke:#000000;stroke-width:0.8;\" x=\"262.549742\" xlink:href=\"#m03338ce75c\" y=\"224.64\"/>\n      </g>\n     </g>\n     <g id=\"text_4\">\n      <!-- 60 -->\n      <g transform=\"translate(256.187242 239.238437)scale(0.1 -0.1)\">\n       <defs>\n        <path d=\"M 2113 2584 \nQ 1688 2584 1439 2293 \nQ 1191 2003 1191 1497 \nQ 1191 994 1439 701 \nQ 1688 409 2113 409 \nQ 2538 409 2786 701 \nQ 3034 994 3034 1497 \nQ 3034 2003 2786 2293 \nQ 2538 2584 2113 2584 \nz\nM 3366 4563 \nL 3366 3988 \nQ 3128 4100 2886 4159 \nQ 2644 4219 2406 4219 \nQ 1781 4219 1451 3797 \nQ 1122 3375 1075 2522 \nQ 1259 2794 1537 2939 \nQ 1816 3084 2150 3084 \nQ 2853 3084 3261 2657 \nQ 3669 2231 3669 1497 \nQ 3669 778 3244 343 \nQ 2819 -91 2113 -91 \nQ 1303 -91 875 529 \nQ 447 1150 447 2328 \nQ 447 3434 972 4092 \nQ 1497 4750 2381 4750 \nQ 2619 4750 2861 4703 \nQ 3103 4656 3366 4563 \nz\n\" id=\"DejaVuSans-36\" transform=\"scale(0.015625)\"/>\n       </defs>\n       <use xlink:href=\"#DejaVuSans-36\"/>\n       <use x=\"63.623047\" xlink:href=\"#DejaVuSans-30\"/>\n      </g>\n     </g>\n    </g>\n    <g id=\"xtick_5\">\n     <g id=\"line2d_5\">\n      <g>\n       <use style=\"stroke:#000000;stroke-width:0.8;\" x=\"324.037345\" xlink:href=\"#m03338ce75c\" y=\"224.64\"/>\n      </g>\n     </g>\n     <g id=\"text_5\">\n      <!-- 80 -->\n      <g transform=\"translate(317.674845 239.238437)scale(0.1 -0.1)\">\n       <defs>\n        <path d=\"M 2034 2216 \nQ 1584 2216 1326 1975 \nQ 1069 1734 1069 1313 \nQ 1069 891 1326 650 \nQ 1584 409 2034 409 \nQ 2484 409 2743 651 \nQ 3003 894 3003 1313 \nQ 3003 1734 2745 1975 \nQ 2488 2216 2034 2216 \nz\nM 1403 2484 \nQ 997 2584 770 2862 \nQ 544 3141 544 3541 \nQ 544 4100 942 4425 \nQ 1341 4750 2034 4750 \nQ 2731 4750 3128 4425 \nQ 3525 4100 3525 3541 \nQ 3525 3141 3298 2862 \nQ 3072 2584 2669 2484 \nQ 3125 2378 3379 2068 \nQ 3634 1759 3634 1313 \nQ 3634 634 3220 271 \nQ 2806 -91 2034 -91 \nQ 1263 -91 848 271 \nQ 434 634 434 1313 \nQ 434 1759 690 2068 \nQ 947 2378 1403 2484 \nz\nM 1172 3481 \nQ 1172 3119 1398 2916 \nQ 1625 2713 2034 2713 \nQ 2441 2713 2670 2916 \nQ 2900 3119 2900 3481 \nQ 2900 3844 2670 4047 \nQ 2441 4250 2034 4250 \nQ 1625 4250 1398 4047 \nQ 1172 3844 1172 3481 \nz\n\" id=\"DejaVuSans-38\" transform=\"scale(0.015625)\"/>\n       </defs>\n       <use xlink:href=\"#DejaVuSans-38\"/>\n       <use x=\"63.623047\" xlink:href=\"#DejaVuSans-30\"/>\n      </g>\n     </g>\n    </g>\n    <g id=\"xtick_6\">\n     <g id=\"line2d_6\">\n      <g>\n       <use style=\"stroke:#000000;stroke-width:0.8;\" x=\"385.524948\" xlink:href=\"#m03338ce75c\" y=\"224.64\"/>\n      </g>\n     </g>\n     <g id=\"text_6\">\n      <!-- 100 -->\n      <g transform=\"translate(375.981198 239.238437)scale(0.1 -0.1)\">\n       <defs>\n        <path d=\"M 794 531 \nL 1825 531 \nL 1825 4091 \nL 703 3866 \nL 703 4441 \nL 1819 4666 \nL 2450 4666 \nL 2450 531 \nL 3481 531 \nL 3481 0 \nL 794 0 \nL 794 531 \nz\n\" id=\"DejaVuSans-31\" transform=\"scale(0.015625)\"/>\n       </defs>\n       <use xlink:href=\"#DejaVuSans-31\"/>\n       <use x=\"63.623047\" xlink:href=\"#DejaVuSans-30\"/>\n       <use x=\"127.246094\" xlink:href=\"#DejaVuSans-30\"/>\n      </g>\n     </g>\n    </g>\n    <g id=\"text_7\">\n     <!-- epochs -->\n     <g transform=\"translate(212.435937 252.916562)scale(0.1 -0.1)\">\n      <defs>\n       <path d=\"M 3597 1894 \nL 3597 1613 \nL 953 1613 \nQ 991 1019 1311 708 \nQ 1631 397 2203 397 \nQ 2534 397 2845 478 \nQ 3156 559 3463 722 \nL 3463 178 \nQ 3153 47 2828 -22 \nQ 2503 -91 2169 -91 \nQ 1331 -91 842 396 \nQ 353 884 353 1716 \nQ 353 2575 817 3079 \nQ 1281 3584 2069 3584 \nQ 2775 3584 3186 3129 \nQ 3597 2675 3597 1894 \nz\nM 3022 2063 \nQ 3016 2534 2758 2815 \nQ 2500 3097 2075 3097 \nQ 1594 3097 1305 2825 \nQ 1016 2553 972 2059 \nL 3022 2063 \nz\n\" id=\"DejaVuSans-65\" transform=\"scale(0.015625)\"/>\n       <path d=\"M 1159 525 \nL 1159 -1331 \nL 581 -1331 \nL 581 3500 \nL 1159 3500 \nL 1159 2969 \nQ 1341 3281 1617 3432 \nQ 1894 3584 2278 3584 \nQ 2916 3584 3314 3078 \nQ 3713 2572 3713 1747 \nQ 3713 922 3314 415 \nQ 2916 -91 2278 -91 \nQ 1894 -91 1617 61 \nQ 1341 213 1159 525 \nz\nM 3116 1747 \nQ 3116 2381 2855 2742 \nQ 2594 3103 2138 3103 \nQ 1681 3103 1420 2742 \nQ 1159 2381 1159 1747 \nQ 1159 1113 1420 752 \nQ 1681 391 2138 391 \nQ 2594 391 2855 752 \nQ 3116 1113 3116 1747 \nz\n\" id=\"DejaVuSans-70\" transform=\"scale(0.015625)\"/>\n       <path d=\"M 1959 3097 \nQ 1497 3097 1228 2736 \nQ 959 2375 959 1747 \nQ 959 1119 1226 758 \nQ 1494 397 1959 397 \nQ 2419 397 2687 759 \nQ 2956 1122 2956 1747 \nQ 2956 2369 2687 2733 \nQ 2419 3097 1959 3097 \nz\nM 1959 3584 \nQ 2709 3584 3137 3096 \nQ 3566 2609 3566 1747 \nQ 3566 888 3137 398 \nQ 2709 -91 1959 -91 \nQ 1206 -91 779 398 \nQ 353 888 353 1747 \nQ 353 2609 779 3096 \nQ 1206 3584 1959 3584 \nz\n\" id=\"DejaVuSans-6f\" transform=\"scale(0.015625)\"/>\n       <path d=\"M 3122 3366 \nL 3122 2828 \nQ 2878 2963 2633 3030 \nQ 2388 3097 2138 3097 \nQ 1578 3097 1268 2742 \nQ 959 2388 959 1747 \nQ 959 1106 1268 751 \nQ 1578 397 2138 397 \nQ 2388 397 2633 464 \nQ 2878 531 3122 666 \nL 3122 134 \nQ 2881 22 2623 -34 \nQ 2366 -91 2075 -91 \nQ 1284 -91 818 406 \nQ 353 903 353 1747 \nQ 353 2603 823 3093 \nQ 1294 3584 2113 3584 \nQ 2378 3584 2631 3529 \nQ 2884 3475 3122 3366 \nz\n\" id=\"DejaVuSans-63\" transform=\"scale(0.015625)\"/>\n       <path d=\"M 3513 2113 \nL 3513 0 \nL 2938 0 \nL 2938 2094 \nQ 2938 2591 2744 2837 \nQ 2550 3084 2163 3084 \nQ 1697 3084 1428 2787 \nQ 1159 2491 1159 1978 \nL 1159 0 \nL 581 0 \nL 581 4863 \nL 1159 4863 \nL 1159 2956 \nQ 1366 3272 1645 3428 \nQ 1925 3584 2291 3584 \nQ 2894 3584 3203 3211 \nQ 3513 2838 3513 2113 \nz\n\" id=\"DejaVuSans-68\" transform=\"scale(0.015625)\"/>\n       <path d=\"M 2834 3397 \nL 2834 2853 \nQ 2591 2978 2328 3040 \nQ 2066 3103 1784 3103 \nQ 1356 3103 1142 2972 \nQ 928 2841 928 2578 \nQ 928 2378 1081 2264 \nQ 1234 2150 1697 2047 \nL 1894 2003 \nQ 2506 1872 2764 1633 \nQ 3022 1394 3022 966 \nQ 3022 478 2636 193 \nQ 2250 -91 1575 -91 \nQ 1294 -91 989 -36 \nQ 684 19 347 128 \nL 347 722 \nQ 666 556 975 473 \nQ 1284 391 1588 391 \nQ 1994 391 2212 530 \nQ 2431 669 2431 922 \nQ 2431 1156 2273 1281 \nQ 2116 1406 1581 1522 \nL 1381 1569 \nQ 847 1681 609 1914 \nQ 372 2147 372 2553 \nQ 372 3047 722 3315 \nQ 1072 3584 1716 3584 \nQ 2034 3584 2315 3537 \nQ 2597 3491 2834 3397 \nz\n\" id=\"DejaVuSans-73\" transform=\"scale(0.015625)\"/>\n      </defs>\n      <use xlink:href=\"#DejaVuSans-65\"/>\n      <use x=\"61.523438\" xlink:href=\"#DejaVuSans-70\"/>\n      <use x=\"125\" xlink:href=\"#DejaVuSans-6f\"/>\n      <use x=\"186.181641\" xlink:href=\"#DejaVuSans-63\"/>\n      <use x=\"241.162109\" xlink:href=\"#DejaVuSans-68\"/>\n      <use x=\"304.541016\" xlink:href=\"#DejaVuSans-73\"/>\n     </g>\n    </g>\n   </g>\n   <g id=\"matplotlib.axis_2\">\n    <g id=\"ytick_1\">\n     <g id=\"line2d_7\">\n      <defs>\n       <path d=\"M 0 0 \nL -3.5 0 \n\" id=\"mc900eb55be\" style=\"stroke:#000000;stroke-width:0.8;\"/>\n      </defs>\n      <g>\n       <use style=\"stroke:#000000;stroke-width:0.8;\" x=\"62.86875\" xlink:href=\"#mc900eb55be\" y=\"215.149524\"/>\n      </g>\n     </g>\n     <g id=\"text_8\">\n      <!-- 0.0000 -->\n      <g transform=\"translate(20.878125 218.948743)scale(0.1 -0.1)\">\n       <defs>\n        <path d=\"M 684 794 \nL 1344 794 \nL 1344 0 \nL 684 0 \nL 684 794 \nz\n\" id=\"DejaVuSans-2e\" transform=\"scale(0.015625)\"/>\n       </defs>\n       <use xlink:href=\"#DejaVuSans-30\"/>\n       <use x=\"63.623047\" xlink:href=\"#DejaVuSans-2e\"/>\n       <use x=\"95.410156\" xlink:href=\"#DejaVuSans-30\"/>\n       <use x=\"159.033203\" xlink:href=\"#DejaVuSans-30\"/>\n       <use x=\"222.65625\" xlink:href=\"#DejaVuSans-30\"/>\n       <use x=\"286.279297\" xlink:href=\"#DejaVuSans-30\"/>\n      </g>\n     </g>\n    </g>\n    <g id=\"ytick_2\">\n     <g id=\"line2d_8\">\n      <g>\n       <use style=\"stroke:#000000;stroke-width:0.8;\" x=\"62.86875\" xlink:href=\"#mc900eb55be\" y=\"167.913132\"/>\n      </g>\n     </g>\n     <g id=\"text_9\">\n      <!-- 0.0005 -->\n      <g transform=\"translate(20.878125 171.712351)scale(0.1 -0.1)\">\n       <defs>\n        <path d=\"M 691 4666 \nL 3169 4666 \nL 3169 4134 \nL 1269 4134 \nL 1269 2991 \nQ 1406 3038 1543 3061 \nQ 1681 3084 1819 3084 \nQ 2600 3084 3056 2656 \nQ 3513 2228 3513 1497 \nQ 3513 744 3044 326 \nQ 2575 -91 1722 -91 \nQ 1428 -91 1123 -41 \nQ 819 9 494 109 \nL 494 744 \nQ 775 591 1075 516 \nQ 1375 441 1709 441 \nQ 2250 441 2565 725 \nQ 2881 1009 2881 1497 \nQ 2881 1984 2565 2268 \nQ 2250 2553 1709 2553 \nQ 1456 2553 1204 2497 \nQ 953 2441 691 2322 \nL 691 4666 \nz\n\" id=\"DejaVuSans-35\" transform=\"scale(0.015625)\"/>\n       </defs>\n       <use xlink:href=\"#DejaVuSans-30\"/>\n       <use x=\"63.623047\" xlink:href=\"#DejaVuSans-2e\"/>\n       <use x=\"95.410156\" xlink:href=\"#DejaVuSans-30\"/>\n       <use x=\"159.033203\" xlink:href=\"#DejaVuSans-30\"/>\n       <use x=\"222.65625\" xlink:href=\"#DejaVuSans-30\"/>\n       <use x=\"286.279297\" xlink:href=\"#DejaVuSans-35\"/>\n      </g>\n     </g>\n    </g>\n    <g id=\"ytick_3\">\n     <g id=\"line2d_9\">\n      <g>\n       <use style=\"stroke:#000000;stroke-width:0.8;\" x=\"62.86875\" xlink:href=\"#mc900eb55be\" y=\"120.67674\"/>\n      </g>\n     </g>\n     <g id=\"text_10\">\n      <!-- 0.0010 -->\n      <g transform=\"translate(20.878125 124.475959)scale(0.1 -0.1)\">\n       <use xlink:href=\"#DejaVuSans-30\"/>\n       <use x=\"63.623047\" xlink:href=\"#DejaVuSans-2e\"/>\n       <use x=\"95.410156\" xlink:href=\"#DejaVuSans-30\"/>\n       <use x=\"159.033203\" xlink:href=\"#DejaVuSans-30\"/>\n       <use x=\"222.65625\" xlink:href=\"#DejaVuSans-31\"/>\n       <use x=\"286.279297\" xlink:href=\"#DejaVuSans-30\"/>\n      </g>\n     </g>\n    </g>\n    <g id=\"ytick_4\">\n     <g id=\"line2d_10\">\n      <g>\n       <use style=\"stroke:#000000;stroke-width:0.8;\" x=\"62.86875\" xlink:href=\"#mc900eb55be\" y=\"73.440349\"/>\n      </g>\n     </g>\n     <g id=\"text_11\">\n      <!-- 0.0015 -->\n      <g transform=\"translate(20.878125 77.239567)scale(0.1 -0.1)\">\n       <use xlink:href=\"#DejaVuSans-30\"/>\n       <use x=\"63.623047\" xlink:href=\"#DejaVuSans-2e\"/>\n       <use x=\"95.410156\" xlink:href=\"#DejaVuSans-30\"/>\n       <use x=\"159.033203\" xlink:href=\"#DejaVuSans-30\"/>\n       <use x=\"222.65625\" xlink:href=\"#DejaVuSans-31\"/>\n       <use x=\"286.279297\" xlink:href=\"#DejaVuSans-35\"/>\n      </g>\n     </g>\n    </g>\n    <g id=\"ytick_5\">\n     <g id=\"line2d_11\">\n      <g>\n       <use style=\"stroke:#000000;stroke-width:0.8;\" x=\"62.86875\" xlink:href=\"#mc900eb55be\" y=\"26.203957\"/>\n      </g>\n     </g>\n     <g id=\"text_12\">\n      <!-- 0.0020 -->\n      <g transform=\"translate(20.878125 30.003175)scale(0.1 -0.1)\">\n       <use xlink:href=\"#DejaVuSans-30\"/>\n       <use x=\"63.623047\" xlink:href=\"#DejaVuSans-2e\"/>\n       <use x=\"95.410156\" xlink:href=\"#DejaVuSans-30\"/>\n       <use x=\"159.033203\" xlink:href=\"#DejaVuSans-30\"/>\n       <use x=\"222.65625\" xlink:href=\"#DejaVuSans-32\"/>\n       <use x=\"286.279297\" xlink:href=\"#DejaVuSans-30\"/>\n      </g>\n     </g>\n    </g>\n    <g id=\"text_13\">\n     <!-- loss -->\n     <g transform=\"translate(14.798438 125.577812)rotate(-90)scale(0.1 -0.1)\">\n      <defs>\n       <path d=\"M 603 4863 \nL 1178 4863 \nL 1178 0 \nL 603 0 \nL 603 4863 \nz\n\" id=\"DejaVuSans-6c\" transform=\"scale(0.015625)\"/>\n      </defs>\n      <use xlink:href=\"#DejaVuSans-6c\"/>\n      <use x=\"27.783203\" xlink:href=\"#DejaVuSans-6f\"/>\n      <use x=\"88.964844\" xlink:href=\"#DejaVuSans-73\"/>\n      <use x=\"141.064453\" xlink:href=\"#DejaVuSans-73\"/>\n     </g>\n    </g>\n   </g>\n   <g id=\"line2d_12\">\n    <path clip-path=\"url(#p8f231d0443)\" d=\"M 78.086932 17.083636 \nL 81.161312 185.831556 \nL 84.235692 193.692844 \nL 87.310072 201.712516 \nL 90.384452 203.695176 \nL 93.458833 205.594228 \nL 96.533213 206.514013 \nL 99.607593 207.469577 \nL 102.681973 208.485138 \nL 105.756353 209.333742 \nL 108.830733 209.906737 \nL 111.905114 210.29862 \nL 114.979494 210.874716 \nL 118.053874 211.33384 \nL 121.128254 211.317618 \nL 124.202634 211.864185 \nL 127.277014 212.086541 \nL 130.351395 212.332883 \nL 133.425775 212.578913 \nL 136.500155 212.733823 \nL 139.574535 212.862173 \nL 142.648915 213.011168 \nL 145.723295 213.185982 \nL 148.797676 213.203079 \nL 151.872056 213.093386 \nL 154.946436 213.409204 \nL 158.020816 213.587921 \nL 161.095196 213.681016 \nL 164.169576 213.69398 \nL 167.243957 213.750047 \nL 170.318337 213.823306 \nL 173.392717 213.888881 \nL 176.467097 213.965431 \nL 179.541477 214.013521 \nL 182.615857 214.012489 \nL 185.690238 214.065425 \nL 188.764618 214.065632 \nL 191.838998 214.106551 \nL 194.913378 214.138502 \nL 197.987758 214.223324 \nL 201.062138 214.202904 \nL 204.136519 214.218646 \nL 207.210899 214.285855 \nL 210.285279 214.322304 \nL 213.359659 214.338093 \nL 216.434039 214.335287 \nL 219.508419 214.376205 \nL 222.5828 214.397487 \nL 225.65718 214.359425 \nL 228.73156 214.422845 \nL 231.80594 214.425626 \nL 234.88032 214.446076 \nL 237.9547 214.42432 \nL 241.029081 214.446596 \nL 244.103461 214.453502 \nL 247.177841 214.463181 \nL 250.252221 214.463973 \nL 253.326601 214.487065 \nL 256.400981 214.491388 \nL 259.475362 214.529203 \nL 262.549742 214.523542 \nL 265.624122 214.514364 \nL 268.698502 214.552567 \nL 271.772882 214.552299 \nL 274.847262 214.564041 \nL 277.921643 214.535763 \nL 280.996023 214.493781 \nL 284.070403 214.554894 \nL 287.144783 214.56369 \nL 290.219163 214.560569 \nL 293.293543 214.535653 \nL 296.367924 214.6015 \nL 299.442304 214.604418 \nL 302.516684 214.623066 \nL 305.591064 214.609315 \nL 308.665444 214.503952 \nL 311.739824 214.602661 \nL 314.814205 214.587781 \nL 317.888585 214.631018 \nL 320.962965 214.634512 \nL 324.037345 214.656538 \nL 327.111725 214.599436 \nL 330.186105 214.679556 \nL 333.260486 214.644687 \nL 336.334866 214.695771 \nL 339.409246 214.671985 \nL 342.483626 214.673386 \nL 345.558006 214.692552 \nL 348.632386 214.694911 \nL 351.706767 214.674112 \nL 354.781147 214.47447 \nL 357.855527 214.70519 \nL 360.929907 214.676461 \nL 364.004287 214.715402 \nL 367.078667 214.72835 \nL 370.153048 214.756364 \nL 373.227428 214.624002 \nL 376.301808 214.499632 \nL 379.376188 214.640207 \nL 382.450568 214.637435 \n\" style=\"fill:none;stroke:#1f77b4;stroke-linecap:square;stroke-width:1.5;\"/>\n   </g>\n   <g id=\"line2d_13\">\n    <path clip-path=\"url(#p8f231d0443)\" d=\"M 78.086932 157.433181 \nL 81.161312 189.343765 \nL 84.235692 197.925606 \nL 87.310072 202.595667 \nL 90.384452 204.767592 \nL 93.458833 206.107258 \nL 96.533213 207.316859 \nL 99.607593 207.973739 \nL 102.681973 208.6072 \nL 105.756353 209.127118 \nL 108.830733 209.443422 \nL 111.905114 209.818252 \nL 114.979494 210.121481 \nL 118.053874 210.374306 \nL 121.128254 210.624228 \nL 124.202634 210.882865 \nL 127.277014 211.089982 \nL 130.351395 211.146729 \nL 133.425775 211.337036 \nL 136.500155 211.22602 \nL 139.574535 211.43174 \nL 142.648915 211.641623 \nL 145.723295 211.699089 \nL 148.797676 211.802185 \nL 151.872056 211.885673 \nL 154.946436 212.138021 \nL 158.020816 212.212474 \nL 161.095196 212.293503 \nL 164.169576 212.298438 \nL 167.243957 212.351649 \nL 170.318337 212.331835 \nL 173.392717 212.452075 \nL 176.467097 212.543117 \nL 179.541477 212.448143 \nL 182.615857 212.529897 \nL 185.690238 212.607383 \nL 188.764618 212.381876 \nL 191.838998 212.591986 \nL 194.913378 212.59791 \nL 197.987758 212.658018 \nL 201.062138 212.62448 \nL 204.136519 212.640114 \nL 207.210899 212.739945 \nL 210.285279 212.704462 \nL 213.359659 212.791986 \nL 216.434039 212.795786 \nL 219.508419 212.763939 \nL 222.5828 212.78296 \nL 225.65718 212.790876 \nL 228.73156 212.78871 \nL 231.80594 212.806208 \nL 234.88032 212.828475 \nL 237.9547 212.772872 \nL 241.029081 212.808028 \nL 244.103461 212.854163 \nL 247.177841 212.794944 \nL 250.252221 212.770218 \nL 253.326601 212.922425 \nL 256.400981 212.870086 \nL 259.475362 212.814849 \nL 262.549742 212.880102 \nL 265.624122 212.731076 \nL 268.698502 212.939065 \nL 271.772882 212.876132 \nL 274.847262 212.873335 \nL 277.921643 212.947113 \nL 280.996023 212.698039 \nL 284.070403 212.945173 \nL 287.144783 212.997988 \nL 290.219163 212.594341 \nL 293.293543 212.975186 \nL 296.367924 212.916799 \nL 299.442304 212.9259 \nL 302.516684 213.05452 \nL 305.591064 213.010594 \nL 308.665444 213.057442 \nL 311.739824 212.817007 \nL 314.814205 213.034236 \nL 317.888585 213.048049 \nL 320.962965 213.026594 \nL 324.037345 213.013929 \nL 327.111725 213.136267 \nL 330.186105 213.083323 \nL 333.260486 213.083845 \nL 336.334866 213.087247 \nL 339.409246 213.071445 \nL 342.483626 213.175186 \nL 345.558006 213.20149 \nL 348.632386 213.138731 \nL 351.706767 212.813096 \nL 354.781147 213.216513 \nL 357.855527 213.096038 \nL 360.929907 213.135508 \nL 364.004287 213.209741 \nL 367.078667 213.338781 \nL 370.153048 213.046728 \nL 373.227428 213.207177 \nL 376.301808 213.279002 \nL 379.376188 212.894338 \nL 382.450568 213.234268 \n\" style=\"fill:none;stroke:#ff7f0e;stroke-linecap:square;stroke-width:1.5;\"/>\n   </g>\n   <g id=\"patch_3\">\n    <path d=\"M 62.86875 224.64 \nL 62.86875 7.2 \n\" style=\"fill:none;stroke:#000000;stroke-linecap:square;stroke-linejoin:miter;stroke-width:0.8;\"/>\n   </g>\n   <g id=\"patch_4\">\n    <path d=\"M 397.66875 224.64 \nL 397.66875 7.2 \n\" style=\"fill:none;stroke:#000000;stroke-linecap:square;stroke-linejoin:miter;stroke-width:0.8;\"/>\n   </g>\n   <g id=\"patch_5\">\n    <path d=\"M 62.86875 224.64 \nL 397.66875 224.64 \n\" style=\"fill:none;stroke:#000000;stroke-linecap:square;stroke-linejoin:miter;stroke-width:0.8;\"/>\n   </g>\n   <g id=\"patch_6\">\n    <path d=\"M 62.86875 7.2 \nL 397.66875 7.2 \n\" style=\"fill:none;stroke:#000000;stroke-linecap:square;stroke-linejoin:miter;stroke-width:0.8;\"/>\n   </g>\n   <g id=\"legend_1\">\n    <g id=\"patch_7\">\n     <path d=\"M 335.39375 44.55625 \nL 390.66875 44.55625 \nQ 392.66875 44.55625 392.66875 42.55625 \nL 392.66875 14.2 \nQ 392.66875 12.2 390.66875 12.2 \nL 335.39375 12.2 \nQ 333.39375 12.2 333.39375 14.2 \nL 333.39375 42.55625 \nQ 333.39375 44.55625 335.39375 44.55625 \nz\n\" style=\"fill:#ffffff;opacity:0.8;stroke:#cccccc;stroke-linejoin:miter;\"/>\n    </g>\n    <g id=\"line2d_14\">\n     <path d=\"M 337.39375 20.298437 \nL 357.39375 20.298437 \n\" style=\"fill:none;stroke:#1f77b4;stroke-linecap:square;stroke-width:1.5;\"/>\n    </g>\n    <g id=\"line2d_15\"/>\n    <g id=\"text_14\">\n     <!-- train -->\n     <g transform=\"translate(365.39375 23.798437)scale(0.1 -0.1)\">\n      <defs>\n       <path d=\"M 1172 4494 \nL 1172 3500 \nL 2356 3500 \nL 2356 3053 \nL 1172 3053 \nL 1172 1153 \nQ 1172 725 1289 603 \nQ 1406 481 1766 481 \nL 2356 481 \nL 2356 0 \nL 1766 0 \nQ 1100 0 847 248 \nQ 594 497 594 1153 \nL 594 3053 \nL 172 3053 \nL 172 3500 \nL 594 3500 \nL 594 4494 \nL 1172 4494 \nz\n\" id=\"DejaVuSans-74\" transform=\"scale(0.015625)\"/>\n       <path d=\"M 2631 2963 \nQ 2534 3019 2420 3045 \nQ 2306 3072 2169 3072 \nQ 1681 3072 1420 2755 \nQ 1159 2438 1159 1844 \nL 1159 0 \nL 581 0 \nL 581 3500 \nL 1159 3500 \nL 1159 2956 \nQ 1341 3275 1631 3429 \nQ 1922 3584 2338 3584 \nQ 2397 3584 2469 3576 \nQ 2541 3569 2628 3553 \nL 2631 2963 \nz\n\" id=\"DejaVuSans-72\" transform=\"scale(0.015625)\"/>\n       <path d=\"M 2194 1759 \nQ 1497 1759 1228 1600 \nQ 959 1441 959 1056 \nQ 959 750 1161 570 \nQ 1363 391 1709 391 \nQ 2188 391 2477 730 \nQ 2766 1069 2766 1631 \nL 2766 1759 \nL 2194 1759 \nz\nM 3341 1997 \nL 3341 0 \nL 2766 0 \nL 2766 531 \nQ 2569 213 2275 61 \nQ 1981 -91 1556 -91 \nQ 1019 -91 701 211 \nQ 384 513 384 1019 \nQ 384 1609 779 1909 \nQ 1175 2209 1959 2209 \nL 2766 2209 \nL 2766 2266 \nQ 2766 2663 2505 2880 \nQ 2244 3097 1772 3097 \nQ 1472 3097 1187 3025 \nQ 903 2953 641 2809 \nL 641 3341 \nQ 956 3463 1253 3523 \nQ 1550 3584 1831 3584 \nQ 2591 3584 2966 3190 \nQ 3341 2797 3341 1997 \nz\n\" id=\"DejaVuSans-61\" transform=\"scale(0.015625)\"/>\n       <path d=\"M 603 3500 \nL 1178 3500 \nL 1178 0 \nL 603 0 \nL 603 3500 \nz\nM 603 4863 \nL 1178 4863 \nL 1178 4134 \nL 603 4134 \nL 603 4863 \nz\n\" id=\"DejaVuSans-69\" transform=\"scale(0.015625)\"/>\n       <path d=\"M 3513 2113 \nL 3513 0 \nL 2938 0 \nL 2938 2094 \nQ 2938 2591 2744 2837 \nQ 2550 3084 2163 3084 \nQ 1697 3084 1428 2787 \nQ 1159 2491 1159 1978 \nL 1159 0 \nL 581 0 \nL 581 3500 \nL 1159 3500 \nL 1159 2956 \nQ 1366 3272 1645 3428 \nQ 1925 3584 2291 3584 \nQ 2894 3584 3203 3211 \nQ 3513 2838 3513 2113 \nz\n\" id=\"DejaVuSans-6e\" transform=\"scale(0.015625)\"/>\n      </defs>\n      <use xlink:href=\"#DejaVuSans-74\"/>\n      <use x=\"39.208984\" xlink:href=\"#DejaVuSans-72\"/>\n      <use x=\"80.322266\" xlink:href=\"#DejaVuSans-61\"/>\n      <use x=\"141.601562\" xlink:href=\"#DejaVuSans-69\"/>\n      <use x=\"169.384766\" xlink:href=\"#DejaVuSans-6e\"/>\n     </g>\n    </g>\n    <g id=\"line2d_16\">\n     <path d=\"M 337.39375 34.976562 \nL 357.39375 34.976562 \n\" style=\"fill:none;stroke:#ff7f0e;stroke-linecap:square;stroke-width:1.5;\"/>\n    </g>\n    <g id=\"line2d_17\"/>\n    <g id=\"text_15\">\n     <!-- val -->\n     <g transform=\"translate(365.39375 38.476562)scale(0.1 -0.1)\">\n      <defs>\n       <path d=\"M 191 3500 \nL 800 3500 \nL 1894 563 \nL 2988 3500 \nL 3597 3500 \nL 2284 0 \nL 1503 0 \nL 191 3500 \nz\n\" id=\"DejaVuSans-76\" transform=\"scale(0.015625)\"/>\n      </defs>\n      <use xlink:href=\"#DejaVuSans-76\"/>\n      <use x=\"59.179688\" xlink:href=\"#DejaVuSans-61\"/>\n      <use x=\"120.458984\" xlink:href=\"#DejaVuSans-6c\"/>\n     </g>\n    </g>\n   </g>\n  </g>\n </g>\n <defs>\n  <clipPath id=\"p8f231d0443\">\n   <rect height=\"217.44\" width=\"334.8\" x=\"62.86875\" y=\"7.2\"/>\n  </clipPath>\n </defs>\n</svg>\n",
      "image/png": "[encoded data removed]"
     },
     "metadata": {
      "needs_background": "light"
     }
    }
   ],
   "metadata": {
    "execution": {
     "iopub.execute_input": "2021-08-24T15:47:16.235482Z",
     "iopub.status.busy": "2021-08-24T15:47:16.234854Z",
     "iopub.status.idle": "2021-08-24T15:47:16.388708Z",
     "shell.execute_reply": "2021-08-24T15:47:16.389167Z",
     "shell.execute_reply.started": "2021-08-24T15:45:38.223185Z"
    },
    "papermill": {
     "duration": 0.254846,
     "end_time": "2021-08-24T15:47:16.389351",
     "exception": false,
     "start_time": "2021-08-24T15:47:16.134505",
     "status": "completed"
    },
    "tags": []
   }
  },
  {
   "cell_type": "code",
   "execution_count": 19,
   "source": [
    "# Evaluate model\n",
    "from sklearn.metrics import mean_squared_error\n",
    "\n",
    "train_pred = model.predict(X_train)\n",
    "train_rmse = np.sqrt(mean_squared_error(y_train, train_pred))\n",
    "\n",
    "test_pred = model.predict(X_test)\n",
    "test_rmse = np.sqrt(mean_squared_error(y_test, test_pred))\n",
    "\n",
    "print(f\"Train RMSE: {train_rmse.round(2)}\")\n",
    "print(f\"Test RMSE: {test_rmse.round(2)}\")"
   ],
   "outputs": [
    {
     "output_type": "stream",
     "name": "stderr",
     "text": [
      "2021-08-25 09:12:30.781289: I tensorflow/core/grappler/optimizers/custom_graph_optimizer_registry.cc:112] Plugin optimizer for device_type GPU is enabled.\n"
     ]
    },
    {
     "output_type": "stream",
     "name": "stdout",
     "text": [
      "Train RMSE: 0.0\n",
      "Test RMSE: 0.0\n"
     ]
    },
    {
     "output_type": "stream",
     "name": "stderr",
     "text": [
      "2021-08-25 09:12:31.075082: I tensorflow/core/grappler/optimizers/custom_graph_optimizer_registry.cc:112] Plugin optimizer for device_type GPU is enabled.\n"
     ]
    }
   ],
   "metadata": {
    "execution": {
     "iopub.execute_input": "2021-08-24T15:47:16.560065Z",
     "iopub.status.busy": "2021-08-24T15:47:16.559488Z",
     "iopub.status.idle": "2021-08-24T15:47:16.917473Z",
     "shell.execute_reply": "2021-08-24T15:47:16.916818Z",
     "shell.execute_reply.started": "2021-08-24T15:45:38.438048Z"
    },
    "papermill": {
     "duration": 0.441343,
     "end_time": "2021-08-24T15:47:16.917612",
     "exception": false,
     "start_time": "2021-08-24T15:47:16.476269",
     "status": "completed"
    },
    "tags": []
   }
  },
  {
   "cell_type": "code",
   "execution_count": 20,
   "source": [
    "# Prediction Plot\n",
    "import plotly.graph_objects as go\n",
    "\n",
    "fig = go.Figure()\n",
    "fig.add_trace(go.Scatter(x=np.arange(len(y_test)), y=y_test.ravel(),\n",
    "                    mode='lines',\n",
    "                    name='test'))\n",
    "fig.add_trace(go.Scatter(x=np.arange(len(y_test)), y=test_pred.ravel(),\n",
    "                    line=dict(dash='dash', width=3),\n",
    "                    name='pred'))\n",
    "\n",
    "fig.update_layout(\n",
    "    title=\"Adj Close Prediction of DogeCoin\",\n",
    "    height=500)\n",
    "fig.show()"
   ],
   "outputs": [
    {
     "output_type": "display_data",
     "data": {
      "application/vnd.plotly.v1+json": {
       "config": {
        "plotlyServerURL": "https://plot.ly"
       },
       "data": [
        {
         "mode": "lines",
         "name": "test",
         "type": "scatter",
         "x": [
          0,
          1,
          2,
          3,
          4,
          5,
          6,
          7,
          8,
          9,
          10,
          11,
          12,
          13,
          14,
          15,
          16,
          17,
          18,
          19,
          20,
          21,
          22,
          23,
          24,
          25,
          26,
          27,
          28,
          29,
          30,
          31,
          32,
          33,
          34,
          35,
          36,
          37,
          38,
          39,
          40,
          41,
          42,
          43,
          44,
          45,
          46,
          47,
          48,
          49,
          50,
          51,
          52,
          53,
          54,
          55,
          56,
          57,
          58,
          59,
          60,
          61,
          62,
          63,
          64,
          65,
          66,
          67,
          68,
          69,
          70,
          71,
          72,
          73,
          74,
          75,
          76,
          77,
          78,
          79,
          80,
          81,
          82,
          83,
          84,
          85,
          86,
          87,
          88,
          89,
          90,
          91,
          92,
          93,
          94,
          95,
          96,
          97,
          98,
          99,
          100,
          101,
          102,
          103,
          104,
          105,
          106,
          107,
          108,
          109,
          110,
          111,
          112,
          113,
          114,
          115,
          116,
          117,
          118,
          119,
          120,
          121,
          122,
          123,
          124,
          125,
          126,
          127,
          128,
          129,
          130,
          131,
          132,
          133,
          134,
          135,
          136,
          137,
          138,
          139,
          140,
          141,
          142,
          143,
          144,
          145,
          146,
          147,
          148,
          149,
          150,
          151,
          152,
          153,
          154,
          155,
          156,
          157,
          158,
          159,
          160,
          161,
          162,
          163,
          164,
          165,
          166,
          167,
          168,
          169,
          170,
          171,
          172,
          173,
          174,
          175,
          176,
          177,
          178,
          179,
          180,
          181,
          182,
          183,
          184,
          185,
          186,
          187,
          188,
          189,
          190,
          191,
          192,
          193,
          194,
          195,
          196,
          197,
          198,
          199,
          200,
          201,
          202,
          203,
          204,
          205,
          206,
          207,
          208,
          209,
          210,
          211,
          212,
          213,
          214,
          215,
          216,
          217,
          218,
          219,
          220,
          221,
          222,
          223,
          224,
          225,
          226,
          227,
          228,
          229,
          230,
          231,
          232,
          233,
          234,
          235,
          236,
          237,
          238,
          239,
          240,
          241,
          242,
          243,
          244,
          245,
          246,
          247,
          248,
          249,
          250,
          251,
          252,
          253,
          254,
          255,
          256,
          257,
          258,
          259,
          260,
          261,
          262,
          263,
          264,
          265,
          266,
          267,
          268,
          269,
          270,
          271,
          272,
          273,
          274,
          275,
          276,
          277,
          278,
          279,
          280,
          281,
          282,
          283,
          284,
          285,
          286,
          287,
          288,
          289,
          290
         ],
         "y": [
          0.003182,
          0.003593,
          0.003659,
          0.003732,
          0.003787,
          0.003654,
          0.003532,
          0.00369,
          0.003558,
          0.003423,
          0.003398,
          0.003354,
          0.003437,
          0.003226,
          0.003424,
          0.003463,
          0.003514,
          0.003499,
          0.003591,
          0.003851,
          0.004271,
          0.004423,
          0.004286,
          0.004017,
          0.004188,
          0.004385,
          0.004515,
          0.00446,
          0.004329,
          0.004473,
          0.004362,
          0.00487,
          0.005093,
          0.005303,
          0.004817,
          0.00497,
          0.00518,
          0.005269,
          0.005641,
          0.005273,
          0.005144,
          0.00521,
          0.005459,
          0.005357,
          0.005422,
          0.005627,
          0.005093,
          0.0058,
          0.005482,
          0.005539,
          0.005413,
          0.005893,
          0.005824,
          0.005412,
          0.004744,
          0.004585,
          0.004571,
          0.00415,
          0.003995,
          0.003798,
          0.003396,
          0.003043,
          0.002763,
          0.002843,
          0.002802,
          0.00267,
          0.002714,
          0.00277,
          0.00298,
          0.002797,
          0.002719,
          0.002819,
          0.002763,
          0.002827,
          0.003141,
          0.003145,
          0.003289,
          0.003505,
          0.00359,
          0.00356,
          0.003528,
          0.003659,
          0.003651,
          0.00344,
          0.00319,
          0.003299,
          0.00351,
          0.003536,
          0.003524,
          0.00396,
          0.004032,
          0.00421,
          0.003973,
          0.004146,
          0.004025,
          0.004024,
          0.00461,
          0.005218,
          0.005502,
          0.005301,
          0.005482,
          0.006215,
          0.006018,
          0.006291,
          0.006339,
          0.006142,
          0.006324,
          0.006648,
          0.006259,
          0.006581,
          0.007094,
          0.006697,
          0.006424,
          0.007049,
          0.007034,
          0.007347,
          0.00673,
          0.005638,
          0.005472,
          0.004956,
          0.004989,
          0.005,
          0.004566,
          0.004297,
          0.004361,
          0.003533,
          0.004399,
          0.005164,
          0.004475,
          0.005029,
          0.00601,
          0.006024,
          0.006967,
          0.007465,
          0.007373,
          0.007237,
          0.007667,
          0.007083,
          0.006673,
          0.006734,
          0.007131,
          0.008448,
          0.007871,
          0.007969,
          0.007648,
          0.006822,
          0.009857,
          0.011684,
          0.013023,
          0.013056,
          0.011469,
          0.013102,
          0.01342,
          0.015045,
          0.017088,
          0.014863,
          0.012167,
          0.009644,
          0.00932,
          0.009145,
          0.008909,
          0.008972,
          0.00786,
          0.009391,
          0.008486,
          0.008872,
          0.009411,
          0.008931,
          0.008582,
          0.007259,
          0.006054,
          0.007425,
          0.006661,
          0.005666,
          0.006433,
          0.005984,
          0.005933,
          0.003762,
          0.003709,
          0.003461,
          0.003304,
          0.002798,
          0.002547,
          0.002617,
          0.002779,
          0.00272,
          0.002663,
          0.002479,
          0.002463,
          0.002223,
          0.002149,
          0.002148,
          0.002079,
          0.00208,
          0.002363,
          0.001988,
          0.002026,
          0.002072,
          0.001908,
          0.001891,
          0.001823,
          0.001389,
          0.001394,
          0.001376,
          0.001373,
          0.001313,
          0.00139,
          0.001339,
          0.001184,
          0.001211,
          0.001038,
          0.001201,
          0.001163,
          0.001415,
          0.001222,
          0.001177,
          0.001154,
          0.001182,
          0.001189,
          0.001121,
          0.001151,
          0.001138,
          0.001124,
          0.001151,
          0.001173,
          0.001037,
          0.001052,
          0.001051,
          0.001056,
          0.001092,
          0.001016,
          0.001023,
          0.001007,
          0.00105,
          0.001064,
          0.001047,
          0.001067,
          0.001164,
          0.001106,
          0.00111,
          0.001066,
          0.001062,
          0.001046,
          0.001036,
          0.000991,
          0.001056,
          0.001066,
          0.001056,
          0.001001,
          0.001024,
          0.001108,
          0.001085,
          0.001084,
          0.001145,
          0.001082,
          0.00108,
          0.001173,
          0.001151,
          0.001141,
          0.000892,
          0.000954,
          0.000772,
          0.000755,
          0.000862,
          0.00089,
          0.000947,
          0.000853,
          0.000867,
          0.000865,
          0.000854,
          0.001398,
          0.00144,
          0.001463,
          0.001395,
          0.001568,
          0.001596,
          0.001928,
          0.002019,
          0.001908,
          0.001786,
          0.002153,
          0.002226,
          0.002543,
          0.002064,
          0.002105,
          0.001867,
          0.001825,
          0.00176,
          0.001778,
          0.00179,
          0.001816
         ]
        },
        {
         "line": {
          "dash": "dash",
          "width": 3
         },
         "name": "pred",
         "type": "scatter",
         "x": [
          0,
          1,
          2,
          3,
          4,
          5,
          6,
          7,
          8,
          9,
          10,
          11,
          12,
          13,
          14,
          15,
          16,
          17,
          18,
          19,
          20,
          21,
          22,
          23,
          24,
          25,
          26,
          27,
          28,
          29,
          30,
          31,
          32,
          33,
          34,
          35,
          36,
          37,
          38,
          39,
          40,
          41,
          42,
          43,
          44,
          45,
          46,
          47,
          48,
          49,
          50,
          51,
          52,
          53,
          54,
          55,
          56,
          57,
          58,
          59,
          60,
          61,
          62,
          63,
          64,
          65,
          66,
          67,
          68,
          69,
          70,
          71,
          72,
          73,
          74,
          75,
          76,
          77,
          78,
          79,
          80,
          81,
          82,
          83,
          84,
          85,
          86,
          87,
          88,
          89,
          90,
          91,
          92,
          93,
          94,
          95,
          96,
          97,
          98,
          99,
          100,
          101,
          102,
          103,
          104,
          105,
          106,
          107,
          108,
          109,
          110,
          111,
          112,
          113,
          114,
          115,
          116,
          117,
          118,
          119,
          120,
          121,
          122,
          123,
          124,
          125,
          126,
          127,
          128,
          129,
          130,
          131,
          132,
          133,
          134,
          135,
          136,
          137,
          138,
          139,
          140,
          141,
          142,
          143,
          144,
          145,
          146,
          147,
          148,
          149,
          150,
          151,
          152,
          153,
          154,
          155,
          156,
          157,
          158,
          159,
          160,
          161,
          162,
          163,
          164,
          165,
          166,
          167,
          168,
          169,
          170,
          171,
          172,
          173,
          174,
          175,
          176,
          177,
          178,
          179,
          180,
          181,
          182,
          183,
          184,
          185,
          186,
          187,
          188,
          189,
          190,
          191,
          192,
          193,
          194,
          195,
          196,
          197,
          198,
          199,
          200,
          201,
          202,
          203,
          204,
          205,
          206,
          207,
          208,
          209,
          210,
          211,
          212,
          213,
          214,
          215,
          216,
          217,
          218,
          219,
          220,
          221,
          222,
          223,
          224,
          225,
          226,
          227,
          228,
          229,
          230,
          231,
          232,
          233,
          234,
          235,
          236,
          237,
          238,
          239,
          240,
          241,
          242,
          243,
          244,
          245,
          246,
          247,
          248,
          249,
          250,
          251,
          252,
          253,
          254,
          255,
          256,
          257,
          258,
          259,
          260,
          261,
          262,
          263,
          264,
          265,
          266,
          267,
          268,
          269,
          270,
          271,
          272,
          273,
          274,
          275,
          276,
          277,
          278,
          279,
          280,
          281,
          282,
          283,
          284,
          285,
          286,
          287,
          288,
          289,
          290
         ],
         "y": [
          0.002712132642045617,
          0.0029170026537030935,
          0.0031670599710196257,
          0.0032444270327687263,
          0.0032948178704828024,
          0.0032101706601679325,
          0.003110050456598401,
          0.003130394034087658,
          0.0031418295111507177,
          0.0029992994386702776,
          0.0029378181789070368,
          0.002920794300734997,
          0.002926531247794628,
          0.0028107427060604095,
          0.0028561914805322886,
          0.0029634220991283655,
          0.0030359893571585417,
          0.003004474565386772,
          0.0030221808701753616,
          0.003232356859371066,
          0.0035848955158144236,
          0.003846321953460574,
          0.0038054960314184427,
          0.00374367693439126,
          0.0035252657253295183,
          0.0038142127450555563,
          0.0039497376419603825,
          0.004031026735901833,
          0.003989479038864374,
          0.003837769152596593,
          0.003878424409776926,
          0.004174182191491127,
          0.004382250364869833,
          0.004645355977118015,
          0.004563531838357449,
          0.00441990839317441,
          0.004600622225552797,
          0.004759182687848806,
          0.004961547441780567,
          0.004967252723872662,
          0.004738610703498125,
          0.004720481112599373,
          0.004862324334681034,
          0.004976051859557629,
          0.0049539715982973576,
          0.005050476640462875,
          0.004817701876163483,
          0.005038572009652853,
          0.005186852999031544,
          0.0051054456271231174,
          0.005057954229414463,
          0.005178343504667282,
          0.005428397562354803,
          0.00509085925295949,
          0.004514530301094055,
          0.004169768653810024,
          0.0040824576281011105,
          0.003819630481302738,
          0.0035615910310298204,
          0.003372967941686511,
          0.0030062964651733637,
          0.0026805175002664328,
          0.0023464986588805914,
          0.002306353999301791,
          0.0023089752066880465,
          0.0022250553593039513,
          0.002196093089878559,
          0.0022445940412580967,
          0.0023730716202408075,
          0.002370297908782959,
          0.002269461750984192,
          0.002256188075989485,
          0.002274373546242714,
          0.002272428944706917,
          0.002499150112271309,
          0.0026661090087145567,
          0.002737224567681551,
          0.002900539431720972,
          0.0030566423665732145,
          0.0031104024965316057,
          0.0030450497288256884,
          0.003117058426141739,
          0.003171078860759735,
          0.0030485379975289106,
          0.0028099592309445143,
          0.0026684454642236233,
          0.0029090975876897573,
          0.003017112147063017,
          0.0030182444024831057,
          0.003257006872445345,
          0.0035188475158065557,
          0.0036425418220460415,
          0.003591000335291028,
          0.003603387624025345,
          0.003517572768032551,
          0.0035623647272586823,
          0.003842215286567807,
          0.00445047952234745,
          0.004920551553368568,
          0.0049089365638792515,
          0.004969170317053795,
          0.005401240661740303,
          0.005696743261069059,
          0.00577167933806777,
          0.005948504898697138,
          0.005797485820949078,
          0.005824367981404066,
          0.00604411493986845,
          0.005948747508227825,
          0.006010109093040228,
          0.006404993124306202,
          0.006407139822840691,
          0.00620198342949152,
          0.006427673622965813,
          0.0066770403645932674,
          0.006689373403787613,
          0.006573721766471863,
          0.005589247215539217,
          0.005131601355969906,
          0.00465933745726943,
          0.004422439262270927,
          0.004485476296395063,
          0.004188045859336853,
          0.003942421171814203,
          0.003764304332435131,
          0.003245714819058776,
          0.003487230511382222,
          0.004271916579455137,
          0.004255377687513828,
          0.004123174585402012,
          0.005085492040961981,
          0.005524211563169956,
          0.0061376458033919334,
          0.006827486678957939,
          0.0070792692713439465,
          0.00695141451433301,
          0.0070185172371566296,
          0.0069617885164916515,
          0.006381690502166748,
          0.006225780118256807,
          0.006461130455136299,
          0.007377989124506712,
          0.00781517568975687,
          0.007506187539547682,
          0.007345933001488447,
          0.006433167494833469,
          0.007726350799202919,
          0.010419819504022598,
          0.012050502002239227,
          0.011926930397748947,
          0.01093850564211607,
          0.01245813723653555,
          0.012656748294830322,
          0.01377219520509243,
          0.01614149659872055,
          0.014243736863136292,
          0.011897300370037556,
          0.01065994706004858,
          0.009054914116859436,
          0.00860358215868473,
          0.008448068052530289,
          0.008408875204622746,
          0.007776510436087847,
          0.008108961395919323,
          0.00839260220527649,
          0.008179028518497944,
          0.008708306588232517,
          0.00853214506059885,
          0.00846108514815569,
          0.0070960139855742455,
          0.006322355475276709,
          0.005997732747346163,
          0.006653535179793835,
          0.0054412586614489555,
          0.005761789157986641,
          0.0056185172870755196,
          0.005532880313694477,
          0.004069705493748188,
          0.0033831351902335882,
          0.0030274074524641037,
          0.0028456293512135744,
          0.002443622797727585,
          0.0021711501758545637,
          0.002024855697527528,
          0.0021595957223325968,
          0.002161455573514104,
          0.0021340290550142527,
          0.0020269129890948534,
          0.001984121510758996,
          0.0017852826276794076,
          0.001641041599214077,
          0.0015945065533742309,
          0.0015576276928186417,
          0.001516988966614008,
          0.0016884134383872151,
          0.0016132863238453865,
          0.001501873484812677,
          0.0015117536531761289,
          0.0014511998742818832,
          0.0013834622222930193,
          0.0013144531985744834,
          0.0009299515513703227,
          0.0006601836066693068,
          0.0004914135788567364,
          0.00035656572435982525,
          0.00021329786977730691,
          0.00020349178521428257,
          0.0001913970336318016,
          0.000015463476302102208,
          -0.00009718092042021453,
          -0.00028309793560765684,
          -0.0002949187473859638,
          -0.0002463394484948367,
          -0.00005426118150353432,
          -0.00004339026054367423,
          -0.00013028088142164052,
          -0.00019283036817796528,
          -0.00021581057808361948,
          -0.00022559819626621902,
          -0.00026119311223737895,
          -0.00027413255884312093,
          -0.0003259489021729678,
          -0.000304186629364267,
          -0.0003025277692358941,
          -0.0002389940491411835,
          -0.0003667989221867174,
          -0.00041762038017623127,
          -0.00045328083797357976,
          -0.0004760467854794115,
          -0.00045460814726538956,
          -0.000508540659211576,
          -0.0005414707120507956,
          -0.0005586942424997687,
          -0.0005527747562155128,
          -0.000494731473736465,
          -0.0004854781145695597,
          -0.0005036983639001846,
          -0.00039093077066354454,
          -0.000361822807462886,
          -0.0003795659577008337,
          -0.0004350240051280707,
          -0.00047139686648733914,
          -0.0004604460846167058,
          -0.0005021546967327595,
          -0.0005753797013312578,
          -0.0005532236536964774,
          -0.0004928434500470757,
          -0.0004745885671582073,
          -0.0005331070860847831,
          -0.0005632152315229177,
          -0.0005016153445467353,
          -0.00045512677752412856,
          -0.00044109151349402964,
          -0.00039323847158811986,
          -0.0003799838887061924,
          -0.0004081683873664588,
          -0.00035206551547162235,
          -0.0003154051664751023,
          -0.0003157180326525122,
          -0.000539178610779345,
          -0.0006500028539448977,
          -0.0008475915528833866,
          -0.0009940160671249032,
          -0.000987175153568387,
          -0.0009168211836367846,
          -0.0008383577223867178,
          -0.0008620895678177476,
          -0.0009051781380549073,
          -0.0009153261780738831,
          -0.0009506043279543519,
          -0.00044888383126817644,
          0.000041452847653999925,
          0.00024353177286684513,
          0.00026304434868507087,
          0.00036548712523654103,
          0.0005820051301270723,
          0.000895205419510603,
          0.0012343599228188396,
          0.0013096092734485865,
          0.001181765808723867,
          0.001355040818452835,
          0.0016419952735304832,
          0.0018845796585083008,
          0.001748651615343988,
          0.0016049396945163608,
          0.0014316788874566555,
          0.0013238410465419292,
          0.001237118849530816,
          0.0011917101219296455,
          0.0011789374984800816,
          0.0011905173305422068
         ]
        }
       ],
       "layout": {
        "height": 500,
        "template": {
         "data": {
          "bar": [
           {
            "error_x": {
             "color": "#2a3f5f"
            },
            "error_y": {
             "color": "#2a3f5f"
            },
            "marker": {
             "line": {
              "color": "#E5ECF6",
              "width": 0.5
             },
             "pattern": {
              "fillmode": "overlay",
              "size": 10,
              "solidity": 0.2
             }
            },
            "type": "bar"
           }
          ],
          "barpolar": [
           {
            "marker": {
             "line": {
              "color": "#E5ECF6",
              "width": 0.5
             },
             "pattern": {
              "fillmode": "overlay",
              "size": 10,
              "solidity": 0.2
             }
            },
            "type": "barpolar"
           }
          ],
          "carpet": [
           {
            "aaxis": {
             "endlinecolor": "#2a3f5f",
             "gridcolor": "white",
             "linecolor": "white",
             "minorgridcolor": "white",
             "startlinecolor": "#2a3f5f"
            },
            "baxis": {
             "endlinecolor": "#2a3f5f",
             "gridcolor": "white",
             "linecolor": "white",
             "minorgridcolor": "white",
             "startlinecolor": "#2a3f5f"
            },
            "type": "carpet"
           }
          ],
          "choropleth": [
           {
            "colorbar": {
             "outlinewidth": 0,
             "ticks": ""
            },
            "type": "choropleth"
           }
          ],
          "contour": [
           {
            "colorbar": {
             "outlinewidth": 0,
             "ticks": ""
            },
            "colorscale": [
             [
              0,
              "#0d0887"
             ],
             [
              0.1111111111111111,
              "#46039f"
             ],
             [
              0.2222222222222222,
              "#7201a8"
             ],
             [
              0.3333333333333333,
              "#9c179e"
             ],
             [
              0.4444444444444444,
              "#bd3786"
             ],
             [
              0.5555555555555556,
              "#d8576b"
             ],
             [
              0.6666666666666666,
              "#ed7953"
             ],
             [
              0.7777777777777778,
              "#fb9f3a"
             ],
             [
              0.8888888888888888,
              "#fdca26"
             ],
             [
              1,
              "#f0f921"
             ]
            ],
            "type": "contour"
           }
          ],
          "contourcarpet": [
           {
            "colorbar": {
             "outlinewidth": 0,
             "ticks": ""
            },
            "type": "contourcarpet"
           }
          ],
          "heatmap": [
           {
            "colorbar": {
             "outlinewidth": 0,
             "ticks": ""
            },
            "colorscale": [
             [
              0,
              "#0d0887"
             ],
             [
              0.1111111111111111,
              "#46039f"
             ],
             [
              0.2222222222222222,
              "#7201a8"
             ],
             [
              0.3333333333333333,
              "#9c179e"
             ],
             [
              0.4444444444444444,
              "#bd3786"
             ],
             [
              0.5555555555555556,
              "#d8576b"
             ],
             [
              0.6666666666666666,
              "#ed7953"
             ],
             [
              0.7777777777777778,
              "#fb9f3a"
             ],
             [
              0.8888888888888888,
              "#fdca26"
             ],
             [
              1,
              "#f0f921"
             ]
            ],
            "type": "heatmap"
           }
          ],
          "heatmapgl": [
           {
            "colorbar": {
             "outlinewidth": 0,
             "ticks": ""
            },
            "colorscale": [
             [
              0,
              "#0d0887"
             ],
             [
              0.1111111111111111,
              "#46039f"
             ],
             [
              0.2222222222222222,
              "#7201a8"
             ],
             [
              0.3333333333333333,
              "#9c179e"
             ],
             [
              0.4444444444444444,
              "#bd3786"
             ],
             [
              0.5555555555555556,
              "#d8576b"
             ],
             [
              0.6666666666666666,
              "#ed7953"
             ],
             [
              0.7777777777777778,
              "#fb9f3a"
             ],
             [
              0.8888888888888888,
              "#fdca26"
             ],
             [
              1,
              "#f0f921"
             ]
            ],
            "type": "heatmapgl"
           }
          ],
          "histogram": [
           {
            "marker": {
             "pattern": {
              "fillmode": "overlay",
              "size": 10,
              "solidity": 0.2
             }
            },
            "type": "histogram"
           }
          ],
          "histogram2d": [
           {
            "colorbar": {
             "outlinewidth": 0,
             "ticks": ""
            },
            "colorscale": [
             [
              0,
              "#0d0887"
             ],
             [
              0.1111111111111111,
              "#46039f"
             ],
             [
              0.2222222222222222,
              "#7201a8"
             ],
             [
              0.3333333333333333,
              "#9c179e"
             ],
             [
              0.4444444444444444,
              "#bd3786"
             ],
             [
              0.5555555555555556,
              "#d8576b"
             ],
             [
              0.6666666666666666,
              "#ed7953"
             ],
             [
              0.7777777777777778,
              "#fb9f3a"
             ],
             [
              0.8888888888888888,
              "#fdca26"
             ],
             [
              1,
              "#f0f921"
             ]
            ],
            "type": "histogram2d"
           }
          ],
          "histogram2dcontour": [
           {
            "colorbar": {
             "outlinewidth": 0,
             "ticks": ""
            },
            "colorscale": [
             [
              0,
              "#0d0887"
             ],
             [
              0.1111111111111111,
              "#46039f"
             ],
             [
              0.2222222222222222,
              "#7201a8"
             ],
             [
              0.3333333333333333,
              "#9c179e"
             ],
             [
              0.4444444444444444,
              "#bd3786"
             ],
             [
              0.5555555555555556,
              "#d8576b"
             ],
             [
              0.6666666666666666,
              "#ed7953"
             ],
             [
              0.7777777777777778,
              "#fb9f3a"
             ],
             [
              0.8888888888888888,
              "#fdca26"
             ],
             [
              1,
              "#f0f921"
             ]
            ],
            "type": "histogram2dcontour"
           }
          ],
          "mesh3d": [
           {
            "colorbar": {
             "outlinewidth": 0,
             "ticks": ""
            },
            "type": "mesh3d"
           }
          ],
          "parcoords": [
           {
            "line": {
             "colorbar": {
              "outlinewidth": 0,
              "ticks": ""
             }
            },
            "type": "parcoords"
           }
          ],
          "pie": [
           {
            "automargin": true,
            "type": "pie"
           }
          ],
          "scatter": [
           {
            "marker": {
             "colorbar": {
              "outlinewidth": 0,
              "ticks": ""
             }
            },
            "type": "scatter"
           }
          ],
          "scatter3d": [
           {
            "line": {
             "colorbar": {
              "outlinewidth": 0,
              "ticks": ""
             }
            },
            "marker": {
             "colorbar": {
              "outlinewidth": 0,
              "ticks": ""
             }
            },
            "type": "scatter3d"
           }
          ],
          "scattercarpet": [
           {
            "marker": {
             "colorbar": {
              "outlinewidth": 0,
              "ticks": ""
             }
            },
            "type": "scattercarpet"
           }
          ],
          "scattergeo": [
           {
            "marker": {
             "colorbar": {
              "outlinewidth": 0,
              "ticks": ""
             }
            },
            "type": "scattergeo"
           }
          ],
          "scattergl": [
           {
            "marker": {
             "colorbar": {
              "outlinewidth": 0,
              "ticks": ""
             }
            },
            "type": "scattergl"
           }
          ],
          "scattermapbox": [
           {
            "marker": {
             "colorbar": {
              "outlinewidth": 0,
              "ticks": ""
             }
            },
            "type": "scattermapbox"
           }
          ],
          "scatterpolar": [
           {
            "marker": {
             "colorbar": {
              "outlinewidth": 0,
              "ticks": ""
             }
            },
            "type": "scatterpolar"
           }
          ],
          "scatterpolargl": [
           {
            "marker": {
             "colorbar": {
              "outlinewidth": 0,
              "ticks": ""
             }
            },
            "type": "scatterpolargl"
           }
          ],
          "scatterternary": [
           {
            "marker": {
             "colorbar": {
              "outlinewidth": 0,
              "ticks": ""
             }
            },
            "type": "scatterternary"
           }
          ],
          "surface": [
           {
            "colorbar": {
             "outlinewidth": 0,
             "ticks": ""
            },
            "colorscale": [
             [
              0,
              "#0d0887"
             ],
             [
              0.1111111111111111,
              "#46039f"
             ],
             [
              0.2222222222222222,
              "#7201a8"
             ],
             [
              0.3333333333333333,
              "#9c179e"
             ],
             [
              0.4444444444444444,
              "#bd3786"
             ],
             [
              0.5555555555555556,
              "#d8576b"
             ],
             [
              0.6666666666666666,
              "#ed7953"
             ],
             [
              0.7777777777777778,
              "#fb9f3a"
             ],
             [
              0.8888888888888888,
              "#fdca26"
             ],
             [
              1,
              "#f0f921"
             ]
            ],
            "type": "surface"
           }
          ],
          "table": [
           {
            "cells": {
             "fill": {
              "color": "#EBF0F8"
             },
             "line": {
              "color": "white"
             }
            },
            "header": {
             "fill": {
              "color": "#C8D4E3"
             },
             "line": {
              "color": "white"
             }
            },
            "type": "table"
           }
          ]
         },
         "layout": {
          "annotationdefaults": {
           "arrowcolor": "#2a3f5f",
           "arrowhead": 0,
           "arrowwidth": 1
          },
          "autotypenumbers": "strict",
          "coloraxis": {
           "colorbar": {
            "outlinewidth": 0,
            "ticks": ""
           }
          },
          "colorscale": {
           "diverging": [
            [
             0,
             "#8e0152"
            ],
            [
             0.1,
             "#c51b7d"
            ],
            [
             0.2,
             "#de77ae"
            ],
            [
             0.3,
             "#f1b6da"
            ],
            [
             0.4,
             "#fde0ef"
            ],
            [
             0.5,
             "#f7f7f7"
            ],
            [
             0.6,
             "#e6f5d0"
            ],
            [
             0.7,
             "#b8e186"
            ],
            [
             0.8,
             "#7fbc41"
            ],
            [
             0.9,
             "#4d9221"
            ],
            [
             1,
             "#276419"
            ]
           ],
           "sequential": [
            [
             0,
             "#0d0887"
            ],
            [
             0.1111111111111111,
             "#46039f"
            ],
            [
             0.2222222222222222,
             "#7201a8"
            ],
            [
             0.3333333333333333,
             "#9c179e"
            ],
            [
             0.4444444444444444,
             "#bd3786"
            ],
            [
             0.5555555555555556,
             "#d8576b"
            ],
            [
             0.6666666666666666,
             "#ed7953"
            ],
            [
             0.7777777777777778,
             "#fb9f3a"
            ],
            [
             0.8888888888888888,
             "#fdca26"
            ],
            [
             1,
             "#f0f921"
            ]
           ],
           "sequentialminus": [
            [
             0,
             "#0d0887"
            ],
            [
             0.1111111111111111,
             "#46039f"
            ],
            [
             0.2222222222222222,
             "#7201a8"
            ],
            [
             0.3333333333333333,
             "#9c179e"
            ],
            [
             0.4444444444444444,
             "#bd3786"
            ],
            [
             0.5555555555555556,
             "#d8576b"
            ],
            [
             0.6666666666666666,
             "#ed7953"
            ],
            [
             0.7777777777777778,
             "#fb9f3a"
            ],
            [
             0.8888888888888888,
             "#fdca26"
            ],
            [
             1,
             "#f0f921"
            ]
           ]
          },
          "colorway": [
           "#636efa",
           "#EF553B",
           "#00cc96",
           "#ab63fa",
           "#FFA15A",
           "#19d3f3",
           "#FF6692",
           "#B6E880",
           "#FF97FF",
           "#FECB52"
          ],
          "font": {
           "color": "#2a3f5f"
          },
          "geo": {
           "bgcolor": "white",
           "lakecolor": "white",
           "landcolor": "#E5ECF6",
           "showlakes": true,
           "showland": true,
           "subunitcolor": "white"
          },
          "hoverlabel": {
           "align": "left"
          },
          "hovermode": "closest",
          "mapbox": {
           "style": "light"
          },
          "paper_bgcolor": "white",
          "plot_bgcolor": "#E5ECF6",
          "polar": {
           "angularaxis": {
            "gridcolor": "white",
            "linecolor": "white",
            "ticks": ""
           },
           "bgcolor": "#E5ECF6",
           "radialaxis": {
            "gridcolor": "white",
            "linecolor": "white",
            "ticks": ""
           }
          },
          "scene": {
           "xaxis": {
            "backgroundcolor": "#E5ECF6",
            "gridcolor": "white",
            "gridwidth": 2,
            "linecolor": "white",
            "showbackground": true,
            "ticks": "",
            "zerolinecolor": "white"
           },
           "yaxis": {
            "backgroundcolor": "#E5ECF6",
            "gridcolor": "white",
            "gridwidth": 2,
            "linecolor": "white",
            "showbackground": true,
            "ticks": "",
            "zerolinecolor": "white"
           },
           "zaxis": {
            "backgroundcolor": "#E5ECF6",
            "gridcolor": "white",
            "gridwidth": 2,
            "linecolor": "white",
            "showbackground": true,
            "ticks": "",
            "zerolinecolor": "white"
           }
          },
          "shapedefaults": {
           "line": {
            "color": "#2a3f5f"
           }
          },
          "ternary": {
           "aaxis": {
            "gridcolor": "white",
            "linecolor": "white",
            "ticks": ""
           },
           "baxis": {
            "gridcolor": "white",
            "linecolor": "white",
            "ticks": ""
           },
           "bgcolor": "#E5ECF6",
           "caxis": {
            "gridcolor": "white",
            "linecolor": "white",
            "ticks": ""
           }
          },
          "title": {
           "x": 0.05
          },
          "xaxis": {
           "automargin": true,
           "gridcolor": "white",
           "linecolor": "white",
           "ticks": "",
           "title": {
            "standoff": 15
           },
           "zerolinecolor": "white",
           "zerolinewidth": 2
          },
          "yaxis": {
           "automargin": true,
           "gridcolor": "white",
           "linecolor": "white",
           "ticks": "",
           "title": {
            "standoff": 15
           },
           "zerolinecolor": "white",
           "zerolinewidth": 2
          }
         }
        },
        "title": {
         "text": "Adj Close Prediction of DogeCoin"
        }
       }
      }
     },
     "metadata": {}
    }
   ],
   "metadata": {
    "execution": {
     "iopub.execute_input": "2021-08-24T15:47:17.086057Z",
     "iopub.status.busy": "2021-08-24T15:47:17.085497Z",
     "iopub.status.idle": "2021-08-24T15:47:17.263477Z",
     "shell.execute_reply": "2021-08-24T15:47:17.263018Z",
     "shell.execute_reply.started": "2021-08-24T15:45:38.828650Z"
    },
    "papermill": {
     "duration": 0.264921,
     "end_time": "2021-08-24T15:47:17.263605",
     "exception": false,
     "start_time": "2021-08-24T15:47:16.998684",
     "status": "completed"
    },
    "tags": []
   }
  },
  {
   "cell_type": "markdown",
   "source": [
    "# To be continued\n",
    "**What needs to be improved**\n",
    "1. Drop outliers in order to predict more precisely.\n",
    "2. Applying various algorithms: LSTM, GRU.\n",
    "3. Make comparison with three other algorithms."
   ],
   "metadata": {
    "papermill": {
     "duration": 0.081964,
     "end_time": "2021-08-24T15:47:17.429597",
     "exception": false,
     "start_time": "2021-08-24T15:47:17.347633",
     "status": "completed"
    },
    "tags": []
   }
  }
 ],
 "metadata": {
  "kernelspec": {
   "name": "python3",
   "display_name": "Python 3.9.6 64-bit ('Drill_DL_TF': conda)"
  },
  "language_info": {
   "codemirror_mode": {
    "name": "ipython",
    "version": 3
   },
   "file_extension": ".py",
   "mimetype": "text/x-python",
   "name": "python",
   "nbconvert_exporter": "python",
   "pygments_lexer": "ipython3",
   "version": "3.9.6"
  },
  "papermill": {
   "default_parameters": {},
   "duration": 29.687115,
   "end_time": "2021-08-24T15:47:18.928823",
   "environment_variables": {},
   "exception": null,
   "input_path": "__notebook__.ipynb",
   "output_path": "__notebook__.ipynb",
   "parameters": {},
   "start_time": "2021-08-24T15:46:49.241708",
   "version": "2.3.3"
  },
  "interpreter": {
   "hash": "919cf3ae0e9712d87b63b1e10ff40154688c8cbaba6389820679510ec494ce74"
  }
 },
 "nbformat": 4,
 "nbformat_minor": 5
}