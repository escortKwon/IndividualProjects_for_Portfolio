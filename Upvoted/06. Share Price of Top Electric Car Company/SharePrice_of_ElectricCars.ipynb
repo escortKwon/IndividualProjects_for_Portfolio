{
 "cells": [
  {
   "cell_type": "markdown",
   "source": [
    "# Outline\n",
    "Goal: Predict 'Adj Close' as target with features as follows: 'Open', 'High', 'Low', 'Close'  \n",
    "**How to use this notebook:** just input the number corresponded to comapnies that you want"
   ],
   "metadata": {}
  },
  {
   "cell_type": "markdown",
   "source": [
    "# Import libraries and data"
   ],
   "metadata": {}
  },
  {
   "cell_type": "code",
   "execution_count": 1,
   "source": [
    "# Import basic libraries\n",
    "import numpy as np\n",
    "import pandas as pd\n",
    "import matplotlib.pyplot as plt\n",
    "import seaborn as sns\n",
    "import plotly\n",
    "import plotly.express as px\n",
    "from plotly.offline import plot\n",
    "\n",
    "from sklearn.model_selection import train_test_split\n",
    "from sklearn.preprocessing import MinMaxScaler, LabelEncoder\n",
    "from sklearn.metrics import mean_squared_error\n",
    "\n",
    "import tensorflow as tf\n",
    "from tensorflow import keras\n",
    "from tensorflow.keras.models import Sequential\n",
    "from tensorflow.keras.layers import Dense, SimpleRNN, LSTM, GRU"
   ],
   "outputs": [
    {
     "output_type": "stream",
     "name": "stdout",
     "text": [
      "Init Plugin\n",
      "Init Graph Optimizer\n",
      "Init Kernel\n"
     ]
    }
   ],
   "metadata": {}
  },
  {
   "cell_type": "code",
   "execution_count": 2,
   "source": [
    "# Unzip archive\n",
    "!unzip -o archive.zip"
   ],
   "outputs": [
    {
     "output_type": "stream",
     "name": "stdout",
     "text": [
      "Archive:  archive.zip\n",
      "  inflating: Top EV Company/Audi/audi.csv  \n",
      "  inflating: Top EV Company/BMW/bmw.csv  \n",
      "  inflating: Top EV Company/Honda/honda.csv  \n",
      "  inflating: Top EV Company/Lucid Motors/lucid motors.csv  \n",
      "  inflating: Top EV Company/NIO/NIO.csv  \n",
      "  inflating: Top EV Company/Nissan/nissian.csv  \n",
      "  inflating: Top EV Company/Rolls Royces/rolls royces.csv  \n",
      "  inflating: Top EV Company/Tata/tata.csv  \n",
      "  inflating: Top EV Company/Tesla/tesla.csv  \n",
      "  inflating: Top EV Company/Volkswagen/Volkswagen.csv  \n"
     ]
    }
   ],
   "metadata": {}
  },
  {
   "cell_type": "code",
   "execution_count": 3,
   "source": [
    "# Label Encoding\n",
    "list_company = ['Audi', 'BMW', 'Honda', 'Lucid Motors', 'NIO', 'Nissan', 'Rolls Royces', 'Tata', 'Tesla', 'Volkswagen']\n",
    "\n",
    "le = LabelEncoder()\n",
    "\n",
    "list_company_le = le.fit_transform(list_company)\n",
    "list_company_le"
   ],
   "outputs": [
    {
     "output_type": "execute_result",
     "data": {
      "text/plain": [
       "array([0, 1, 2, 3, 4, 5, 6, 7, 8, 9])"
      ]
     },
     "metadata": {},
     "execution_count": 3
    }
   ],
   "metadata": {}
  },
  {
   "cell_type": "code",
   "execution_count": 4,
   "source": [
    "# Display label encoded list of comapnies\n",
    "for i, company in enumerate(range(0, len(list_company_le), 1)):\n",
    "    print(i, \":\", le.inverse_transform([company]))"
   ],
   "outputs": [
    {
     "output_type": "stream",
     "name": "stdout",
     "text": [
      "0 : ['Audi']\n",
      "1 : ['BMW']\n",
      "2 : ['Honda']\n",
      "3 : ['Lucid Motors']\n",
      "4 : ['NIO']\n",
      "5 : ['Nissan']\n",
      "6 : ['Rolls Royces']\n",
      "7 : ['Tata']\n",
      "8 : ['Tesla']\n",
      "9 : ['Volkswagen']\n"
     ]
    }
   ],
   "metadata": {}
  },
  {
   "cell_type": "code",
   "execution_count": 5,
   "source": [
    "# Choose wanted company\n",
    "num = int(input(\">>> Choose Number of Company : \"))\n",
    "company = le.inverse_transform([num])[0]\n",
    "company"
   ],
   "outputs": [
    {
     "output_type": "execute_result",
     "data": {
      "text/plain": [
       "'Tesla'"
      ]
     },
     "metadata": {},
     "execution_count": 5
    }
   ],
   "metadata": {}
  },
  {
   "cell_type": "code",
   "execution_count": 6,
   "source": [
    "# Define filepath\n",
    "filepath = \"./Top EV Company/{0}/{1}.csv\".format(company, company.lower())\n",
    "filepath"
   ],
   "outputs": [
    {
     "output_type": "execute_result",
     "data": {
      "text/plain": [
       "'./Top EV Company/Tesla/tesla.csv'"
      ]
     },
     "metadata": {},
     "execution_count": 6
    }
   ],
   "metadata": {}
  },
  {
   "cell_type": "code",
   "execution_count": 7,
   "source": [
    "data = pd.read_csv(filepath)\n",
    "data"
   ],
   "outputs": [
    {
     "output_type": "execute_result",
     "data": {
      "text/plain": [
       "            Date        Open        High         Low       Close   Adj Close  \\\n",
       "0     2016-08-24   45.410000   45.430000   44.444000   44.523998   44.523998   \n",
       "1     2016-08-25   44.622002   44.759998   44.153999   44.192001   44.192001   \n",
       "2     2016-08-26   44.428001   44.571999   43.764000   43.998001   43.998001   \n",
       "3     2016-08-29   44.029999   44.080002   43.000000   43.040001   43.040001   \n",
       "4     2016-08-30   43.222000   43.222000   42.104000   42.268002   42.268002   \n",
       "...          ...         ...         ...         ...         ...         ...   \n",
       "1253  2021-08-17  672.659973  674.580017  648.840027  665.710022  665.710022   \n",
       "1254  2021-08-18  669.750000  695.770020  669.349976  688.989990  688.989990   \n",
       "1255  2021-08-19  678.210022  686.549988  667.590027  673.469971  673.469971   \n",
       "1256  2021-08-20  682.849976  692.130005  673.700012  680.260010  680.260010   \n",
       "1257  2021-08-23  685.442017  712.129883  680.750488  706.299988  706.299988   \n",
       "\n",
       "        Volume  \n",
       "0     12853500  \n",
       "1      8812500  \n",
       "2     11195000  \n",
       "3     16331500  \n",
       "4     15844500  \n",
       "...        ...  \n",
       "1253  23721300  \n",
       "1254  20349400  \n",
       "1255  14313500  \n",
       "1256  14781800  \n",
       "1257  20069007  \n",
       "\n",
       "[1258 rows x 7 columns]"
      ],
      "text/html": [
       "<div>\n",
       "<style scoped>\n",
       "    .dataframe tbody tr th:only-of-type {\n",
       "        vertical-align: middle;\n",
       "    }\n",
       "\n",
       "    .dataframe tbody tr th {\n",
       "        vertical-align: top;\n",
       "    }\n",
       "\n",
       "    .dataframe thead th {\n",
       "        text-align: right;\n",
       "    }\n",
       "</style>\n",
       "<table border=\"1\" class=\"dataframe\">\n",
       "  <thead>\n",
       "    <tr style=\"text-align: right;\">\n",
       "      <th></th>\n",
       "      <th>Date</th>\n",
       "      <th>Open</th>\n",
       "      <th>High</th>\n",
       "      <th>Low</th>\n",
       "      <th>Close</th>\n",
       "      <th>Adj Close</th>\n",
       "      <th>Volume</th>\n",
       "    </tr>\n",
       "  </thead>\n",
       "  <tbody>\n",
       "    <tr>\n",
       "      <th>0</th>\n",
       "      <td>2016-08-24</td>\n",
       "      <td>45.410000</td>\n",
       "      <td>45.430000</td>\n",
       "      <td>44.444000</td>\n",
       "      <td>44.523998</td>\n",
       "      <td>44.523998</td>\n",
       "      <td>12853500</td>\n",
       "    </tr>\n",
       "    <tr>\n",
       "      <th>1</th>\n",
       "      <td>2016-08-25</td>\n",
       "      <td>44.622002</td>\n",
       "      <td>44.759998</td>\n",
       "      <td>44.153999</td>\n",
       "      <td>44.192001</td>\n",
       "      <td>44.192001</td>\n",
       "      <td>8812500</td>\n",
       "    </tr>\n",
       "    <tr>\n",
       "      <th>2</th>\n",
       "      <td>2016-08-26</td>\n",
       "      <td>44.428001</td>\n",
       "      <td>44.571999</td>\n",
       "      <td>43.764000</td>\n",
       "      <td>43.998001</td>\n",
       "      <td>43.998001</td>\n",
       "      <td>11195000</td>\n",
       "    </tr>\n",
       "    <tr>\n",
       "      <th>3</th>\n",
       "      <td>2016-08-29</td>\n",
       "      <td>44.029999</td>\n",
       "      <td>44.080002</td>\n",
       "      <td>43.000000</td>\n",
       "      <td>43.040001</td>\n",
       "      <td>43.040001</td>\n",
       "      <td>16331500</td>\n",
       "    </tr>\n",
       "    <tr>\n",
       "      <th>4</th>\n",
       "      <td>2016-08-30</td>\n",
       "      <td>43.222000</td>\n",
       "      <td>43.222000</td>\n",
       "      <td>42.104000</td>\n",
       "      <td>42.268002</td>\n",
       "      <td>42.268002</td>\n",
       "      <td>15844500</td>\n",
       "    </tr>\n",
       "    <tr>\n",
       "      <th>...</th>\n",
       "      <td>...</td>\n",
       "      <td>...</td>\n",
       "      <td>...</td>\n",
       "      <td>...</td>\n",
       "      <td>...</td>\n",
       "      <td>...</td>\n",
       "      <td>...</td>\n",
       "    </tr>\n",
       "    <tr>\n",
       "      <th>1253</th>\n",
       "      <td>2021-08-17</td>\n",
       "      <td>672.659973</td>\n",
       "      <td>674.580017</td>\n",
       "      <td>648.840027</td>\n",
       "      <td>665.710022</td>\n",
       "      <td>665.710022</td>\n",
       "      <td>23721300</td>\n",
       "    </tr>\n",
       "    <tr>\n",
       "      <th>1254</th>\n",
       "      <td>2021-08-18</td>\n",
       "      <td>669.750000</td>\n",
       "      <td>695.770020</td>\n",
       "      <td>669.349976</td>\n",
       "      <td>688.989990</td>\n",
       "      <td>688.989990</td>\n",
       "      <td>20349400</td>\n",
       "    </tr>\n",
       "    <tr>\n",
       "      <th>1255</th>\n",
       "      <td>2021-08-19</td>\n",
       "      <td>678.210022</td>\n",
       "      <td>686.549988</td>\n",
       "      <td>667.590027</td>\n",
       "      <td>673.469971</td>\n",
       "      <td>673.469971</td>\n",
       "      <td>14313500</td>\n",
       "    </tr>\n",
       "    <tr>\n",
       "      <th>1256</th>\n",
       "      <td>2021-08-20</td>\n",
       "      <td>682.849976</td>\n",
       "      <td>692.130005</td>\n",
       "      <td>673.700012</td>\n",
       "      <td>680.260010</td>\n",
       "      <td>680.260010</td>\n",
       "      <td>14781800</td>\n",
       "    </tr>\n",
       "    <tr>\n",
       "      <th>1257</th>\n",
       "      <td>2021-08-23</td>\n",
       "      <td>685.442017</td>\n",
       "      <td>712.129883</td>\n",
       "      <td>680.750488</td>\n",
       "      <td>706.299988</td>\n",
       "      <td>706.299988</td>\n",
       "      <td>20069007</td>\n",
       "    </tr>\n",
       "  </tbody>\n",
       "</table>\n",
       "<p>1258 rows × 7 columns</p>\n",
       "</div>"
      ]
     },
     "metadata": {},
     "execution_count": 7
    }
   ],
   "metadata": {}
  },
  {
   "cell_type": "code",
   "execution_count": 8,
   "source": [
    "# Sorting DataFrame\n",
    "data.sort_values(by='Date', ascending=False, inplace=True)\n",
    "data.reset_index(drop=True, inplace=True)\n",
    "data.drop('Volume', axis=1, inplace=True)\n",
    "data"
   ],
   "outputs": [
    {
     "output_type": "execute_result",
     "data": {
      "text/plain": [
       "            Date        Open        High         Low       Close   Adj Close\n",
       "0     2021-08-23  685.442017  712.129883  680.750488  706.299988  706.299988\n",
       "1     2021-08-20  682.849976  692.130005  673.700012  680.260010  680.260010\n",
       "2     2021-08-19  678.210022  686.549988  667.590027  673.469971  673.469971\n",
       "3     2021-08-18  669.750000  695.770020  669.349976  688.989990  688.989990\n",
       "4     2021-08-17  672.659973  674.580017  648.840027  665.710022  665.710022\n",
       "...          ...         ...         ...         ...         ...         ...\n",
       "1253  2016-08-30   43.222000   43.222000   42.104000   42.268002   42.268002\n",
       "1254  2016-08-29   44.029999   44.080002   43.000000   43.040001   43.040001\n",
       "1255  2016-08-26   44.428001   44.571999   43.764000   43.998001   43.998001\n",
       "1256  2016-08-25   44.622002   44.759998   44.153999   44.192001   44.192001\n",
       "1257  2016-08-24   45.410000   45.430000   44.444000   44.523998   44.523998\n",
       "\n",
       "[1258 rows x 6 columns]"
      ],
      "text/html": [
       "<div>\n",
       "<style scoped>\n",
       "    .dataframe tbody tr th:only-of-type {\n",
       "        vertical-align: middle;\n",
       "    }\n",
       "\n",
       "    .dataframe tbody tr th {\n",
       "        vertical-align: top;\n",
       "    }\n",
       "\n",
       "    .dataframe thead th {\n",
       "        text-align: right;\n",
       "    }\n",
       "</style>\n",
       "<table border=\"1\" class=\"dataframe\">\n",
       "  <thead>\n",
       "    <tr style=\"text-align: right;\">\n",
       "      <th></th>\n",
       "      <th>Date</th>\n",
       "      <th>Open</th>\n",
       "      <th>High</th>\n",
       "      <th>Low</th>\n",
       "      <th>Close</th>\n",
       "      <th>Adj Close</th>\n",
       "    </tr>\n",
       "  </thead>\n",
       "  <tbody>\n",
       "    <tr>\n",
       "      <th>0</th>\n",
       "      <td>2021-08-23</td>\n",
       "      <td>685.442017</td>\n",
       "      <td>712.129883</td>\n",
       "      <td>680.750488</td>\n",
       "      <td>706.299988</td>\n",
       "      <td>706.299988</td>\n",
       "    </tr>\n",
       "    <tr>\n",
       "      <th>1</th>\n",
       "      <td>2021-08-20</td>\n",
       "      <td>682.849976</td>\n",
       "      <td>692.130005</td>\n",
       "      <td>673.700012</td>\n",
       "      <td>680.260010</td>\n",
       "      <td>680.260010</td>\n",
       "    </tr>\n",
       "    <tr>\n",
       "      <th>2</th>\n",
       "      <td>2021-08-19</td>\n",
       "      <td>678.210022</td>\n",
       "      <td>686.549988</td>\n",
       "      <td>667.590027</td>\n",
       "      <td>673.469971</td>\n",
       "      <td>673.469971</td>\n",
       "    </tr>\n",
       "    <tr>\n",
       "      <th>3</th>\n",
       "      <td>2021-08-18</td>\n",
       "      <td>669.750000</td>\n",
       "      <td>695.770020</td>\n",
       "      <td>669.349976</td>\n",
       "      <td>688.989990</td>\n",
       "      <td>688.989990</td>\n",
       "    </tr>\n",
       "    <tr>\n",
       "      <th>4</th>\n",
       "      <td>2021-08-17</td>\n",
       "      <td>672.659973</td>\n",
       "      <td>674.580017</td>\n",
       "      <td>648.840027</td>\n",
       "      <td>665.710022</td>\n",
       "      <td>665.710022</td>\n",
       "    </tr>\n",
       "    <tr>\n",
       "      <th>...</th>\n",
       "      <td>...</td>\n",
       "      <td>...</td>\n",
       "      <td>...</td>\n",
       "      <td>...</td>\n",
       "      <td>...</td>\n",
       "      <td>...</td>\n",
       "    </tr>\n",
       "    <tr>\n",
       "      <th>1253</th>\n",
       "      <td>2016-08-30</td>\n",
       "      <td>43.222000</td>\n",
       "      <td>43.222000</td>\n",
       "      <td>42.104000</td>\n",
       "      <td>42.268002</td>\n",
       "      <td>42.268002</td>\n",
       "    </tr>\n",
       "    <tr>\n",
       "      <th>1254</th>\n",
       "      <td>2016-08-29</td>\n",
       "      <td>44.029999</td>\n",
       "      <td>44.080002</td>\n",
       "      <td>43.000000</td>\n",
       "      <td>43.040001</td>\n",
       "      <td>43.040001</td>\n",
       "    </tr>\n",
       "    <tr>\n",
       "      <th>1255</th>\n",
       "      <td>2016-08-26</td>\n",
       "      <td>44.428001</td>\n",
       "      <td>44.571999</td>\n",
       "      <td>43.764000</td>\n",
       "      <td>43.998001</td>\n",
       "      <td>43.998001</td>\n",
       "    </tr>\n",
       "    <tr>\n",
       "      <th>1256</th>\n",
       "      <td>2016-08-25</td>\n",
       "      <td>44.622002</td>\n",
       "      <td>44.759998</td>\n",
       "      <td>44.153999</td>\n",
       "      <td>44.192001</td>\n",
       "      <td>44.192001</td>\n",
       "    </tr>\n",
       "    <tr>\n",
       "      <th>1257</th>\n",
       "      <td>2016-08-24</td>\n",
       "      <td>45.410000</td>\n",
       "      <td>45.430000</td>\n",
       "      <td>44.444000</td>\n",
       "      <td>44.523998</td>\n",
       "      <td>44.523998</td>\n",
       "    </tr>\n",
       "  </tbody>\n",
       "</table>\n",
       "<p>1258 rows × 6 columns</p>\n",
       "</div>"
      ]
     },
     "metadata": {},
     "execution_count": 8
    }
   ],
   "metadata": {}
  },
  {
   "cell_type": "markdown",
   "source": [
    "# Create Datasets"
   ],
   "metadata": {}
  },
  {
   "cell_type": "code",
   "execution_count": 9,
   "source": [
    "# Utility Function\n",
    "def make_dataset(data, label, window_size=20):\n",
    "    feature_list = []\n",
    "    label_list = []\n",
    "    for i in range(len(data) - window_size):\n",
    "        feature_list.append(np.array(data.iloc[i:i+window_size]))\n",
    "        label_list.append(np.array(label.iloc[i+window_size]))\n",
    "    return np.array(feature_list), np.array(label_list)"
   ],
   "outputs": [],
   "metadata": {}
  },
  {
   "cell_type": "code",
   "execution_count": 10,
   "source": [
    "# Set feature and label\n",
    "train_feature = data[['Open', 'High', 'Low', 'Close']]\n",
    "train_label = data['Adj Close']"
   ],
   "outputs": [],
   "metadata": {}
  },
  {
   "cell_type": "code",
   "execution_count": 11,
   "source": [
    "# train dataset\n",
    "train_feature, train_label = make_dataset(train_feature, train_label, 10)"
   ],
   "outputs": [],
   "metadata": {}
  },
  {
   "cell_type": "code",
   "execution_count": 12,
   "source": [
    "# Set X, y\n",
    "X = train_feature\n",
    "y = train_label"
   ],
   "outputs": [],
   "metadata": {}
  },
  {
   "cell_type": "code",
   "execution_count": 13,
   "source": [
    "# Split train and test dataset\n",
    "X_train, X_test, y_train, y_test = train_test_split(X, y, test_size=0.2, shuffle=False)\n",
    "X_train, X_val, y_train, y_val = train_test_split(X_train, y_train, test_size=0.2, random_state=11)"
   ],
   "outputs": [],
   "metadata": {}
  },
  {
   "cell_type": "markdown",
   "source": [
    "# Modeling"
   ],
   "metadata": {}
  },
  {
   "cell_type": "code",
   "execution_count": 14,
   "source": [
    "model = Sequential()\n",
    "model.add(GRU(16, activation='relu', input_shape=X_train.shape[1:]))\n",
    "model.add(Dense(1))"
   ],
   "outputs": [
    {
     "output_type": "stream",
     "name": "stdout",
     "text": [
      "Metal device set to: Apple M1\n",
      "\n",
      "systemMemory: 8.00 GB\n",
      "maxCacheSize: 2.67 GB\n",
      "\n",
      "WARNING:tensorflow:Layer gru will not use cuDNN kernels since it doesn't meet the criteria. It will use a generic GPU kernel as fallback when running on GPU.\n"
     ]
    },
    {
     "output_type": "stream",
     "name": "stderr",
     "text": [
      "2021-08-25 10:06:17.090650: I tensorflow/core/common_runtime/pluggable_device/pluggable_device_factory.cc:305] Could not identify NUMA node of platform GPU ID 0, defaulting to 0. Your kernel may not have been built with NUMA support.\n",
      "2021-08-25 10:06:17.090731: I tensorflow/core/common_runtime/pluggable_device/pluggable_device_factory.cc:271] Created TensorFlow device (/job:localhost/replica:0/task:0/device:GPU:0 with 0 MB memory) -> physical PluggableDevice (device: 0, name: METAL, pci bus id: <undefined>)\n"
     ]
    }
   ],
   "metadata": {}
  },
  {
   "cell_type": "code",
   "execution_count": 15,
   "source": [
    "model.summary()"
   ],
   "outputs": [
    {
     "output_type": "stream",
     "name": "stdout",
     "text": [
      "Model: \"sequential\"\n",
      "_________________________________________________________________\n",
      "Layer (type)                 Output Shape              Param #   \n",
      "=================================================================\n",
      "gru (GRU)                    (None, 16)                1056      \n",
      "_________________________________________________________________\n",
      "dense (Dense)                (None, 1)                 17        \n",
      "=================================================================\n",
      "Total params: 1,073\n",
      "Trainable params: 1,073\n",
      "Non-trainable params: 0\n",
      "_________________________________________________________________\n"
     ]
    }
   ],
   "metadata": {}
  },
  {
   "cell_type": "code",
   "execution_count": 16,
   "source": [
    "model.compile(loss='mse', optimizer='adam', metrics=['mse'])"
   ],
   "outputs": [],
   "metadata": {}
  },
  {
   "cell_type": "code",
   "execution_count": 17,
   "source": [
    "history = model.fit(X_train, y_train, batch_size=64, epochs=100, validation_data=(X_val, y_val))"
   ],
   "outputs": [
    {
     "output_type": "stream",
     "name": "stdout",
     "text": [
      "Epoch 1/100\n"
     ]
    },
    {
     "output_type": "stream",
     "name": "stderr",
     "text": [
      "2021-08-25 10:06:17.260058: I tensorflow/compiler/mlir/mlir_graph_optimization_pass.cc:176] None of the MLIR Optimization Passes are enabled (registered 2)\n",
      "2021-08-25 10:06:17.260278: W tensorflow/core/platform/profile_utils/cpu_utils.cc:128] Failed to get CPU frequency: 0 Hz\n",
      "2021-08-25 10:06:17.615591: I tensorflow/core/grappler/optimizers/custom_graph_optimizer_registry.cc:112] Plugin optimizer for device_type GPU is enabled.\n"
     ]
    },
    {
     "output_type": "stream",
     "name": "stdout",
     "text": [
      "13/13 [==============================] - 2s 129ms/step - loss: 173421.5469 - mse: 173421.5469 - val_loss: 150837.6094 - val_mse: 150837.6094\n",
      "Epoch 2/100\n"
     ]
    },
    {
     "output_type": "stream",
     "name": "stderr",
     "text": [
      "2021-08-25 10:06:19.366642: I tensorflow/core/grappler/optimizers/custom_graph_optimizer_registry.cc:112] Plugin optimizer for device_type GPU is enabled.\n"
     ]
    },
    {
     "output_type": "stream",
     "name": "stdout",
     "text": [
      "13/13 [==============================] - 2s 121ms/step - loss: 154134.2812 - mse: 154134.2812 - val_loss: 138870.6719 - val_mse: 138870.6719\n",
      "Epoch 3/100\n",
      "13/13 [==============================] - 2s 119ms/step - loss: 132003.7188 - mse: 132003.7188 - val_loss: 57477.6055 - val_mse: 57477.6055\n",
      "Epoch 4/100\n",
      "13/13 [==============================] - 2s 119ms/step - loss: 43800.6328 - mse: 43800.6328 - val_loss: 20113.4121 - val_mse: 20113.4121\n",
      "Epoch 5/100\n",
      "13/13 [==============================] - 2s 119ms/step - loss: 13737.2422 - mse: 13737.2422 - val_loss: 6735.5337 - val_mse: 6735.5337\n",
      "Epoch 6/100\n",
      "13/13 [==============================] - 2s 119ms/step - loss: 1576.5367 - mse: 1576.5367 - val_loss: 261.4871 - val_mse: 261.4871\n",
      "Epoch 7/100\n",
      "13/13 [==============================] - 2s 119ms/step - loss: 118.1560 - mse: 118.1560 - val_loss: 157.8094 - val_mse: 157.8094\n",
      "Epoch 8/100\n",
      "13/13 [==============================] - 2s 119ms/step - loss: 89.0789 - mse: 89.0789 - val_loss: 124.7887 - val_mse: 124.7887\n",
      "Epoch 9/100\n",
      "13/13 [==============================] - 2s 119ms/step - loss: 77.9496 - mse: 77.9496 - val_loss: 124.5037 - val_mse: 124.5037\n",
      "Epoch 10/100\n",
      "13/13 [==============================] - 2s 119ms/step - loss: 72.1401 - mse: 72.1401 - val_loss: 128.2652 - val_mse: 128.2652\n",
      "Epoch 11/100\n",
      "13/13 [==============================] - 2s 120ms/step - loss: 70.5406 - mse: 70.5406 - val_loss: 116.1385 - val_mse: 116.1385\n",
      "Epoch 12/100\n",
      "13/13 [==============================] - 2s 119ms/step - loss: 72.5469 - mse: 72.5469 - val_loss: 117.7753 - val_mse: 117.7753\n",
      "Epoch 13/100\n",
      "13/13 [==============================] - 2s 119ms/step - loss: 71.4651 - mse: 71.4651 - val_loss: 110.8716 - val_mse: 110.8716\n",
      "Epoch 14/100\n",
      "13/13 [==============================] - 2s 119ms/step - loss: 71.0217 - mse: 71.0217 - val_loss: 124.3630 - val_mse: 124.3630\n",
      "Epoch 15/100\n",
      "13/13 [==============================] - 2s 119ms/step - loss: 71.3942 - mse: 71.3942 - val_loss: 126.4162 - val_mse: 126.4162\n",
      "Epoch 16/100\n",
      "13/13 [==============================] - 2s 119ms/step - loss: 71.0841 - mse: 71.0841 - val_loss: 124.2512 - val_mse: 124.2512\n",
      "Epoch 17/100\n",
      "13/13 [==============================] - 2s 119ms/step - loss: 71.1339 - mse: 71.1339 - val_loss: 127.3359 - val_mse: 127.3359\n",
      "Epoch 18/100\n",
      "13/13 [==============================] - 2s 119ms/step - loss: 71.6857 - mse: 71.6857 - val_loss: 124.6723 - val_mse: 124.6723\n",
      "Epoch 19/100\n",
      "13/13 [==============================] - 2s 119ms/step - loss: 71.1770 - mse: 71.1770 - val_loss: 125.0214 - val_mse: 125.0214\n",
      "Epoch 20/100\n",
      "13/13 [==============================] - 2s 119ms/step - loss: 71.3919 - mse: 71.3919 - val_loss: 124.8799 - val_mse: 124.8799\n",
      "Epoch 21/100\n",
      "13/13 [==============================] - 2s 123ms/step - loss: 71.8024 - mse: 71.8024 - val_loss: 124.3883 - val_mse: 124.3883\n",
      "Epoch 22/100\n",
      "13/13 [==============================] - 2s 119ms/step - loss: 71.4387 - mse: 71.4387 - val_loss: 125.2226 - val_mse: 125.2226\n",
      "Epoch 23/100\n",
      "13/13 [==============================] - 2s 120ms/step - loss: 70.8373 - mse: 70.8373 - val_loss: 124.0779 - val_mse: 124.0779\n",
      "Epoch 24/100\n",
      "13/13 [==============================] - 2s 120ms/step - loss: 71.2023 - mse: 71.2023 - val_loss: 124.8197 - val_mse: 124.8197\n",
      "Epoch 25/100\n",
      "13/13 [==============================] - 2s 119ms/step - loss: 72.2157 - mse: 72.2157 - val_loss: 126.0719 - val_mse: 126.0719\n",
      "Epoch 26/100\n",
      "13/13 [==============================] - 2s 119ms/step - loss: 71.0153 - mse: 71.0153 - val_loss: 124.0676 - val_mse: 124.0676\n",
      "Epoch 27/100\n",
      "13/13 [==============================] - 2s 120ms/step - loss: 71.5671 - mse: 71.5671 - val_loss: 124.0753 - val_mse: 124.0753\n",
      "Epoch 28/100\n",
      "13/13 [==============================] - 2s 119ms/step - loss: 70.2526 - mse: 70.2526 - val_loss: 126.3692 - val_mse: 126.3692\n",
      "Epoch 29/100\n",
      "13/13 [==============================] - 2s 119ms/step - loss: 70.8985 - mse: 70.8985 - val_loss: 123.9555 - val_mse: 123.9555\n",
      "Epoch 30/100\n",
      "13/13 [==============================] - 2s 121ms/step - loss: 70.6415 - mse: 70.6415 - val_loss: 118.7898 - val_mse: 118.7898\n",
      "Epoch 31/100\n",
      "13/13 [==============================] - 2s 120ms/step - loss: 68.5171 - mse: 68.5171 - val_loss: 114.9638 - val_mse: 114.9638\n",
      "Epoch 32/100\n",
      "13/13 [==============================] - 2s 120ms/step - loss: 68.7093 - mse: 68.7093 - val_loss: 109.4509 - val_mse: 109.4509\n",
      "Epoch 33/100\n",
      "13/13 [==============================] - 2s 119ms/step - loss: 70.6866 - mse: 70.6866 - val_loss: 123.4850 - val_mse: 123.4850\n",
      "Epoch 34/100\n",
      "13/13 [==============================] - 2s 120ms/step - loss: 68.1505 - mse: 68.1505 - val_loss: 105.5317 - val_mse: 105.5317\n",
      "Epoch 35/100\n",
      "13/13 [==============================] - 2s 119ms/step - loss: 70.0532 - mse: 70.0532 - val_loss: 108.0670 - val_mse: 108.0670\n",
      "Epoch 36/100\n",
      "13/13 [==============================] - 2s 120ms/step - loss: 69.5743 - mse: 69.5743 - val_loss: 109.2905 - val_mse: 109.2905\n",
      "Epoch 37/100\n",
      "13/13 [==============================] - 2s 119ms/step - loss: 64.7141 - mse: 64.7141 - val_loss: 112.7311 - val_mse: 112.7311\n",
      "Epoch 38/100\n",
      "13/13 [==============================] - 2s 119ms/step - loss: 71.3031 - mse: 71.3031 - val_loss: 125.4431 - val_mse: 125.4431\n",
      "Epoch 39/100\n",
      "13/13 [==============================] - 2s 119ms/step - loss: 72.3087 - mse: 72.3087 - val_loss: 123.5580 - val_mse: 123.5580\n",
      "Epoch 40/100\n",
      "13/13 [==============================] - 2s 119ms/step - loss: 71.2914 - mse: 71.2914 - val_loss: 123.5347 - val_mse: 123.5347\n",
      "Epoch 41/100\n",
      "13/13 [==============================] - 2s 119ms/step - loss: 69.9555 - mse: 69.9555 - val_loss: 122.5689 - val_mse: 122.5689\n",
      "Epoch 42/100\n",
      "13/13 [==============================] - 2s 119ms/step - loss: 71.3137 - mse: 71.3137 - val_loss: 126.9562 - val_mse: 126.9562\n",
      "Epoch 43/100\n",
      "13/13 [==============================] - 2s 120ms/step - loss: 71.5233 - mse: 71.5233 - val_loss: 122.3073 - val_mse: 122.3073\n",
      "Epoch 44/100\n",
      "13/13 [==============================] - 2s 122ms/step - loss: 71.6367 - mse: 71.6367 - val_loss: 122.4201 - val_mse: 122.4201\n",
      "Epoch 45/100\n",
      "13/13 [==============================] - 2s 119ms/step - loss: 71.4032 - mse: 71.4032 - val_loss: 122.7675 - val_mse: 122.7675\n",
      "Epoch 46/100\n",
      "13/13 [==============================] - 2s 119ms/step - loss: 70.3534 - mse: 70.3534 - val_loss: 124.9702 - val_mse: 124.9702\n",
      "Epoch 47/100\n",
      "13/13 [==============================] - 2s 119ms/step - loss: 70.1033 - mse: 70.1033 - val_loss: 121.9009 - val_mse: 121.9009\n",
      "Epoch 48/100\n",
      "13/13 [==============================] - 2s 120ms/step - loss: 69.3744 - mse: 69.3744 - val_loss: 123.9887 - val_mse: 123.9887\n",
      "Epoch 49/100\n",
      "13/13 [==============================] - 2s 119ms/step - loss: 70.5061 - mse: 70.5061 - val_loss: 122.2354 - val_mse: 122.2354\n",
      "Epoch 50/100\n",
      "13/13 [==============================] - 2s 120ms/step - loss: 71.2745 - mse: 71.2745 - val_loss: 117.7964 - val_mse: 117.7964\n",
      "Epoch 51/100\n",
      "13/13 [==============================] - 2s 119ms/step - loss: 66.3843 - mse: 66.3843 - val_loss: 115.9221 - val_mse: 115.9221\n",
      "Epoch 52/100\n",
      "13/13 [==============================] - 2s 119ms/step - loss: 69.9054 - mse: 69.9054 - val_loss: 115.0475 - val_mse: 115.0475\n",
      "Epoch 53/100\n",
      "13/13 [==============================] - 2s 121ms/step - loss: 68.1515 - mse: 68.1515 - val_loss: 103.4813 - val_mse: 103.4813\n",
      "Epoch 54/100\n",
      "13/13 [==============================] - 2s 119ms/step - loss: 70.8932 - mse: 70.8932 - val_loss: 123.1103 - val_mse: 123.1103\n",
      "Epoch 55/100\n",
      "13/13 [==============================] - 2s 119ms/step - loss: 69.7074 - mse: 69.7074 - val_loss: 121.1418 - val_mse: 121.1418\n",
      "Epoch 56/100\n",
      "13/13 [==============================] - 2s 119ms/step - loss: 70.5303 - mse: 70.5303 - val_loss: 123.0379 - val_mse: 123.0379\n",
      "Epoch 57/100\n",
      "13/13 [==============================] - 2s 120ms/step - loss: 69.2929 - mse: 69.2929 - val_loss: 121.3762 - val_mse: 121.3762\n",
      "Epoch 58/100\n",
      "13/13 [==============================] - 2s 119ms/step - loss: 70.1825 - mse: 70.1825 - val_loss: 122.0090 - val_mse: 122.0090\n",
      "Epoch 59/100\n",
      "13/13 [==============================] - 2s 119ms/step - loss: 70.0621 - mse: 70.0621 - val_loss: 120.7311 - val_mse: 120.7311\n",
      "Epoch 60/100\n",
      "13/13 [==============================] - 2s 119ms/step - loss: 72.3349 - mse: 72.3349 - val_loss: 125.6339 - val_mse: 125.6339\n",
      "Epoch 61/100\n",
      "13/13 [==============================] - 2s 119ms/step - loss: 70.4864 - mse: 70.4864 - val_loss: 121.6211 - val_mse: 121.6211\n",
      "Epoch 62/100\n",
      "13/13 [==============================] - 2s 119ms/step - loss: 71.0997 - mse: 71.0997 - val_loss: 120.5151 - val_mse: 120.5151\n",
      "Epoch 63/100\n",
      "13/13 [==============================] - 2s 140ms/step - loss: 68.7614 - mse: 68.7614 - val_loss: 123.0648 - val_mse: 123.0648\n",
      "Epoch 64/100\n",
      "13/13 [==============================] - 2s 117ms/step - loss: 69.3727 - mse: 69.3727 - val_loss: 120.2940 - val_mse: 120.2940\n",
      "Epoch 65/100\n",
      "13/13 [==============================] - 2s 117ms/step - loss: 70.6281 - mse: 70.6281 - val_loss: 124.2134 - val_mse: 124.2134\n",
      "Epoch 66/100\n",
      "13/13 [==============================] - 2s 117ms/step - loss: 70.1526 - mse: 70.1526 - val_loss: 122.3517 - val_mse: 122.3517\n",
      "Epoch 67/100\n",
      "13/13 [==============================] - 2s 118ms/step - loss: 68.7057 - mse: 68.7057 - val_loss: 119.9239 - val_mse: 119.9239\n",
      "Epoch 68/100\n",
      "13/13 [==============================] - 2s 117ms/step - loss: 70.9988 - mse: 70.9988 - val_loss: 122.5077 - val_mse: 122.5077\n",
      "Epoch 69/100\n",
      "13/13 [==============================] - 2s 117ms/step - loss: 68.7653 - mse: 68.7653 - val_loss: 120.7030 - val_mse: 120.7030\n",
      "Epoch 70/100\n",
      "13/13 [==============================] - 2s 117ms/step - loss: 68.2235 - mse: 68.2235 - val_loss: 120.8533 - val_mse: 120.8533\n",
      "Epoch 71/100\n",
      "13/13 [==============================] - 2s 117ms/step - loss: 68.2922 - mse: 68.2922 - val_loss: 120.1604 - val_mse: 120.1604\n",
      "Epoch 72/100\n",
      "13/13 [==============================] - 2s 119ms/step - loss: 68.9038 - mse: 68.9038 - val_loss: 122.3844 - val_mse: 122.3844\n",
      "Epoch 73/100\n",
      "13/13 [==============================] - 2s 117ms/step - loss: 68.5064 - mse: 68.5064 - val_loss: 120.9207 - val_mse: 120.9207\n",
      "Epoch 74/100\n",
      "13/13 [==============================] - 2s 118ms/step - loss: 68.2108 - mse: 68.2108 - val_loss: 121.3133 - val_mse: 121.3133\n",
      "Epoch 75/100\n",
      "13/13 [==============================] - 2s 117ms/step - loss: 70.1199 - mse: 70.1199 - val_loss: 104.8221 - val_mse: 104.8221\n",
      "Epoch 76/100\n",
      "13/13 [==============================] - 2s 117ms/step - loss: 67.5885 - mse: 67.5885 - val_loss: 103.4953 - val_mse: 103.4953\n",
      "Epoch 77/100\n",
      "13/13 [==============================] - 2s 117ms/step - loss: 68.2653 - mse: 68.2653 - val_loss: 112.2993 - val_mse: 112.2993\n",
      "Epoch 78/100\n",
      "13/13 [==============================] - 2s 117ms/step - loss: 66.1221 - mse: 66.1221 - val_loss: 104.4661 - val_mse: 104.4661\n",
      "Epoch 79/100\n",
      "13/13 [==============================] - 2s 117ms/step - loss: 70.5671 - mse: 70.5671 - val_loss: 104.8724 - val_mse: 104.8724\n",
      "Epoch 80/100\n",
      "13/13 [==============================] - 2s 117ms/step - loss: 72.6484 - mse: 72.6484 - val_loss: 121.6353 - val_mse: 121.6353\n",
      "Epoch 81/100\n",
      "13/13 [==============================] - 2s 117ms/step - loss: 72.3942 - mse: 72.3942 - val_loss: 101.6860 - val_mse: 101.6860\n",
      "Epoch 82/100\n",
      "13/13 [==============================] - 2s 117ms/step - loss: 66.6645 - mse: 66.6645 - val_loss: 131.1900 - val_mse: 131.1900\n",
      "Epoch 83/100\n",
      "13/13 [==============================] - 2s 117ms/step - loss: 72.3780 - mse: 72.3780 - val_loss: 118.8287 - val_mse: 118.8287\n",
      "Epoch 84/100\n",
      "13/13 [==============================] - 2s 117ms/step - loss: 69.0327 - mse: 69.0327 - val_loss: 122.3079 - val_mse: 122.3079\n",
      "Epoch 85/100\n",
      "13/13 [==============================] - 2s 118ms/step - loss: 67.6197 - mse: 67.6197 - val_loss: 118.1994 - val_mse: 118.1994\n",
      "Epoch 86/100\n",
      "13/13 [==============================] - 2s 120ms/step - loss: 67.6808 - mse: 67.6808 - val_loss: 120.3388 - val_mse: 120.3388\n",
      "Epoch 87/100\n",
      "13/13 [==============================] - 2s 119ms/step - loss: 67.9120 - mse: 67.9120 - val_loss: 119.5108 - val_mse: 119.5108\n",
      "Epoch 88/100\n",
      "13/13 [==============================] - 2s 117ms/step - loss: 69.2578 - mse: 69.2578 - val_loss: 119.0982 - val_mse: 119.0982\n",
      "Epoch 89/100\n",
      "13/13 [==============================] - 2s 117ms/step - loss: 68.3275 - mse: 68.3275 - val_loss: 117.8456 - val_mse: 117.8456\n",
      "Epoch 90/100\n",
      "13/13 [==============================] - 2s 117ms/step - loss: 68.7934 - mse: 68.7934 - val_loss: 123.5875 - val_mse: 123.5875\n",
      "Epoch 91/100\n",
      "13/13 [==============================] - 2s 118ms/step - loss: 66.9178 - mse: 66.9178 - val_loss: 117.5185 - val_mse: 117.5185\n",
      "Epoch 92/100\n",
      "13/13 [==============================] - 2s 118ms/step - loss: 70.2001 - mse: 70.2001 - val_loss: 121.7491 - val_mse: 121.7491\n",
      "Epoch 93/100\n",
      "13/13 [==============================] - 2s 117ms/step - loss: 68.0306 - mse: 68.0306 - val_loss: 117.7908 - val_mse: 117.7908\n",
      "Epoch 94/100\n",
      "13/13 [==============================] - 2s 117ms/step - loss: 67.5863 - mse: 67.5863 - val_loss: 120.7220 - val_mse: 120.7220\n",
      "Epoch 95/100\n",
      "13/13 [==============================] - 2s 117ms/step - loss: 66.7220 - mse: 66.7220 - val_loss: 117.2113 - val_mse: 117.2113\n",
      "Epoch 96/100\n",
      "13/13 [==============================] - 2s 117ms/step - loss: 66.2480 - mse: 66.2480 - val_loss: 130.0615 - val_mse: 130.0615\n",
      "Epoch 97/100\n",
      "13/13 [==============================] - 2s 118ms/step - loss: 71.9798 - mse: 71.9798 - val_loss: 105.1179 - val_mse: 105.1179\n",
      "Epoch 98/100\n",
      "13/13 [==============================] - 2s 117ms/step - loss: 69.5555 - mse: 69.5555 - val_loss: 101.6947 - val_mse: 101.6947\n",
      "Epoch 99/100\n",
      "13/13 [==============================] - 2s 117ms/step - loss: 75.3144 - mse: 75.3144 - val_loss: 145.1918 - val_mse: 145.1918\n",
      "Epoch 100/100\n",
      "13/13 [==============================] - 2s 117ms/step - loss: 88.5989 - mse: 88.5989 - val_loss: 124.1503 - val_mse: 124.1503\n"
     ]
    }
   ],
   "metadata": {}
  },
  {
   "cell_type": "code",
   "execution_count": 18,
   "source": [
    "# Plot epochs - loss\n",
    "plt.plot(history.history['loss'])\n",
    "plt.plot(history.history['val_loss'])\n",
    "plt.xlabel('epochs')\n",
    "plt.ylabel('loss')\n",
    "plt.legend(['train', 'val'])\n",
    "plt.show()"
   ],
   "outputs": [
    {
     "output_type": "display_data",
     "data": {
      "text/plain": [
       "<Figure size 432x288 with 1 Axes>"
      ],
      "image/svg+xml": "<?xml version=\"1.0\" encoding=\"utf-8\" standalone=\"no\"?>\n<!DOCTYPE svg PUBLIC \"-//W3C//DTD SVG 1.1//EN\"\n  \"http://www.w3.org/Graphics/SVG/1.1/DTD/svg11.dtd\">\n<svg height=\"262.19625pt\" version=\"1.1\" viewBox=\"0 0 408.053125 262.19625\" width=\"408.053125pt\" xmlns=\"http://www.w3.org/2000/svg\" xmlns:xlink=\"http://www.w3.org/1999/xlink\">\n <metadata>\n  <rdf:RDF xmlns:cc=\"http://creativecommons.org/ns#\" xmlns:dc=\"http://purl.org/dc/elements/1.1/\" xmlns:rdf=\"http://www.w3.org/1999/02/22-rdf-syntax-ns#\">\n   <cc:Work>\n    <dc:type rdf:resource=\"http://purl.org/dc/dcmitype/StillImage\"/>\n    <dc:date>2021-08-25T10:08:52.573496</dc:date>\n    <dc:format>image/svg+xml</dc:format>\n    <dc:creator>\n     <cc:Agent>\n      <dc:title>Matplotlib v3.4.2, https://matplotlib.org/</dc:title>\n     </cc:Agent>\n    </dc:creator>\n   </cc:Work>\n  </rdf:RDF>\n </metadata>\n <defs>\n  <style type=\"text/css\">*{stroke-linecap:butt;stroke-linejoin:round;}</style>\n </defs>\n <g id=\"figure_1\">\n  <g id=\"patch_1\">\n   <path d=\"M 0 262.19625 \nL 408.053125 262.19625 \nL 408.053125 0 \nL 0 0 \nz\n\" style=\"fill:none;\"/>\n  </g>\n  <g id=\"axes_1\">\n   <g id=\"patch_2\">\n    <path d=\"M 66.053125 224.64 \nL 400.853125 224.64 \nL 400.853125 7.2 \nL 66.053125 7.2 \nz\n\" style=\"fill:#ffffff;\"/>\n   </g>\n   <g id=\"matplotlib.axis_1\">\n    <g id=\"xtick_1\">\n     <g id=\"line2d_1\">\n      <defs>\n       <path d=\"M 0 0 \nL 0 3.5 \n\" id=\"m860be351e4\" style=\"stroke:#000000;stroke-width:0.8;\"/>\n      </defs>\n      <g>\n       <use style=\"stroke:#000000;stroke-width:0.8;\" x=\"81.271307\" xlink:href=\"#m860be351e4\" y=\"224.64\"/>\n      </g>\n     </g>\n     <g id=\"text_1\">\n      <!-- 0 -->\n      <g transform=\"translate(78.090057 239.238437)scale(0.1 -0.1)\">\n       <defs>\n        <path d=\"M 2034 4250 \nQ 1547 4250 1301 3770 \nQ 1056 3291 1056 2328 \nQ 1056 1369 1301 889 \nQ 1547 409 2034 409 \nQ 2525 409 2770 889 \nQ 3016 1369 3016 2328 \nQ 3016 3291 2770 3770 \nQ 2525 4250 2034 4250 \nz\nM 2034 4750 \nQ 2819 4750 3233 4129 \nQ 3647 3509 3647 2328 \nQ 3647 1150 3233 529 \nQ 2819 -91 2034 -91 \nQ 1250 -91 836 529 \nQ 422 1150 422 2328 \nQ 422 3509 836 4129 \nQ 1250 4750 2034 4750 \nz\n\" id=\"DejaVuSans-30\" transform=\"scale(0.015625)\"/>\n       </defs>\n       <use xlink:href=\"#DejaVuSans-30\"/>\n      </g>\n     </g>\n    </g>\n    <g id=\"xtick_2\">\n     <g id=\"line2d_2\">\n      <g>\n       <use style=\"stroke:#000000;stroke-width:0.8;\" x=\"142.75891\" xlink:href=\"#m860be351e4\" y=\"224.64\"/>\n      </g>\n     </g>\n     <g id=\"text_2\">\n      <!-- 20 -->\n      <g transform=\"translate(136.39641 239.238437)scale(0.1 -0.1)\">\n       <defs>\n        <path d=\"M 1228 531 \nL 3431 531 \nL 3431 0 \nL 469 0 \nL 469 531 \nQ 828 903 1448 1529 \nQ 2069 2156 2228 2338 \nQ 2531 2678 2651 2914 \nQ 2772 3150 2772 3378 \nQ 2772 3750 2511 3984 \nQ 2250 4219 1831 4219 \nQ 1534 4219 1204 4116 \nQ 875 4013 500 3803 \nL 500 4441 \nQ 881 4594 1212 4672 \nQ 1544 4750 1819 4750 \nQ 2544 4750 2975 4387 \nQ 3406 4025 3406 3419 \nQ 3406 3131 3298 2873 \nQ 3191 2616 2906 2266 \nQ 2828 2175 2409 1742 \nQ 1991 1309 1228 531 \nz\n\" id=\"DejaVuSans-32\" transform=\"scale(0.015625)\"/>\n       </defs>\n       <use xlink:href=\"#DejaVuSans-32\"/>\n       <use x=\"63.623047\" xlink:href=\"#DejaVuSans-30\"/>\n      </g>\n     </g>\n    </g>\n    <g id=\"xtick_3\">\n     <g id=\"line2d_3\">\n      <g>\n       <use style=\"stroke:#000000;stroke-width:0.8;\" x=\"204.246513\" xlink:href=\"#m860be351e4\" y=\"224.64\"/>\n      </g>\n     </g>\n     <g id=\"text_3\">\n      <!-- 40 -->\n      <g transform=\"translate(197.884013 239.238437)scale(0.1 -0.1)\">\n       <defs>\n        <path d=\"M 2419 4116 \nL 825 1625 \nL 2419 1625 \nL 2419 4116 \nz\nM 2253 4666 \nL 3047 4666 \nL 3047 1625 \nL 3713 1625 \nL 3713 1100 \nL 3047 1100 \nL 3047 0 \nL 2419 0 \nL 2419 1100 \nL 313 1100 \nL 313 1709 \nL 2253 4666 \nz\n\" id=\"DejaVuSans-34\" transform=\"scale(0.015625)\"/>\n       </defs>\n       <use xlink:href=\"#DejaVuSans-34\"/>\n       <use x=\"63.623047\" xlink:href=\"#DejaVuSans-30\"/>\n      </g>\n     </g>\n    </g>\n    <g id=\"xtick_4\">\n     <g id=\"line2d_4\">\n      <g>\n       <use style=\"stroke:#000000;stroke-width:0.8;\" x=\"265.734117\" xlink:href=\"#m860be351e4\" y=\"224.64\"/>\n      </g>\n     </g>\n     <g id=\"text_4\">\n      <!-- 60 -->\n      <g transform=\"translate(259.371617 239.238437)scale(0.1 -0.1)\">\n       <defs>\n        <path d=\"M 2113 2584 \nQ 1688 2584 1439 2293 \nQ 1191 2003 1191 1497 \nQ 1191 994 1439 701 \nQ 1688 409 2113 409 \nQ 2538 409 2786 701 \nQ 3034 994 3034 1497 \nQ 3034 2003 2786 2293 \nQ 2538 2584 2113 2584 \nz\nM 3366 4563 \nL 3366 3988 \nQ 3128 4100 2886 4159 \nQ 2644 4219 2406 4219 \nQ 1781 4219 1451 3797 \nQ 1122 3375 1075 2522 \nQ 1259 2794 1537 2939 \nQ 1816 3084 2150 3084 \nQ 2853 3084 3261 2657 \nQ 3669 2231 3669 1497 \nQ 3669 778 3244 343 \nQ 2819 -91 2113 -91 \nQ 1303 -91 875 529 \nQ 447 1150 447 2328 \nQ 447 3434 972 4092 \nQ 1497 4750 2381 4750 \nQ 2619 4750 2861 4703 \nQ 3103 4656 3366 4563 \nz\n\" id=\"DejaVuSans-36\" transform=\"scale(0.015625)\"/>\n       </defs>\n       <use xlink:href=\"#DejaVuSans-36\"/>\n       <use x=\"63.623047\" xlink:href=\"#DejaVuSans-30\"/>\n      </g>\n     </g>\n    </g>\n    <g id=\"xtick_5\">\n     <g id=\"line2d_5\">\n      <g>\n       <use style=\"stroke:#000000;stroke-width:0.8;\" x=\"327.22172\" xlink:href=\"#m860be351e4\" y=\"224.64\"/>\n      </g>\n     </g>\n     <g id=\"text_5\">\n      <!-- 80 -->\n      <g transform=\"translate(320.85922 239.238437)scale(0.1 -0.1)\">\n       <defs>\n        <path d=\"M 2034 2216 \nQ 1584 2216 1326 1975 \nQ 1069 1734 1069 1313 \nQ 1069 891 1326 650 \nQ 1584 409 2034 409 \nQ 2484 409 2743 651 \nQ 3003 894 3003 1313 \nQ 3003 1734 2745 1975 \nQ 2488 2216 2034 2216 \nz\nM 1403 2484 \nQ 997 2584 770 2862 \nQ 544 3141 544 3541 \nQ 544 4100 942 4425 \nQ 1341 4750 2034 4750 \nQ 2731 4750 3128 4425 \nQ 3525 4100 3525 3541 \nQ 3525 3141 3298 2862 \nQ 3072 2584 2669 2484 \nQ 3125 2378 3379 2068 \nQ 3634 1759 3634 1313 \nQ 3634 634 3220 271 \nQ 2806 -91 2034 -91 \nQ 1263 -91 848 271 \nQ 434 634 434 1313 \nQ 434 1759 690 2068 \nQ 947 2378 1403 2484 \nz\nM 1172 3481 \nQ 1172 3119 1398 2916 \nQ 1625 2713 2034 2713 \nQ 2441 2713 2670 2916 \nQ 2900 3119 2900 3481 \nQ 2900 3844 2670 4047 \nQ 2441 4250 2034 4250 \nQ 1625 4250 1398 4047 \nQ 1172 3844 1172 3481 \nz\n\" id=\"DejaVuSans-38\" transform=\"scale(0.015625)\"/>\n       </defs>\n       <use xlink:href=\"#DejaVuSans-38\"/>\n       <use x=\"63.623047\" xlink:href=\"#DejaVuSans-30\"/>\n      </g>\n     </g>\n    </g>\n    <g id=\"xtick_6\">\n     <g id=\"line2d_6\">\n      <g>\n       <use style=\"stroke:#000000;stroke-width:0.8;\" x=\"388.709323\" xlink:href=\"#m860be351e4\" y=\"224.64\"/>\n      </g>\n     </g>\n     <g id=\"text_6\">\n      <!-- 100 -->\n      <g transform=\"translate(379.165573 239.238437)scale(0.1 -0.1)\">\n       <defs>\n        <path d=\"M 794 531 \nL 1825 531 \nL 1825 4091 \nL 703 3866 \nL 703 4441 \nL 1819 4666 \nL 2450 4666 \nL 2450 531 \nL 3481 531 \nL 3481 0 \nL 794 0 \nL 794 531 \nz\n\" id=\"DejaVuSans-31\" transform=\"scale(0.015625)\"/>\n       </defs>\n       <use xlink:href=\"#DejaVuSans-31\"/>\n       <use x=\"63.623047\" xlink:href=\"#DejaVuSans-30\"/>\n       <use x=\"127.246094\" xlink:href=\"#DejaVuSans-30\"/>\n      </g>\n     </g>\n    </g>\n    <g id=\"text_7\">\n     <!-- epochs -->\n     <g transform=\"translate(215.620313 252.916562)scale(0.1 -0.1)\">\n      <defs>\n       <path d=\"M 3597 1894 \nL 3597 1613 \nL 953 1613 \nQ 991 1019 1311 708 \nQ 1631 397 2203 397 \nQ 2534 397 2845 478 \nQ 3156 559 3463 722 \nL 3463 178 \nQ 3153 47 2828 -22 \nQ 2503 -91 2169 -91 \nQ 1331 -91 842 396 \nQ 353 884 353 1716 \nQ 353 2575 817 3079 \nQ 1281 3584 2069 3584 \nQ 2775 3584 3186 3129 \nQ 3597 2675 3597 1894 \nz\nM 3022 2063 \nQ 3016 2534 2758 2815 \nQ 2500 3097 2075 3097 \nQ 1594 3097 1305 2825 \nQ 1016 2553 972 2059 \nL 3022 2063 \nz\n\" id=\"DejaVuSans-65\" transform=\"scale(0.015625)\"/>\n       <path d=\"M 1159 525 \nL 1159 -1331 \nL 581 -1331 \nL 581 3500 \nL 1159 3500 \nL 1159 2969 \nQ 1341 3281 1617 3432 \nQ 1894 3584 2278 3584 \nQ 2916 3584 3314 3078 \nQ 3713 2572 3713 1747 \nQ 3713 922 3314 415 \nQ 2916 -91 2278 -91 \nQ 1894 -91 1617 61 \nQ 1341 213 1159 525 \nz\nM 3116 1747 \nQ 3116 2381 2855 2742 \nQ 2594 3103 2138 3103 \nQ 1681 3103 1420 2742 \nQ 1159 2381 1159 1747 \nQ 1159 1113 1420 752 \nQ 1681 391 2138 391 \nQ 2594 391 2855 752 \nQ 3116 1113 3116 1747 \nz\n\" id=\"DejaVuSans-70\" transform=\"scale(0.015625)\"/>\n       <path d=\"M 1959 3097 \nQ 1497 3097 1228 2736 \nQ 959 2375 959 1747 \nQ 959 1119 1226 758 \nQ 1494 397 1959 397 \nQ 2419 397 2687 759 \nQ 2956 1122 2956 1747 \nQ 2956 2369 2687 2733 \nQ 2419 3097 1959 3097 \nz\nM 1959 3584 \nQ 2709 3584 3137 3096 \nQ 3566 2609 3566 1747 \nQ 3566 888 3137 398 \nQ 2709 -91 1959 -91 \nQ 1206 -91 779 398 \nQ 353 888 353 1747 \nQ 353 2609 779 3096 \nQ 1206 3584 1959 3584 \nz\n\" id=\"DejaVuSans-6f\" transform=\"scale(0.015625)\"/>\n       <path d=\"M 3122 3366 \nL 3122 2828 \nQ 2878 2963 2633 3030 \nQ 2388 3097 2138 3097 \nQ 1578 3097 1268 2742 \nQ 959 2388 959 1747 \nQ 959 1106 1268 751 \nQ 1578 397 2138 397 \nQ 2388 397 2633 464 \nQ 2878 531 3122 666 \nL 3122 134 \nQ 2881 22 2623 -34 \nQ 2366 -91 2075 -91 \nQ 1284 -91 818 406 \nQ 353 903 353 1747 \nQ 353 2603 823 3093 \nQ 1294 3584 2113 3584 \nQ 2378 3584 2631 3529 \nQ 2884 3475 3122 3366 \nz\n\" id=\"DejaVuSans-63\" transform=\"scale(0.015625)\"/>\n       <path d=\"M 3513 2113 \nL 3513 0 \nL 2938 0 \nL 2938 2094 \nQ 2938 2591 2744 2837 \nQ 2550 3084 2163 3084 \nQ 1697 3084 1428 2787 \nQ 1159 2491 1159 1978 \nL 1159 0 \nL 581 0 \nL 581 4863 \nL 1159 4863 \nL 1159 2956 \nQ 1366 3272 1645 3428 \nQ 1925 3584 2291 3584 \nQ 2894 3584 3203 3211 \nQ 3513 2838 3513 2113 \nz\n\" id=\"DejaVuSans-68\" transform=\"scale(0.015625)\"/>\n       <path d=\"M 2834 3397 \nL 2834 2853 \nQ 2591 2978 2328 3040 \nQ 2066 3103 1784 3103 \nQ 1356 3103 1142 2972 \nQ 928 2841 928 2578 \nQ 928 2378 1081 2264 \nQ 1234 2150 1697 2047 \nL 1894 2003 \nQ 2506 1872 2764 1633 \nQ 3022 1394 3022 966 \nQ 3022 478 2636 193 \nQ 2250 -91 1575 -91 \nQ 1294 -91 989 -36 \nQ 684 19 347 128 \nL 347 722 \nQ 666 556 975 473 \nQ 1284 391 1588 391 \nQ 1994 391 2212 530 \nQ 2431 669 2431 922 \nQ 2431 1156 2273 1281 \nQ 2116 1406 1581 1522 \nL 1381 1569 \nQ 847 1681 609 1914 \nQ 372 2147 372 2553 \nQ 372 3047 722 3315 \nQ 1072 3584 1716 3584 \nQ 2034 3584 2315 3537 \nQ 2597 3491 2834 3397 \nz\n\" id=\"DejaVuSans-73\" transform=\"scale(0.015625)\"/>\n      </defs>\n      <use xlink:href=\"#DejaVuSans-65\"/>\n      <use x=\"61.523438\" xlink:href=\"#DejaVuSans-70\"/>\n      <use x=\"125\" xlink:href=\"#DejaVuSans-6f\"/>\n      <use x=\"186.181641\" xlink:href=\"#DejaVuSans-63\"/>\n      <use x=\"241.162109\" xlink:href=\"#DejaVuSans-68\"/>\n      <use x=\"304.541016\" xlink:href=\"#DejaVuSans-73\"/>\n     </g>\n    </g>\n   </g>\n   <g id=\"matplotlib.axis_2\">\n    <g id=\"ytick_1\">\n     <g id=\"line2d_7\">\n      <defs>\n       <path d=\"M 0 0 \nL -3.5 0 \n\" id=\"m4988656ea1\" style=\"stroke:#000000;stroke-width:0.8;\"/>\n      </defs>\n      <g>\n       <use style=\"stroke:#000000;stroke-width:0.8;\" x=\"66.053125\" xlink:href=\"#m4988656ea1\" y=\"214.830155\"/>\n      </g>\n     </g>\n     <g id=\"text_8\">\n      <!-- 0 -->\n      <g transform=\"translate(52.690625 218.629374)scale(0.1 -0.1)\">\n       <use xlink:href=\"#DejaVuSans-30\"/>\n      </g>\n     </g>\n    </g>\n    <g id=\"ytick_2\">\n     <g id=\"line2d_8\">\n      <g>\n       <use style=\"stroke:#000000;stroke-width:0.8;\" x=\"66.053125\" xlink:href=\"#m4988656ea1\" y=\"186.32353\"/>\n      </g>\n     </g>\n     <g id=\"text_9\">\n      <!-- 25000 -->\n      <g transform=\"translate(27.240625 190.122749)scale(0.1 -0.1)\">\n       <defs>\n        <path d=\"M 691 4666 \nL 3169 4666 \nL 3169 4134 \nL 1269 4134 \nL 1269 2991 \nQ 1406 3038 1543 3061 \nQ 1681 3084 1819 3084 \nQ 2600 3084 3056 2656 \nQ 3513 2228 3513 1497 \nQ 3513 744 3044 326 \nQ 2575 -91 1722 -91 \nQ 1428 -91 1123 -41 \nQ 819 9 494 109 \nL 494 744 \nQ 775 591 1075 516 \nQ 1375 441 1709 441 \nQ 2250 441 2565 725 \nQ 2881 1009 2881 1497 \nQ 2881 1984 2565 2268 \nQ 2250 2553 1709 2553 \nQ 1456 2553 1204 2497 \nQ 953 2441 691 2322 \nL 691 4666 \nz\n\" id=\"DejaVuSans-35\" transform=\"scale(0.015625)\"/>\n       </defs>\n       <use xlink:href=\"#DejaVuSans-32\"/>\n       <use x=\"63.623047\" xlink:href=\"#DejaVuSans-35\"/>\n       <use x=\"127.246094\" xlink:href=\"#DejaVuSans-30\"/>\n       <use x=\"190.869141\" xlink:href=\"#DejaVuSans-30\"/>\n       <use x=\"254.492188\" xlink:href=\"#DejaVuSans-30\"/>\n      </g>\n     </g>\n    </g>\n    <g id=\"ytick_3\">\n     <g id=\"line2d_9\">\n      <g>\n       <use style=\"stroke:#000000;stroke-width:0.8;\" x=\"66.053125\" xlink:href=\"#m4988656ea1\" y=\"157.816905\"/>\n      </g>\n     </g>\n     <g id=\"text_10\">\n      <!-- 50000 -->\n      <g transform=\"translate(27.240625 161.616124)scale(0.1 -0.1)\">\n       <use xlink:href=\"#DejaVuSans-35\"/>\n       <use x=\"63.623047\" xlink:href=\"#DejaVuSans-30\"/>\n       <use x=\"127.246094\" xlink:href=\"#DejaVuSans-30\"/>\n       <use x=\"190.869141\" xlink:href=\"#DejaVuSans-30\"/>\n       <use x=\"254.492188\" xlink:href=\"#DejaVuSans-30\"/>\n      </g>\n     </g>\n    </g>\n    <g id=\"ytick_4\">\n     <g id=\"line2d_10\">\n      <g>\n       <use style=\"stroke:#000000;stroke-width:0.8;\" x=\"66.053125\" xlink:href=\"#m4988656ea1\" y=\"129.310281\"/>\n      </g>\n     </g>\n     <g id=\"text_11\">\n      <!-- 75000 -->\n      <g transform=\"translate(27.240625 133.109499)scale(0.1 -0.1)\">\n       <defs>\n        <path d=\"M 525 4666 \nL 3525 4666 \nL 3525 4397 \nL 1831 0 \nL 1172 0 \nL 2766 4134 \nL 525 4134 \nL 525 4666 \nz\n\" id=\"DejaVuSans-37\" transform=\"scale(0.015625)\"/>\n       </defs>\n       <use xlink:href=\"#DejaVuSans-37\"/>\n       <use x=\"63.623047\" xlink:href=\"#DejaVuSans-35\"/>\n       <use x=\"127.246094\" xlink:href=\"#DejaVuSans-30\"/>\n       <use x=\"190.869141\" xlink:href=\"#DejaVuSans-30\"/>\n       <use x=\"254.492188\" xlink:href=\"#DejaVuSans-30\"/>\n      </g>\n     </g>\n    </g>\n    <g id=\"ytick_5\">\n     <g id=\"line2d_11\">\n      <g>\n       <use style=\"stroke:#000000;stroke-width:0.8;\" x=\"66.053125\" xlink:href=\"#m4988656ea1\" y=\"100.803656\"/>\n      </g>\n     </g>\n     <g id=\"text_12\">\n      <!-- 100000 -->\n      <g transform=\"translate(20.878125 104.602875)scale(0.1 -0.1)\">\n       <use xlink:href=\"#DejaVuSans-31\"/>\n       <use x=\"63.623047\" xlink:href=\"#DejaVuSans-30\"/>\n       <use x=\"127.246094\" xlink:href=\"#DejaVuSans-30\"/>\n       <use x=\"190.869141\" xlink:href=\"#DejaVuSans-30\"/>\n       <use x=\"254.492188\" xlink:href=\"#DejaVuSans-30\"/>\n       <use x=\"318.115234\" xlink:href=\"#DejaVuSans-30\"/>\n      </g>\n     </g>\n    </g>\n    <g id=\"ytick_6\">\n     <g id=\"line2d_12\">\n      <g>\n       <use style=\"stroke:#000000;stroke-width:0.8;\" x=\"66.053125\" xlink:href=\"#m4988656ea1\" y=\"72.297031\"/>\n      </g>\n     </g>\n     <g id=\"text_13\">\n      <!-- 125000 -->\n      <g transform=\"translate(20.878125 76.09625)scale(0.1 -0.1)\">\n       <use xlink:href=\"#DejaVuSans-31\"/>\n       <use x=\"63.623047\" xlink:href=\"#DejaVuSans-32\"/>\n       <use x=\"127.246094\" xlink:href=\"#DejaVuSans-35\"/>\n       <use x=\"190.869141\" xlink:href=\"#DejaVuSans-30\"/>\n       <use x=\"254.492188\" xlink:href=\"#DejaVuSans-30\"/>\n       <use x=\"318.115234\" xlink:href=\"#DejaVuSans-30\"/>\n      </g>\n     </g>\n    </g>\n    <g id=\"ytick_7\">\n     <g id=\"line2d_13\">\n      <g>\n       <use style=\"stroke:#000000;stroke-width:0.8;\" x=\"66.053125\" xlink:href=\"#m4988656ea1\" y=\"43.790406\"/>\n      </g>\n     </g>\n     <g id=\"text_14\">\n      <!-- 150000 -->\n      <g transform=\"translate(20.878125 47.589625)scale(0.1 -0.1)\">\n       <use xlink:href=\"#DejaVuSans-31\"/>\n       <use x=\"63.623047\" xlink:href=\"#DejaVuSans-35\"/>\n       <use x=\"127.246094\" xlink:href=\"#DejaVuSans-30\"/>\n       <use x=\"190.869141\" xlink:href=\"#DejaVuSans-30\"/>\n       <use x=\"254.492188\" xlink:href=\"#DejaVuSans-30\"/>\n       <use x=\"318.115234\" xlink:href=\"#DejaVuSans-30\"/>\n      </g>\n     </g>\n    </g>\n    <g id=\"ytick_8\">\n     <g id=\"line2d_14\">\n      <g>\n       <use style=\"stroke:#000000;stroke-width:0.8;\" x=\"66.053125\" xlink:href=\"#m4988656ea1\" y=\"15.283782\"/>\n      </g>\n     </g>\n     <g id=\"text_15\">\n      <!-- 175000 -->\n      <g transform=\"translate(20.878125 19.083)scale(0.1 -0.1)\">\n       <use xlink:href=\"#DejaVuSans-31\"/>\n       <use x=\"63.623047\" xlink:href=\"#DejaVuSans-37\"/>\n       <use x=\"127.246094\" xlink:href=\"#DejaVuSans-35\"/>\n       <use x=\"190.869141\" xlink:href=\"#DejaVuSans-30\"/>\n       <use x=\"254.492188\" xlink:href=\"#DejaVuSans-30\"/>\n       <use x=\"318.115234\" xlink:href=\"#DejaVuSans-30\"/>\n      </g>\n     </g>\n    </g>\n    <g id=\"text_16\">\n     <!-- loss -->\n     <g transform=\"translate(14.798438 125.577812)rotate(-90)scale(0.1 -0.1)\">\n      <defs>\n       <path d=\"M 603 4863 \nL 1178 4863 \nL 1178 0 \nL 603 0 \nL 603 4863 \nz\n\" id=\"DejaVuSans-6c\" transform=\"scale(0.015625)\"/>\n      </defs>\n      <use xlink:href=\"#DejaVuSans-6c\"/>\n      <use x=\"27.783203\" xlink:href=\"#DejaVuSans-6f\"/>\n      <use x=\"88.964844\" xlink:href=\"#DejaVuSans-73\"/>\n      <use x=\"141.064453\" xlink:href=\"#DejaVuSans-73\"/>\n     </g>\n    </g>\n   </g>\n   <g id=\"line2d_15\">\n    <path clip-path=\"url(#pa03f03e94d)\" d=\"M 81.271307 17.083636 \nL 84.345687 39.07623 \nL 87.420067 64.310936 \nL 90.494447 164.885827 \nL 93.568827 199.166059 \nL 96.643208 213.032485 \nL 99.717588 214.695426 \nL 102.791968 214.728581 \nL 105.866348 214.741272 \nL 108.940728 214.747896 \nL 112.015108 214.74972 \nL 115.089489 214.747432 \nL 118.163869 214.748666 \nL 121.238249 214.749171 \nL 124.312629 214.748747 \nL 127.387009 214.7491 \nL 130.461389 214.749043 \nL 133.53577 214.748414 \nL 136.61015 214.748994 \nL 139.68453 214.748749 \nL 142.75891 214.748281 \nL 145.83329 214.748696 \nL 148.90767 214.749382 \nL 151.982051 214.748965 \nL 155.056431 214.74781 \nL 158.130811 214.749179 \nL 161.205191 214.748549 \nL 164.279571 214.750048 \nL 167.353951 214.749312 \nL 170.428332 214.749605 \nL 173.502712 214.752027 \nL 176.577092 214.751808 \nL 179.651472 214.749553 \nL 182.725852 214.752445 \nL 185.800232 214.750276 \nL 188.874613 214.750822 \nL 191.948993 214.756364 \nL 195.023373 214.74885 \nL 198.097753 214.747704 \nL 201.172133 214.748864 \nL 204.246513 214.750387 \nL 207.320894 214.748838 \nL 210.395274 214.748599 \nL 213.469654 214.74847 \nL 216.544034 214.748736 \nL 219.618414 214.749933 \nL 222.692794 214.750219 \nL 225.767175 214.75105 \nL 228.841555 214.749759 \nL 231.915935 214.748883 \nL 234.990315 214.754459 \nL 238.064695 214.750444 \nL 241.139075 214.752444 \nL 244.213456 214.749318 \nL 247.287836 214.75067 \nL 250.362216 214.749732 \nL 253.436596 214.751143 \nL 256.510976 214.750128 \nL 259.585356 214.750265 \nL 262.659737 214.747674 \nL 265.734117 214.749782 \nL 268.808497 214.749082 \nL 271.882877 214.751749 \nL 274.957257 214.751052 \nL 278.031637 214.74962 \nL 281.106018 214.750162 \nL 284.180398 214.751812 \nL 287.254778 214.749197 \nL 290.329158 214.751744 \nL 293.403538 214.752362 \nL 296.477918 214.752284 \nL 299.552299 214.751586 \nL 302.626679 214.752039 \nL 305.701059 214.752376 \nL 308.775439 214.7502 \nL 311.849819 214.753086 \nL 314.924199 214.752314 \nL 317.99858 214.754758 \nL 321.07296 214.74969 \nL 324.14734 214.747316 \nL 327.22172 214.747606 \nL 330.2961 214.75414 \nL 333.37048 214.747625 \nL 336.444861 214.751439 \nL 339.519241 214.753051 \nL 342.593621 214.752981 \nL 345.668001 214.752717 \nL 348.742381 214.751183 \nL 351.816761 214.752243 \nL 354.891142 214.751712 \nL 357.965522 214.753851 \nL 361.039902 214.750108 \nL 364.114282 214.752582 \nL 367.188662 214.753089 \nL 370.263042 214.754074 \nL 373.337423 214.754615 \nL 376.411803 214.748079 \nL 379.486183 214.750843 \nL 382.560563 214.744276 \nL 385.634943 214.729129 \n\" style=\"fill:none;stroke:#1f77b4;stroke-linecap:square;stroke-width:1.5;\"/>\n   </g>\n   <g id=\"line2d_16\">\n    <path clip-path=\"url(#pa03f03e94d)\" d=\"M 81.271307 42.83531 \nL 84.345687 56.48079 \nL 87.420067 149.290454 \nL 90.494447 191.895535 \nL 93.568827 207.149862 \nL 96.643208 214.53199 \nL 99.717588 214.65021 \nL 102.791968 214.687863 \nL 105.866348 214.688188 \nL 108.940728 214.683898 \nL 112.015108 214.697726 \nL 115.089489 214.69586 \nL 118.163869 214.703732 \nL 121.238249 214.688348 \nL 124.312629 214.686007 \nL 127.387009 214.688476 \nL 130.461389 214.684958 \nL 133.53577 214.687995 \nL 136.61015 214.687597 \nL 139.68453 214.687759 \nL 142.75891 214.688319 \nL 145.83329 214.687368 \nL 148.90767 214.688673 \nL 151.982051 214.687827 \nL 155.056431 214.686399 \nL 158.130811 214.688685 \nL 161.205191 214.688676 \nL 164.279571 214.686061 \nL 167.353951 214.688813 \nL 170.428332 214.694703 \nL 173.502712 214.699066 \nL 176.577092 214.705352 \nL 179.651472 214.689349 \nL 182.725852 214.709821 \nL 185.800232 214.70693 \nL 188.874613 214.705535 \nL 191.948993 214.701612 \nL 195.023373 214.687116 \nL 198.097753 214.689266 \nL 201.172133 214.689293 \nL 204.246513 214.690394 \nL 207.320894 214.685391 \nL 210.395274 214.690692 \nL 213.469654 214.690564 \nL 216.544034 214.690167 \nL 219.618414 214.687656 \nL 222.692794 214.691156 \nL 225.767175 214.688775 \nL 228.841555 214.690774 \nL 231.915935 214.695836 \nL 234.990315 214.697973 \nL 238.064695 214.69897 \nL 241.139075 214.712159 \nL 244.213456 214.689776 \nL 247.287836 214.692021 \nL 250.362216 214.689859 \nL 253.436596 214.691754 \nL 256.510976 214.691032 \nL 259.585356 214.692489 \nL 262.659737 214.686899 \nL 265.734117 214.691475 \nL 268.808497 214.692736 \nL 271.882877 214.689828 \nL 274.957257 214.692988 \nL 278.031637 214.688519 \nL 281.106018 214.690641 \nL 284.180398 214.69341 \nL 287.254778 214.690464 \nL 290.329158 214.692521 \nL 293.403538 214.69235 \nL 296.477918 214.69314 \nL 299.552299 214.690604 \nL 302.626679 214.692273 \nL 305.701059 214.691826 \nL 308.775439 214.71063 \nL 311.849819 214.712143 \nL 314.924199 214.702104 \nL 317.99858 214.711036 \nL 321.07296 214.710573 \nL 324.14734 214.691458 \nL 327.22172 214.714206 \nL 330.2961 214.680563 \nL 333.37048 214.694659 \nL 336.444861 214.690691 \nL 339.519241 214.695376 \nL 342.593621 214.692937 \nL 345.668001 214.693881 \nL 348.742381 214.694351 \nL 351.816761 214.69578 \nL 354.891142 214.689232 \nL 357.965522 214.696153 \nL 361.039902 214.691329 \nL 364.114282 214.695842 \nL 367.188662 214.6925 \nL 370.263042 214.696503 \nL 373.337423 214.68185 \nL 376.411803 214.710293 \nL 379.486183 214.714196 \nL 382.560563 214.664598 \nL 385.634943 214.688591 \n\" style=\"fill:none;stroke:#ff7f0e;stroke-linecap:square;stroke-width:1.5;\"/>\n   </g>\n   <g id=\"patch_3\">\n    <path d=\"M 66.053125 224.64 \nL 66.053125 7.2 \n\" style=\"fill:none;stroke:#000000;stroke-linecap:square;stroke-linejoin:miter;stroke-width:0.8;\"/>\n   </g>\n   <g id=\"patch_4\">\n    <path d=\"M 400.853125 224.64 \nL 400.853125 7.2 \n\" style=\"fill:none;stroke:#000000;stroke-linecap:square;stroke-linejoin:miter;stroke-width:0.8;\"/>\n   </g>\n   <g id=\"patch_5\">\n    <path d=\"M 66.053125 224.64 \nL 400.853125 224.64 \n\" style=\"fill:none;stroke:#000000;stroke-linecap:square;stroke-linejoin:miter;stroke-width:0.8;\"/>\n   </g>\n   <g id=\"patch_6\">\n    <path d=\"M 66.053125 7.2 \nL 400.853125 7.2 \n\" style=\"fill:none;stroke:#000000;stroke-linecap:square;stroke-linejoin:miter;stroke-width:0.8;\"/>\n   </g>\n   <g id=\"legend_1\">\n    <g id=\"patch_7\">\n     <path d=\"M 338.578125 44.55625 \nL 393.853125 44.55625 \nQ 395.853125 44.55625 395.853125 42.55625 \nL 395.853125 14.2 \nQ 395.853125 12.2 393.853125 12.2 \nL 338.578125 12.2 \nQ 336.578125 12.2 336.578125 14.2 \nL 336.578125 42.55625 \nQ 336.578125 44.55625 338.578125 44.55625 \nz\n\" style=\"fill:#ffffff;opacity:0.8;stroke:#cccccc;stroke-linejoin:miter;\"/>\n    </g>\n    <g id=\"line2d_17\">\n     <path d=\"M 340.578125 20.298437 \nL 360.578125 20.298437 \n\" style=\"fill:none;stroke:#1f77b4;stroke-linecap:square;stroke-width:1.5;\"/>\n    </g>\n    <g id=\"line2d_18\"/>\n    <g id=\"text_17\">\n     <!-- train -->\n     <g transform=\"translate(368.578125 23.798437)scale(0.1 -0.1)\">\n      <defs>\n       <path d=\"M 1172 4494 \nL 1172 3500 \nL 2356 3500 \nL 2356 3053 \nL 1172 3053 \nL 1172 1153 \nQ 1172 725 1289 603 \nQ 1406 481 1766 481 \nL 2356 481 \nL 2356 0 \nL 1766 0 \nQ 1100 0 847 248 \nQ 594 497 594 1153 \nL 594 3053 \nL 172 3053 \nL 172 3500 \nL 594 3500 \nL 594 4494 \nL 1172 4494 \nz\n\" id=\"DejaVuSans-74\" transform=\"scale(0.015625)\"/>\n       <path d=\"M 2631 2963 \nQ 2534 3019 2420 3045 \nQ 2306 3072 2169 3072 \nQ 1681 3072 1420 2755 \nQ 1159 2438 1159 1844 \nL 1159 0 \nL 581 0 \nL 581 3500 \nL 1159 3500 \nL 1159 2956 \nQ 1341 3275 1631 3429 \nQ 1922 3584 2338 3584 \nQ 2397 3584 2469 3576 \nQ 2541 3569 2628 3553 \nL 2631 2963 \nz\n\" id=\"DejaVuSans-72\" transform=\"scale(0.015625)\"/>\n       <path d=\"M 2194 1759 \nQ 1497 1759 1228 1600 \nQ 959 1441 959 1056 \nQ 959 750 1161 570 \nQ 1363 391 1709 391 \nQ 2188 391 2477 730 \nQ 2766 1069 2766 1631 \nL 2766 1759 \nL 2194 1759 \nz\nM 3341 1997 \nL 3341 0 \nL 2766 0 \nL 2766 531 \nQ 2569 213 2275 61 \nQ 1981 -91 1556 -91 \nQ 1019 -91 701 211 \nQ 384 513 384 1019 \nQ 384 1609 779 1909 \nQ 1175 2209 1959 2209 \nL 2766 2209 \nL 2766 2266 \nQ 2766 2663 2505 2880 \nQ 2244 3097 1772 3097 \nQ 1472 3097 1187 3025 \nQ 903 2953 641 2809 \nL 641 3341 \nQ 956 3463 1253 3523 \nQ 1550 3584 1831 3584 \nQ 2591 3584 2966 3190 \nQ 3341 2797 3341 1997 \nz\n\" id=\"DejaVuSans-61\" transform=\"scale(0.015625)\"/>\n       <path d=\"M 603 3500 \nL 1178 3500 \nL 1178 0 \nL 603 0 \nL 603 3500 \nz\nM 603 4863 \nL 1178 4863 \nL 1178 4134 \nL 603 4134 \nL 603 4863 \nz\n\" id=\"DejaVuSans-69\" transform=\"scale(0.015625)\"/>\n       <path d=\"M 3513 2113 \nL 3513 0 \nL 2938 0 \nL 2938 2094 \nQ 2938 2591 2744 2837 \nQ 2550 3084 2163 3084 \nQ 1697 3084 1428 2787 \nQ 1159 2491 1159 1978 \nL 1159 0 \nL 581 0 \nL 581 3500 \nL 1159 3500 \nL 1159 2956 \nQ 1366 3272 1645 3428 \nQ 1925 3584 2291 3584 \nQ 2894 3584 3203 3211 \nQ 3513 2838 3513 2113 \nz\n\" id=\"DejaVuSans-6e\" transform=\"scale(0.015625)\"/>\n      </defs>\n      <use xlink:href=\"#DejaVuSans-74\"/>\n      <use x=\"39.208984\" xlink:href=\"#DejaVuSans-72\"/>\n      <use x=\"80.322266\" xlink:href=\"#DejaVuSans-61\"/>\n      <use x=\"141.601562\" xlink:href=\"#DejaVuSans-69\"/>\n      <use x=\"169.384766\" xlink:href=\"#DejaVuSans-6e\"/>\n     </g>\n    </g>\n    <g id=\"line2d_19\">\n     <path d=\"M 340.578125 34.976562 \nL 360.578125 34.976562 \n\" style=\"fill:none;stroke:#ff7f0e;stroke-linecap:square;stroke-width:1.5;\"/>\n    </g>\n    <g id=\"line2d_20\"/>\n    <g id=\"text_18\">\n     <!-- val -->\n     <g transform=\"translate(368.578125 38.476562)scale(0.1 -0.1)\">\n      <defs>\n       <path d=\"M 191 3500 \nL 800 3500 \nL 1894 563 \nL 2988 3500 \nL 3597 3500 \nL 2284 0 \nL 1503 0 \nL 191 3500 \nz\n\" id=\"DejaVuSans-76\" transform=\"scale(0.015625)\"/>\n      </defs>\n      <use xlink:href=\"#DejaVuSans-76\"/>\n      <use x=\"59.179688\" xlink:href=\"#DejaVuSans-61\"/>\n      <use x=\"120.458984\" xlink:href=\"#DejaVuSans-6c\"/>\n     </g>\n    </g>\n   </g>\n  </g>\n </g>\n <defs>\n  <clipPath id=\"pa03f03e94d\">\n   <rect height=\"217.44\" width=\"334.8\" x=\"66.053125\" y=\"7.2\"/>\n  </clipPath>\n </defs>\n</svg>\n",
      "image/png": "[encoded data removed]"
     },
     "metadata": {
      "needs_background": "light"
     }
    }
   ],
   "metadata": {}
  },
  {
   "cell_type": "code",
   "execution_count": 19,
   "source": [
    "# Evaluate model\n",
    "train_pred = model.predict(X_train)\n",
    "train_rmse = np.sqrt(mean_squared_error(y_train, train_pred))\n",
    "\n",
    "test_pred = model.predict(X_test)\n",
    "test_rmse = np.sqrt(mean_squared_error(y_test, test_pred))\n",
    "\n",
    "print(f\"Train RMSE: {train_rmse.round(2)}\")\n",
    "print(f\"Test RMSE: {test_rmse.round(2)}\")"
   ],
   "outputs": [
    {
     "output_type": "stream",
     "name": "stderr",
     "text": [
      "2021-08-25 10:08:52.729377: I tensorflow/core/grappler/optimizers/custom_graph_optimizer_registry.cc:112] Plugin optimizer for device_type GPU is enabled.\n"
     ]
    },
    {
     "output_type": "stream",
     "name": "stdout",
     "text": [
      "Train RMSE: 9.06\n",
      "Test RMSE: 0.9\n"
     ]
    }
   ],
   "metadata": {}
  },
  {
   "cell_type": "code",
   "execution_count": 20,
   "source": [
    "# Prediction Plot\n",
    "import plotly.graph_objects as go\n",
    "\n",
    "fig = go.Figure()\n",
    "fig.add_trace(go.Scatter(x=np.arange(len(y_test)), y=y_test.ravel(),\n",
    "                    mode='lines',\n",
    "                    name='test'))\n",
    "fig.add_trace(go.Scatter(x=np.arange(len(y_test)), y=test_pred.ravel(),\n",
    "                    line=dict(dash='dash', width=3),\n",
    "                    name='pred'))\n",
    "\n",
    "fig.update_layout(\n",
    "    title=\"Adj Close Prediction of {}\".format(company),\n",
    "    height=500)\n",
    "fig.show()"
   ],
   "outputs": [
    {
     "output_type": "display_data",
     "data": {
      "application/vnd.plotly.v1+json": {
       "config": {
        "plotlyServerURL": "https://plot.ly"
       },
       "data": [
        {
         "mode": "lines",
         "name": "test",
         "type": "scatter",
         "x": [
          0,
          1,
          2,
          3,
          4,
          5,
          6,
          7,
          8,
          9,
          10,
          11,
          12,
          13,
          14,
          15,
          16,
          17,
          18,
          19,
          20,
          21,
          22,
          23,
          24,
          25,
          26,
          27,
          28,
          29,
          30,
          31,
          32,
          33,
          34,
          35,
          36,
          37,
          38,
          39,
          40,
          41,
          42,
          43,
          44,
          45,
          46,
          47,
          48,
          49,
          50,
          51,
          52,
          53,
          54,
          55,
          56,
          57,
          58,
          59,
          60,
          61,
          62,
          63,
          64,
          65,
          66,
          67,
          68,
          69,
          70,
          71,
          72,
          73,
          74,
          75,
          76,
          77,
          78,
          79,
          80,
          81,
          82,
          83,
          84,
          85,
          86,
          87,
          88,
          89,
          90,
          91,
          92,
          93,
          94,
          95,
          96,
          97,
          98,
          99,
          100,
          101,
          102,
          103,
          104,
          105,
          106,
          107,
          108,
          109,
          110,
          111,
          112,
          113,
          114,
          115,
          116,
          117,
          118,
          119,
          120,
          121,
          122,
          123,
          124,
          125,
          126,
          127,
          128,
          129,
          130,
          131,
          132,
          133,
          134,
          135,
          136,
          137,
          138,
          139,
          140,
          141,
          142,
          143,
          144,
          145,
          146,
          147,
          148,
          149,
          150,
          151,
          152,
          153,
          154,
          155,
          156,
          157,
          158,
          159,
          160,
          161,
          162,
          163,
          164,
          165,
          166,
          167,
          168,
          169,
          170,
          171,
          172,
          173,
          174,
          175,
          176,
          177,
          178,
          179,
          180,
          181,
          182,
          183,
          184,
          185,
          186,
          187,
          188,
          189,
          190,
          191,
          192,
          193,
          194,
          195,
          196,
          197,
          198,
          199,
          200,
          201,
          202,
          203,
          204,
          205,
          206,
          207,
          208,
          209,
          210,
          211,
          212,
          213,
          214,
          215,
          216,
          217,
          218,
          219,
          220,
          221,
          222,
          223,
          224,
          225,
          226,
          227,
          228,
          229,
          230,
          231,
          232,
          233,
          234,
          235,
          236,
          237,
          238,
          239,
          240,
          241,
          242,
          243,
          244,
          245,
          246,
          247,
          248,
          249
         ],
         "y": [
          67.571999,
          69.491997,
          70.384003,
          72.582001,
          72.466003,
          72.760002,
          71.573997,
          71.080002,
          72.706001,
          73.043999,
          71.033997,
          71.382004,
          69.417999,
          65.178001,
          63.914001,
          64.694,
          67.014,
          66.891998,
          68.769997,
          67.919998,
          68.503998,
          65.68,
          65.984001,
          65.052002,
          65.648003,
          63.914001,
          65.556,
          64.681999,
          65.903999,
          65.444,
          63.209999,
          62.644001,
          61.765999,
          65.417999,
          70.524002,
          72.321999,
          72.150002,
          74.248001,
          72.473999,
          75.498001,
          76.690002,
          76.522003,
          75.279999,
          74.447998,
          73.959999,
          74.279999,
          75.068001,
          76.132004,
          75.190002,
          71.802002,
          71.463997,
          74,
          71.93,
          70.57,
          69.463997,
          67.970001,
          68.073997,
          68.202003,
          67.019997,
          65.028,
          63.366001,
          62.043999,
          60.771999,
          62.07,
          62.166,
          62.612,
          61.222,
          63.402,
          63.175999,
          64.961998,
          64.620003,
          65.043999,
          64.251999,
          61.438,
          61.669998,
          59.091999,
          62.203999,
          63.778,
          64.566002,
          62.813999,
          61.726002,
          62.034,
          62.757999,
          61.605999,
          61.119999,
          60.501999,
          61.104,
          60.049999,
          60.287998,
          60.799999,
          59.368,
          61.742001,
          62.478001,
          60.507999,
          59.740002,
          59,
          60.740002,
          59.703999,
          55.66,
          55.584,
          55.476002,
          55.490002,
          54.043999,
          52.632,
          50.956001,
          51.001999,
          50.136002,
          52.383999,
          52.299999,
          52.41,
          51.146,
          51.599998,
          49.234001,
          48.737999,
          48.98,
          49.374001,
          49.717999,
          50.242001,
          50.313999,
          50.096001,
          50.004002,
          49.998001,
          49.245998,
          51.400002,
          51.198002,
          54.702,
          55.478001,
          54.445999,
          53.790001,
          55.952,
          56.195999,
          56.119999,
          53.846001,
          53.84,
          52.416,
          51.495998,
          51.554001,
          50.265999,
          50.310001,
          49.848,
          50.386002,
          50.125999,
          50.59,
          50.501999,
          50.894001,
          50.922001,
          49.784,
          48.945999,
          48.751999,
          47.672001,
          47.116001,
          47.549999,
          45.917999,
          45.945999,
          45.973999,
          46.256001,
          45.801998,
          45.349998,
          45.397999,
          43.397999,
          42.737999,
          42.936001,
          43.948002,
          43.905998,
          42.667999,
          41.689999,
          41.540001,
          41.757999,
          40.546001,
          40.498001,
          39.515999,
          39.737999,
          39.630001,
          38.486,
          38.436001,
          38.458,
          38.630001,
          37.169998,
          37.360001,
          36.293999,
          36.375999,
          37.880001,
          37.914001,
          39.223999,
          39.330002,
          38.627998,
          38.234001,
          36.903999,
          37.004002,
          37.731998,
          36.785999,
          36.754002,
          36.290001,
          37.712002,
          37.07,
          38.012001,
          38.987999,
          38.641998,
          38.112,
          37.484001,
          37.604,
          38.158001,
          39.546001,
          39.993999,
          40.801998,
          40.448002,
          40.467999,
          40.551998,
          40.018002,
          39.82,
          40.712002,
          39.82,
          38.792,
          39.301998,
          40.048,
          40.301998,
          40.02,
          40.189999,
          39.321999,
          40.200001,
          41.692001,
          42.282001,
          42.740002,
          40.806,
          40.139999,
          41.254002,
          41.161999,
          41.798,
          41.490002,
          41.285999,
          41.043999,
          40.928001,
          41.268002,
          41.080002,
          40.084,
          39.282001,
          39.209999,
          39.66,
          38.894001,
          39.472,
          40.341999,
          40.566002,
          39.556,
          40.153999,
          42.402,
          42.268002,
          43.040001,
          43.998001,
          44.192001,
          44.523998
         ]
        },
        {
         "line": {
          "dash": "dash",
          "width": 3
         },
         "name": "pred",
         "type": "scatter",
         "x": [
          0,
          1,
          2,
          3,
          4,
          5,
          6,
          7,
          8,
          9,
          10,
          11,
          12,
          13,
          14,
          15,
          16,
          17,
          18,
          19,
          20,
          21,
          22,
          23,
          24,
          25,
          26,
          27,
          28,
          29,
          30,
          31,
          32,
          33,
          34,
          35,
          36,
          37,
          38,
          39,
          40,
          41,
          42,
          43,
          44,
          45,
          46,
          47,
          48,
          49,
          50,
          51,
          52,
          53,
          54,
          55,
          56,
          57,
          58,
          59,
          60,
          61,
          62,
          63,
          64,
          65,
          66,
          67,
          68,
          69,
          70,
          71,
          72,
          73,
          74,
          75,
          76,
          77,
          78,
          79,
          80,
          81,
          82,
          83,
          84,
          85,
          86,
          87,
          88,
          89,
          90,
          91,
          92,
          93,
          94,
          95,
          96,
          97,
          98,
          99,
          100,
          101,
          102,
          103,
          104,
          105,
          106,
          107,
          108,
          109,
          110,
          111,
          112,
          113,
          114,
          115,
          116,
          117,
          118,
          119,
          120,
          121,
          122,
          123,
          124,
          125,
          126,
          127,
          128,
          129,
          130,
          131,
          132,
          133,
          134,
          135,
          136,
          137,
          138,
          139,
          140,
          141,
          142,
          143,
          144,
          145,
          146,
          147,
          148,
          149,
          150,
          151,
          152,
          153,
          154,
          155,
          156,
          157,
          158,
          159,
          160,
          161,
          162,
          163,
          164,
          165,
          166,
          167,
          168,
          169,
          170,
          171,
          172,
          173,
          174,
          175,
          176,
          177,
          178,
          179,
          180,
          181,
          182,
          183,
          184,
          185,
          186,
          187,
          188,
          189,
          190,
          191,
          192,
          193,
          194,
          195,
          196,
          197,
          198,
          199,
          200,
          201,
          202,
          203,
          204,
          205,
          206,
          207,
          208,
          209,
          210,
          211,
          212,
          213,
          214,
          215,
          216,
          217,
          218,
          219,
          220,
          221,
          222,
          223,
          224,
          225,
          226,
          227,
          228,
          229,
          230,
          231,
          232,
          233,
          234,
          235,
          236,
          237,
          238,
          239,
          240,
          241,
          242,
          243,
          244,
          245,
          246,
          247,
          248,
          249
         ],
         "y": [
          68.53697967529297,
          68.72711181640625,
          70.36524200439453,
          71.90430450439453,
          72.70716094970703,
          72.83264923095703,
          73.08057403564453,
          71.72896575927734,
          72.53314208984375,
          73.04440307617188,
          72.9009780883789,
          71.59569549560547,
          70.69316864013672,
          69.79166412353516,
          64.65579223632812,
          64.82260131835938,
          67.1473617553711,
          67.30806732177734,
          68.72598266601562,
          68.56161499023438,
          68.83853912353516,
          67.74172973632812,
          66.20166015625,
          65.72441101074219,
          65.92660522460938,
          64.97186279296875,
          65.20330810546875,
          65.2198486328125,
          65.94696807861328,
          66.135009765625,
          64.732666015625,
          63.39039993286133,
          63.12159729003906,
          63.43043518066406,
          68.32835388183594,
          72.91190338134766,
          72.51876068115234,
          73.58604431152344,
          73.89093780517578,
          74.73410034179688,
          76.6328353881836,
          76.82766723632812,
          76.4061050415039,
          75.21882629394531,
          75.36473083496094,
          74.79277038574219,
          75.1712646484375,
          74.74371337890625,
          76.6029052734375,
          74.55692291259766,
          72.30250549316406,
          74.41162109375,
          73.5016860961914,
          71.87464141845703,
          70.70578002929688,
          69.15581512451172,
          68.37803649902344,
          68.66665649414062,
          68.0946044921875,
          66.58815002441406,
          64.66734313964844,
          63.105655670166016,
          61.98836898803711,
          61.86625671386719,
          62.451236724853516,
          62.95231246948242,
          62.19000244140625,
          62.651912689208984,
          63.538909912109375,
          63.6973991394043,
          65.1292953491211,
          64.86235046386719,
          64.78402709960938,
          63.66277313232422,
          62.47746658325195,
          60.903385162353516,
          61.24907302856445,
          63.42493438720703,
          64.78193664550781,
          64.38020324707031,
          62.688758850097656,
          62.37140655517578,
          62.50468063354492,
          62.360294342041016,
          62.014869689941406,
          60.883827209472656,
          61.45649337768555,
          60.918357849121094,
          60.08127212524414,
          60.588626861572266,
          60.68205261230469,
          61.166866302490234,
          62.210594177246094,
          62.34852981567383,
          60.185264587402344,
          60.01608657836914,
          60.40992736816406,
          60.277435302734375,
          59.18844985961914,
          55.98552322387695,
          55.96393585205078,
          55.75656509399414,
          55.739986419677734,
          53.44802474975586,
          52.45384216308594,
          51.41451644897461,
          50.7625846862793,
          52.302703857421875,
          52.30897521972656,
          52.83384323120117,
          52.701168060302734,
          51.739768981933594,
          50.8611946105957,
          49.493553161621094,
          49.1606330871582,
          49.47590637207031,
          49.65647888183594,
          50.39635467529297,
          49.993247985839844,
          50.34202575683594,
          50.325958251953125,
          50.69572448730469,
          49.66006851196289,
          49.690677642822266,
          51.249481201171875,
          52.560821533203125,
          55.785179138183594,
          55.57495880126953,
          54.07624435424805,
          55.51938247680664,
          55.99835968017578,
          56.714447021484375,
          55.495513916015625,
          54.21833419799805,
          53.83812713623047,
          52.303646087646484,
          51.87688446044922,
          51.125343322753906,
          50.53463363647461,
          50.1741943359375,
          50.526100158691406,
          50.52363967895508,
          50.73570251464844,
          50.44598388671875,
          50.9637336730957,
          51.38199234008789,
          50.6108512878418,
          49.88996505737305,
          49.15608215332031,
          49.4278678894043,
          47.678794860839844,
          47.67829513549805,
          47.09002685546875,
          46.17997360229492,
          45.948143005371094,
          46.33869171142578,
          46.16147994995117,
          45.85676574707031,
          45.44286346435547,
          44.8257942199707,
          43.89423370361328,
          43.312007904052734,
          43.59241485595703,
          44.37295150756836,
          43.88459777832031,
          42.44887161254883,
          41.970916748046875,
          42.06767272949219,
          41.419315338134766,
          40.86320114135742,
          40.27838134765625,
          40.02375793457031,
          40.141143798828125,
          39.67277908325195,
          38.83308029174805,
          38.54124450683594,
          38.512393951416016,
          38.28462600708008,
          37.43456268310547,
          37.3583984375,
          36.85686111450195,
          37.3563346862793,
          38.0905647277832,
          38.910316467285156,
          39.3579216003418,
          39.21695327758789,
          38.79750061035156,
          38.02839660644531,
          37.56216049194336,
          38.08100509643555,
          37.42490005493164,
          36.965572357177734,
          37.01255416870117,
          37.3470344543457,
          37.40829849243164,
          38.10246658325195,
          37.94981002807617,
          39.23982620239258,
          38.77852249145508,
          38.333213806152344,
          38.084590911865234,
          38.16508102416992,
          39.23919677734375,
          40.113304138183594,
          40.646419525146484,
          42.01606369018555,
          40.364036560058594,
          40.78590774536133,
          40.58818817138672,
          40.12712478637695,
          40.414512634277344,
          40.763092041015625,
          39.77763748168945,
          39.52456283569336,
          39.9959831237793,
          40.047943115234375,
          40.5275993347168,
          40.32050323486328,
          40.51081085205078,
          40.066062927246094,
          40.532981872558594,
          42.28966522216797,
          42.426761627197266,
          42.799163818359375,
          40.89137268066406,
          41.18208694458008,
          41.44793701171875,
          41.76939010620117,
          41.79056167602539,
          41.729766845703125,
          41.37471008300781,
          41.3209342956543,
          41.392311096191406,
          41.57449722290039,
          40.8166618347168,
          40.2150993347168,
          39.49072265625,
          39.53584289550781,
          39.796104431152344,
          39.77117156982422,
          39.751380920410156,
          40.97297668457031,
          40.31541061401367,
          40.44162368774414,
          41.5406494140625,
          42.18199920654297,
          43.008934020996094,
          43.68527603149414,
          44.273292541503906,
          44.540061950683594
         ]
        }
       ],
       "layout": {
        "height": 500,
        "template": {
         "data": {
          "bar": [
           {
            "error_x": {
             "color": "#2a3f5f"
            },
            "error_y": {
             "color": "#2a3f5f"
            },
            "marker": {
             "line": {
              "color": "#E5ECF6",
              "width": 0.5
             },
             "pattern": {
              "fillmode": "overlay",
              "size": 10,
              "solidity": 0.2
             }
            },
            "type": "bar"
           }
          ],
          "barpolar": [
           {
            "marker": {
             "line": {
              "color": "#E5ECF6",
              "width": 0.5
             },
             "pattern": {
              "fillmode": "overlay",
              "size": 10,
              "solidity": 0.2
             }
            },
            "type": "barpolar"
           }
          ],
          "carpet": [
           {
            "aaxis": {
             "endlinecolor": "#2a3f5f",
             "gridcolor": "white",
             "linecolor": "white",
             "minorgridcolor": "white",
             "startlinecolor": "#2a3f5f"
            },
            "baxis": {
             "endlinecolor": "#2a3f5f",
             "gridcolor": "white",
             "linecolor": "white",
             "minorgridcolor": "white",
             "startlinecolor": "#2a3f5f"
            },
            "type": "carpet"
           }
          ],
          "choropleth": [
           {
            "colorbar": {
             "outlinewidth": 0,
             "ticks": ""
            },
            "type": "choropleth"
           }
          ],
          "contour": [
           {
            "colorbar": {
             "outlinewidth": 0,
             "ticks": ""
            },
            "colorscale": [
             [
              0,
              "#0d0887"
             ],
             [
              0.1111111111111111,
              "#46039f"
             ],
             [
              0.2222222222222222,
              "#7201a8"
             ],
             [
              0.3333333333333333,
              "#9c179e"
             ],
             [
              0.4444444444444444,
              "#bd3786"
             ],
             [
              0.5555555555555556,
              "#d8576b"
             ],
             [
              0.6666666666666666,
              "#ed7953"
             ],
             [
              0.7777777777777778,
              "#fb9f3a"
             ],
             [
              0.8888888888888888,
              "#fdca26"
             ],
             [
              1,
              "#f0f921"
             ]
            ],
            "type": "contour"
           }
          ],
          "contourcarpet": [
           {
            "colorbar": {
             "outlinewidth": 0,
             "ticks": ""
            },
            "type": "contourcarpet"
           }
          ],
          "heatmap": [
           {
            "colorbar": {
             "outlinewidth": 0,
             "ticks": ""
            },
            "colorscale": [
             [
              0,
              "#0d0887"
             ],
             [
              0.1111111111111111,
              "#46039f"
             ],
             [
              0.2222222222222222,
              "#7201a8"
             ],
             [
              0.3333333333333333,
              "#9c179e"
             ],
             [
              0.4444444444444444,
              "#bd3786"
             ],
             [
              0.5555555555555556,
              "#d8576b"
             ],
             [
              0.6666666666666666,
              "#ed7953"
             ],
             [
              0.7777777777777778,
              "#fb9f3a"
             ],
             [
              0.8888888888888888,
              "#fdca26"
             ],
             [
              1,
              "#f0f921"
             ]
            ],
            "type": "heatmap"
           }
          ],
          "heatmapgl": [
           {
            "colorbar": {
             "outlinewidth": 0,
             "ticks": ""
            },
            "colorscale": [
             [
              0,
              "#0d0887"
             ],
             [
              0.1111111111111111,
              "#46039f"
             ],
             [
              0.2222222222222222,
              "#7201a8"
             ],
             [
              0.3333333333333333,
              "#9c179e"
             ],
             [
              0.4444444444444444,
              "#bd3786"
             ],
             [
              0.5555555555555556,
              "#d8576b"
             ],
             [
              0.6666666666666666,
              "#ed7953"
             ],
             [
              0.7777777777777778,
              "#fb9f3a"
             ],
             [
              0.8888888888888888,
              "#fdca26"
             ],
             [
              1,
              "#f0f921"
             ]
            ],
            "type": "heatmapgl"
           }
          ],
          "histogram": [
           {
            "marker": {
             "pattern": {
              "fillmode": "overlay",
              "size": 10,
              "solidity": 0.2
             }
            },
            "type": "histogram"
           }
          ],
          "histogram2d": [
           {
            "colorbar": {
             "outlinewidth": 0,
             "ticks": ""
            },
            "colorscale": [
             [
              0,
              "#0d0887"
             ],
             [
              0.1111111111111111,
              "#46039f"
             ],
             [
              0.2222222222222222,
              "#7201a8"
             ],
             [
              0.3333333333333333,
              "#9c179e"
             ],
             [
              0.4444444444444444,
              "#bd3786"
             ],
             [
              0.5555555555555556,
              "#d8576b"
             ],
             [
              0.6666666666666666,
              "#ed7953"
             ],
             [
              0.7777777777777778,
              "#fb9f3a"
             ],
             [
              0.8888888888888888,
              "#fdca26"
             ],
             [
              1,
              "#f0f921"
             ]
            ],
            "type": "histogram2d"
           }
          ],
          "histogram2dcontour": [
           {
            "colorbar": {
             "outlinewidth": 0,
             "ticks": ""
            },
            "colorscale": [
             [
              0,
              "#0d0887"
             ],
             [
              0.1111111111111111,
              "#46039f"
             ],
             [
              0.2222222222222222,
              "#7201a8"
             ],
             [
              0.3333333333333333,
              "#9c179e"
             ],
             [
              0.4444444444444444,
              "#bd3786"
             ],
             [
              0.5555555555555556,
              "#d8576b"
             ],
             [
              0.6666666666666666,
              "#ed7953"
             ],
             [
              0.7777777777777778,
              "#fb9f3a"
             ],
             [
              0.8888888888888888,
              "#fdca26"
             ],
             [
              1,
              "#f0f921"
             ]
            ],
            "type": "histogram2dcontour"
           }
          ],
          "mesh3d": [
           {
            "colorbar": {
             "outlinewidth": 0,
             "ticks": ""
            },
            "type": "mesh3d"
           }
          ],
          "parcoords": [
           {
            "line": {
             "colorbar": {
              "outlinewidth": 0,
              "ticks": ""
             }
            },
            "type": "parcoords"
           }
          ],
          "pie": [
           {
            "automargin": true,
            "type": "pie"
           }
          ],
          "scatter": [
           {
            "marker": {
             "colorbar": {
              "outlinewidth": 0,
              "ticks": ""
             }
            },
            "type": "scatter"
           }
          ],
          "scatter3d": [
           {
            "line": {
             "colorbar": {
              "outlinewidth": 0,
              "ticks": ""
             }
            },
            "marker": {
             "colorbar": {
              "outlinewidth": 0,
              "ticks": ""
             }
            },
            "type": "scatter3d"
           }
          ],
          "scattercarpet": [
           {
            "marker": {
             "colorbar": {
              "outlinewidth": 0,
              "ticks": ""
             }
            },
            "type": "scattercarpet"
           }
          ],
          "scattergeo": [
           {
            "marker": {
             "colorbar": {
              "outlinewidth": 0,
              "ticks": ""
             }
            },
            "type": "scattergeo"
           }
          ],
          "scattergl": [
           {
            "marker": {
             "colorbar": {
              "outlinewidth": 0,
              "ticks": ""
             }
            },
            "type": "scattergl"
           }
          ],
          "scattermapbox": [
           {
            "marker": {
             "colorbar": {
              "outlinewidth": 0,
              "ticks": ""
             }
            },
            "type": "scattermapbox"
           }
          ],
          "scatterpolar": [
           {
            "marker": {
             "colorbar": {
              "outlinewidth": 0,
              "ticks": ""
             }
            },
            "type": "scatterpolar"
           }
          ],
          "scatterpolargl": [
           {
            "marker": {
             "colorbar": {
              "outlinewidth": 0,
              "ticks": ""
             }
            },
            "type": "scatterpolargl"
           }
          ],
          "scatterternary": [
           {
            "marker": {
             "colorbar": {
              "outlinewidth": 0,
              "ticks": ""
             }
            },
            "type": "scatterternary"
           }
          ],
          "surface": [
           {
            "colorbar": {
             "outlinewidth": 0,
             "ticks": ""
            },
            "colorscale": [
             [
              0,
              "#0d0887"
             ],
             [
              0.1111111111111111,
              "#46039f"
             ],
             [
              0.2222222222222222,
              "#7201a8"
             ],
             [
              0.3333333333333333,
              "#9c179e"
             ],
             [
              0.4444444444444444,
              "#bd3786"
             ],
             [
              0.5555555555555556,
              "#d8576b"
             ],
             [
              0.6666666666666666,
              "#ed7953"
             ],
             [
              0.7777777777777778,
              "#fb9f3a"
             ],
             [
              0.8888888888888888,
              "#fdca26"
             ],
             [
              1,
              "#f0f921"
             ]
            ],
            "type": "surface"
           }
          ],
          "table": [
           {
            "cells": {
             "fill": {
              "color": "#EBF0F8"
             },
             "line": {
              "color": "white"
             }
            },
            "header": {
             "fill": {
              "color": "#C8D4E3"
             },
             "line": {
              "color": "white"
             }
            },
            "type": "table"
           }
          ]
         },
         "layout": {
          "annotationdefaults": {
           "arrowcolor": "#2a3f5f",
           "arrowhead": 0,
           "arrowwidth": 1
          },
          "autotypenumbers": "strict",
          "coloraxis": {
           "colorbar": {
            "outlinewidth": 0,
            "ticks": ""
           }
          },
          "colorscale": {
           "diverging": [
            [
             0,
             "#8e0152"
            ],
            [
             0.1,
             "#c51b7d"
            ],
            [
             0.2,
             "#de77ae"
            ],
            [
             0.3,
             "#f1b6da"
            ],
            [
             0.4,
             "#fde0ef"
            ],
            [
             0.5,
             "#f7f7f7"
            ],
            [
             0.6,
             "#e6f5d0"
            ],
            [
             0.7,
             "#b8e186"
            ],
            [
             0.8,
             "#7fbc41"
            ],
            [
             0.9,
             "#4d9221"
            ],
            [
             1,
             "#276419"
            ]
           ],
           "sequential": [
            [
             0,
             "#0d0887"
            ],
            [
             0.1111111111111111,
             "#46039f"
            ],
            [
             0.2222222222222222,
             "#7201a8"
            ],
            [
             0.3333333333333333,
             "#9c179e"
            ],
            [
             0.4444444444444444,
             "#bd3786"
            ],
            [
             0.5555555555555556,
             "#d8576b"
            ],
            [
             0.6666666666666666,
             "#ed7953"
            ],
            [
             0.7777777777777778,
             "#fb9f3a"
            ],
            [
             0.8888888888888888,
             "#fdca26"
            ],
            [
             1,
             "#f0f921"
            ]
           ],
           "sequentialminus": [
            [
             0,
             "#0d0887"
            ],
            [
             0.1111111111111111,
             "#46039f"
            ],
            [
             0.2222222222222222,
             "#7201a8"
            ],
            [
             0.3333333333333333,
             "#9c179e"
            ],
            [
             0.4444444444444444,
             "#bd3786"
            ],
            [
             0.5555555555555556,
             "#d8576b"
            ],
            [
             0.6666666666666666,
             "#ed7953"
            ],
            [
             0.7777777777777778,
             "#fb9f3a"
            ],
            [
             0.8888888888888888,
             "#fdca26"
            ],
            [
             1,
             "#f0f921"
            ]
           ]
          },
          "colorway": [
           "#636efa",
           "#EF553B",
           "#00cc96",
           "#ab63fa",
           "#FFA15A",
           "#19d3f3",
           "#FF6692",
           "#B6E880",
           "#FF97FF",
           "#FECB52"
          ],
          "font": {
           "color": "#2a3f5f"
          },
          "geo": {
           "bgcolor": "white",
           "lakecolor": "white",
           "landcolor": "#E5ECF6",
           "showlakes": true,
           "showland": true,
           "subunitcolor": "white"
          },
          "hoverlabel": {
           "align": "left"
          },
          "hovermode": "closest",
          "mapbox": {
           "style": "light"
          },
          "paper_bgcolor": "white",
          "plot_bgcolor": "#E5ECF6",
          "polar": {
           "angularaxis": {
            "gridcolor": "white",
            "linecolor": "white",
            "ticks": ""
           },
           "bgcolor": "#E5ECF6",
           "radialaxis": {
            "gridcolor": "white",
            "linecolor": "white",
            "ticks": ""
           }
          },
          "scene": {
           "xaxis": {
            "backgroundcolor": "#E5ECF6",
            "gridcolor": "white",
            "gridwidth": 2,
            "linecolor": "white",
            "showbackground": true,
            "ticks": "",
            "zerolinecolor": "white"
           },
           "yaxis": {
            "backgroundcolor": "#E5ECF6",
            "gridcolor": "white",
            "gridwidth": 2,
            "linecolor": "white",
            "showbackground": true,
            "ticks": "",
            "zerolinecolor": "white"
           },
           "zaxis": {
            "backgroundcolor": "#E5ECF6",
            "gridcolor": "white",
            "gridwidth": 2,
            "linecolor": "white",
            "showbackground": true,
            "ticks": "",
            "zerolinecolor": "white"
           }
          },
          "shapedefaults": {
           "line": {
            "color": "#2a3f5f"
           }
          },
          "ternary": {
           "aaxis": {
            "gridcolor": "white",
            "linecolor": "white",
            "ticks": ""
           },
           "baxis": {
            "gridcolor": "white",
            "linecolor": "white",
            "ticks": ""
           },
           "bgcolor": "#E5ECF6",
           "caxis": {
            "gridcolor": "white",
            "linecolor": "white",
            "ticks": ""
           }
          },
          "title": {
           "x": 0.05
          },
          "xaxis": {
           "automargin": true,
           "gridcolor": "white",
           "linecolor": "white",
           "ticks": "",
           "title": {
            "standoff": 15
           },
           "zerolinecolor": "white",
           "zerolinewidth": 2
          },
          "yaxis": {
           "automargin": true,
           "gridcolor": "white",
           "linecolor": "white",
           "ticks": "",
           "title": {
            "standoff": 15
           },
           "zerolinecolor": "white",
           "zerolinewidth": 2
          }
         }
        },
        "title": {
         "text": "Adj Close Prediction of Tesla"
        }
       }
      }
     },
     "metadata": {}
    }
   ],
   "metadata": {}
  }
 ],
 "metadata": {
  "orig_nbformat": 4,
  "language_info": {
   "name": "python",
   "version": "3.9.6",
   "mimetype": "text/x-python",
   "codemirror_mode": {
    "name": "ipython",
    "version": 3
   },
   "pygments_lexer": "ipython3",
   "nbconvert_exporter": "python",
   "file_extension": ".py"
  },
  "kernelspec": {
   "name": "python3",
   "display_name": "Python 3.9.6 64-bit ('Drill_DL_TF': conda)"
  },
  "interpreter": {
   "hash": "919cf3ae0e9712d87b63b1e10ff40154688c8cbaba6389820679510ec494ce74"
  }
 },
 "nbformat": 4,
 "nbformat_minor": 2
}