{
 "cells": [
  {
   "cell_type": "markdown",
   "source": [
    "# Import libraries and data"
   ],
   "metadata": {}
  },
  {
   "cell_type": "code",
   "execution_count": null,
   "source": [
    "# Import basic libraries\n",
    "import numpy as np\n",
    "import pandas as pd\n",
    "import matplotlib.pyplot as plt\n",
    "import seaborn as sns\n",
    "\n",
    "# Import sklearn libraries\n",
    "from sklearn.preprocessing import LabelEncoder\n",
    "\n",
    "# Import warnings\n",
    "import warnings\n",
    "warnings.filterwarnings(action='ignore')"
   ],
   "outputs": [],
   "metadata": {}
  },
  {
   "cell_type": "code",
   "execution_count": null,
   "source": [
    "# Fetch data\n",
    "!unzip -o archive.zip"
   ],
   "outputs": [],
   "metadata": {}
  },
  {
   "cell_type": "code",
   "execution_count": null,
   "source": [
    "# Create DataFrame based on data\n",
    "crimes = pd.read_csv('Montreal Crime Data.csv')\n",
    "crimes"
   ],
   "outputs": [],
   "metadata": {}
  },
  {
   "cell_type": "markdown",
   "source": [
    "## Dataset Overview\n",
    "|    category   | Type of crime committed           |\n",
    "|:-------------:|-----------------------------------|\n",
    "|      date     | Date crime occured                |\n",
    "|  postal_code  | Postal Code where event occured   |\n",
    "|      city     | City where crime occured          |\n",
    "| neighbourhood | Neighbourhood where crime occured |\n",
    "|      year     | Year it occured                   |\n",
    "|     count     | Count                             |\n",
    "|   longitutde  | Longitude                         |\n",
    "|    latitude   | Latitude                          |"
   ],
   "metadata": {}
  },
  {
   "cell_type": "markdown",
   "source": [
    "# Data Preprocessing"
   ],
   "metadata": {}
  },
  {
   "cell_type": "code",
   "execution_count": null,
   "source": [
    "# Check whether rows contain Null\n",
    "crimes.isnull().sum()"
   ],
   "outputs": [],
   "metadata": {}
  },
  {
   "cell_type": "code",
   "execution_count": null,
   "source": [
    "# Check whether rows contain NaN\n",
    "crimes.isna().sum()"
   ],
   "outputs": [],
   "metadata": {}
  },
  {
   "cell_type": "markdown",
   "source": [
    "## Check distribution of each features"
   ],
   "metadata": {}
  },
  {
   "cell_type": "markdown",
   "source": [
    "### Category"
   ],
   "metadata": {}
  },
  {
   "cell_type": "code",
   "execution_count": null,
   "source": [
    "# Check the distribution of 'category'\n",
    "categories = crimes['category']\n",
    "le = LabelEncoder()\n",
    "categories_le = le.fit_transform(categories)\n",
    "plt.title('Distribution of Categories')\n",
    "sns.distplot(categories_le)\n",
    "labels = enumerate(range(0, 6, 1))\n",
    "for i, label in labels:\n",
    "    print(i, \" : \", le.inverse_transform([label]))"
   ],
   "outputs": [],
   "metadata": {}
  },
  {
   "cell_type": "code",
   "execution_count": null,
   "source": [
    "# As you can see that plot, density of 'Offenses resulting in death' is much lower than any other categories\n",
    "# So, I think dropping that category can be a good idea.\n",
    "drop_category_rows = crimes[crimes['category'] == 'Offenses resulting in death'].index\n",
    "crimes.drop(drop_category_rows, inplace=True)\n",
    "crimes"
   ],
   "outputs": [],
   "metadata": {}
  },
  {
   "cell_type": "code",
   "execution_count": null,
   "source": [
    "# RE-Check the distribution of 'category'\n",
    "categories = crimes['category']\n",
    "le = LabelEncoder()\n",
    "categories_le = le.fit_transform(categories)\n",
    "plt.title('Distribution of Categories')\n",
    "sns.distplot(categories_le)\n",
    "labels = enumerate(range(0, 5, 1))\n",
    "for i, label in labels:\n",
    "    print(i, \" : \", le.inverse_transform([label]))"
   ],
   "outputs": [],
   "metadata": {}
  },
  {
   "cell_type": "markdown",
   "source": [
    "### City"
   ],
   "metadata": {}
  },
  {
   "cell_type": "code",
   "execution_count": null,
   "source": [
    "# Check the distribution of 'city'\n",
    "cities = crimes['city']\n",
    "le = LabelEncoder()\n",
    "cities_le = le.fit_transform(cities)\n",
    "plt.title('Distribution of Cities')\n",
    "sns.distplot(cities_le)\n",
    "labels = enumerate(range(0, 28, 1))\n",
    "for i, label in labels:\n",
    "    print(i, \" : \", le.inverse_transform([label]))"
   ],
   "outputs": [],
   "metadata": {}
  },
  {
   "cell_type": "code",
   "execution_count": null,
   "source": [
    "# Check how many 'postal code' has unique values\n",
    "len_city_unique = len(crimes.city.unique())\n",
    "print('The number of unique values: ', len_city_unique)\n",
    "print('The proportion of unique values: ', round(len_city_unique / len(crimes['city']) * 100, 3),'%')"
   ],
   "outputs": [],
   "metadata": {}
  },
  {
   "cell_type": "code",
   "execution_count": null,
   "source": [
    "# As you can see that plot, density of 'Offenses resulting in death' is much lower than any other categories\n",
    "# So, I think dropping that category can be a good idea.\n",
    "drop_city_rows = crimes[crimes['city'] != 'MONTREAL'].index\n",
    "crimes.drop(drop_city_rows, inplace=True)\n",
    "crimes"
   ],
   "outputs": [],
   "metadata": {}
  },
  {
   "cell_type": "markdown",
   "source": [
    "### Neighbourhood"
   ],
   "metadata": {}
  },
  {
   "cell_type": "code",
   "execution_count": null,
   "source": [
    "# Check the distribution of 'neighbourhood'\n",
    "neighbour = crimes['neighbourhood']\n",
    "le = LabelEncoder()\n",
    "neighbourhood_le = le.fit_transform(neighbour)\n",
    "plt.title('Distribution of Neighbourhood')\n",
    "sns.distplot(neighbourhood_le)\n",
    "labels = enumerate(range(0, 34, 1))\n",
    "for i, label in labels:\n",
    "    print(i, \" : \", le.inverse_transform([label]))"
   ],
   "outputs": [],
   "metadata": {}
  },
  {
   "cell_type": "markdown",
   "source": [
    "## Data Cleansing"
   ],
   "metadata": {}
  },
  {
   "cell_type": "code",
   "execution_count": null,
   "source": [
    "# The proportion of unique values of city is too low as about 0%.\n",
    "# Therefore, we can drop that feature.\n",
    "# Drop unnecessary features\n",
    "crimes.drop(['Unnamed: 0', 'postal_code', 'count', 'city'], axis=1, inplace=True)\n",
    "crimes.reset_index(drop=True, inplace=True)\n",
    "crimes"
   ],
   "outputs": [],
   "metadata": {}
  },
  {
   "cell_type": "code",
   "execution_count": null,
   "source": [
    "# Split date into year, month and day\n",
    "crimes['date'] = pd.to_datetime(crimes['date'])\n",
    "crimes['month'] = crimes['date'].dt.month\n",
    "crimes['day'] = crimes['date'].dt.day\n",
    "crimes"
   ],
   "outputs": [],
   "metadata": {}
  },
  {
   "cell_type": "code",
   "execution_count": null,
   "source": [
    "# Reloate column heads in custom\n",
    "crimes = crimes[['year', 'month', 'day', 'latitude', 'longitude', 'neighbourhood', 'category']]\n",
    "crimes"
   ],
   "outputs": [],
   "metadata": {}
  },
  {
   "cell_type": "code",
   "execution_count": null,
   "source": [
    "# Sorting values by year, month, and day\n",
    "crimes = crimes.sort_values(by=['year', 'month', 'day'], ascending=True)\n",
    "crimes.reset_index(drop=True, inplace=True)\n",
    "crimes"
   ],
   "outputs": [],
   "metadata": {}
  },
  {
   "cell_type": "markdown",
   "source": [
    "# Exploratory Data Analysis"
   ],
   "metadata": {}
  },
  {
   "cell_type": "code",
   "execution_count": null,
   "source": [
    "# Create label encoded dataframe of 'crimes'\n",
    "crimes_copy = crimes.copy()\n",
    "crimes_copy"
   ],
   "outputs": [],
   "metadata": {}
  },
  {
   "cell_type": "code",
   "execution_count": null,
   "source": [
    "# Label encoding for 'neighbourhood' and 'category'\n",
    "neighbourhood_copy = LabelEncoder()\n",
    "category_copy = LabelEncoder()\n",
    "crimes_copy['neighbourhood'] = neighbourhood_copy.fit_transform(crimes_copy['neighbourhood'])\n",
    "crimes_copy['category'] = category_copy.fit_transform(crimes_copy['category'])\n",
    "crimes_copy"
   ],
   "outputs": [],
   "metadata": {}
  },
  {
   "cell_type": "code",
   "execution_count": null,
   "source": [
    "# Create correlation dataframe\n",
    "crimes_corr = crimes_copy.corr()\n",
    "crimes_corr"
   ],
   "outputs": [],
   "metadata": {}
  },
  {
   "cell_type": "code",
   "execution_count": null,
   "source": [
    "# Correlation Heatmap\n",
    "sns.heatmap(data=crimes_corr, annot=True)\n",
    "plt.title('Correlation Heatmap of Montreal Crimes')"
   ],
   "outputs": [],
   "metadata": {}
  },
  {
   "cell_type": "markdown",
   "source": [
    "## Groupby by year\n",
    "Summary\n",
    "1. The highest value of neighbourhood, category was Notre-Dame-de-Grâce and Mischief each.\n",
    "2. June was the highest along the year and mid-Month(15th) was the highest on Month"
   ],
   "metadata": {}
  },
  {
   "cell_type": "code",
   "execution_count": null,
   "source": [
    "# Groupping by year to analyze correlation\n",
    "crimes_year = crimes_copy.groupby(by='year').mean()\n",
    "crimes_year"
   ],
   "outputs": [],
   "metadata": {}
  },
  {
   "cell_type": "code",
   "execution_count": null,
   "source": [
    "# Create list which shape is int64 on purpose of inverse transform\n",
    "neighbourhood_year_int = round(crimes_year['neighbourhood'], 0).astype(int)\n",
    "category_year_int = round(crimes_year['category'], 0).astype(int)"
   ],
   "outputs": [],
   "metadata": {}
  },
  {
   "cell_type": "code",
   "execution_count": null,
   "source": [
    "# Inverse transform from label encoder\n",
    "crimes_year['neighbourhood'] = neighbourhood_copy.inverse_transform(neighbourhood_year_int)\n",
    "crimes_year['category'] = category_copy.inverse_transform(category_year_int)\n",
    "crimes_year"
   ],
   "outputs": [],
   "metadata": {}
  },
  {
   "cell_type": "markdown",
   "source": [
    "## Groupby by month\n",
    "Summary\n",
    "1. The highest value of neighbourhood, category was Notre-Dame-de-Grâce and Mischief each.\n",
    "2. 2017 was the highest along the 5-year(2017 - 2021) and mid-Month(15th) was the highest on Month"
   ],
   "metadata": {}
  },
  {
   "cell_type": "code",
   "execution_count": null,
   "source": [
    "# Groupping by month to analyze correlation\n",
    "crimes_month = crimes_copy.groupby(by='month').mean()\n",
    "crimes_month"
   ],
   "outputs": [],
   "metadata": {}
  },
  {
   "cell_type": "code",
   "execution_count": null,
   "source": [
    "# Create list which shape is int64 on purpose of inverse transform\n",
    "neighbourhood_month_int = round(crimes_month['neighbourhood'], 0).astype(int)\n",
    "category_month_int = round(crimes_month['category'], 0).astype(int)"
   ],
   "outputs": [],
   "metadata": {}
  },
  {
   "cell_type": "code",
   "execution_count": null,
   "source": [
    "# Inverse transform from label encoder\n",
    "crimes_month['neighbourhood'] = neighbourhood_copy.inverse_transform(neighbourhood_month_int)\n",
    "crimes_month['category'] = category_copy.inverse_transform(category_month_int)\n",
    "crimes_month"
   ],
   "outputs": [],
   "metadata": {}
  },
  {
   "cell_type": "markdown",
   "source": [
    "## Groupby by day\n",
    "Summary\n",
    "1. The highest value of neighbourhood, category was Notre-Dame-de-Grâce and Mischief each.\n",
    "2. 2017 was the highest along the 5-year(2017 - 2021) and June was the highest along the year"
   ],
   "metadata": {}
  },
  {
   "cell_type": "code",
   "execution_count": null,
   "source": [
    "# Groupping by month to analyze correlation\n",
    "crimes_day = crimes_copy.groupby(by='day').mean()\n",
    "crimes_day"
   ],
   "outputs": [],
   "metadata": {}
  },
  {
   "cell_type": "code",
   "execution_count": null,
   "source": [
    "# Create list which shape is int64 on purpose of inverse transform\n",
    "neighbourhood_day_int = round(crimes_day['neighbourhood'], 0).astype(int)\n",
    "category_day_int = round(crimes_day['category'], 0).astype(int)"
   ],
   "outputs": [],
   "metadata": {}
  },
  {
   "cell_type": "code",
   "execution_count": null,
   "source": [
    "# Inverse transform from label encoder\n",
    "crimes_day['neighbourhood'] = neighbourhood_copy.inverse_transform(neighbourhood_day_int)\n",
    "crimes_day['category'] = category_copy.inverse_transform(category_day_int)\n",
    "crimes_day"
   ],
   "outputs": [],
   "metadata": {}
  },
  {
   "cell_type": "markdown",
   "source": [
    "# Conclusion\n",
    "1. Through groupping data by year, month, day each, we could find Notre-Dame-de-Grâce was the most dangerous region in Montreal\n",
    "2. Also, mischief was more frequent than any other categories\n",
    "3. In June, 2017 was the most dangerous period in Montreal"
   ],
   "metadata": {}
  }
 ],
 "metadata": {
  "orig_nbformat": 4,
  "language_info": {
   "name": "python",
   "version": "3.9.6",
   "mimetype": "text/x-python",
   "codemirror_mode": {
    "name": "ipython",
    "version": 3
   },
   "pygments_lexer": "ipython3",
   "nbconvert_exporter": "python",
   "file_extension": ".py"
  },
  "kernelspec": {
   "name": "python3",
   "display_name": "Python 3.9.6 64-bit ('Drill_DL_TF': conda)"
  },
  "interpreter": {
   "hash": "919cf3ae0e9712d87b63b1e10ff40154688c8cbaba6389820679510ec494ce74"
  }
 },
 "nbformat": 4,
 "nbformat_minor": 2
}