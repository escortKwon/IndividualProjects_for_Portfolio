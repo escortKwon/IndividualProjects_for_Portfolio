{
 "cells": [
  {
   "cell_type": "markdown",
   "source": [
    "# Loan Prediction EDA"
   ],
   "metadata": {}
  },
  {
   "cell_type": "markdown",
   "source": [
    "## Import libraries and data"
   ],
   "metadata": {}
  },
  {
   "cell_type": "code",
   "execution_count": null,
   "source": [
    "import numpy as np\n",
    "import pandas as pd\n",
    "import matplotlib.pyplot as plt\n",
    "import seaborn as sns\n",
    "\n",
    "from sklearn.model_selection import train_test_split ,KFold, StratifiedKFold\n",
    "from sklearn.model_selection import cross_val_score, cross_validate, GridSearchCV\n",
    "from sklearn.metrics import accuracy_score, precision_score, recall_score, roc_auc_score\n",
    "from sklearn.metrics import f1_score, confusion_matrix, precision_recall_curve, roc_curve\n",
    "from sklearn.preprocessing import StandardScaler, LabelEncoder, OneHotEncoder, Binarizer\n",
    "from sklearn.linear_model import LinearRegression, LogisticRegression\n",
    "from sklearn.tree import DecisionTreeClassifier\n",
    "from sklearn.tree import export_graphviz\n",
    "from sklearn.ensemble import RandomForestClassifier, RandomForestRegressor\n",
    "\n",
    "import graphviz"
   ],
   "outputs": [],
   "metadata": {}
  },
  {
   "cell_type": "code",
   "execution_count": null,
   "source": [
    "# Unzip\n",
    "!unzip -o archive.zip"
   ],
   "outputs": [],
   "metadata": {}
  },
  {
   "cell_type": "code",
   "execution_count": null,
   "source": [
    "# Fetch data\n",
    "data_train = pd.read_csv('Training Data.csv')\n",
    "data_test = pd.read_csv('Test Data.csv')\n",
    "data_sample = pd.read_csv('Sample Prediction Dataset.csv')"
   ],
   "outputs": [],
   "metadata": {}
  },
  {
   "cell_type": "markdown",
   "source": [
    "## Data Preprocessing"
   ],
   "metadata": {}
  },
  {
   "cell_type": "code",
   "execution_count": null,
   "source": [
    "data_train.head()"
   ],
   "outputs": [],
   "metadata": {}
  },
  {
   "cell_type": "code",
   "execution_count": null,
   "source": [
    "data_train.describe()"
   ],
   "outputs": [],
   "metadata": {}
  },
  {
   "cell_type": "code",
   "execution_count": null,
   "source": [
    "data_train.info()"
   ],
   "outputs": [],
   "metadata": {}
  },
  {
   "cell_type": "code",
   "execution_count": null,
   "source": [
    "data_train.isnull().sum()"
   ],
   "outputs": [],
   "metadata": {}
  },
  {
   "cell_type": "code",
   "execution_count": null,
   "source": [
    "# Drop Unnecessary Columns\n",
    "data_train.drop(['CITY', 'STATE'], axis=1, inplace=True)\n",
    "data_train"
   ],
   "outputs": [],
   "metadata": {}
  },
  {
   "cell_type": "markdown",
   "source": [
    "## Evaluation"
   ],
   "metadata": {}
  },
  {
   "cell_type": "code",
   "execution_count": null,
   "source": [
    "# Extract X for feature dataset, y for label dataset\n",
    "X = data_train.iloc[:, :-1]\n",
    "y = data_train.iloc[:, -1]"
   ],
   "outputs": [],
   "metadata": {}
  },
  {
   "cell_type": "code",
   "execution_count": null,
   "source": [
    "# # ML Algorithm cannot fit featues which contains characters\n",
    "# # Therefore, we should encode them into numbers\n",
    "# For applying various algorithms, it could be a good idea to select One-Hot Encoding\n",
    "X = pd.get_dummies(X)\n",
    "X"
   ],
   "outputs": [],
   "metadata": {}
  },
  {
   "cell_type": "code",
   "execution_count": null,
   "source": [
    "X_train, X_test, y_train, y_test = train_test_split(X, y, test_size=0.2, random_state=11, stratify=y)"
   ],
   "outputs": [],
   "metadata": {}
  },
  {
   "cell_type": "code",
   "execution_count": null,
   "source": [
    "# Utility Function\n",
    "def get_clf_eval(y_test, pred=None, pred_proba=None):\n",
    "    confusion = confusion_matrix(y_test, pred)\n",
    "    accuracy = accuracy_score(y_test, pred)\n",
    "    precision = precision_score(y_test, pred)\n",
    "    recall = recall_score(y_test, pred)\n",
    "    f1 = f1_score(y_test, pred)\n",
    "    roc_auc = roc_auc_score(y_test, pred_proba)\n",
    "    print('Confusion Matrix')\n",
    "    print(confusion)\n",
    "    print('Accuracy: {0:.4f}, Precision: {1:.4f}, Recall {2:.4f}, F1: {3:.4f}, AUC:{4:.4f}'.format(accuracy, precision, recall, f1, roc_auc))"
   ],
   "outputs": [],
   "metadata": {}
  },
  {
   "cell_type": "code",
   "execution_count": null,
   "source": [
    "# Process fitting, prediction and evalution by Logistic Regression\n",
    "# Create Estimator CLass\n",
    "dt_clf = DecisionTreeClassifier()\n",
    "lr_clf = LogisticRegression()\n",
    "rf_clf = RandomForestClassifier()\n",
    "\n",
    "# Fitting\n",
    "dt_clf.fit(X_train, y_train)\n",
    "lr_clf.fit(X_train, y_train)\n",
    "rf_clf.fit(X_train, y_train)\n",
    "\n",
    "# Prediction\n",
    "dt_pred = dt_clf.predict(X_test)\n",
    "lr_pred = lr_clf.predict(X_test)\n",
    "rf_pred = rf_clf.predict(X_test)\n",
    "\n",
    "# Pred_Proba\n",
    "dt_pred_proba = dt_clf.predict_proba(X_test)[:, 1]\n",
    "lr_pred_proba = lr_clf.predict_proba(X_test)[:, 1]\n",
    "rf_pred_proba = rf_clf.predict_proba(X_test)[:, 1]\n",
    "\n",
    "# Evaluation\n",
    "get_clf_eval(y_test, dt_pred, dt_pred_proba)\n",
    "get_clf_eval(y_test, lr_pred, lr_pred_proba)\n",
    "get_clf_eval(y_test, rf_pred, rf_pred_proba)"
   ],
   "outputs": [],
   "metadata": {}
  },
  {
   "cell_type": "code",
   "execution_count": null,
   "source": [
    "# Plot Function\n",
    "def precision_recall_curve_plot(y_test, pred_proba_c1):\n",
    "    # threshold ndarray와 이 threshold에 따른 정밀도, 재현율 ndarray 추출.\n",
    "    precisions, recalls, thresholds = precision_recall_curve(y_test, pred_proba_c1)\n",
    "\n",
    "    # X축을 thresdhold값으로, Y축은 정밀도, 재현율 값으로 각각 Plot 수행. 정밀도는 점선으로 표시\n",
    "    plt.figure(figsize=(8, 6))\n",
    "    threshold_boundary = thresholds.shape[0]\n",
    "    plt.plot(thresholds, precisions[0:threshold_boundary], linestyle='--', label='precision')\n",
    "    plt.plot(thresholds, recalls[0:threshold_boundary], label='recall')\n",
    "\n",
    "    # threshold 값 X 축의 Scale을 0.1 단위로 변경\n",
    "    start, end = plt.xlim()\n",
    "    plt.xticks(np.round(np.arange(start, end, 0.1), 2))\n",
    "\n",
    "    # x축, y축 label과 legend, 그리고 grid 설정\n",
    "    plt.xlabel('Threshold value'); plt.ylabel('Precision and Recall value')\n",
    "    plt.legend();plt.grid()\n",
    "    plt.show()\n",
    "\n",
    "# DecisionTreeClassifier\n",
    "precision_recall_curve_plot(y_test, dt_pred_proba)\n",
    "# LogisitcRegression\n",
    "precision_recall_curve_plot(y_test, lr_pred_proba)\n",
    "# RandomForestClassifier\n",
    "precision_recall_curve_plot(y_test, rf_pred_proba)"
   ],
   "outputs": [],
   "metadata": {}
  },
  {
   "cell_type": "markdown",
   "source": [
    "### Summary\n",
    "1. The performance with RandomForestClassifier was much better than other algorithms.\n",
    "2. As you can see the last plot, we could set threshold value as 0.3 for custom."
   ],
   "metadata": {}
  },
  {
   "cell_type": "code",
   "execution_count": null,
   "source": [
    "rf_pred_proba"
   ],
   "outputs": [],
   "metadata": {}
  },
  {
   "cell_type": "code",
   "execution_count": null,
   "source": [
    "# Evaluation with custom threshold value\n",
    "# Set threshold value as 0.3\n",
    "custom_threshold = 0.3\n",
    "\n",
    "# Extract 'Positive Class' in order to apply Binarizer\n",
    "custom_pred_proba = rf_pred_proba.reshape(-1, 1)\n",
    "\n",
    "binarizer = Binarizer(threshold=custom_threshold).fit(custom_pred_proba)\n",
    "custom_predict = binarizer.transform(custom_pred_proba)\n",
    "\n",
    "get_clf_eval(y_test, custom_predict, custom_pred_proba)"
   ],
   "outputs": [],
   "metadata": {}
  },
  {
   "cell_type": "code",
   "execution_count": null,
   "source": [
    "# Plot\n",
    "precision_recall_curve_plot(y_test, custom_pred_proba)"
   ],
   "outputs": [],
   "metadata": {}
  }
 ],
 "metadata": {
  "orig_nbformat": 4,
  "language_info": {
   "name": "python",
   "version": "3.9.6",
   "mimetype": "text/x-python",
   "codemirror_mode": {
    "name": "ipython",
    "version": 3
   },
   "pygments_lexer": "ipython3",
   "nbconvert_exporter": "python",
   "file_extension": ".py"
  },
  "kernelspec": {
   "name": "python3",
   "display_name": "Python 3.9.6 64-bit ('Drill_DL_TF': conda)"
  },
  "interpreter": {
   "hash": "919cf3ae0e9712d87b63b1e10ff40154688c8cbaba6389820679510ec494ce74"
  }
 },
 "nbformat": 4,
 "nbformat_minor": 2
}