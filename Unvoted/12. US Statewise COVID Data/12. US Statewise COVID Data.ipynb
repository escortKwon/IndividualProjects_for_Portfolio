{
 "cells": [
  {
   "cell_type": "markdown",
   "source": [
    "# Import libraries and data"
   ],
   "metadata": {
    "collapsed": false
   }
  },
  {
   "cell_type": "code",
   "execution_count": 16,
   "outputs": [],
   "source": [
    "import numpy as np\n",
    "import pandas as pd\n",
    "import matplotlib.pyplot as plt\n",
    "import seaborn as sns\n",
    "import warnings\n",
    "warnings.filterwarnings('ignore')"
   ],
   "metadata": {
    "collapsed": false,
    "pycharm": {
     "name": "#%%\n"
    }
   }
  },
  {
   "cell_type": "code",
   "execution_count": 17,
   "outputs": [
    {
     "name": "stdout",
     "output_type": "stream",
     "text": [
      "Archive:  archive.zip\n",
      "  inflating: States of USA.csv       \n",
      "  inflating: till 24 Dec 2021 all states cumulative data.csv  \n",
      "  inflating: us-states covid data.csv  \n"
     ]
    }
   ],
   "source": [
    "# Unzip archive\n",
    "!Unzip -o archive.zip"
   ],
   "metadata": {
    "collapsed": false,
    "pycharm": {
     "name": "#%%\n"
    }
   }
  },
  {
   "cell_type": "code",
   "execution_count": 18,
   "outputs": [],
   "source": [
    "# Load data\n",
    "states = pd.read_csv('States of USA.csv')\n",
    "data_cum = pd.read_csv('till 24 Dec 2021 all states cumulative data.csv')\n",
    "data = pd.read_csv('us-states covid data.csv')"
   ],
   "metadata": {
    "collapsed": false,
    "pycharm": {
     "name": "#%%\n"
    }
   }
  },
  {
   "cell_type": "markdown",
   "source": [
    "# Data Preprocessing"
   ],
   "metadata": {
    "collapsed": false,
    "pycharm": {
     "name": "#%% md\n"
    }
   }
  },
  {
   "cell_type": "code",
   "execution_count": 19,
   "outputs": [
    {
     "data": {
      "text/plain": "State           0\nAbbreviation    0\ndtype: int64"
     },
     "execution_count": 19,
     "metadata": {},
     "output_type": "execute_result"
    }
   ],
   "source": [
    "# Check for Null or NaN values\n",
    "states.isnull().sum()"
   ],
   "metadata": {
    "collapsed": false,
    "pycharm": {
     "name": "#%%\n"
    }
   }
  },
  {
   "cell_type": "code",
   "execution_count": 20,
   "outputs": [
    {
     "data": {
      "text/plain": "Unnamed: 0    0\ndate          0\nstate         0\ncases         0\ndeaths        0\ndtype: int64"
     },
     "execution_count": 20,
     "metadata": {},
     "output_type": "execute_result"
    }
   ],
   "source": [
    "data_cum.isnull().sum()"
   ],
   "metadata": {
    "collapsed": false,
    "pycharm": {
     "name": "#%%\n"
    }
   }
  },
  {
   "cell_type": "code",
   "execution_count": 21,
   "outputs": [
    {
     "data": {
      "text/plain": "date      0\nstate     0\nfips      0\ncases     0\ndeaths    0\ndtype: int64"
     },
     "execution_count": 21,
     "metadata": {},
     "output_type": "execute_result"
    }
   ],
   "source": [
    "data.isnull().sum()"
   ],
   "metadata": {
    "collapsed": false,
    "pycharm": {
     "name": "#%%\n"
    }
   }
  },
  {
   "cell_type": "code",
   "execution_count": 23,
   "outputs": [
    {
     "data": {
      "text/plain": "    Unnamed: 0        date                 state    cases  deaths Abb\n0            0  2021-12-24               Alabama   865636   16418  AL\n1            1  2021-12-24                Alaska   154269     952  AK\n2            2  2021-12-24               Arizona  1351213   23913  AZ\n3            3  2021-12-24              Arkansas   548967    9044  AR\n4            4  2021-12-24            California  5291605   76317  CA\n5            5  2021-12-24              Colorado   889465   10277  CO\n6            6  2021-12-24           Connecticut   474557    9077  CT\n7            7  2021-12-24              Delaware   170009    2271  DE\n8            8  2021-12-24  District of Columbia    79565    1207  DC\n9            9  2021-12-24               Florida  3864213   62347  FL\n10          10  2021-12-24               Georgia  1698099   30061  GA\n11          11  2021-12-24                Hawaii    95454    1075  HI\n12          12  2021-12-24                 Idaho   315786    4102  ID\n13          13  2021-12-24              Illinois  2025804   30566  IL\n14          14  2021-12-24               Indiana  1204621   18696  IN\n15          15  2021-12-24                  Iowa   563955    7799  IA\n16          16  2021-12-24                Kansas   506519    6979  KS\n17          17  2021-12-24              Kentucky   841060   11964  KY\n18          18  2021-12-24             Louisiana   790373   14953  LA\n19          19  2021-12-24                 Maine   141780    1475  ME\n20          20  2021-12-24               Montana   195881    2896  MT\n21          21  2021-12-24              Nebraska   331081    2896  NE\n22          22  2021-12-24                Nevada   489279    8364  NV\n23          23  2021-12-24         New Hampshire   189987    1877  NH\n24          24  2021-12-24            New Jersey  1410275   28848  NJ\n25          25  2021-12-24            New Mexico   342649    5747  NM\n26          26  2021-12-24              New York  3098290   58422  NY\n27          27  2021-12-24        North Carolina  1607774   19243  NC\n28          28  2021-12-24          North Dakota   171237    2040  ND\n29          29  2021-12-24                  Ohio  1910991   28720  OH\n30          30  2021-12-24              Oklahoma   694210   11503  OK\n31          31  2021-12-24                Oregon   410565    5598  OR\n32          32  2021-12-24              Maryland   638612   11255  MD\n33          33  2021-12-24         Massachusetts  1055519   20050  MA\n34          34  2021-12-24              Michigan  1642383   28310  MI\n35          35  2021-12-24             Minnesota   996358   10440  MN\n36          36  2021-12-24           Mississippi   525502   10393  MS\n37          37  2021-12-24              Missouri   991398   16022  MO\n38          38  2021-12-24          Pennsylvania  1937793   36050  PA\n39          39  2021-12-24          Rhode Island   217228    3018  RI\n40          40  2021-12-24        South Carolina   944574   14550  SC\n41          41  2021-12-24          South Dakota   175677    2456  SD\n42          42  2021-12-24             Tennessee  1336088   20181  TN\n43          43  2021-12-24                 Texas  4469813   75635  TX\n44          44  2021-12-24                  Utah   623853    3754  UT\n45          45  2021-12-24               Vermont    60265     460  VT\n46          46  2021-12-24              Virginia  1049336   15294  VA\n47          47  2021-12-24            Washington   817678    9828  WA\n48          48  2021-12-24         West Virginia   319035    5251  WV\n49          49  2021-12-24             Wisconsin  1083571   11017  WI\n50          50  2021-12-24               Wyoming   114242    1526  WY",
      "text/html": "<div>\n<style scoped>\n    .dataframe tbody tr th:only-of-type {\n        vertical-align: middle;\n    }\n\n    .dataframe tbody tr th {\n        vertical-align: top;\n    }\n\n    .dataframe thead th {\n        text-align: right;\n    }\n</style>\n<table border=\"1\" class=\"dataframe\">\n  <thead>\n    <tr style=\"text-align: right;\">\n      <th></th>\n      <th>Unnamed: 0</th>\n      <th>date</th>\n      <th>state</th>\n      <th>cases</th>\n      <th>deaths</th>\n      <th>Abb</th>\n    </tr>\n  </thead>\n  <tbody>\n    <tr>\n      <th>0</th>\n      <td>0</td>\n      <td>2021-12-24</td>\n      <td>Alabama</td>\n      <td>865636</td>\n      <td>16418</td>\n      <td>AL</td>\n    </tr>\n    <tr>\n      <th>1</th>\n      <td>1</td>\n      <td>2021-12-24</td>\n      <td>Alaska</td>\n      <td>154269</td>\n      <td>952</td>\n      <td>AK</td>\n    </tr>\n    <tr>\n      <th>2</th>\n      <td>2</td>\n      <td>2021-12-24</td>\n      <td>Arizona</td>\n      <td>1351213</td>\n      <td>23913</td>\n      <td>AZ</td>\n    </tr>\n    <tr>\n      <th>3</th>\n      <td>3</td>\n      <td>2021-12-24</td>\n      <td>Arkansas</td>\n      <td>548967</td>\n      <td>9044</td>\n      <td>AR</td>\n    </tr>\n    <tr>\n      <th>4</th>\n      <td>4</td>\n      <td>2021-12-24</td>\n      <td>California</td>\n      <td>5291605</td>\n      <td>76317</td>\n      <td>CA</td>\n    </tr>\n    <tr>\n      <th>5</th>\n      <td>5</td>\n      <td>2021-12-24</td>\n      <td>Colorado</td>\n      <td>889465</td>\n      <td>10277</td>\n      <td>CO</td>\n    </tr>\n    <tr>\n      <th>6</th>\n      <td>6</td>\n      <td>2021-12-24</td>\n      <td>Connecticut</td>\n      <td>474557</td>\n      <td>9077</td>\n      <td>CT</td>\n    </tr>\n    <tr>\n      <th>7</th>\n      <td>7</td>\n      <td>2021-12-24</td>\n      <td>Delaware</td>\n      <td>170009</td>\n      <td>2271</td>\n      <td>DE</td>\n    </tr>\n    <tr>\n      <th>8</th>\n      <td>8</td>\n      <td>2021-12-24</td>\n      <td>District of Columbia</td>\n      <td>79565</td>\n      <td>1207</td>\n      <td>DC</td>\n    </tr>\n    <tr>\n      <th>9</th>\n      <td>9</td>\n      <td>2021-12-24</td>\n      <td>Florida</td>\n      <td>3864213</td>\n      <td>62347</td>\n      <td>FL</td>\n    </tr>\n    <tr>\n      <th>10</th>\n      <td>10</td>\n      <td>2021-12-24</td>\n      <td>Georgia</td>\n      <td>1698099</td>\n      <td>30061</td>\n      <td>GA</td>\n    </tr>\n    <tr>\n      <th>11</th>\n      <td>11</td>\n      <td>2021-12-24</td>\n      <td>Hawaii</td>\n      <td>95454</td>\n      <td>1075</td>\n      <td>HI</td>\n    </tr>\n    <tr>\n      <th>12</th>\n      <td>12</td>\n      <td>2021-12-24</td>\n      <td>Idaho</td>\n      <td>315786</td>\n      <td>4102</td>\n      <td>ID</td>\n    </tr>\n    <tr>\n      <th>13</th>\n      <td>13</td>\n      <td>2021-12-24</td>\n      <td>Illinois</td>\n      <td>2025804</td>\n      <td>30566</td>\n      <td>IL</td>\n    </tr>\n    <tr>\n      <th>14</th>\n      <td>14</td>\n      <td>2021-12-24</td>\n      <td>Indiana</td>\n      <td>1204621</td>\n      <td>18696</td>\n      <td>IN</td>\n    </tr>\n    <tr>\n      <th>15</th>\n      <td>15</td>\n      <td>2021-12-24</td>\n      <td>Iowa</td>\n      <td>563955</td>\n      <td>7799</td>\n      <td>IA</td>\n    </tr>\n    <tr>\n      <th>16</th>\n      <td>16</td>\n      <td>2021-12-24</td>\n      <td>Kansas</td>\n      <td>506519</td>\n      <td>6979</td>\n      <td>KS</td>\n    </tr>\n    <tr>\n      <th>17</th>\n      <td>17</td>\n      <td>2021-12-24</td>\n      <td>Kentucky</td>\n      <td>841060</td>\n      <td>11964</td>\n      <td>KY</td>\n    </tr>\n    <tr>\n      <th>18</th>\n      <td>18</td>\n      <td>2021-12-24</td>\n      <td>Louisiana</td>\n      <td>790373</td>\n      <td>14953</td>\n      <td>LA</td>\n    </tr>\n    <tr>\n      <th>19</th>\n      <td>19</td>\n      <td>2021-12-24</td>\n      <td>Maine</td>\n      <td>141780</td>\n      <td>1475</td>\n      <td>ME</td>\n    </tr>\n    <tr>\n      <th>20</th>\n      <td>20</td>\n      <td>2021-12-24</td>\n      <td>Montana</td>\n      <td>195881</td>\n      <td>2896</td>\n      <td>MT</td>\n    </tr>\n    <tr>\n      <th>21</th>\n      <td>21</td>\n      <td>2021-12-24</td>\n      <td>Nebraska</td>\n      <td>331081</td>\n      <td>2896</td>\n      <td>NE</td>\n    </tr>\n    <tr>\n      <th>22</th>\n      <td>22</td>\n      <td>2021-12-24</td>\n      <td>Nevada</td>\n      <td>489279</td>\n      <td>8364</td>\n      <td>NV</td>\n    </tr>\n    <tr>\n      <th>23</th>\n      <td>23</td>\n      <td>2021-12-24</td>\n      <td>New Hampshire</td>\n      <td>189987</td>\n      <td>1877</td>\n      <td>NH</td>\n    </tr>\n    <tr>\n      <th>24</th>\n      <td>24</td>\n      <td>2021-12-24</td>\n      <td>New Jersey</td>\n      <td>1410275</td>\n      <td>28848</td>\n      <td>NJ</td>\n    </tr>\n    <tr>\n      <th>25</th>\n      <td>25</td>\n      <td>2021-12-24</td>\n      <td>New Mexico</td>\n      <td>342649</td>\n      <td>5747</td>\n      <td>NM</td>\n    </tr>\n    <tr>\n      <th>26</th>\n      <td>26</td>\n      <td>2021-12-24</td>\n      <td>New York</td>\n      <td>3098290</td>\n      <td>58422</td>\n      <td>NY</td>\n    </tr>\n    <tr>\n      <th>27</th>\n      <td>27</td>\n      <td>2021-12-24</td>\n      <td>North Carolina</td>\n      <td>1607774</td>\n      <td>19243</td>\n      <td>NC</td>\n    </tr>\n    <tr>\n      <th>28</th>\n      <td>28</td>\n      <td>2021-12-24</td>\n      <td>North Dakota</td>\n      <td>171237</td>\n      <td>2040</td>\n      <td>ND</td>\n    </tr>\n    <tr>\n      <th>29</th>\n      <td>29</td>\n      <td>2021-12-24</td>\n      <td>Ohio</td>\n      <td>1910991</td>\n      <td>28720</td>\n      <td>OH</td>\n    </tr>\n    <tr>\n      <th>30</th>\n      <td>30</td>\n      <td>2021-12-24</td>\n      <td>Oklahoma</td>\n      <td>694210</td>\n      <td>11503</td>\n      <td>OK</td>\n    </tr>\n    <tr>\n      <th>31</th>\n      <td>31</td>\n      <td>2021-12-24</td>\n      <td>Oregon</td>\n      <td>410565</td>\n      <td>5598</td>\n      <td>OR</td>\n    </tr>\n    <tr>\n      <th>32</th>\n      <td>32</td>\n      <td>2021-12-24</td>\n      <td>Maryland</td>\n      <td>638612</td>\n      <td>11255</td>\n      <td>MD</td>\n    </tr>\n    <tr>\n      <th>33</th>\n      <td>33</td>\n      <td>2021-12-24</td>\n      <td>Massachusetts</td>\n      <td>1055519</td>\n      <td>20050</td>\n      <td>MA</td>\n    </tr>\n    <tr>\n      <th>34</th>\n      <td>34</td>\n      <td>2021-12-24</td>\n      <td>Michigan</td>\n      <td>1642383</td>\n      <td>28310</td>\n      <td>MI</td>\n    </tr>\n    <tr>\n      <th>35</th>\n      <td>35</td>\n      <td>2021-12-24</td>\n      <td>Minnesota</td>\n      <td>996358</td>\n      <td>10440</td>\n      <td>MN</td>\n    </tr>\n    <tr>\n      <th>36</th>\n      <td>36</td>\n      <td>2021-12-24</td>\n      <td>Mississippi</td>\n      <td>525502</td>\n      <td>10393</td>\n      <td>MS</td>\n    </tr>\n    <tr>\n      <th>37</th>\n      <td>37</td>\n      <td>2021-12-24</td>\n      <td>Missouri</td>\n      <td>991398</td>\n      <td>16022</td>\n      <td>MO</td>\n    </tr>\n    <tr>\n      <th>38</th>\n      <td>38</td>\n      <td>2021-12-24</td>\n      <td>Pennsylvania</td>\n      <td>1937793</td>\n      <td>36050</td>\n      <td>PA</td>\n    </tr>\n    <tr>\n      <th>39</th>\n      <td>39</td>\n      <td>2021-12-24</td>\n      <td>Rhode Island</td>\n      <td>217228</td>\n      <td>3018</td>\n      <td>RI</td>\n    </tr>\n    <tr>\n      <th>40</th>\n      <td>40</td>\n      <td>2021-12-24</td>\n      <td>South Carolina</td>\n      <td>944574</td>\n      <td>14550</td>\n      <td>SC</td>\n    </tr>\n    <tr>\n      <th>41</th>\n      <td>41</td>\n      <td>2021-12-24</td>\n      <td>South Dakota</td>\n      <td>175677</td>\n      <td>2456</td>\n      <td>SD</td>\n    </tr>\n    <tr>\n      <th>42</th>\n      <td>42</td>\n      <td>2021-12-24</td>\n      <td>Tennessee</td>\n      <td>1336088</td>\n      <td>20181</td>\n      <td>TN</td>\n    </tr>\n    <tr>\n      <th>43</th>\n      <td>43</td>\n      <td>2021-12-24</td>\n      <td>Texas</td>\n      <td>4469813</td>\n      <td>75635</td>\n      <td>TX</td>\n    </tr>\n    <tr>\n      <th>44</th>\n      <td>44</td>\n      <td>2021-12-24</td>\n      <td>Utah</td>\n      <td>623853</td>\n      <td>3754</td>\n      <td>UT</td>\n    </tr>\n    <tr>\n      <th>45</th>\n      <td>45</td>\n      <td>2021-12-24</td>\n      <td>Vermont</td>\n      <td>60265</td>\n      <td>460</td>\n      <td>VT</td>\n    </tr>\n    <tr>\n      <th>46</th>\n      <td>46</td>\n      <td>2021-12-24</td>\n      <td>Virginia</td>\n      <td>1049336</td>\n      <td>15294</td>\n      <td>VA</td>\n    </tr>\n    <tr>\n      <th>47</th>\n      <td>47</td>\n      <td>2021-12-24</td>\n      <td>Washington</td>\n      <td>817678</td>\n      <td>9828</td>\n      <td>WA</td>\n    </tr>\n    <tr>\n      <th>48</th>\n      <td>48</td>\n      <td>2021-12-24</td>\n      <td>West Virginia</td>\n      <td>319035</td>\n      <td>5251</td>\n      <td>WV</td>\n    </tr>\n    <tr>\n      <th>49</th>\n      <td>49</td>\n      <td>2021-12-24</td>\n      <td>Wisconsin</td>\n      <td>1083571</td>\n      <td>11017</td>\n      <td>WI</td>\n    </tr>\n    <tr>\n      <th>50</th>\n      <td>50</td>\n      <td>2021-12-24</td>\n      <td>Wyoming</td>\n      <td>114242</td>\n      <td>1526</td>\n      <td>WY</td>\n    </tr>\n  </tbody>\n</table>\n</div>"
     },
     "execution_count": 23,
     "metadata": {},
     "output_type": "execute_result"
    }
   ],
   "source": [
    "data_cum['Abb'] = states['Abbreviation']\n",
    "data_cum"
   ],
   "metadata": {
    "collapsed": false,
    "pycharm": {
     "name": "#%%\n"
    }
   }
  }
 ],
 "metadata": {
  "kernelspec": {
   "display_name": "Python 3",
   "language": "python",
   "name": "python3"
  },
  "language_info": {
   "codemirror_mode": {
    "name": "ipython",
    "version": 2
   },
   "file_extension": ".py",
   "mimetype": "text/x-python",
   "name": "python",
   "nbconvert_exporter": "python",
   "pygments_lexer": "ipython2",
   "version": "2.7.6"
  }
 },
 "nbformat": 4,
 "nbformat_minor": 0
}