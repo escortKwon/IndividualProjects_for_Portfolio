{
 "cells": [
  {
   "cell_type": "markdown",
   "metadata": {
    "collapsed": true,
    "pycharm": {
     "name": "#%% md\n"
    }
   },
   "source": [
    "# Import modules and load data"
   ]
  },
  {
   "cell_type": "code",
   "execution_count": 1,
   "outputs": [],
   "source": [
    "import numpy as np\n",
    "import pandas as pd\n",
    "import matplotlib.pyplot as plt\n",
    "import seaborn as sns\n",
    "\n",
    "from sklearn.preprocessing import LabelEncoder\n",
    "\n",
    "import warnings\n",
    "warnings.filterwarnings(action='ignore')"
   ],
   "metadata": {
    "collapsed": false,
    "pycharm": {
     "name": "#%%\n"
    }
   }
  },
  {
   "cell_type": "code",
   "execution_count": 2,
   "outputs": [
    {
     "name": "stdout",
     "output_type": "stream",
     "text": [
      "Archive:  archive.zip\r\n",
      "  inflating: uber.csv                \r\n"
     ]
    }
   ],
   "source": [
    "# Unzip archive\n",
    "!unzip -o archive.zip"
   ],
   "metadata": {
    "collapsed": false,
    "pycharm": {
     "name": "#%%\n"
    }
   }
  },
  {
   "cell_type": "code",
   "execution_count": 3,
   "outputs": [
    {
     "data": {
      "text/plain": "        Unnamed: 0                            key  fare_amount  \\\n0         24238194    2015-05-07 19:52:06.0000003          7.5   \n1         27835199    2009-07-17 20:04:56.0000002          7.7   \n2         44984355   2009-08-24 21:45:00.00000061         12.9   \n3         25894730    2009-06-26 08:22:21.0000001          5.3   \n4         17610152  2014-08-28 17:47:00.000000188         16.0   \n...            ...                            ...          ...   \n199995    42598914   2012-10-28 10:49:00.00000053          3.0   \n199996    16382965    2014-03-14 01:09:00.0000008          7.5   \n199997    27804658   2009-06-29 00:42:00.00000078         30.9   \n199998    20259894    2015-05-20 14:56:25.0000004         14.5   \n199999    11951496   2010-05-15 04:08:00.00000076         14.1   \n\n                pickup_datetime  pickup_longitude  pickup_latitude  \\\n0       2015-05-07 19:52:06 UTC        -73.999817        40.738354   \n1       2009-07-17 20:04:56 UTC        -73.994355        40.728225   \n2       2009-08-24 21:45:00 UTC        -74.005043        40.740770   \n3       2009-06-26 08:22:21 UTC        -73.976124        40.790844   \n4       2014-08-28 17:47:00 UTC        -73.925023        40.744085   \n...                         ...               ...              ...   \n199995  2012-10-28 10:49:00 UTC        -73.987042        40.739367   \n199996  2014-03-14 01:09:00 UTC        -73.984722        40.736837   \n199997  2009-06-29 00:42:00 UTC        -73.986017        40.756487   \n199998  2015-05-20 14:56:25 UTC        -73.997124        40.725452   \n199999  2010-05-15 04:08:00 UTC        -73.984395        40.720077   \n\n        dropoff_longitude  dropoff_latitude  passenger_count  \n0              -73.999512         40.723217                1  \n1              -73.994710         40.750325                1  \n2              -73.962565         40.772647                1  \n3              -73.965316         40.803349                3  \n4              -73.973082         40.761247                5  \n...                   ...               ...              ...  \n199995         -73.986525         40.740297                1  \n199996         -74.006672         40.739620                1  \n199997         -73.858957         40.692588                2  \n199998         -73.983215         40.695415                1  \n199999         -73.985508         40.768793                1  \n\n[200000 rows x 9 columns]",
      "text/html": "<div>\n<style scoped>\n    .dataframe tbody tr th:only-of-type {\n        vertical-align: middle;\n    }\n\n    .dataframe tbody tr th {\n        vertical-align: top;\n    }\n\n    .dataframe thead th {\n        text-align: right;\n    }\n</style>\n<table border=\"1\" class=\"dataframe\">\n  <thead>\n    <tr style=\"text-align: right;\">\n      <th></th>\n      <th>Unnamed: 0</th>\n      <th>key</th>\n      <th>fare_amount</th>\n      <th>pickup_datetime</th>\n      <th>pickup_longitude</th>\n      <th>pickup_latitude</th>\n      <th>dropoff_longitude</th>\n      <th>dropoff_latitude</th>\n      <th>passenger_count</th>\n    </tr>\n  </thead>\n  <tbody>\n    <tr>\n      <th>0</th>\n      <td>24238194</td>\n      <td>2015-05-07 19:52:06.0000003</td>\n      <td>7.5</td>\n      <td>2015-05-07 19:52:06 UTC</td>\n      <td>-73.999817</td>\n      <td>40.738354</td>\n      <td>-73.999512</td>\n      <td>40.723217</td>\n      <td>1</td>\n    </tr>\n    <tr>\n      <th>1</th>\n      <td>27835199</td>\n      <td>2009-07-17 20:04:56.0000002</td>\n      <td>7.7</td>\n      <td>2009-07-17 20:04:56 UTC</td>\n      <td>-73.994355</td>\n      <td>40.728225</td>\n      <td>-73.994710</td>\n      <td>40.750325</td>\n      <td>1</td>\n    </tr>\n    <tr>\n      <th>2</th>\n      <td>44984355</td>\n      <td>2009-08-24 21:45:00.00000061</td>\n      <td>12.9</td>\n      <td>2009-08-24 21:45:00 UTC</td>\n      <td>-74.005043</td>\n      <td>40.740770</td>\n      <td>-73.962565</td>\n      <td>40.772647</td>\n      <td>1</td>\n    </tr>\n    <tr>\n      <th>3</th>\n      <td>25894730</td>\n      <td>2009-06-26 08:22:21.0000001</td>\n      <td>5.3</td>\n      <td>2009-06-26 08:22:21 UTC</td>\n      <td>-73.976124</td>\n      <td>40.790844</td>\n      <td>-73.965316</td>\n      <td>40.803349</td>\n      <td>3</td>\n    </tr>\n    <tr>\n      <th>4</th>\n      <td>17610152</td>\n      <td>2014-08-28 17:47:00.000000188</td>\n      <td>16.0</td>\n      <td>2014-08-28 17:47:00 UTC</td>\n      <td>-73.925023</td>\n      <td>40.744085</td>\n      <td>-73.973082</td>\n      <td>40.761247</td>\n      <td>5</td>\n    </tr>\n    <tr>\n      <th>...</th>\n      <td>...</td>\n      <td>...</td>\n      <td>...</td>\n      <td>...</td>\n      <td>...</td>\n      <td>...</td>\n      <td>...</td>\n      <td>...</td>\n      <td>...</td>\n    </tr>\n    <tr>\n      <th>199995</th>\n      <td>42598914</td>\n      <td>2012-10-28 10:49:00.00000053</td>\n      <td>3.0</td>\n      <td>2012-10-28 10:49:00 UTC</td>\n      <td>-73.987042</td>\n      <td>40.739367</td>\n      <td>-73.986525</td>\n      <td>40.740297</td>\n      <td>1</td>\n    </tr>\n    <tr>\n      <th>199996</th>\n      <td>16382965</td>\n      <td>2014-03-14 01:09:00.0000008</td>\n      <td>7.5</td>\n      <td>2014-03-14 01:09:00 UTC</td>\n      <td>-73.984722</td>\n      <td>40.736837</td>\n      <td>-74.006672</td>\n      <td>40.739620</td>\n      <td>1</td>\n    </tr>\n    <tr>\n      <th>199997</th>\n      <td>27804658</td>\n      <td>2009-06-29 00:42:00.00000078</td>\n      <td>30.9</td>\n      <td>2009-06-29 00:42:00 UTC</td>\n      <td>-73.986017</td>\n      <td>40.756487</td>\n      <td>-73.858957</td>\n      <td>40.692588</td>\n      <td>2</td>\n    </tr>\n    <tr>\n      <th>199998</th>\n      <td>20259894</td>\n      <td>2015-05-20 14:56:25.0000004</td>\n      <td>14.5</td>\n      <td>2015-05-20 14:56:25 UTC</td>\n      <td>-73.997124</td>\n      <td>40.725452</td>\n      <td>-73.983215</td>\n      <td>40.695415</td>\n      <td>1</td>\n    </tr>\n    <tr>\n      <th>199999</th>\n      <td>11951496</td>\n      <td>2010-05-15 04:08:00.00000076</td>\n      <td>14.1</td>\n      <td>2010-05-15 04:08:00 UTC</td>\n      <td>-73.984395</td>\n      <td>40.720077</td>\n      <td>-73.985508</td>\n      <td>40.768793</td>\n      <td>1</td>\n    </tr>\n  </tbody>\n</table>\n<p>200000 rows × 9 columns</p>\n</div>"
     },
     "execution_count": 3,
     "metadata": {},
     "output_type": "execute_result"
    }
   ],
   "source": [
    "# Create DataFrame\n",
    "uber = pd.read_csv('uber.csv')\n",
    "uber"
   ],
   "metadata": {
    "collapsed": false,
    "pycharm": {
     "name": "#%%\n"
    }
   }
  },
  {
   "cell_type": "markdown",
   "source": [
    "# Data Preprocessing"
   ],
   "metadata": {
    "collapsed": false,
    "pycharm": {
     "name": "#%% md\n"
    }
   }
  },
  {
   "cell_type": "code",
   "execution_count": 4,
   "outputs": [
    {
     "data": {
      "text/plain": "        fare_amount          pickup_datetime  pickup_longitude  \\\n0               8.5  2009-01-01 01:15:22 UTC        -73.981918   \n1              13.0  2009-01-01 01:59:17 UTC        -73.983759   \n2              10.6  2009-01-01 02:05:03 UTC        -73.956635   \n3              12.2  2009-01-01 02:09:13 UTC        -73.984605   \n4              11.0  2009-01-01 02:13:41 UTC        -73.980127   \n...             ...                      ...               ...   \n199995         18.5  2015-06-30 22:57:53 UTC        -73.971703   \n199996         25.5  2015-06-30 23:16:42 UTC        -74.001099   \n199997         20.0  2015-06-30 23:31:06 UTC        -73.999962   \n199998          8.5  2015-06-30 23:33:33 UTC        -73.980988   \n199999         27.0  2015-06-30 23:40:39 UTC        -73.984795   \n\n        pickup_latitude  dropoff_longitude  dropoff_latitude  passenger_count  \n0             40.779456         -73.957685         40.771043                2  \n1             40.721389         -73.994833         40.687179                2  \n2             40.771254         -73.991528         40.749778                2  \n3             40.728020         -73.955746         40.776830                1  \n4             40.737425         -74.009544         40.726025                4  \n...                 ...                ...               ...              ...  \n199995        40.782207         -73.943680         40.827991                2  \n199996        40.730961         -73.957123         40.806908                2  \n199997        40.733135         -73.962448         40.773041                4  \n199998        40.762020         -73.960083         40.770531                1  \n199999        40.751411         -73.927765         40.706287                1  \n\n[200000 rows x 7 columns]",
      "text/html": "<div>\n<style scoped>\n    .dataframe tbody tr th:only-of-type {\n        vertical-align: middle;\n    }\n\n    .dataframe tbody tr th {\n        vertical-align: top;\n    }\n\n    .dataframe thead th {\n        text-align: right;\n    }\n</style>\n<table border=\"1\" class=\"dataframe\">\n  <thead>\n    <tr style=\"text-align: right;\">\n      <th></th>\n      <th>fare_amount</th>\n      <th>pickup_datetime</th>\n      <th>pickup_longitude</th>\n      <th>pickup_latitude</th>\n      <th>dropoff_longitude</th>\n      <th>dropoff_latitude</th>\n      <th>passenger_count</th>\n    </tr>\n  </thead>\n  <tbody>\n    <tr>\n      <th>0</th>\n      <td>8.5</td>\n      <td>2009-01-01 01:15:22 UTC</td>\n      <td>-73.981918</td>\n      <td>40.779456</td>\n      <td>-73.957685</td>\n      <td>40.771043</td>\n      <td>2</td>\n    </tr>\n    <tr>\n      <th>1</th>\n      <td>13.0</td>\n      <td>2009-01-01 01:59:17 UTC</td>\n      <td>-73.983759</td>\n      <td>40.721389</td>\n      <td>-73.994833</td>\n      <td>40.687179</td>\n      <td>2</td>\n    </tr>\n    <tr>\n      <th>2</th>\n      <td>10.6</td>\n      <td>2009-01-01 02:05:03 UTC</td>\n      <td>-73.956635</td>\n      <td>40.771254</td>\n      <td>-73.991528</td>\n      <td>40.749778</td>\n      <td>2</td>\n    </tr>\n    <tr>\n      <th>3</th>\n      <td>12.2</td>\n      <td>2009-01-01 02:09:13 UTC</td>\n      <td>-73.984605</td>\n      <td>40.728020</td>\n      <td>-73.955746</td>\n      <td>40.776830</td>\n      <td>1</td>\n    </tr>\n    <tr>\n      <th>4</th>\n      <td>11.0</td>\n      <td>2009-01-01 02:13:41 UTC</td>\n      <td>-73.980127</td>\n      <td>40.737425</td>\n      <td>-74.009544</td>\n      <td>40.726025</td>\n      <td>4</td>\n    </tr>\n    <tr>\n      <th>...</th>\n      <td>...</td>\n      <td>...</td>\n      <td>...</td>\n      <td>...</td>\n      <td>...</td>\n      <td>...</td>\n      <td>...</td>\n    </tr>\n    <tr>\n      <th>199995</th>\n      <td>18.5</td>\n      <td>2015-06-30 22:57:53 UTC</td>\n      <td>-73.971703</td>\n      <td>40.782207</td>\n      <td>-73.943680</td>\n      <td>40.827991</td>\n      <td>2</td>\n    </tr>\n    <tr>\n      <th>199996</th>\n      <td>25.5</td>\n      <td>2015-06-30 23:16:42 UTC</td>\n      <td>-74.001099</td>\n      <td>40.730961</td>\n      <td>-73.957123</td>\n      <td>40.806908</td>\n      <td>2</td>\n    </tr>\n    <tr>\n      <th>199997</th>\n      <td>20.0</td>\n      <td>2015-06-30 23:31:06 UTC</td>\n      <td>-73.999962</td>\n      <td>40.733135</td>\n      <td>-73.962448</td>\n      <td>40.773041</td>\n      <td>4</td>\n    </tr>\n    <tr>\n      <th>199998</th>\n      <td>8.5</td>\n      <td>2015-06-30 23:33:33 UTC</td>\n      <td>-73.980988</td>\n      <td>40.762020</td>\n      <td>-73.960083</td>\n      <td>40.770531</td>\n      <td>1</td>\n    </tr>\n    <tr>\n      <th>199999</th>\n      <td>27.0</td>\n      <td>2015-06-30 23:40:39 UTC</td>\n      <td>-73.984795</td>\n      <td>40.751411</td>\n      <td>-73.927765</td>\n      <td>40.706287</td>\n      <td>1</td>\n    </tr>\n  </tbody>\n</table>\n<p>200000 rows × 7 columns</p>\n</div>"
     },
     "execution_count": 4,
     "metadata": {},
     "output_type": "execute_result"
    }
   ],
   "source": [
    "# Drop unnecessary columns\n",
    "uber.drop(columns=['Unnamed: 0', 'key'], axis=0, inplace=True)\n",
    "uber.sort_values(by='pickup_datetime', axis=0, inplace=True)\n",
    "uber.reset_index(inplace=True, drop=True)\n",
    "uber"
   ],
   "metadata": {
    "collapsed": false,
    "pycharm": {
     "name": "#%%\n"
    }
   }
  },
  {
   "cell_type": "code",
   "execution_count": 12,
   "outputs": [
    {
     "data": {
      "text/plain": "        fare_amount           pickup_datetime  pickup_longitude  \\\n0               8.5 2009-01-01 01:15:22+00:00        -73.981918   \n1              13.0 2009-01-01 01:59:17+00:00        -73.983759   \n2              10.6 2009-01-01 02:05:03+00:00        -73.956635   \n3              12.2 2009-01-01 02:09:13+00:00        -73.984605   \n4              11.0 2009-01-01 02:13:41+00:00        -73.980127   \n...             ...                       ...               ...   \n199995         18.5 2015-06-30 22:57:53+00:00        -73.971703   \n199996         25.5 2015-06-30 23:16:42+00:00        -74.001099   \n199997         20.0 2015-06-30 23:31:06+00:00        -73.999962   \n199998          8.5 2015-06-30 23:33:33+00:00        -73.980988   \n199999         27.0 2015-06-30 23:40:39+00:00        -73.984795   \n\n        pickup_latitude  dropoff_longitude  dropoff_latitude  passenger_count  \n0             40.779456         -73.957685         40.771043                2  \n1             40.721389         -73.994833         40.687179                2  \n2             40.771254         -73.991528         40.749778                2  \n3             40.728020         -73.955746         40.776830                1  \n4             40.737425         -74.009544         40.726025                4  \n...                 ...                ...               ...              ...  \n199995        40.782207         -73.943680         40.827991                2  \n199996        40.730961         -73.957123         40.806908                2  \n199997        40.733135         -73.962448         40.773041                4  \n199998        40.762020         -73.960083         40.770531                1  \n199999        40.751411         -73.927765         40.706287                1  \n\n[200000 rows x 7 columns]",
      "text/html": "<div>\n<style scoped>\n    .dataframe tbody tr th:only-of-type {\n        vertical-align: middle;\n    }\n\n    .dataframe tbody tr th {\n        vertical-align: top;\n    }\n\n    .dataframe thead th {\n        text-align: right;\n    }\n</style>\n<table border=\"1\" class=\"dataframe\">\n  <thead>\n    <tr style=\"text-align: right;\">\n      <th></th>\n      <th>fare_amount</th>\n      <th>pickup_datetime</th>\n      <th>pickup_longitude</th>\n      <th>pickup_latitude</th>\n      <th>dropoff_longitude</th>\n      <th>dropoff_latitude</th>\n      <th>passenger_count</th>\n    </tr>\n  </thead>\n  <tbody>\n    <tr>\n      <th>0</th>\n      <td>8.5</td>\n      <td>2009-01-01 01:15:22+00:00</td>\n      <td>-73.981918</td>\n      <td>40.779456</td>\n      <td>-73.957685</td>\n      <td>40.771043</td>\n      <td>2</td>\n    </tr>\n    <tr>\n      <th>1</th>\n      <td>13.0</td>\n      <td>2009-01-01 01:59:17+00:00</td>\n      <td>-73.983759</td>\n      <td>40.721389</td>\n      <td>-73.994833</td>\n      <td>40.687179</td>\n      <td>2</td>\n    </tr>\n    <tr>\n      <th>2</th>\n      <td>10.6</td>\n      <td>2009-01-01 02:05:03+00:00</td>\n      <td>-73.956635</td>\n      <td>40.771254</td>\n      <td>-73.991528</td>\n      <td>40.749778</td>\n      <td>2</td>\n    </tr>\n    <tr>\n      <th>3</th>\n      <td>12.2</td>\n      <td>2009-01-01 02:09:13+00:00</td>\n      <td>-73.984605</td>\n      <td>40.728020</td>\n      <td>-73.955746</td>\n      <td>40.776830</td>\n      <td>1</td>\n    </tr>\n    <tr>\n      <th>4</th>\n      <td>11.0</td>\n      <td>2009-01-01 02:13:41+00:00</td>\n      <td>-73.980127</td>\n      <td>40.737425</td>\n      <td>-74.009544</td>\n      <td>40.726025</td>\n      <td>4</td>\n    </tr>\n    <tr>\n      <th>...</th>\n      <td>...</td>\n      <td>...</td>\n      <td>...</td>\n      <td>...</td>\n      <td>...</td>\n      <td>...</td>\n      <td>...</td>\n    </tr>\n    <tr>\n      <th>199995</th>\n      <td>18.5</td>\n      <td>2015-06-30 22:57:53+00:00</td>\n      <td>-73.971703</td>\n      <td>40.782207</td>\n      <td>-73.943680</td>\n      <td>40.827991</td>\n      <td>2</td>\n    </tr>\n    <tr>\n      <th>199996</th>\n      <td>25.5</td>\n      <td>2015-06-30 23:16:42+00:00</td>\n      <td>-74.001099</td>\n      <td>40.730961</td>\n      <td>-73.957123</td>\n      <td>40.806908</td>\n      <td>2</td>\n    </tr>\n    <tr>\n      <th>199997</th>\n      <td>20.0</td>\n      <td>2015-06-30 23:31:06+00:00</td>\n      <td>-73.999962</td>\n      <td>40.733135</td>\n      <td>-73.962448</td>\n      <td>40.773041</td>\n      <td>4</td>\n    </tr>\n    <tr>\n      <th>199998</th>\n      <td>8.5</td>\n      <td>2015-06-30 23:33:33+00:00</td>\n      <td>-73.980988</td>\n      <td>40.762020</td>\n      <td>-73.960083</td>\n      <td>40.770531</td>\n      <td>1</td>\n    </tr>\n    <tr>\n      <th>199999</th>\n      <td>27.0</td>\n      <td>2015-06-30 23:40:39+00:00</td>\n      <td>-73.984795</td>\n      <td>40.751411</td>\n      <td>-73.927765</td>\n      <td>40.706287</td>\n      <td>1</td>\n    </tr>\n  </tbody>\n</table>\n<p>200000 rows × 7 columns</p>\n</div>"
     },
     "execution_count": 12,
     "metadata": {},
     "output_type": "execute_result"
    }
   ],
   "source": [
    "uber['pickup_datetime'] = pd.to_datetime(uber['pickup_datetime'])\n",
    "uber"
   ],
   "metadata": {
    "collapsed": false,
    "pycharm": {
     "name": "#%%\n"
    }
   }
  },
  {
   "cell_type": "code",
   "execution_count": 16,
   "outputs": [
    {
     "data": {
      "text/plain": "        fare_amount           pickup_datetime  pickup_longitude  \\\n0               8.5 2009-01-01 01:15:22+00:00        -73.981918   \n1              13.0 2009-01-01 01:59:17+00:00        -73.983759   \n2              10.6 2009-01-01 02:05:03+00:00        -73.956635   \n3              12.2 2009-01-01 02:09:13+00:00        -73.984605   \n4              11.0 2009-01-01 02:13:41+00:00        -73.980127   \n...             ...                       ...               ...   \n199995         18.5 2015-06-30 22:57:53+00:00        -73.971703   \n199996         25.5 2015-06-30 23:16:42+00:00        -74.001099   \n199997         20.0 2015-06-30 23:31:06+00:00        -73.999962   \n199998          8.5 2015-06-30 23:33:33+00:00        -73.980988   \n199999         27.0 2015-06-30 23:40:39+00:00        -73.984795   \n\n        pickup_latitude  dropoff_longitude  dropoff_latitude  passenger_count  \\\n0             40.779456         -73.957685         40.771043                2   \n1             40.721389         -73.994833         40.687179                2   \n2             40.771254         -73.991528         40.749778                2   \n3             40.728020         -73.955746         40.776830                1   \n4             40.737425         -74.009544         40.726025                4   \n...                 ...                ...               ...              ...   \n199995        40.782207         -73.943680         40.827991                2   \n199996        40.730961         -73.957123         40.806908                2   \n199997        40.733135         -73.962448         40.773041                4   \n199998        40.762020         -73.960083         40.770531                1   \n199999        40.751411         -73.927765         40.706287                1   \n\n        pickup_datetime_year  pickup_datetime_month  pickup_datetime_day  \\\n0                       2009                      1                    1   \n1                       2009                      1                    1   \n2                       2009                      1                    1   \n3                       2009                      1                    1   \n4                       2009                      1                    1   \n...                      ...                    ...                  ...   \n199995                  2015                      6                   30   \n199996                  2015                      6                   30   \n199997                  2015                      6                   30   \n199998                  2015                      6                   30   \n199999                  2015                      6                   30   \n\n        pickup_datetime_hour  \n0                          1  \n1                          1  \n2                          2  \n3                          2  \n4                          2  \n...                      ...  \n199995                    22  \n199996                    23  \n199997                    23  \n199998                    23  \n199999                    23  \n\n[200000 rows x 11 columns]",
      "text/html": "<div>\n<style scoped>\n    .dataframe tbody tr th:only-of-type {\n        vertical-align: middle;\n    }\n\n    .dataframe tbody tr th {\n        vertical-align: top;\n    }\n\n    .dataframe thead th {\n        text-align: right;\n    }\n</style>\n<table border=\"1\" class=\"dataframe\">\n  <thead>\n    <tr style=\"text-align: right;\">\n      <th></th>\n      <th>fare_amount</th>\n      <th>pickup_datetime</th>\n      <th>pickup_longitude</th>\n      <th>pickup_latitude</th>\n      <th>dropoff_longitude</th>\n      <th>dropoff_latitude</th>\n      <th>passenger_count</th>\n      <th>pickup_datetime_year</th>\n      <th>pickup_datetime_month</th>\n      <th>pickup_datetime_day</th>\n      <th>pickup_datetime_hour</th>\n    </tr>\n  </thead>\n  <tbody>\n    <tr>\n      <th>0</th>\n      <td>8.5</td>\n      <td>2009-01-01 01:15:22+00:00</td>\n      <td>-73.981918</td>\n      <td>40.779456</td>\n      <td>-73.957685</td>\n      <td>40.771043</td>\n      <td>2</td>\n      <td>2009</td>\n      <td>1</td>\n      <td>1</td>\n      <td>1</td>\n    </tr>\n    <tr>\n      <th>1</th>\n      <td>13.0</td>\n      <td>2009-01-01 01:59:17+00:00</td>\n      <td>-73.983759</td>\n      <td>40.721389</td>\n      <td>-73.994833</td>\n      <td>40.687179</td>\n      <td>2</td>\n      <td>2009</td>\n      <td>1</td>\n      <td>1</td>\n      <td>1</td>\n    </tr>\n    <tr>\n      <th>2</th>\n      <td>10.6</td>\n      <td>2009-01-01 02:05:03+00:00</td>\n      <td>-73.956635</td>\n      <td>40.771254</td>\n      <td>-73.991528</td>\n      <td>40.749778</td>\n      <td>2</td>\n      <td>2009</td>\n      <td>1</td>\n      <td>1</td>\n      <td>2</td>\n    </tr>\n    <tr>\n      <th>3</th>\n      <td>12.2</td>\n      <td>2009-01-01 02:09:13+00:00</td>\n      <td>-73.984605</td>\n      <td>40.728020</td>\n      <td>-73.955746</td>\n      <td>40.776830</td>\n      <td>1</td>\n      <td>2009</td>\n      <td>1</td>\n      <td>1</td>\n      <td>2</td>\n    </tr>\n    <tr>\n      <th>4</th>\n      <td>11.0</td>\n      <td>2009-01-01 02:13:41+00:00</td>\n      <td>-73.980127</td>\n      <td>40.737425</td>\n      <td>-74.009544</td>\n      <td>40.726025</td>\n      <td>4</td>\n      <td>2009</td>\n      <td>1</td>\n      <td>1</td>\n      <td>2</td>\n    </tr>\n    <tr>\n      <th>...</th>\n      <td>...</td>\n      <td>...</td>\n      <td>...</td>\n      <td>...</td>\n      <td>...</td>\n      <td>...</td>\n      <td>...</td>\n      <td>...</td>\n      <td>...</td>\n      <td>...</td>\n      <td>...</td>\n    </tr>\n    <tr>\n      <th>199995</th>\n      <td>18.5</td>\n      <td>2015-06-30 22:57:53+00:00</td>\n      <td>-73.971703</td>\n      <td>40.782207</td>\n      <td>-73.943680</td>\n      <td>40.827991</td>\n      <td>2</td>\n      <td>2015</td>\n      <td>6</td>\n      <td>30</td>\n      <td>22</td>\n    </tr>\n    <tr>\n      <th>199996</th>\n      <td>25.5</td>\n      <td>2015-06-30 23:16:42+00:00</td>\n      <td>-74.001099</td>\n      <td>40.730961</td>\n      <td>-73.957123</td>\n      <td>40.806908</td>\n      <td>2</td>\n      <td>2015</td>\n      <td>6</td>\n      <td>30</td>\n      <td>23</td>\n    </tr>\n    <tr>\n      <th>199997</th>\n      <td>20.0</td>\n      <td>2015-06-30 23:31:06+00:00</td>\n      <td>-73.999962</td>\n      <td>40.733135</td>\n      <td>-73.962448</td>\n      <td>40.773041</td>\n      <td>4</td>\n      <td>2015</td>\n      <td>6</td>\n      <td>30</td>\n      <td>23</td>\n    </tr>\n    <tr>\n      <th>199998</th>\n      <td>8.5</td>\n      <td>2015-06-30 23:33:33+00:00</td>\n      <td>-73.980988</td>\n      <td>40.762020</td>\n      <td>-73.960083</td>\n      <td>40.770531</td>\n      <td>1</td>\n      <td>2015</td>\n      <td>6</td>\n      <td>30</td>\n      <td>23</td>\n    </tr>\n    <tr>\n      <th>199999</th>\n      <td>27.0</td>\n      <td>2015-06-30 23:40:39+00:00</td>\n      <td>-73.984795</td>\n      <td>40.751411</td>\n      <td>-73.927765</td>\n      <td>40.706287</td>\n      <td>1</td>\n      <td>2015</td>\n      <td>6</td>\n      <td>30</td>\n      <td>23</td>\n    </tr>\n  </tbody>\n</table>\n<p>200000 rows × 11 columns</p>\n</div>"
     },
     "execution_count": 16,
     "metadata": {},
     "output_type": "execute_result"
    }
   ],
   "source": [
    "uber['pickup_datetime_year'] = uber['pickup_datetime'].dt.year\n",
    "uber['pickup_datetime_month'] = uber['pickup_datetime'].dt.month\n",
    "uber['pickup_datetime_day'] = uber['pickup_datetime'].dt.day\n",
    "uber['pickup_datetime_hour'] = uber['pickup_datetime'].dt.hour\n",
    "uber"
   ],
   "metadata": {
    "collapsed": false,
    "pycharm": {
     "name": "#%%\n"
    }
   }
  },
  {
   "cell_type": "code",
   "execution_count": 17,
   "outputs": [
    {
     "data": {
      "text/plain": "        fare_amount           pickup_datetime  pickup_longitude  \\\n0               8.5 2009-01-01 01:15:22+00:00        -73.981918   \n1              13.0 2009-01-01 01:59:17+00:00        -73.983759   \n2              10.6 2009-01-01 02:05:03+00:00        -73.956635   \n3              12.2 2009-01-01 02:09:13+00:00        -73.984605   \n4              11.0 2009-01-01 02:13:41+00:00        -73.980127   \n...             ...                       ...               ...   \n199995         18.5 2015-06-30 22:57:53+00:00        -73.971703   \n199996         25.5 2015-06-30 23:16:42+00:00        -74.001099   \n199997         20.0 2015-06-30 23:31:06+00:00        -73.999962   \n199998          8.5 2015-06-30 23:33:33+00:00        -73.980988   \n199999         27.0 2015-06-30 23:40:39+00:00        -73.984795   \n\n        pickup_latitude  dropoff_longitude  dropoff_latitude  passenger_count  \\\n0             40.779456         -73.957685         40.771043                2   \n1             40.721389         -73.994833         40.687179                2   \n2             40.771254         -73.991528         40.749778                2   \n3             40.728020         -73.955746         40.776830                1   \n4             40.737425         -74.009544         40.726025                4   \n...                 ...                ...               ...              ...   \n199995        40.782207         -73.943680         40.827991                2   \n199996        40.730961         -73.957123         40.806908                2   \n199997        40.733135         -73.962448         40.773041                4   \n199998        40.762020         -73.960083         40.770531                1   \n199999        40.751411         -73.927765         40.706287                1   \n\n        pickup_datetime_year  pickup_datetime_month  pickup_datetime_day  \\\n0                       2009                      1                    1   \n1                       2009                      1                    1   \n2                       2009                      1                    1   \n3                       2009                      1                    1   \n4                       2009                      1                    1   \n...                      ...                    ...                  ...   \n199995                  2015                      6                   30   \n199996                  2015                      6                   30   \n199997                  2015                      6                   30   \n199998                  2015                      6                   30   \n199999                  2015                      6                   30   \n\n        pickup_datetime_hour   distance  \n0                          1  74.451561  \n1                          1  74.474385  \n2                          2  74.477863  \n3                          2  74.480972  \n4                          2  74.501437  \n...                      ...        ...  \n199995                    22  74.467281  \n199996                    23  74.497313  \n199997                    23  74.482859  \n199998                    23  74.463204  \n199999                    23  74.401771  \n\n[200000 rows x 12 columns]",
      "text/html": "<div>\n<style scoped>\n    .dataframe tbody tr th:only-of-type {\n        vertical-align: middle;\n    }\n\n    .dataframe tbody tr th {\n        vertical-align: top;\n    }\n\n    .dataframe thead th {\n        text-align: right;\n    }\n</style>\n<table border=\"1\" class=\"dataframe\">\n  <thead>\n    <tr style=\"text-align: right;\">\n      <th></th>\n      <th>fare_amount</th>\n      <th>pickup_datetime</th>\n      <th>pickup_longitude</th>\n      <th>pickup_latitude</th>\n      <th>dropoff_longitude</th>\n      <th>dropoff_latitude</th>\n      <th>passenger_count</th>\n      <th>pickup_datetime_year</th>\n      <th>pickup_datetime_month</th>\n      <th>pickup_datetime_day</th>\n      <th>pickup_datetime_hour</th>\n      <th>distance</th>\n    </tr>\n  </thead>\n  <tbody>\n    <tr>\n      <th>0</th>\n      <td>8.5</td>\n      <td>2009-01-01 01:15:22+00:00</td>\n      <td>-73.981918</td>\n      <td>40.779456</td>\n      <td>-73.957685</td>\n      <td>40.771043</td>\n      <td>2</td>\n      <td>2009</td>\n      <td>1</td>\n      <td>1</td>\n      <td>1</td>\n      <td>74.451561</td>\n    </tr>\n    <tr>\n      <th>1</th>\n      <td>13.0</td>\n      <td>2009-01-01 01:59:17+00:00</td>\n      <td>-73.983759</td>\n      <td>40.721389</td>\n      <td>-73.994833</td>\n      <td>40.687179</td>\n      <td>2</td>\n      <td>2009</td>\n      <td>1</td>\n      <td>1</td>\n      <td>1</td>\n      <td>74.474385</td>\n    </tr>\n    <tr>\n      <th>2</th>\n      <td>10.6</td>\n      <td>2009-01-01 02:05:03+00:00</td>\n      <td>-73.956635</td>\n      <td>40.771254</td>\n      <td>-73.991528</td>\n      <td>40.749778</td>\n      <td>2</td>\n      <td>2009</td>\n      <td>1</td>\n      <td>1</td>\n      <td>2</td>\n      <td>74.477863</td>\n    </tr>\n    <tr>\n      <th>3</th>\n      <td>12.2</td>\n      <td>2009-01-01 02:09:13+00:00</td>\n      <td>-73.984605</td>\n      <td>40.728020</td>\n      <td>-73.955746</td>\n      <td>40.776830</td>\n      <td>1</td>\n      <td>2009</td>\n      <td>1</td>\n      <td>1</td>\n      <td>2</td>\n      <td>74.480972</td>\n    </tr>\n    <tr>\n      <th>4</th>\n      <td>11.0</td>\n      <td>2009-01-01 02:13:41+00:00</td>\n      <td>-73.980127</td>\n      <td>40.737425</td>\n      <td>-74.009544</td>\n      <td>40.726025</td>\n      <td>4</td>\n      <td>2009</td>\n      <td>1</td>\n      <td>1</td>\n      <td>2</td>\n      <td>74.501437</td>\n    </tr>\n    <tr>\n      <th>...</th>\n      <td>...</td>\n      <td>...</td>\n      <td>...</td>\n      <td>...</td>\n      <td>...</td>\n      <td>...</td>\n      <td>...</td>\n      <td>...</td>\n      <td>...</td>\n      <td>...</td>\n      <td>...</td>\n      <td>...</td>\n    </tr>\n    <tr>\n      <th>199995</th>\n      <td>18.5</td>\n      <td>2015-06-30 22:57:53+00:00</td>\n      <td>-73.971703</td>\n      <td>40.782207</td>\n      <td>-73.943680</td>\n      <td>40.827991</td>\n      <td>2</td>\n      <td>2015</td>\n      <td>6</td>\n      <td>30</td>\n      <td>22</td>\n      <td>74.467281</td>\n    </tr>\n    <tr>\n      <th>199996</th>\n      <td>25.5</td>\n      <td>2015-06-30 23:16:42+00:00</td>\n      <td>-74.001099</td>\n      <td>40.730961</td>\n      <td>-73.957123</td>\n      <td>40.806908</td>\n      <td>2</td>\n      <td>2015</td>\n      <td>6</td>\n      <td>30</td>\n      <td>23</td>\n      <td>74.497313</td>\n    </tr>\n    <tr>\n      <th>199997</th>\n      <td>20.0</td>\n      <td>2015-06-30 23:31:06+00:00</td>\n      <td>-73.999962</td>\n      <td>40.733135</td>\n      <td>-73.962448</td>\n      <td>40.773041</td>\n      <td>4</td>\n      <td>2015</td>\n      <td>6</td>\n      <td>30</td>\n      <td>23</td>\n      <td>74.482859</td>\n    </tr>\n    <tr>\n      <th>199998</th>\n      <td>8.5</td>\n      <td>2015-06-30 23:33:33+00:00</td>\n      <td>-73.980988</td>\n      <td>40.762020</td>\n      <td>-73.960083</td>\n      <td>40.770531</td>\n      <td>1</td>\n      <td>2015</td>\n      <td>6</td>\n      <td>30</td>\n      <td>23</td>\n      <td>74.463204</td>\n    </tr>\n    <tr>\n      <th>199999</th>\n      <td>27.0</td>\n      <td>2015-06-30 23:40:39+00:00</td>\n      <td>-73.984795</td>\n      <td>40.751411</td>\n      <td>-73.927765</td>\n      <td>40.706287</td>\n      <td>1</td>\n      <td>2015</td>\n      <td>6</td>\n      <td>30</td>\n      <td>23</td>\n      <td>74.401771</td>\n    </tr>\n  </tbody>\n</table>\n<p>200000 rows × 12 columns</p>\n</div>"
     },
     "execution_count": 17,
     "metadata": {},
     "output_type": "execute_result"
    }
   ],
   "source": [
    "# Compute distance from each coordinates\n",
    "uber['distance'] = np.sqrt((uber['dropoff_latitude']**2 - uber['pickup_latitude']**2) +\n",
    "                           uber['dropoff_longitude']**2 - uber['pickup_longitude'])\n",
    "uber"
   ],
   "metadata": {
    "collapsed": false,
    "pycharm": {
     "name": "#%%\n"
    }
   }
  }
 ],
 "metadata": {
  "kernelspec": {
   "display_name": "Python 3",
   "language": "python",
   "name": "python3"
  },
  "language_info": {
   "codemirror_mode": {
    "name": "ipython",
    "version": 2
   },
   "file_extension": ".py",
   "mimetype": "text/x-python",
   "name": "python",
   "nbconvert_exporter": "python",
   "pygments_lexer": "ipython2",
   "version": "2.7.6"
  }
 },
 "nbformat": 4,
 "nbformat_minor": 0
}